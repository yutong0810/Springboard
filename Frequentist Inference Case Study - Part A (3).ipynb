{
  "cells": [
    {
      "cell_type": "markdown",
      "source": "# Frequentist Inference Case Study - Part A ",
      "metadata": {
        "cell_id": "00000-2156c373-635b-42f7-ae0d-f791b3534a7e",
        "deepnote_cell_type": "markdown"
      }
    },
    {
      "cell_type": "markdown",
      "source": "## 1. Learning objectives",
      "metadata": {
        "cell_id": "00001-cd79f58c-2a1c-4fb0-91ea-f1bcb9a6892f",
        "deepnote_cell_type": "markdown"
      }
    },
    {
      "cell_type": "markdown",
      "source": "Welcome to part A of the Frequentist inference case study! The purpose of this case study is to help you apply the concepts associated with Frequentist inference in Python. Frequentist inference is the process of deriving conclusions about an underlying distribution via the observation of data. In particular, you'll practice writing Python code to apply the following statistical concepts: \n* the _z_-statistic\n* the _t_-statistic\n* the difference and relationship between the two\n* the Central Limit Theorem, including its assumptions and consequences\n* how to estimate the population mean and standard deviation from a sample\n* the concept of a sampling distribution of a test statistic, particularly for the mean\n* how to combine these concepts to calculate a confidence interval",
      "metadata": {
        "cell_id": "00002-2433d689-058b-444d-b21a-3e151a0f5db3",
        "deepnote_cell_type": "markdown"
      }
    },
    {
      "cell_type": "markdown",
      "source": "## Prerequisites",
      "metadata": {
        "cell_id": "00003-58dc466b-7fd5-4d7d-85f3-852ef3b78a93",
        "deepnote_cell_type": "markdown"
      }
    },
    {
      "cell_type": "markdown",
      "source": "To be able to complete this notebook, you are expected to have a basic understanding of:\n* what a random variable is (p.400 of Professor Spiegelhalter's *The Art of Statistics, hereinafter AoS*)\n* what a population, and a population distribution, are (p. 397 of *AoS*)\n* a high-level sense of what the normal distribution is (p. 394 of *AoS*)\n* what the t-statistic is (p. 275 of *AoS*)\n\nHappily, these should all be concepts with which you are reasonably familiar after having read ten chapters of Professor Spiegelhalter's book, *The Art of Statistics*.\n\nWe'll try to relate the concepts in this case study back to page numbers in *The Art of Statistics* so that you can focus on the Python aspects of this case study. The second part (part B) of this case study will involve another, more real-world application of these tools. ",
      "metadata": {
        "cell_id": "00004-3e88c8e2-2145-4122-b397-8f430afbad26",
        "deepnote_cell_type": "markdown"
      }
    },
    {
      "cell_type": "markdown",
      "source": "For this notebook, we will use data sampled from a known normal distribution. This allows us to compare our results with theoretical expectations.",
      "metadata": {
        "cell_id": "00005-78fa585d-d9ee-4304-8dc1-743f56aac3ab",
        "deepnote_cell_type": "markdown"
      }
    },
    {
      "cell_type": "markdown",
      "source": "## 2. An introduction to sampling from the normal distribution",
      "metadata": {
        "cell_id": "00006-5948fbd3-b7d8-42a8-b166-01e1d983437f",
        "deepnote_cell_type": "markdown"
      }
    },
    {
      "cell_type": "markdown",
      "source": "First, let's explore the ways we can generate the normal distribution. While there's a fair amount of interest in [sklearn](https://scikit-learn.org/stable/) within the machine learning community, you're likely to have heard of [scipy](https://docs.scipy.org/doc/scipy-0.15.1/reference/index.html) if you're coming from the sciences. For this assignment, you'll use [scipy.stats](https://docs.scipy.org/doc/scipy-0.15.1/reference/tutorial/stats.html) to complete your work. \n\nThis assignment will require some digging around and getting your hands dirty (your learning is maximized that way)! You should have the research skills and the tenacity to do these tasks independently, but if you struggle, reach out to your immediate community and your mentor for help. ",
      "metadata": {
        "cell_id": "00007-893c3d87-47f7-4b25-8f53-8a3b7f6bfce6",
        "deepnote_cell_type": "markdown"
      }
    },
    {
      "cell_type": "code",
      "metadata": {
        "cell_id": "00008-a61bb28c-27d7-4e1f-895d-94d3c258de0d",
        "deepnote_to_be_reexecuted": false,
        "source_hash": "6fd6e31b",
        "execution_millis": 683,
        "execution_start": 1619407534538,
        "deepnote_cell_type": "code"
      },
      "source": "from scipy.stats import norm\nfrom scipy.stats import t\nimport numpy as np\nimport pandas as pd\nfrom numpy.random import seed\nimport matplotlib.pyplot as plt",
      "outputs": [],
      "execution_count": null
    },
    {
      "cell_type": "markdown",
      "source": "__Q1:__ Call up the documentation for the `norm` function imported above. (Hint: that documentation is [here](https://docs.scipy.org/doc/scipy/reference/generated/scipy.stats.norm.html)). What is the second listed method?",
      "metadata": {
        "cell_id": "00009-788792c6-b14a-4eff-9e2e-94df5402c026",
        "deepnote_cell_type": "markdown"
      }
    },
    {
      "cell_type": "code",
      "metadata": {
        "cell_id": "00010-4162a738-08ec-482d-b42a-1b9655bbb203",
        "deepnote_to_be_reexecuted": false,
        "source_hash": "8c38a786",
        "execution_millis": 25,
        "execution_start": 1619407537383,
        "deepnote_cell_type": "code"
      },
      "source": "help(norm)",
      "outputs": [
        {
          "name": "stdout",
          "text": "Help on norm_gen in module scipy.stats._continuous_distns object:\n\nclass norm_gen(scipy.stats._distn_infrastructure.rv_continuous)\n |  norm_gen(momtype=1, a=None, b=None, xtol=1e-14, badvalue=None, name=None, longname=None, shapes=None, extradoc=None, seed=None)\n |  \n |  A normal continuous random variable.\n |  \n |  The location (``loc``) keyword specifies the mean.\n |  The scale (``scale``) keyword specifies the standard deviation.\n |  \n |  %(before_notes)s\n |  \n |  Notes\n |  -----\n |  The probability density function for `norm` is:\n |  \n |  .. math::\n |  \n |      f(x) = \\frac{\\exp(-x^2/2)}{\\sqrt{2\\pi}}\n |  \n |  for a real number :math:`x`.\n |  \n |  %(after_notes)s\n |  \n |  %(example)s\n |  \n |  Method resolution order:\n |      norm_gen\n |      scipy.stats._distn_infrastructure.rv_continuous\n |      scipy.stats._distn_infrastructure.rv_generic\n |      builtins.object\n |  \n |  Methods defined here:\n |  \n |  fit(self, data, **kwds)\n |      Return MLEs for shape (if applicable), location, and scale\n |      parameters from data.\n |      \n |      MLE stands for Maximum Likelihood Estimate.  Starting estimates for\n |      the fit are given by input arguments; for any arguments not provided\n |      with starting estimates, ``self._fitstart(data)`` is called to generate\n |      such.\n |      \n |      One can hold some parameters fixed to specific values by passing in\n |      keyword arguments ``f0``, ``f1``, ..., ``fn`` (for shape parameters)\n |      and ``floc`` and ``fscale`` (for location and scale parameters,\n |      respectively).\n |      \n |      Parameters\n |      ----------\n |      data : array_like\n |          Data to use in calculating the MLEs.\n |      arg1, arg2, arg3,... : floats, optional\n |          Starting value(s) for any shape-characterizing arguments (those not\n |          provided will be determined by a call to ``_fitstart(data)``).\n |          No default value.\n |      kwds : floats, optional\n |          - `loc`: initial guess of the distribution's location parameter.\n |          - `scale`: initial guess of the distribution's scale parameter.\n |      \n |          Special keyword arguments are recognized as holding certain\n |          parameters fixed:\n |      \n |          - f0...fn : hold respective shape parameters fixed.\n |            Alternatively, shape parameters to fix can be specified by name.\n |            For example, if ``self.shapes == \"a, b\"``, ``fa`` and ``fix_a``\n |            are equivalent to ``f0``, and ``fb`` and ``fix_b`` are\n |            equivalent to ``f1``.\n |      \n |          - floc : hold location parameter fixed to specified value.\n |      \n |          - fscale : hold scale parameter fixed to specified value.\n |      \n |          - optimizer : The optimizer to use.  The optimizer must take ``func``,\n |            and starting position as the first two arguments,\n |            plus ``args`` (for extra arguments to pass to the\n |            function to be optimized) and ``disp=0`` to suppress\n |            output as keyword arguments.\n |      \n |      Returns\n |      -------\n |      mle_tuple : tuple of floats\n |          MLEs for any shape parameters (if applicable), followed by those\n |          for location and scale. For most random variables, shape statistics\n |          will be returned, but there are exceptions (e.g. ``norm``).\n |      \n |      Notes\n |      -----\n |      This function uses explicit formulas for the maximum likelihood\n |      estimation of the normal distribution parameters, so the\n |      `optimizer` argument is ignored.\n |      \n |      Examples\n |      --------\n |      \n |      Generate some data to fit: draw random variates from the `beta`\n |      distribution\n |      \n |      >>> from scipy.stats import beta\n |      >>> a, b = 1., 2.\n |      >>> x = beta.rvs(a, b, size=1000)\n |      \n |      Now we can fit all four parameters (``a``, ``b``, ``loc`` and ``scale``):\n |      \n |      >>> a1, b1, loc1, scale1 = beta.fit(x)\n |      \n |      We can also use some prior knowledge about the dataset: let's keep\n |      ``loc`` and ``scale`` fixed:\n |      \n |      >>> a1, b1, loc1, scale1 = beta.fit(x, floc=0, fscale=1)\n |      >>> loc1, scale1\n |      (0, 1)\n |      \n |      We can also keep shape parameters fixed by using ``f``-keywords. To\n |      keep the zero-th shape parameter ``a`` equal 1, use ``f0=1`` or,\n |      equivalently, ``fa=1``:\n |      \n |      >>> a1, b1, loc1, scale1 = beta.fit(x, fa=1, floc=0, fscale=1)\n |      >>> a1\n |      1\n |      \n |      Not all distributions return estimates for the shape parameters.\n |      ``norm`` for example just returns estimates for location and scale:\n |      \n |      >>> from scipy.stats import norm\n |      >>> x = norm.rvs(a, b, size=1000, random_state=123)\n |      >>> loc1, scale1 = norm.fit(x)\n |      >>> loc1, scale1\n |      (0.92087172783841631, 2.0015750750324668)\n |  \n |  ----------------------------------------------------------------------\n |  Methods inherited from scipy.stats._distn_infrastructure.rv_continuous:\n |  \n |  __getstate__(self)\n |  \n |  __init__(self, momtype=1, a=None, b=None, xtol=1e-14, badvalue=None, name=None, longname=None, shapes=None, extradoc=None, seed=None)\n |      Initialize self.  See help(type(self)) for accurate signature.\n |  \n |  cdf(self, x, *args, **kwds)\n |      Cumulative distribution function of the given RV.\n |      \n |      Parameters\n |      ----------\n |      x : array_like\n |          quantiles\n |      arg1, arg2, arg3,... : array_like\n |          The shape parameter(s) for the distribution (see docstring of the\n |          instance object for more information)\n |      loc : array_like, optional\n |          location parameter (default=0)\n |      scale : array_like, optional\n |          scale parameter (default=1)\n |      \n |      Returns\n |      -------\n |      cdf : ndarray\n |          Cumulative distribution function evaluated at `x`\n |  \n |  expect(self, func=None, args=(), loc=0, scale=1, lb=None, ub=None, conditional=False, **kwds)\n |      Calculate expected value of a function with respect to the\n |      distribution by numerical integration.\n |      \n |      The expected value of a function ``f(x)`` with respect to a\n |      distribution ``dist`` is defined as::\n |      \n |                  ub\n |          E[f(x)] = Integral(f(x) * dist.pdf(x)),\n |                  lb\n |      \n |      where ``ub`` and ``lb`` are arguments and ``x`` has the ``dist.pdf(x)``\n |      distribution. If the bounds ``lb`` and ``ub`` correspond to the\n |      support of the distribution, e.g. ``[-inf, inf]`` in the default\n |      case, then the integral is the unrestricted expectation of ``f(x)``.\n |      Also, the function ``f(x)`` may be defined such that ``f(x)`` is ``0``\n |      outside a finite interval in which case the expectation is\n |      calculated within the finite range ``[lb, ub]``.\n |      \n |      Parameters\n |      ----------\n |      func : callable, optional\n |          Function for which integral is calculated. Takes only one argument.\n |          The default is the identity mapping f(x) = x.\n |      args : tuple, optional\n |          Shape parameters of the distribution.\n |      loc : float, optional\n |          Location parameter (default=0).\n |      scale : float, optional\n |          Scale parameter (default=1).\n |      lb, ub : scalar, optional\n |          Lower and upper bound for integration. Default is set to the\n |          support of the distribution.\n |      conditional : bool, optional\n |          If True, the integral is corrected by the conditional probability\n |          of the integration interval.  The return value is the expectation\n |          of the function, conditional on being in the given interval.\n |          Default is False.\n |      \n |      Additional keyword arguments are passed to the integration routine.\n |      \n |      Returns\n |      -------\n |      expect : float\n |          The calculated expected value.\n |      \n |      Notes\n |      -----\n |      The integration behavior of this function is inherited from\n |      `scipy.integrate.quad`. Neither this function nor\n |      `scipy.integrate.quad` can verify whether the integral exists or is\n |      finite. For example ``cauchy(0).mean()`` returns ``np.nan`` and\n |      ``cauchy(0).expect()`` returns ``0.0``.\n |      \n |      The function is not vectorized.\n |      \n |      Examples\n |      --------\n |      \n |      To understand the effect of the bounds of integration consider\n |      \n |      >>> from scipy.stats import expon\n |      >>> expon(1).expect(lambda x: 1, lb=0.0, ub=2.0)\n |      0.6321205588285578\n |      \n |      This is close to\n |      \n |      >>> expon(1).cdf(2.0) - expon(1).cdf(0.0)\n |      0.6321205588285577\n |      \n |      If ``conditional=True``\n |      \n |      >>> expon(1).expect(lambda x: 1, lb=0.0, ub=2.0, conditional=True)\n |      1.0000000000000002\n |      \n |      The slight deviation from 1 is due to numerical integration.\n |  \n |  fit_loc_scale(self, data, *args)\n |      Estimate loc and scale parameters from data using 1st and 2nd moments.\n |      \n |      Parameters\n |      ----------\n |      data : array_like\n |          Data to fit.\n |      arg1, arg2, arg3,... : array_like\n |          The shape parameter(s) for the distribution (see docstring of the\n |          instance object for more information).\n |      \n |      Returns\n |      -------\n |      Lhat : float\n |          Estimated location parameter for the data.\n |      Shat : float\n |          Estimated scale parameter for the data.\n |  \n |  isf(self, q, *args, **kwds)\n |      Inverse survival function (inverse of `sf`) at q of the given RV.\n |      \n |      Parameters\n |      ----------\n |      q : array_like\n |          upper tail probability\n |      arg1, arg2, arg3,... : array_like\n |          The shape parameter(s) for the distribution (see docstring of the\n |          instance object for more information)\n |      loc : array_like, optional\n |          location parameter (default=0)\n |      scale : array_like, optional\n |          scale parameter (default=1)\n |      \n |      Returns\n |      -------\n |      x : ndarray or scalar\n |          Quantile corresponding to the upper tail probability q.\n |  \n |  logcdf(self, x, *args, **kwds)\n |      Log of the cumulative distribution function at x of the given RV.\n |      \n |      Parameters\n |      ----------\n |      x : array_like\n |          quantiles\n |      arg1, arg2, arg3,... : array_like\n |          The shape parameter(s) for the distribution (see docstring of the\n |          instance object for more information)\n |      loc : array_like, optional\n |          location parameter (default=0)\n |      scale : array_like, optional\n |          scale parameter (default=1)\n |      \n |      Returns\n |      -------\n |      logcdf : array_like\n |          Log of the cumulative distribution function evaluated at x\n |  \n |  logpdf(self, x, *args, **kwds)\n |      Log of the probability density function at x of the given RV.\n |      \n |      This uses a more numerically accurate calculation if available.\n |      \n |      Parameters\n |      ----------\n |      x : array_like\n |          quantiles\n |      arg1, arg2, arg3,... : array_like\n |          The shape parameter(s) for the distribution (see docstring of the\n |          instance object for more information)\n |      loc : array_like, optional\n |          location parameter (default=0)\n |      scale : array_like, optional\n |          scale parameter (default=1)\n |      \n |      Returns\n |      -------\n |      logpdf : array_like\n |          Log of the probability density function evaluated at x\n |  \n |  logsf(self, x, *args, **kwds)\n |      Log of the survival function of the given RV.\n |      \n |      Returns the log of the \"survival function,\" defined as (1 - `cdf`),\n |      evaluated at `x`.\n |      \n |      Parameters\n |      ----------\n |      x : array_like\n |          quantiles\n |      arg1, arg2, arg3,... : array_like\n |          The shape parameter(s) for the distribution (see docstring of the\n |          instance object for more information)\n |      loc : array_like, optional\n |          location parameter (default=0)\n |      scale : array_like, optional\n |          scale parameter (default=1)\n |      \n |      Returns\n |      -------\n |      logsf : ndarray\n |          Log of the survival function evaluated at `x`.\n |  \n |  nnlf(self, theta, x)\n |      Return negative loglikelihood function.\n |      \n |      Notes\n |      -----\n |      This is ``-sum(log pdf(x, theta), axis=0)`` where `theta` are the\n |      parameters (including loc and scale).\n |  \n |  pdf(self, x, *args, **kwds)\n |      Probability density function at x of the given RV.\n |      \n |      Parameters\n |      ----------\n |      x : array_like\n |          quantiles\n |      arg1, arg2, arg3,... : array_like\n |          The shape parameter(s) for the distribution (see docstring of the\n |          instance object for more information)\n |      loc : array_like, optional\n |          location parameter (default=0)\n |      scale : array_like, optional\n |          scale parameter (default=1)\n |      \n |      Returns\n |      -------\n |      pdf : ndarray\n |          Probability density function evaluated at x\n |  \n |  ppf(self, q, *args, **kwds)\n |      Percent point function (inverse of `cdf`) at q of the given RV.\n |      \n |      Parameters\n |      ----------\n |      q : array_like\n |          lower tail probability\n |      arg1, arg2, arg3,... : array_like\n |          The shape parameter(s) for the distribution (see docstring of the\n |          instance object for more information)\n |      loc : array_like, optional\n |          location parameter (default=0)\n |      scale : array_like, optional\n |          scale parameter (default=1)\n |      \n |      Returns\n |      -------\n |      x : array_like\n |          quantile corresponding to the lower tail probability q.\n |  \n |  sf(self, x, *args, **kwds)\n |      Survival function (1 - `cdf`) at x of the given RV.\n |      \n |      Parameters\n |      ----------\n |      x : array_like\n |          quantiles\n |      arg1, arg2, arg3,... : array_like\n |          The shape parameter(s) for the distribution (see docstring of the\n |          instance object for more information)\n |      loc : array_like, optional\n |          location parameter (default=0)\n |      scale : array_like, optional\n |          scale parameter (default=1)\n |      \n |      Returns\n |      -------\n |      sf : array_like\n |          Survival function evaluated at x\n |  \n |  ----------------------------------------------------------------------\n |  Methods inherited from scipy.stats._distn_infrastructure.rv_generic:\n |  \n |  __call__(self, *args, **kwds)\n |      Freeze the distribution for the given arguments.\n |      \n |      Parameters\n |      ----------\n |      arg1, arg2, arg3,... : array_like\n |          The shape parameter(s) for the distribution.  Should include all\n |          the non-optional arguments, may include ``loc`` and ``scale``.\n |      \n |      Returns\n |      -------\n |      rv_frozen : rv_frozen instance\n |          The frozen distribution.\n |  \n |  __setstate__(self, state)\n |  \n |  entropy(self, *args, **kwds)\n |      Differential entropy of the RV.\n |      \n |      Parameters\n |      ----------\n |      arg1, arg2, arg3,... : array_like\n |          The shape parameter(s) for the distribution (see docstring of the\n |          instance object for more information).\n |      loc : array_like, optional\n |          Location parameter (default=0).\n |      scale : array_like, optional  (continuous distributions only).\n |          Scale parameter (default=1).\n |      \n |      Notes\n |      -----\n |      Entropy is defined base `e`:\n |      \n |      >>> drv = rv_discrete(values=((0, 1), (0.5, 0.5)))\n |      >>> np.allclose(drv.entropy(), np.log(2.0))\n |      True\n |  \n |  freeze(self, *args, **kwds)\n |      Freeze the distribution for the given arguments.\n |      \n |      Parameters\n |      ----------\n |      arg1, arg2, arg3,... : array_like\n |          The shape parameter(s) for the distribution.  Should include all\n |          the non-optional arguments, may include ``loc`` and ``scale``.\n |      \n |      Returns\n |      -------\n |      rv_frozen : rv_frozen instance\n |          The frozen distribution.\n |  \n |  interval(self, alpha, *args, **kwds)\n |      Confidence interval with equal areas around the median.\n |      \n |      Parameters\n |      ----------\n |      alpha : array_like of float\n |          Probability that an rv will be drawn from the returned range.\n |          Each value should be in the range [0, 1].\n |      arg1, arg2, ... : array_like\n |          The shape parameter(s) for the distribution (see docstring of the\n |          instance object for more information).\n |      loc : array_like, optional\n |          location parameter, Default is 0.\n |      scale : array_like, optional\n |          scale parameter, Default is 1.\n |      \n |      Returns\n |      -------\n |      a, b : ndarray of float\n |          end-points of range that contain ``100 * alpha %`` of the rv's\n |          possible values.\n |  \n |  mean(self, *args, **kwds)\n |      Mean of the distribution.\n |      \n |      Parameters\n |      ----------\n |      arg1, arg2, arg3,... : array_like\n |          The shape parameter(s) for the distribution (see docstring of the\n |          instance object for more information)\n |      loc : array_like, optional\n |          location parameter (default=0)\n |      scale : array_like, optional\n |          scale parameter (default=1)\n |      \n |      Returns\n |      -------\n |      mean : float\n |          the mean of the distribution\n |  \n |  median(self, *args, **kwds)\n |      Median of the distribution.\n |      \n |      Parameters\n |      ----------\n |      arg1, arg2, arg3,... : array_like\n |          The shape parameter(s) for the distribution (see docstring of the\n |          instance object for more information)\n |      loc : array_like, optional\n |          Location parameter, Default is 0.\n |      scale : array_like, optional\n |          Scale parameter, Default is 1.\n |      \n |      Returns\n |      -------\n |      median : float\n |          The median of the distribution.\n |      \n |      See Also\n |      --------\n |      rv_discrete.ppf\n |          Inverse of the CDF\n |  \n |  moment(self, n, *args, **kwds)\n |      n-th order non-central moment of distribution.\n |      \n |      Parameters\n |      ----------\n |      n : int, n >= 1\n |          Order of moment.\n |      arg1, arg2, arg3,... : float\n |          The shape parameter(s) for the distribution (see docstring of the\n |          instance object for more information).\n |      loc : array_like, optional\n |          location parameter (default=0)\n |      scale : array_like, optional\n |          scale parameter (default=1)\n |  \n |  rvs(self, *args, **kwds)\n |      Random variates of given type.\n |      \n |      Parameters\n |      ----------\n |      arg1, arg2, arg3,... : array_like\n |          The shape parameter(s) for the distribution (see docstring of the\n |          instance object for more information).\n |      loc : array_like, optional\n |          Location parameter (default=0).\n |      scale : array_like, optional\n |          Scale parameter (default=1).\n |      size : int or tuple of ints, optional\n |          Defining number of random variates (default is 1).\n |      random_state : {None, int, `~np.random.RandomState`, `~np.random.Generator`}, optional\n |          If `seed` is `None` the `~np.random.RandomState` singleton is used.\n |          If `seed` is an int, a new ``RandomState`` instance is used, seeded\n |          with seed.\n |          If `seed` is already a ``RandomState`` or ``Generator`` instance,\n |          then that object is used.\n |          Default is None.\n |      \n |      Returns\n |      -------\n |      rvs : ndarray or scalar\n |          Random variates of given `size`.\n |  \n |  stats(self, *args, **kwds)\n |      Some statistics of the given RV.\n |      \n |      Parameters\n |      ----------\n |      arg1, arg2, arg3,... : array_like\n |          The shape parameter(s) for the distribution (see docstring of the\n |          instance object for more information)\n |      loc : array_like, optional\n |          location parameter (default=0)\n |      scale : array_like, optional (continuous RVs only)\n |          scale parameter (default=1)\n |      moments : str, optional\n |          composed of letters ['mvsk'] defining which moments to compute:\n |          'm' = mean,\n |          'v' = variance,\n |          's' = (Fisher's) skew,\n |          'k' = (Fisher's) kurtosis.\n |          (default is 'mv')\n |      \n |      Returns\n |      -------\n |      stats : sequence\n |          of requested moments.\n |  \n |  std(self, *args, **kwds)\n |      Standard deviation of the distribution.\n |      \n |      Parameters\n |      ----------\n |      arg1, arg2, arg3,... : array_like\n |          The shape parameter(s) for the distribution (see docstring of the\n |          instance object for more information)\n |      loc : array_like, optional\n |          location parameter (default=0)\n |      scale : array_like, optional\n |          scale parameter (default=1)\n |      \n |      Returns\n |      -------\n |      std : float\n |          standard deviation of the distribution\n |  \n |  support(self, *args, **kwargs)\n |      Return the support of the distribution.\n |      \n |      Parameters\n |      ----------\n |      arg1, arg2, ... : array_like\n |          The shape parameter(s) for the distribution (see docstring of the\n |          instance object for more information).\n |      loc : array_like, optional\n |          location parameter, Default is 0.\n |      scale : array_like, optional\n |          scale parameter, Default is 1.\n |      Returns\n |      -------\n |      a, b : float\n |          end-points of the distribution's support.\n |  \n |  var(self, *args, **kwds)\n |      Variance of the distribution.\n |      \n |      Parameters\n |      ----------\n |      arg1, arg2, arg3,... : array_like\n |          The shape parameter(s) for the distribution (see docstring of the\n |          instance object for more information)\n |      loc : array_like, optional\n |          location parameter (default=0)\n |      scale : array_like, optional\n |          scale parameter (default=1)\n |      \n |      Returns\n |      -------\n |      var : float\n |          the variance of the distribution\n |  \n |  ----------------------------------------------------------------------\n |  Data descriptors inherited from scipy.stats._distn_infrastructure.rv_generic:\n |  \n |  __dict__\n |      dictionary for instance variables (if defined)\n |  \n |  __weakref__\n |      list of weak references to the object (if defined)\n |  \n |  random_state\n |      Get or set the RandomState object for generating random variates.\n |      \n |      This can be either None, int, a RandomState instance, or a\n |      np.random.Generator instance.\n |      \n |      If None (or np.random), use the RandomState singleton used by np.random.\n |      If already a RandomState or Generator instance, use it.\n |      If an int, use a new RandomState instance seeded with seed.\n\n",
          "output_type": "stream"
        }
      ],
      "execution_count": null
    },
    {
      "cell_type": "markdown",
      "source": "__A:__ Probability density function.",
      "metadata": {
        "cell_id": "00011-0628ecc2-13d2-42df-8b45-deeb5ec15be3",
        "deepnote_cell_type": "markdown"
      }
    },
    {
      "cell_type": "markdown",
      "source": "__Q2:__ Use the method that generates random variates to draw five samples from the standard normal distribution. ",
      "metadata": {
        "cell_id": "00012-d1274715-f63a-42da-9755-95023a847d8c",
        "deepnote_cell_type": "markdown"
      }
    },
    {
      "cell_type": "markdown",
      "source": "__A:__",
      "metadata": {
        "cell_id": "00013-420a18a9-26c2-4100-b169-3f4281c062ce",
        "deepnote_cell_type": "markdown"
      }
    },
    {
      "cell_type": "code",
      "metadata": {
        "cell_id": "00014-ef9f908c-8349-434d-8e01-0ae989103cf5",
        "deepnote_to_be_reexecuted": false,
        "source_hash": "2aac48c8",
        "execution_millis": 10,
        "execution_start": 1619407547351,
        "deepnote_cell_type": "code"
      },
      "source": "seed(47)\n# draw five samples here\nrandom_samples = norm.rvs(size = 5)\nrandom_samples",
      "outputs": [
        {
          "output_type": "execute_result",
          "execution_count": 3,
          "data": {
            "text/plain": "array([-0.84800948,  1.30590636,  0.92420797,  0.6404118 , -1.05473698])"
          },
          "metadata": {}
        }
      ],
      "execution_count": null
    },
    {
      "cell_type": "markdown",
      "source": "__Q3:__ What is the mean of this sample? Is it exactly equal to the value you expected? Hint: the sample was drawn from the standard normal distribution. If you want a reminder of the properties of this distribution, check out p. 85 of *AoS*. ",
      "metadata": {
        "cell_id": "00015-6e99c2ac-e1f2-4b3a-8def-8c56861a6e27",
        "deepnote_cell_type": "markdown"
      }
    },
    {
      "cell_type": "markdown",
      "source": "__A:__",
      "metadata": {
        "cell_id": "00016-ad3751fa-4ff4-439f-a7de-8cb5089b2a60",
        "deepnote_cell_type": "markdown"
      }
    },
    {
      "cell_type": "code",
      "metadata": {
        "cell_id": "00017-be9f1c98-f451-47cc-ad03-059c60e32f44",
        "deepnote_to_be_reexecuted": false,
        "source_hash": "1504027a",
        "execution_millis": 6,
        "execution_start": 1619407755959,
        "deepnote_cell_type": "code"
      },
      "source": "# Calculate and print the mean here, hint: use np.mean()\nmean = np.mean(random_samples)\nmean",
      "outputs": [
        {
          "output_type": "execute_result",
          "execution_count": 4,
          "data": {
            "text/plain": "0.19355593334131074"
          },
          "metadata": {}
        }
      ],
      "execution_count": null
    },
    {
      "cell_type": "markdown",
      "source": "__Q4:__ What is the standard deviation of these numbers? Calculate this manually here as $\\sqrt{\\frac{\\sum_i(x_i - \\bar{x})^2}{n}}$ (This is just the definition of **standard deviation** given by Professor Spiegelhalter on p.403 of *AoS*). Hint: np.sqrt() and np.sum() will be useful here and remember that numPy supports [broadcasting](https://docs.scipy.org/doc/numpy/user/basics.broadcasting.html).",
      "metadata": {
        "cell_id": "00018-94ab0fa1-3f2a-441a-95cd-7d11e27cd21e",
        "deepnote_cell_type": "markdown"
      }
    },
    {
      "cell_type": "markdown",
      "source": "__A:__",
      "metadata": {
        "cell_id": "00019-e6a86fb6-3a4e-4410-8530-a48713b58ca4",
        "deepnote_cell_type": "markdown"
      }
    },
    {
      "cell_type": "code",
      "metadata": {
        "cell_id": "00020-a7276787-1f2b-4fcb-87cf-b4c10e847c74",
        "deepnote_to_be_reexecuted": false,
        "source_hash": "644e6f56",
        "execution_millis": 6,
        "execution_start": 1619407761771,
        "deepnote_cell_type": "code"
      },
      "source": "new = np.full_like(random_samples, mean)\na_1 = np.square(random_samples - new)\nstandard_deviation = np.sqrt(np.sum(a_1) / len(random_samples))\nstandard_deviation",
      "outputs": [
        {
          "output_type": "execute_result",
          "execution_count": 5,
          "data": {
            "text/plain": "0.9606195639478641"
          },
          "metadata": {}
        }
      ],
      "execution_count": null
    },
    {
      "cell_type": "markdown",
      "source": "Here we have calculated the actual standard deviation of a small data set (of size 5). But in this case, this small data set is actually a sample from our larger (infinite) population. In this case, the population is infinite because we could keep drawing our normal random variates until our computers die! \n\nIn general, the sample mean we calculate will not be equal to the population mean (as we saw above). A consequence of this is that the sum of squares of the deviations from the _population_ mean will be bigger than the sum of squares of the deviations from the _sample_ mean. In other words, the sum of squares of the deviations from the _sample_ mean is too small to give an unbiased estimate of the _population_ variance. An example of this effect is given [here](https://en.wikipedia.org/wiki/Bessel%27s_correction#Source_of_bias). Scaling our estimate of the variance by the factor $n/(n-1)$ gives an unbiased estimator of the population variance. This factor is known as [Bessel's correction](https://en.wikipedia.org/wiki/Bessel%27s_correction). The consequence of this is that the $n$ in the denominator is replaced by $n-1$.\n\nYou can see Bessel's correction reflected in Professor Spiegelhalter's definition of **variance** on p. 405 of *AoS*.\n\n__Q5:__ If all we had to go on was our five samples, what would be our best estimate of the population standard deviation? Use Bessel's correction ($n-1$ in the denominator), thus $\\sqrt{\\frac{\\sum_i(x_i - \\bar{x})^2}{n-1}}$.",
      "metadata": {
        "cell_id": "00021-899e74ad-d538-4307-a235-6605c9d88144",
        "deepnote_cell_type": "markdown"
      }
    },
    {
      "cell_type": "markdown",
      "source": "__A:__",
      "metadata": {
        "cell_id": "00022-4695fc96-909d-443e-ba06-b7c91c8b88f5",
        "deepnote_cell_type": "markdown"
      }
    },
    {
      "cell_type": "code",
      "metadata": {
        "cell_id": "00023-ccb0651f-c957-4ef6-84b1-fadbf56fd311",
        "deepnote_to_be_reexecuted": false,
        "source_hash": "735367ea",
        "execution_millis": 7,
        "execution_start": 1619407765520,
        "deepnote_cell_type": "code"
      },
      "source": "bessel_correction = np.sqrt(np.sum(a_1) / (len(random_samples)-1))\nbessel_correction",
      "outputs": [
        {
          "output_type": "execute_result",
          "execution_count": 6,
          "data": {
            "text/plain": "1.0740053227518152"
          },
          "metadata": {}
        }
      ],
      "execution_count": null
    },
    {
      "cell_type": "markdown",
      "source": "__Q6:__ Now use numpy's std function to calculate the standard deviation of our random samples. Which of the above standard deviations did it return?",
      "metadata": {
        "cell_id": "00024-754d5fa0-acf5-47c8-9d8f-0e873ac05760",
        "deepnote_cell_type": "markdown"
      }
    },
    {
      "cell_type": "markdown",
      "source": "__A:__",
      "metadata": {
        "cell_id": "00025-930c1d38-66db-485a-a668-749cf93e4285",
        "deepnote_cell_type": "markdown"
      }
    },
    {
      "cell_type": "code",
      "metadata": {
        "tags": [],
        "cell_id": "00026-6b30ad7e-7c8b-424c-8cf1-9a7ee7167064",
        "deepnote_to_be_reexecuted": false,
        "source_hash": "59ec3bda",
        "execution_millis": 11,
        "execution_start": 1619407769343,
        "deepnote_cell_type": "code"
      },
      "source": "np.std(random_samples)",
      "outputs": [
        {
          "output_type": "execute_result",
          "execution_count": 7,
          "data": {
            "text/plain": "0.9606195639478641"
          },
          "metadata": {}
        }
      ],
      "execution_count": null
    },
    {
      "cell_type": "markdown",
      "source": "__Q7:__ Consult the documentation for np.std() to see how to apply the correction for estimating the population parameter and verify this produces the expected result.",
      "metadata": {
        "cell_id": "00027-b169baae-8c54-4d45-b03b-10b6af369047",
        "deepnote_cell_type": "markdown"
      }
    },
    {
      "cell_type": "markdown",
      "source": "__A:__",
      "metadata": {
        "cell_id": "00028-efacea66-1eef-4b6e-a311-5f949fc2fb3b",
        "deepnote_cell_type": "markdown"
      }
    },
    {
      "cell_type": "code",
      "metadata": {
        "cell_id": "00029-1a67a117-6e53-4b6e-97e0-2d405056a93d",
        "deepnote_to_be_reexecuted": false,
        "source_hash": "975bff1a",
        "execution_millis": 7,
        "execution_start": 1619407774145,
        "deepnote_cell_type": "code"
      },
      "source": "help(np.std)",
      "outputs": [
        {
          "name": "stdout",
          "text": "Help on function std in module numpy:\n\nstd(a, axis=None, dtype=None, out=None, ddof=0, keepdims=<no value>)\n    Compute the standard deviation along the specified axis.\n    \n    Returns the standard deviation, a measure of the spread of a distribution,\n    of the array elements. The standard deviation is computed for the\n    flattened array by default, otherwise over the specified axis.\n    \n    Parameters\n    ----------\n    a : array_like\n        Calculate the standard deviation of these values.\n    axis : None or int or tuple of ints, optional\n        Axis or axes along which the standard deviation is computed. The\n        default is to compute the standard deviation of the flattened array.\n    \n        .. versionadded:: 1.7.0\n    \n        If this is a tuple of ints, a standard deviation is performed over\n        multiple axes, instead of a single axis or all the axes as before.\n    dtype : dtype, optional\n        Type to use in computing the standard deviation. For arrays of\n        integer type the default is float64, for arrays of float types it is\n        the same as the array type.\n    out : ndarray, optional\n        Alternative output array in which to place the result. It must have\n        the same shape as the expected output but the type (of the calculated\n        values) will be cast if necessary.\n    ddof : int, optional\n        Means Delta Degrees of Freedom.  The divisor used in calculations\n        is ``N - ddof``, where ``N`` represents the number of elements.\n        By default `ddof` is zero.\n    keepdims : bool, optional\n        If this is set to True, the axes which are reduced are left\n        in the result as dimensions with size one. With this option,\n        the result will broadcast correctly against the input array.\n    \n        If the default value is passed, then `keepdims` will not be\n        passed through to the `std` method of sub-classes of\n        `ndarray`, however any non-default value will be.  If the\n        sub-class' method does not implement `keepdims` any\n        exceptions will be raised.\n    \n    Returns\n    -------\n    standard_deviation : ndarray, see dtype parameter above.\n        If `out` is None, return a new array containing the standard deviation,\n        otherwise return a reference to the output array.\n    \n    See Also\n    --------\n    var, mean, nanmean, nanstd, nanvar\n    ufuncs-output-type\n    \n    Notes\n    -----\n    The standard deviation is the square root of the average of the squared\n    deviations from the mean, i.e., ``std = sqrt(mean(abs(x - x.mean())**2))``.\n    \n    The average squared deviation is normally calculated as\n    ``x.sum() / N``, where ``N = len(x)``.  If, however, `ddof` is specified,\n    the divisor ``N - ddof`` is used instead. In standard statistical\n    practice, ``ddof=1`` provides an unbiased estimator of the variance\n    of the infinite population. ``ddof=0`` provides a maximum likelihood\n    estimate of the variance for normally distributed variables. The\n    standard deviation computed in this function is the square root of\n    the estimated variance, so even with ``ddof=1``, it will not be an\n    unbiased estimate of the standard deviation per se.\n    \n    Note that, for complex numbers, `std` takes the absolute\n    value before squaring, so that the result is always real and nonnegative.\n    \n    For floating-point input, the *std* is computed using the same\n    precision the input has. Depending on the input data, this can cause\n    the results to be inaccurate, especially for float32 (see example below).\n    Specifying a higher-accuracy accumulator using the `dtype` keyword can\n    alleviate this issue.\n    \n    Examples\n    --------\n    >>> a = np.array([[1, 2], [3, 4]])\n    >>> np.std(a)\n    1.1180339887498949 # may vary\n    >>> np.std(a, axis=0)\n    array([1.,  1.])\n    >>> np.std(a, axis=1)\n    array([0.5,  0.5])\n    \n    In single precision, std() can be inaccurate:\n    \n    >>> a = np.zeros((2, 512*512), dtype=np.float32)\n    >>> a[0, :] = 1.0\n    >>> a[1, :] = 0.1\n    >>> np.std(a)\n    0.45000005\n    \n    Computing the standard deviation in float64 is more accurate:\n    \n    >>> np.std(a, dtype=np.float64)\n    0.44999999925494177 # may vary\n\n",
          "output_type": "stream"
        }
      ],
      "execution_count": null
    },
    {
      "cell_type": "code",
      "metadata": {
        "cell_id": "00030-ab968eb7-91d1-423d-bff1-d00d36c6ed7a",
        "deepnote_to_be_reexecuted": false,
        "source_hash": "b1a28037",
        "execution_millis": 9,
        "execution_start": 1619407775743,
        "deepnote_cell_type": "code"
      },
      "source": "random_samples.std(ddof=1)",
      "outputs": [
        {
          "output_type": "execute_result",
          "execution_count": 9,
          "data": {
            "text/plain": "1.0740053227518152"
          },
          "metadata": {}
        }
      ],
      "execution_count": null
    },
    {
      "cell_type": "markdown",
      "source": "The result is the same.",
      "metadata": {
        "tags": [],
        "cell_id": "00031-396f4b81-1979-4b61-81eb-2b9f78ee09ca",
        "deepnote_cell_type": "markdown"
      }
    },
    {
      "cell_type": "markdown",
      "source": "### Summary of section",
      "metadata": {
        "cell_id": "00031-520e38e6-75ba-4bd7-a9b6-a8612191193b",
        "deepnote_cell_type": "markdown"
      }
    },
    {
      "cell_type": "markdown",
      "source": "In this section, you've been introduced to the scipy.stats package and used it to draw a small sample from the standard normal distribution. You've calculated the average (the mean) of this sample and seen that this is not exactly equal to the expected population parameter (which we know because we're generating the random variates from a specific, known distribution). You've been introduced to two ways of calculating the standard deviation; one uses $n$ in the denominator and the other uses $n-1$ (Bessel's correction). You've also seen which of these calculations np.std() performs by default and how to get it to generate the other.",
      "metadata": {
        "cell_id": "00032-a8bac8b4-6c45-4980-bd5c-7c9a7735d032",
        "deepnote_cell_type": "markdown"
      }
    },
    {
      "cell_type": "markdown",
      "source": "You use $n$ as the denominator if you want to calculate the standard deviation of a sequence of numbers. You use $n-1$ if you are using this sequence of numbers to estimate the population parameter. This brings us to some terminology that can be a little confusing.\n\nThe population parameter is traditionally written as $\\sigma$ and the sample statistic as $s$. Rather unhelpfully, $s$ is also called the sample standard deviation (using $n-1$) whereas the standard deviation of the sample uses $n$. That's right, we have the sample standard deviation and the standard deviation of the sample and they're not the same thing!\n\nThe sample standard deviation\n\\begin{equation}\ns = \\sqrt{\\frac{\\sum_i(x_i - \\bar{x})^2}{n-1}} \\approx \\sigma,\n\\end{equation}\nis our best (unbiased) estimate of the population parameter ($\\sigma$).\n\nIf your dataset _is_ your entire population, you simply want to calculate the population parameter, $\\sigma$, via\n\\begin{equation}\n\\sigma = \\sqrt{\\frac{\\sum_i(x_i - \\bar{x})^2}{n}}\n\\end{equation}\nas you have complete, full knowledge of your population. In other words, your sample _is_ your population. It's worth noting that we're dealing with what Professor Spiegehalter describes on p. 92 of *AoS* as a **metaphorical population**: we have all the data, and we act as if the data-point is taken from a population at random. We can think of this population as an imaginary space of possibilities. \n\nIf, however, you have sampled _from_ your population, you only have partial knowledge of the state of your population. In this case, the standard deviation of your sample is not an unbiased estimate of the standard deviation of the population, in which case you seek to estimate that population parameter via the sample standard deviation, which uses the $n-1$ denominator.",
      "metadata": {
        "cell_id": "00033-0d6354bb-4da2-4c62-9087-c2ccc8b1ef5c",
        "deepnote_cell_type": "markdown"
      }
    },
    {
      "cell_type": "markdown",
      "source": "Great work so far! Now let's dive deeper.",
      "metadata": {
        "cell_id": "00034-b2523ea0-ee03-4ac8-8f24-2899db72d18c",
        "deepnote_cell_type": "markdown"
      }
    },
    {
      "cell_type": "markdown",
      "source": "## 3. Sampling distributions",
      "metadata": {
        "cell_id": "00035-204626c3-d457-4de9-afcb-8bea88599e6c",
        "deepnote_cell_type": "markdown"
      }
    },
    {
      "cell_type": "markdown",
      "source": "So far we've been dealing with the concept of taking a sample from a population to infer the population parameters. One statistic we calculated for a sample was the mean. As our samples will be expected to vary from one draw to another, so will our sample statistics. If we were to perform repeat draws of size $n$ and calculate the mean of each, we would expect to obtain a distribution of values. This is the sampling distribution of the mean. **The Central Limit Theorem (CLT)** tells us that such a distribution will approach a normal distribution as $n$ increases (the intuitions behind the CLT are covered in full on p. 236 of *AoS*). For the sampling distribution of the mean, the standard deviation of this distribution is given by\n\n\\begin{equation}\n\\sigma_{mean} = \\frac{\\sigma}{\\sqrt n}\n\\end{equation}\n\nwhere $\\sigma_{mean}$ is the standard deviation of the sampling distribution of the mean and $\\sigma$ is the standard deviation of the population (the population parameter).",
      "metadata": {
        "cell_id": "00036-468c49b6-763f-4536-a796-756e4b2f8fd5",
        "deepnote_cell_type": "markdown"
      }
    },
    {
      "cell_type": "markdown",
      "source": "This is important because typically we are dealing with samples from populations and all we know about the population is what we see in the sample. From this sample, we want to make inferences about the population. We may do this, for example, by looking at the histogram of the values and by calculating the mean and standard deviation (as estimates of the population parameters), and so we are intrinsically interested in how these quantities vary across samples. \n\nIn other words, now that we've taken one sample of size $n$ and made some claims about the general population, what if we were to take another sample of size $n$? Would we get the same result? Would we make the same claims about the general population? This brings us to a fundamental question: _when we make some inference about a population based on our sample, how confident can we be that we've got it 'right'?_\n\nWe need to think about **estimates and confidence intervals**: those concepts covered in Chapter 7, p. 189, of *AoS*.",
      "metadata": {
        "cell_id": "00037-197cdd34-8dca-497c-b1ad-53c7d223d462",
        "deepnote_cell_type": "markdown"
      }
    },
    {
      "cell_type": "markdown",
      "source": "Now, the standard normal distribution (with its variance equal to its standard deviation of one) would not be a great illustration of a key point. Instead, let's imagine we live in a town of 50,000 people and we know the height of everyone in this town. We will have 50,000 numbers that tell us everything about our population. We'll simulate these numbers now and put ourselves in one particular town, called 'town 47', where the population mean height is 172 cm and population standard deviation is 5 cm.",
      "metadata": {
        "cell_id": "00038-2382ca6c-6ec0-40d2-af29-4b3d3650cc64",
        "deepnote_cell_type": "markdown"
      }
    },
    {
      "cell_type": "code",
      "metadata": {
        "cell_id": "00039-a745b98e-0946-4b4e-8e18-8c23b9076bec",
        "deepnote_to_be_reexecuted": false,
        "source_hash": "99d8b559",
        "execution_millis": 4,
        "execution_start": 1619407783345,
        "deepnote_cell_type": "code"
      },
      "source": "seed(47)\npop_heights = norm.rvs(172, 5, size=50000)",
      "outputs": [],
      "execution_count": null
    },
    {
      "cell_type": "code",
      "metadata": {
        "cell_id": "00040-8e7af35d-329c-46bd-a76b-82aebea8b1e0",
        "deepnote_to_be_reexecuted": false,
        "source_hash": "826d10ca",
        "execution_millis": 280,
        "execution_start": 1619407784176,
        "deepnote_cell_type": "code"
      },
      "source": "_ = plt.hist(pop_heights, bins=30)\n_ = plt.xlabel('height (cm)')\n_ = plt.ylabel('number of people')\n_ = plt.title('Distribution of heights in entire town population')\n_ = plt.axvline(172, color='r')\n_ = plt.axvline(172+5, color='r', linestyle='--')\n_ = plt.axvline(172-5, color='r', linestyle='--')\n_ = plt.axvline(172+10, color='r', linestyle='-.')\n_ = plt.axvline(172-10, color='r', linestyle='-.')",
      "outputs": [
        {
          "data": {
            "text/plain": "<Figure size 432x288 with 1 Axes>",
            "image/png": "[encoded data removed]"
          },
          "metadata": {
            "needs_background": "light"
          },
          "output_type": "display_data"
        }
      ],
      "execution_count": null
    },
    {
      "cell_type": "markdown",
      "source": "Now, 50,000 people is rather a lot to chase after with a tape measure. If all you want to know is the average height of the townsfolk, then can you just go out and measure a sample to get a pretty good estimate of the average height?",
      "metadata": {
        "cell_id": "00041-12b4f15b-3e4a-4d5f-a2ca-69b81f03a3cf",
        "deepnote_cell_type": "markdown"
      }
    },
    {
      "cell_type": "code",
      "metadata": {
        "cell_id": "00042-b48c5760-09f3-4d89-840a-892a4b932781",
        "deepnote_to_be_reexecuted": false,
        "source_hash": "14ab61e2",
        "execution_millis": 3,
        "execution_start": 1619407786359,
        "deepnote_cell_type": "code"
      },
      "source": "def townsfolk_sampler(n):\n    return np.random.choice(pop_heights, n)",
      "outputs": [],
      "execution_count": null
    },
    {
      "cell_type": "markdown",
      "source": "Let's say you go out one day and randomly sample 10 people to measure.",
      "metadata": {
        "cell_id": "00043-06ffc171-fd28-4659-acc9-0a9396474468",
        "deepnote_cell_type": "markdown"
      }
    },
    {
      "cell_type": "code",
      "metadata": {
        "cell_id": "00044-a2f3fde7-ae1a-469d-93e4-43122e24f56c",
        "deepnote_to_be_reexecuted": false,
        "source_hash": "23026100",
        "execution_millis": 3,
        "execution_start": 1619407787823,
        "deepnote_cell_type": "code"
      },
      "source": "seed(47)\ndaily_sample1 = townsfolk_sampler(10)",
      "outputs": [],
      "execution_count": null
    },
    {
      "cell_type": "code",
      "metadata": {
        "cell_id": "00045-3d4a607f-0cd2-4786-a9d5-cf75d575aab5",
        "deepnote_to_be_reexecuted": false,
        "source_hash": "7120713c",
        "execution_millis": 171,
        "execution_start": 1619407788541,
        "deepnote_cell_type": "code"
      },
      "source": "_ = plt.hist(daily_sample1, bins=10)\n_ = plt.xlabel('height (cm)')\n_ = plt.ylabel('number of people')\n_ = plt.title('Distribution of heights in sample size 10')",
      "outputs": [
        {
          "data": {
            "text/plain": "<Figure size 432x288 with 1 Axes>",
            "image/png": "[encoded data removed]"
          },
          "metadata": {
            "needs_background": "light"
          },
          "output_type": "display_data"
        }
      ],
      "execution_count": null
    },
    {
      "cell_type": "markdown",
      "source": "The sample distribution doesn't resemble what we take the population distribution to be. What do we get for the mean?",
      "metadata": {
        "cell_id": "00046-305ef194-9e41-4fe5-bf4d-b2fdc356636f",
        "deepnote_cell_type": "markdown"
      }
    },
    {
      "cell_type": "code",
      "metadata": {
        "cell_id": "00047-53bcced9-767b-44b6-afc8-ad9929d9b0f2",
        "deepnote_to_be_reexecuted": false,
        "source_hash": "31524539",
        "execution_millis": 7,
        "execution_start": 1619407790480,
        "deepnote_cell_type": "code"
      },
      "source": "np.mean(daily_sample1)",
      "outputs": [
        {
          "output_type": "execute_result",
          "execution_count": 15,
          "data": {
            "text/plain": "173.47911444163503"
          },
          "metadata": {}
        }
      ],
      "execution_count": null
    },
    {
      "cell_type": "markdown",
      "source": "And if we went out and repeated this experiment?",
      "metadata": {
        "cell_id": "00048-a8d1e57a-b943-4720-ba1d-94e201146f46",
        "deepnote_cell_type": "markdown"
      }
    },
    {
      "cell_type": "code",
      "metadata": {
        "cell_id": "00049-efaf0e84-51c7-4ed8-b854-842dc7bee6a1",
        "deepnote_to_be_reexecuted": false,
        "source_hash": "58879786",
        "execution_millis": 0,
        "execution_start": 1619407791692,
        "deepnote_cell_type": "code"
      },
      "source": "daily_sample2 = townsfolk_sampler(10)",
      "outputs": [],
      "execution_count": null
    },
    {
      "cell_type": "code",
      "metadata": {
        "cell_id": "00050-e21b2629-3dd7-49a1-8394-ff941f9752b5",
        "deepnote_to_be_reexecuted": false,
        "source_hash": "1559fc98",
        "execution_millis": 8,
        "execution_start": 1619407792325,
        "deepnote_cell_type": "code"
      },
      "source": "np.mean(daily_sample2)",
      "outputs": [
        {
          "output_type": "execute_result",
          "execution_count": 17,
          "data": {
            "text/plain": "173.7317666636263"
          },
          "metadata": {}
        }
      ],
      "execution_count": null
    },
    {
      "cell_type": "markdown",
      "source": "__Q8:__ Simulate performing this random trial every day for a year, calculating the mean of each daily sample of 10, and plot the resultant sampling distribution of the mean.",
      "metadata": {
        "cell_id": "00051-4d0831a8-6435-4f84-a1a2-0e5bd14b6f81",
        "deepnote_cell_type": "markdown"
      }
    },
    {
      "cell_type": "markdown",
      "source": "__A:__",
      "metadata": {
        "cell_id": "00052-0dd002b7-ccd7-449b-bd8b-6805740de7ff",
        "deepnote_cell_type": "markdown"
      }
    },
    {
      "cell_type": "code",
      "metadata": {
        "cell_id": "00054-2c4f7593-9bfc-41dc-8b80-29276b536d42",
        "deepnote_to_be_reexecuted": false,
        "source_hash": "f1595b5b",
        "execution_millis": 1,
        "execution_start": 1619407794920,
        "deepnote_cell_type": "code"
      },
      "source": "seed(47)\n# take your samples here\ndaily_sample_mean = np.array([np.mean(townsfolk_sampler(10)) for i in range(365)])",
      "outputs": [],
      "execution_count": null
    },
    {
      "cell_type": "code",
      "metadata": {
        "cell_id": "00055-f4146546-c44c-405b-8d1c-cc116228c523",
        "deepnote_to_be_reexecuted": false,
        "source_hash": "53495117",
        "execution_millis": 135,
        "execution_start": 1619407795708,
        "deepnote_cell_type": "code"
      },
      "source": "_ = plt.hist(daily_sample_mean, bins = 10)\n_ = plt.xlabel('height (cm)')\n_ = plt.ylabel('# of people')\n_ = plt.title('Distribution')",
      "outputs": [
        {
          "data": {
            "text/plain": "<Figure size 432x288 with 1 Axes>",
            "image/png": "[encoded data removed]"
          },
          "metadata": {
            "needs_background": "light"
          },
          "output_type": "display_data"
        }
      ],
      "execution_count": null
    },
    {
      "cell_type": "markdown",
      "source": "The above is the distribution of the means of samples of size 10 taken from our population. The Central Limit Theorem tells us the expected mean of this distribution will be equal to the population mean, and standard deviation will be $\\sigma / \\sqrt n$, which, in this case, should be approximately 1.58.",
      "metadata": {
        "cell_id": "00056-d5ae31d5-aa0e-44a2-a168-fb0999bcb3f7",
        "deepnote_cell_type": "markdown"
      }
    },
    {
      "cell_type": "markdown",
      "source": "__Q9:__ Verify the above results from the CLT.",
      "metadata": {
        "cell_id": "00057-be397307-e066-420c-8ec5-4ed4e3cb83b4",
        "deepnote_cell_type": "markdown"
      }
    },
    {
      "cell_type": "markdown",
      "source": "__A:__",
      "metadata": {
        "cell_id": "00058-6a3a8d44-011a-4fc6-9a6d-3bdb6f4394d9",
        "deepnote_cell_type": "markdown"
      }
    },
    {
      "cell_type": "code",
      "metadata": {
        "cell_id": "00059-467b02df-5e6a-40e2-af06-672294f4a32f",
        "deepnote_to_be_reexecuted": false,
        "source_hash": "b7c1898b",
        "execution_millis": 10,
        "execution_start": 1619407799161,
        "deepnote_cell_type": "code"
      },
      "source": "daily_sample_mean.std(ddof=1)",
      "outputs": [
        {
          "output_type": "execute_result",
          "execution_count": 20,
          "data": {
            "text/plain": "1.5778333114768472"
          },
          "metadata": {}
        }
      ],
      "execution_count": null
    },
    {
      "cell_type": "markdown",
      "source": "The result we got is approximatley 1.58.",
      "metadata": {
        "tags": [],
        "cell_id": "00060-d0145053-cffe-4c6a-9a92-533847dcd65f",
        "deepnote_cell_type": "markdown"
      }
    },
    {
      "cell_type": "markdown",
      "source": "Remember, in this instance, we knew our population parameters, that the average height really is 172 cm and the standard deviation is 5 cm, and we see some of our daily estimates of the population mean were as low as around 168 and some as high as 176.",
      "metadata": {
        "cell_id": "00061-6c9871f4-acc4-4d3d-b35b-a6ad53ad8923",
        "deepnote_cell_type": "markdown"
      }
    },
    {
      "cell_type": "markdown",
      "source": "__Q10:__ Repeat the above year's worth of samples but for a sample size of 50 (perhaps you had a bigger budget for conducting surveys that year)! Would you expect your distribution of sample means to be wider (more variable) or narrower (more consistent)? Compare your resultant summary statistics to those predicted by the CLT.",
      "metadata": {
        "cell_id": "00062-87cf7cc6-b619-49d3-94fd-c7bb5317671f",
        "deepnote_cell_type": "markdown"
      }
    },
    {
      "cell_type": "markdown",
      "source": "__A:__",
      "metadata": {
        "cell_id": "00063-19e4583c-9ef9-4e4a-aa5a-e48095871c91",
        "deepnote_cell_type": "markdown"
      }
    },
    {
      "cell_type": "code",
      "metadata": {
        "cell_id": "00064-dd6e8f29-faf7-42e0-ac92-7bd2bc3f9efd",
        "deepnote_to_be_reexecuted": false,
        "source_hash": "7a3ffcc3",
        "execution_millis": 2,
        "execution_start": 1619407803607,
        "deepnote_cell_type": "code"
      },
      "source": "seed(47)\n# calculate daily means from the larger sample size here\nnew_daily_sample_mean = np.array([np.mean(townsfolk_sampler(50)) for i in range(365)])",
      "outputs": [],
      "execution_count": null
    },
    {
      "cell_type": "code",
      "metadata": {
        "cell_id": "00065-36414bfd-0988-4e2a-b635-a9677b867b8d",
        "deepnote_to_be_reexecuted": false,
        "source_hash": "a0856a8",
        "execution_millis": 135,
        "execution_start": 1619407805063,
        "deepnote_cell_type": "code"
      },
      "source": "_ = plt.hist(new_daily_sample_mean, bins = 10)\n_ = plt.xlabel('height (cm)')\n_ = plt.ylabel('# of people')\n_ = plt.title('Distribution')",
      "outputs": [
        {
          "data": {
            "text/plain": "<Figure size 432x288 with 1 Axes>",
            "image/png": "[encoded data removed]"
          },
          "metadata": {
            "needs_background": "light"
          },
          "output_type": "display_data"
        }
      ],
      "execution_count": null
    },
    {
      "cell_type": "code",
      "metadata": {
        "tags": [],
        "cell_id": "00066-b2de64bd-9d3f-4915-b259-080c4eeae7d3",
        "deepnote_to_be_reexecuted": false,
        "source_hash": "fa0b1138",
        "execution_millis": 6,
        "execution_start": 1619407806353,
        "deepnote_cell_type": "code"
      },
      "source": "new_daily_sample_mean.std(ddof=1)",
      "outputs": [
        {
          "output_type": "execute_result",
          "execution_count": 23,
          "data": {
            "text/plain": "0.6745354088447525"
          },
          "metadata": {}
        }
      ],
      "execution_count": null
    },
    {
      "cell_type": "markdown",
      "source": "What we've seen so far, then, is that we can estimate population parameters from a sample from the population, and that samples have their own distributions. Furthermore, the larger the sample size, the narrower are those sampling distributions.",
      "metadata": {
        "cell_id": "00066-bda225ff-8854-4356-ab6a-3884658dc69a",
        "deepnote_cell_type": "markdown"
      }
    },
    {
      "cell_type": "markdown",
      "source": "### Normally testing time!",
      "metadata": {
        "cell_id": "00067-4bbb4bcd-ab9d-41f2-9bc8-49698b89d237",
        "deepnote_cell_type": "markdown"
      }
    },
    {
      "cell_type": "markdown",
      "source": "All of the above is well and good. We've been sampling from a population we know is normally distributed, we've come to understand when to use $n$ and when to use $n-1$ in the denominator to calculate the spread of a distribution, and we've  seen the Central Limit Theorem in action for a sampling distribution. All seems very well behaved in Frequentist land. But, well, why should we really care?",
      "metadata": {
        "cell_id": "00068-3dd9eb05-821d-4995-b440-48ff5ea533b6",
        "deepnote_cell_type": "markdown"
      }
    },
    {
      "cell_type": "markdown",
      "source": "Remember, we rarely (if ever) actually know our population parameters but we still have to estimate them somehow. If we want to make inferences to conclusions like \"this observation is unusual\" or \"my population mean has changed\" then we need to have some idea of what the underlying distribution is so we can calculate relevant probabilities. In frequentist inference, we use the formulae above to deduce these population parameters. Take a moment in the next part of this assignment to refresh your understanding of how these probabilities work.",
      "metadata": {
        "cell_id": "00069-e8e337c5-7a18-4152-925d-5ea24833c804",
        "deepnote_cell_type": "markdown"
      }
    },
    {
      "cell_type": "markdown",
      "source": "Recall some basic properties of the standard normal distribution, such as that about 68% of observations are within plus or minus 1 standard deviation of the mean. Check out the precise definition of a normal distribution on p. 394 of *AoS*. \n\n__Q11:__ Using this fact, calculate the probability of observing the value 1 or less in a single observation from the standard normal distribution. Hint: you may find it helpful to sketch the standard normal distribution (the familiar bell shape) and mark the number of standard deviations from the mean on the x-axis and shade the regions of the curve that contain certain percentages of the population.",
      "metadata": {
        "cell_id": "00070-7dc96721-5f33-41e8-8629-082eb6e490cd",
        "deepnote_cell_type": "markdown"
      }
    },
    {
      "cell_type": "markdown",
      "source": "__A:__",
      "metadata": {
        "cell_id": "00071-9889e489-a5bc-4c2c-96a4-fcd1b64c5ed5",
        "deepnote_cell_type": "markdown"
      }
    },
    {
      "cell_type": "code",
      "metadata": {
        "tags": [],
        "cell_id": "00073-7e38cf48-5297-4529-bcc2-d682ec130f89",
        "deepnote_to_be_reexecuted": false,
        "source_hash": "3c7d9a7",
        "execution_millis": 17,
        "execution_start": 1619407812911,
        "deepnote_cell_type": "code"
      },
      "source": "1 - (1 - 0.674) / 2",
      "outputs": [
        {
          "output_type": "execute_result",
          "execution_count": 24,
          "data": {
            "text/plain": "0.837"
          },
          "metadata": {}
        }
      ],
      "execution_count": null
    },
    {
      "cell_type": "markdown",
      "source": "Calculating this probability involved calculating the area under the curve from the value of 1 and below. To put it in mathematical terms, we need to *integrate* the probability density function. We could just add together the known areas of chunks (from -Inf to 0 and then 0 to $+\\sigma$ in the example above). One way to do this is to look up tables (literally). Fortunately, scipy has this functionality built in with the cdf() function.",
      "metadata": {
        "cell_id": "00072-cd412b9a-a518-4ed0-b7e1-9edfadd13cf0",
        "deepnote_cell_type": "markdown"
      }
    },
    {
      "cell_type": "markdown",
      "source": "__Q12:__ Use the cdf() function to answer the question above again and verify you get the same answer.",
      "metadata": {
        "cell_id": "00073-78684099-2aea-414b-ad9f-e7b4fa196f02",
        "deepnote_cell_type": "markdown"
      }
    },
    {
      "cell_type": "markdown",
      "source": "__A:__",
      "metadata": {
        "cell_id": "00074-1209dc55-1b40-4960-b3c3-efb06b8d77b2",
        "deepnote_cell_type": "markdown"
      }
    },
    {
      "cell_type": "code",
      "metadata": {
        "cell_id": "00075-c582dcf3-e5ea-46be-ab04-90cc44123087",
        "deepnote_to_be_reexecuted": false,
        "source_hash": "c3ba4fdf",
        "execution_millis": 19,
        "execution_start": 1619407818102,
        "deepnote_cell_type": "code"
      },
      "source": "norm.cdf(1)",
      "outputs": [
        {
          "output_type": "execute_result",
          "execution_count": 25,
          "data": {
            "text/plain": "0.8413447460685429"
          },
          "metadata": {}
        }
      ],
      "execution_count": null
    },
    {
      "cell_type": "markdown",
      "source": "__Q13:__ Using our knowledge of the population parameters for our townsfolks' heights, what is the probability of selecting one person at random and their height being 177 cm or less? Calculate this using both of the approaches given above.",
      "metadata": {
        "cell_id": "00076-e36f3b44-45d8-427d-a7b9-993e3b43e757",
        "deepnote_cell_type": "markdown"
      }
    },
    {
      "cell_type": "markdown",
      "source": "__A:__",
      "metadata": {
        "cell_id": "00077-b28d4524-7dca-4ae1-b990-85bb76abc063",
        "deepnote_cell_type": "markdown"
      }
    },
    {
      "cell_type": "code",
      "metadata": {
        "cell_id": "00078-14bf37b5-a225-4186-887b-b48bd8f611ce",
        "deepnote_to_be_reexecuted": false,
        "source_hash": "4e6e6110",
        "execution_millis": 10,
        "execution_start": 1619407820802,
        "deepnote_cell_type": "code"
      },
      "source": "norm(172, 5).cdf(177)",
      "outputs": [
        {
          "output_type": "execute_result",
          "execution_count": 26,
          "data": {
            "text/plain": "0.8413447460685429"
          },
          "metadata": {}
        }
      ],
      "execution_count": null
    },
    {
      "cell_type": "markdown",
      "source": "__Q14:__ Turning this question around — suppose we randomly pick one person and measure their height and find they are 2.00 m tall. How surprised should we be at this result, given what we know about the population distribution? In other words, how likely would it be to obtain a value at least as extreme as this? Express this as a probability. ",
      "metadata": {
        "cell_id": "00079-8f32c150-f62a-4c12-b51c-d0e4d1c36726",
        "deepnote_cell_type": "markdown"
      }
    },
    {
      "cell_type": "markdown",
      "source": "__A:__",
      "metadata": {
        "cell_id": "00080-f35e700e-b7bc-41a2-a260-56067a045b39",
        "deepnote_cell_type": "markdown"
      }
    },
    {
      "cell_type": "code",
      "metadata": {
        "cell_id": "00081-1d215f4e-42bb-4678-bdaf-d92f0e1da825",
        "deepnote_to_be_reexecuted": false,
        "source_hash": "9336486f",
        "execution_millis": 7,
        "execution_start": 1619407823693,
        "deepnote_cell_type": "code"
      },
      "source": "1 - norm(172, 5).cdf(200)",
      "outputs": [
        {
          "output_type": "execute_result",
          "execution_count": 27,
          "data": {
            "text/plain": "1.0717590259723409e-08"
          },
          "metadata": {}
        }
      ],
      "execution_count": null
    },
    {
      "cell_type": "markdown",
      "source": "What we've just done is calculate the ***p-value*** of the observation of someone 2.00m tall (review *p*-values if you need to on p. 399 of *AoS*). We could calculate this probability by virtue of knowing the population parameters. We were then able to use the known properties of the relevant normal distribution to calculate the probability of observing a value at least as extreme as our test value.",
      "metadata": {
        "cell_id": "00082-99faafb9-132b-4649-9381-0753a1e15a13",
        "deepnote_cell_type": "markdown"
      }
    },
    {
      "cell_type": "markdown",
      "source": "We're about to come to a pinch, though. We've said a couple of times that we rarely, if ever, know the true population parameters; we have to estimate them from our sample and we cannot even begin to estimate the standard deviation from a single observation. \n\nThis is very true and usually we have sample sizes larger than one. This means we can calculate the mean of the sample as our best estimate of the population mean and the standard deviation as our best estimate of the population standard deviation. \n\nIn other words, we are now coming to deal with the sampling distributions we mentioned above as we are generally concerned with the properties of the sample means we obtain. \n\nAbove, we highlighted one result from the CLT, whereby the sampling distribution (of the mean) becomes narrower and narrower with the square root of the sample size. We remind ourselves that another result from the CLT is that _even if the underlying population distribution is not normal, the sampling distribution will tend to become normal with sufficiently large sample size_. (**Check out p. 199 of AoS if you need to revise this**). This is the key driver for us 'requiring' a certain sample size, for example you may frequently see a minimum sample size of 30 stated in many places. In reality this is simply a rule of thumb; if the underlying distribution is approximately normal then your sampling distribution will already be pretty normal, but if the underlying distribution is heavily skewed then you'd want to increase your sample size.",
      "metadata": {
        "cell_id": "00083-536011d2-1e6d-423c-9e34-e10459466b77",
        "deepnote_cell_type": "markdown"
      }
    },
    {
      "cell_type": "markdown",
      "source": "__Q15:__ Let's now start from the position of knowing nothing about the heights of people in our town.\n* Use the random seed of 47, to randomly sample the heights of 50 townsfolk\n* Estimate the population mean using np.mean\n* Estimate the population standard deviation using np.std (remember which denominator to use!)\n* Calculate the (95%) [margin of error](https://www.statisticshowto.datasciencecentral.com/probability-and-statistics/hypothesis-testing/margin-of-error/#WhatMofE) (use the exact critial z value to 2 decimal places - [look this up](https://www.statisticshowto.datasciencecentral.com/probability-and-statistics/find-critical-values/) or use norm.ppf()) Recall that the ***margin of error*** is mentioned on p. 189 of the *AoS* and discussed in depth in that chapter). \n* Calculate the 95% Confidence Interval of the mean (***confidence intervals*** are defined on p. 385 of *AoS*) \n* Does this interval include the true population mean?",
      "metadata": {
        "cell_id": "00084-1dd77bfe-7c1e-44fe-910d-488acbf4b70a",
        "deepnote_cell_type": "markdown"
      }
    },
    {
      "cell_type": "markdown",
      "source": "__A:__",
      "metadata": {
        "cell_id": "00085-ea511275-c6b7-4284-8805-7fbe0ff015ea",
        "deepnote_cell_type": "markdown"
      }
    },
    {
      "cell_type": "code",
      "metadata": {
        "cell_id": "00086-b3f97a9e-4851-486c-a576-3b699ab1378e",
        "deepnote_to_be_reexecuted": false,
        "source_hash": "949768c0",
        "execution_millis": 2,
        "execution_start": 1619407828019,
        "deepnote_cell_type": "code"
      },
      "source": "seed(47)\n# take your sample now\nr_samples = townsfolk_sampler(50)",
      "outputs": [],
      "execution_count": null
    },
    {
      "cell_type": "code",
      "metadata": {
        "cell_id": "00087-e4f94f00-be4e-4bf2-9498-62dfc92ed7cc",
        "deepnote_to_be_reexecuted": false,
        "source_hash": "ddeda3",
        "execution_millis": 8,
        "execution_start": 1619407828932,
        "deepnote_cell_type": "code"
      },
      "source": "mean_new = np.mean(r_samples)\nmean_new",
      "outputs": [
        {
          "output_type": "execute_result",
          "execution_count": 29,
          "data": {
            "text/plain": "172.7815108576788"
          },
          "metadata": {}
        }
      ],
      "execution_count": null
    },
    {
      "cell_type": "code",
      "metadata": {
        "cell_id": "00088-138847aa-cf4f-4266-989c-c71665908309",
        "deepnote_to_be_reexecuted": false,
        "source_hash": "221aa356",
        "execution_millis": 5,
        "execution_start": 1619407830028,
        "deepnote_cell_type": "code"
      },
      "source": "std_new = np.std(r_samples)\nstd_new",
      "outputs": [],
      "execution_count": null
    },
    {
      "cell_type": "code",
      "metadata": {
        "cell_id": "00089-205faed1-63b4-4625-b150-383c4ce4d616",
        "deepnote_to_be_reexecuted": false,
        "source_hash": "252d0685",
        "execution_millis": 13,
        "execution_start": 1619407831177,
        "deepnote_cell_type": "code"
      },
      "source": "norm(mean_new, std_new).ppf([0.025, 0.975])",
      "outputs": [
        {
          "output_type": "execute_result",
          "execution_count": 31,
          "data": {
            "text/plain": "array([164.64127432, 180.9217474 ])"
          },
          "metadata": {}
        }
      ],
      "execution_count": null
    },
    {
      "cell_type": "code",
      "metadata": {
        "cell_id": "00090-b34548d3-5e7d-42dc-81ee-6491d225ef51",
        "deepnote_to_be_reexecuted": false,
        "source_hash": "a35bc9e6",
        "execution_millis": 10,
        "execution_start": 1619407831896,
        "deepnote_cell_type": "code"
      },
      "source": "norm(mean_new, std_new/np.sqrt(50)).ppf([0.025, 0.975])",
      "outputs": [
        {
          "output_type": "execute_result",
          "execution_count": 32,
          "data": {
            "text/plain": "array([171.63030757, 173.93271415])"
          },
          "metadata": {}
        }
      ],
      "execution_count": null
    },
    {
      "cell_type": "markdown",
      "source": "__Q16:__ Above, we calculated the confidence interval using the critical z value. What is the problem with this? What requirement, or requirements, are we (strictly) failing?",
      "metadata": {
        "cell_id": "00091-cf420665-9dc7-4de0-889b-ad90b39277b0",
        "deepnote_cell_type": "markdown"
      }
    },
    {
      "cell_type": "markdown",
      "source": "__A:__ There's no population parameters.",
      "metadata": {
        "cell_id": "00092-c1c2b7da-4d41-43ec-a21d-555768023a33",
        "deepnote_cell_type": "markdown"
      }
    },
    {
      "cell_type": "markdown",
      "source": "__Q17:__ Calculate the 95% confidence interval for the mean using the _t_ distribution. Is this wider or narrower than that based on the normal distribution above? If you're unsure, you may find this [resource](https://www.statisticshowto.datasciencecentral.com/probability-and-statistics/confidence-interval/) useful. For calculating the critical value, remember how you could calculate this for the normal distribution using norm.ppf().",
      "metadata": {
        "cell_id": "00093-c437866f-8110-40eb-b86e-1da7c641f56b",
        "deepnote_cell_type": "markdown"
      }
    },
    {
      "cell_type": "markdown",
      "source": "__A:__",
      "metadata": {
        "cell_id": "00094-cc7733ea-20d4-47fd-9f67-f69e0ddd6452",
        "deepnote_cell_type": "markdown"
      }
    },
    {
      "cell_type": "code",
      "metadata": {
        "cell_id": "00095-3ae603fc-9e19-4f68-b8a2-7eadcb010882",
        "deepnote_to_be_reexecuted": false,
        "source_hash": "416671bb",
        "execution_millis": 8,
        "execution_start": 1619407836393,
        "deepnote_cell_type": "code"
      },
      "source": "critical_values = t(49).ppf([0.025, 0.975])\ncritical_values * std_new / np.sqrt(50) + mean_new",
      "outputs": [
        {
          "output_type": "execute_result",
          "execution_count": 33,
          "data": {
            "text/plain": "array([171.60116793, 173.96185378])"
          },
          "metadata": {}
        }
      ],
      "execution_count": null
    },
    {
      "cell_type": "markdown",
      "source": "This is slightly wider than the previous confidence interval. This reflects the greater uncertainty given that we are estimating population parameters from a sample.",
      "metadata": {
        "cell_id": "00098-019084f8-ba57-4a22-a886-5e9a31bfe0ef",
        "deepnote_cell_type": "markdown"
      }
    },
    {
      "cell_type": "markdown",
      "source": "## 4. Learning outcomes",
      "metadata": {
        "cell_id": "00099-b67b9b1b-8a08-404b-a66b-0c7fc73bd019",
        "deepnote_cell_type": "markdown"
      }
    },
    {
      "cell_type": "markdown",
      "source": "Having completed this project notebook, you now have hands-on experience:\n* sampling and calculating probabilities from a normal distribution\n* identifying the correct way to estimate the standard deviation of a population (the population parameter) from a sample\n* with sampling distribution and now know how the Central Limit Theorem applies\n* with how to calculate critical values and confidence intervals",
      "metadata": {
        "cell_id": "00100-e838b556-1201-4ca1-a11f-18179884898e",
        "deepnote_cell_type": "markdown"
      }
    },
    {
      "cell_type": "code",
      "metadata": {
        "cell_id": "00101-d1ae7b10-76b1-414e-8ffd-92b220f3b616",
        "deepnote_cell_type": "code"
      },
      "source": "",
      "execution_count": null,
      "outputs": []
    },
    {
      "cell_type": "markdown",
      "source": "<a style='text-decoration:none;line-height:16px;display:flex;color:#5B5B62;padding:10px;justify-content:end;' href='https://deepnote.com?utm_source=created-in-deepnote-cell&projectId=2264813b-5942-4b81-9822-1f4433a34e31' target=\"_blank\">\n<img alt='Created in deepnote.com' style='display:inline;max-height:16px;margin:0px;margin-right:7.5px;' src='data:image/svg+xml;base64,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' > </img>\nCreated in <span style='font-weight:600;margin-left:4px;'>Deepnote</span></a>",
      "metadata": {
        "tags": [],
        "created_in_deepnote_cell": true,
        "deepnote_cell_type": "markdown"
      }
    }
  ],
  "nbformat": 4,
  "nbformat_minor": 2,
  "metadata": {
    "kernelspec": {
      "display_name": "Python 3",
      "language": "python",
      "name": "python3"
    },
    "language_info": {
      "codemirror_mode": {
        "name": "ipython",
        "version": 3
      },
      "file_extension": ".py",
      "mimetype": "text/x-python",
      "name": "python",
      "nbconvert_exporter": "python",
      "pygments_lexer": "ipython3",
      "version": "3.7.3"
    },
    "deepnote_notebook_id": "22e237e3-ba06-4d08-9476-20ee20d9b148",
    "deepnote": {},
    "deepnote_execution_queue": []
  }
}