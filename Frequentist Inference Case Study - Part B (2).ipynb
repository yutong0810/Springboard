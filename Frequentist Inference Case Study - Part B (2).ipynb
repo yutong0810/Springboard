{
  "cells": [
    {
      "cell_type": "markdown",
      "source": "# Frequentist Inference Case Study - Part B",
      "metadata": {
        "cell_id": "00000-c7a034f6-523e-416f-bcc6-e6b07ece9234",
        "deepnote_cell_type": "markdown"
      }
    },
    {
      "cell_type": "markdown",
      "source": "## Learning objectives",
      "metadata": {
        "cell_id": "00001-0d9d5629-c9f9-49ab-bfbe-6289a31d9b4a",
        "deepnote_cell_type": "markdown"
      }
    },
    {
      "cell_type": "markdown",
      "source": "Welcome to Part B of the Frequentist inference case study! The purpose of this case study is to help you apply the concepts associated with Frequentist inference in Python. In particular, you'll practice writing Python code to apply the following statistical concepts: \n* the _z_-statistic\n* the _t_-statistic\n* the difference and relationship between the two\n* the Central Limit Theorem, including its assumptions and consequences\n* how to estimate the population mean and standard deviation from a sample\n* the concept of a sampling distribution of a test statistic, particularly for the mean\n* how to combine these concepts to calculate a confidence interval",
      "metadata": {
        "cell_id": "00002-4be0cf66-1353-4753-b1ab-e8c26886d3d3",
        "deepnote_cell_type": "markdown"
      }
    },
    {
      "cell_type": "markdown",
      "source": "In the previous notebook, we used only data from a known normal distribution. **You'll now tackle real data, rather than simulated data, and answer some relevant real-world business problems using the data.**",
      "metadata": {
        "cell_id": "00003-b31b2c1d-2ce1-4b1b-bb28-929524007654",
        "deepnote_cell_type": "markdown"
      }
    },
    {
      "cell_type": "markdown",
      "source": "## Hospital medical charges",
      "metadata": {
        "cell_id": "00004-4f811384-b3d5-471e-a7e0-36d26753f2d7",
        "deepnote_cell_type": "markdown"
      }
    },
    {
      "cell_type": "markdown",
      "source": "Imagine that a hospital has hired you as their data scientist. An administrator is working on the hospital's business operations plan and needs you to help them answer some business questions. \n\nIn this assignment notebook, you're going to use frequentist statistical inference on a data sample to answer the questions:\n* has the hospital's revenue stream fallen below a key threshold?\n* are patients with insurance really charged different amounts than those without?\n\nAnswering that last question with a frequentist approach makes some assumptions, and requires some knowledge, about the two groups.",
      "metadata": {
        "cell_id": "00005-4732c20c-b3b5-4c9c-9db1-30041a2b855f",
        "deepnote_cell_type": "markdown"
      }
    },
    {
      "cell_type": "markdown",
      "source": "We are going to use some data on medical charges obtained from [Kaggle](https://www.kaggle.com/easonlai/sample-insurance-claim-prediction-dataset). \n\nFor the purposes of this exercise, assume the observations are the result of random sampling from our single hospital. Recall that in the previous assignment, we introduced the Central Limit Theorem (CLT), and its consequence that the distributions of sample statistics approach a normal distribution as $n$ increases. The amazing thing about this is that it applies to the sampling distributions of statistics that have been calculated from even highly non-normal distributions of data! Recall, also, that hypothesis testing is very much based on making inferences about such sample statistics. You're going to rely heavily on the CLT to apply frequentist (parametric) tests to answer the questions in this notebook.",
      "metadata": {
        "cell_id": "00006-1e582701-7dff-4899-b9ec-58707ee44217",
        "deepnote_cell_type": "markdown"
      }
    },
    {
      "cell_type": "code",
      "metadata": {
        "cell_id": "00007-d649dcec-5d5c-43aa-a36a-cf9301369555",
        "deepnote_to_be_reexecuted": false,
        "source_hash": "3374fa36",
        "execution_millis": 1054,
        "execution_start": 1619451247177,
        "deepnote_cell_type": "code"
      },
      "source": "import pandas as pd\nimport numpy as np\nimport matplotlib.pyplot as plt\nfrom scipy.stats import t\nfrom numpy.random import seed\nmedical = pd.read_csv('insurance2.csv')",
      "execution_count": 1,
      "outputs": []
    },
    {
      "cell_type": "code",
      "metadata": {
        "cell_id": "00008-ba553a39-1db2-4db4-b582-9d539d97bb43",
        "deepnote_to_be_reexecuted": false,
        "source_hash": "ebd16ea9",
        "execution_millis": 7,
        "execution_start": 1619451248236,
        "deepnote_cell_type": "code"
      },
      "source": "medical.shape",
      "execution_count": 2,
      "outputs": [
        {
          "output_type": "execute_result",
          "execution_count": 2,
          "data": {
            "text/plain": "(1338, 8)"
          },
          "metadata": {}
        }
      ]
    },
    {
      "cell_type": "code",
      "metadata": {
        "cell_id": "00009-162b2f96-9ca6-4a96-ac48-83b614d7b858",
        "deepnote_to_be_reexecuted": false,
        "source_hash": "d4bb1ca1",
        "execution_millis": 34,
        "execution_start": 1619451248241,
        "deepnote_cell_type": "code"
      },
      "source": "medical.head()",
      "execution_count": 3,
      "outputs": [
        {
          "output_type": "execute_result",
          "execution_count": 3,
          "data": {
            "application/vnd.deepnote.dataframe.v2+json": {
              "row_count": 5,
              "column_count": 8,
              "columns": [
                {
                  "name": "age",
                  "dtype": "int64",
                  "stats": {
                    "unique_count": 5,
                    "nan_count": 0,
                    "min": "18",
                    "max": "33",
                    "histogram": [
                      {
                        "bin_start": 18,
                        "bin_end": 19.5,
                        "count": 2
                      },
                      {
                        "bin_start": 19.5,
                        "bin_end": 21,
                        "count": 0
                      },
                      {
                        "bin_start": 21,
                        "bin_end": 22.5,
                        "count": 0
                      },
                      {
                        "bin_start": 22.5,
                        "bin_end": 24,
                        "count": 0
                      },
                      {
                        "bin_start": 24,
                        "bin_end": 25.5,
                        "count": 0
                      },
                      {
                        "bin_start": 25.5,
                        "bin_end": 27,
                        "count": 0
                      },
                      {
                        "bin_start": 27,
                        "bin_end": 28.5,
                        "count": 1
                      },
                      {
                        "bin_start": 28.5,
                        "bin_end": 30,
                        "count": 0
                      },
                      {
                        "bin_start": 30,
                        "bin_end": 31.5,
                        "count": 0
                      },
                      {
                        "bin_start": 31.5,
                        "bin_end": 33,
                        "count": 2
                      }
                    ]
                  }
                },
                {
                  "name": "sex",
                  "dtype": "int64",
                  "stats": {
                    "unique_count": 2,
                    "nan_count": 0,
                    "min": "0",
                    "max": "1",
                    "histogram": [
                      {
                        "bin_start": 0,
                        "bin_end": 0.1,
                        "count": 1
                      },
                      {
                        "bin_start": 0.1,
                        "bin_end": 0.2,
                        "count": 0
                      },
                      {
                        "bin_start": 0.2,
                        "bin_end": 0.30000000000000004,
                        "count": 0
                      },
                      {
                        "bin_start": 0.30000000000000004,
                        "bin_end": 0.4,
                        "count": 0
                      },
                      {
                        "bin_start": 0.4,
                        "bin_end": 0.5,
                        "count": 0
                      },
                      {
                        "bin_start": 0.5,
                        "bin_end": 0.6000000000000001,
                        "count": 0
                      },
                      {
                        "bin_start": 0.6000000000000001,
                        "bin_end": 0.7000000000000001,
                        "count": 0
                      },
                      {
                        "bin_start": 0.7000000000000001,
                        "bin_end": 0.8,
                        "count": 0
                      },
                      {
                        "bin_start": 0.8,
                        "bin_end": 0.9,
                        "count": 0
                      },
                      {
                        "bin_start": 0.9,
                        "bin_end": 1,
                        "count": 4
                      }
                    ]
                  }
                },
                {
                  "name": "bmi",
                  "dtype": "float64",
                  "stats": {
                    "unique_count": 5,
                    "nan_count": 0,
                    "min": "22.705",
                    "max": "33.77",
                    "histogram": [
                      {
                        "bin_start": 22.705,
                        "bin_end": 23.8115,
                        "count": 1
                      },
                      {
                        "bin_start": 23.8115,
                        "bin_end": 24.918,
                        "count": 0
                      },
                      {
                        "bin_start": 24.918,
                        "bin_end": 26.0245,
                        "count": 0
                      },
                      {
                        "bin_start": 26.0245,
                        "bin_end": 27.131,
                        "count": 0
                      },
                      {
                        "bin_start": 27.131,
                        "bin_end": 28.2375,
                        "count": 1
                      },
                      {
                        "bin_start": 28.2375,
                        "bin_end": 29.344,
                        "count": 1
                      },
                      {
                        "bin_start": 29.344,
                        "bin_end": 30.4505,
                        "count": 0
                      },
                      {
                        "bin_start": 30.4505,
                        "bin_end": 31.557000000000002,
                        "count": 0
                      },
                      {
                        "bin_start": 31.557000000000002,
                        "bin_end": 32.6635,
                        "count": 0
                      },
                      {
                        "bin_start": 32.6635,
                        "bin_end": 33.77,
                        "count": 2
                      }
                    ]
                  }
                },
                {
                  "name": "children",
                  "dtype": "int64",
                  "stats": {
                    "unique_count": 3,
                    "nan_count": 0,
                    "min": "0",
                    "max": "3",
                    "histogram": [
                      {
                        "bin_start": 0,
                        "bin_end": 0.3,
                        "count": 3
                      },
                      {
                        "bin_start": 0.3,
                        "bin_end": 0.6,
                        "count": 0
                      },
                      {
                        "bin_start": 0.6,
                        "bin_end": 0.8999999999999999,
                        "count": 0
                      },
                      {
                        "bin_start": 0.8999999999999999,
                        "bin_end": 1.2,
                        "count": 1
                      },
                      {
                        "bin_start": 1.2,
                        "bin_end": 1.5,
                        "count": 0
                      },
                      {
                        "bin_start": 1.5,
                        "bin_end": 1.7999999999999998,
                        "count": 0
                      },
                      {
                        "bin_start": 1.7999999999999998,
                        "bin_end": 2.1,
                        "count": 0
                      },
                      {
                        "bin_start": 2.1,
                        "bin_end": 2.4,
                        "count": 0
                      },
                      {
                        "bin_start": 2.4,
                        "bin_end": 2.6999999999999997,
                        "count": 0
                      },
                      {
                        "bin_start": 2.6999999999999997,
                        "bin_end": 3,
                        "count": 1
                      }
                    ]
                  }
                },
                {
                  "name": "smoker",
                  "dtype": "int64",
                  "stats": {
                    "unique_count": 2,
                    "nan_count": 0,
                    "min": "0",
                    "max": "1",
                    "histogram": [
                      {
                        "bin_start": 0,
                        "bin_end": 0.1,
                        "count": 4
                      },
                      {
                        "bin_start": 0.1,
                        "bin_end": 0.2,
                        "count": 0
                      },
                      {
                        "bin_start": 0.2,
                        "bin_end": 0.30000000000000004,
                        "count": 0
                      },
                      {
                        "bin_start": 0.30000000000000004,
                        "bin_end": 0.4,
                        "count": 0
                      },
                      {
                        "bin_start": 0.4,
                        "bin_end": 0.5,
                        "count": 0
                      },
                      {
                        "bin_start": 0.5,
                        "bin_end": 0.6000000000000001,
                        "count": 0
                      },
                      {
                        "bin_start": 0.6000000000000001,
                        "bin_end": 0.7000000000000001,
                        "count": 0
                      },
                      {
                        "bin_start": 0.7000000000000001,
                        "bin_end": 0.8,
                        "count": 0
                      },
                      {
                        "bin_start": 0.8,
                        "bin_end": 0.9,
                        "count": 0
                      },
                      {
                        "bin_start": 0.9,
                        "bin_end": 1,
                        "count": 1
                      }
                    ]
                  }
                },
                {
                  "name": "region",
                  "dtype": "int64",
                  "stats": {
                    "unique_count": 3,
                    "nan_count": 0,
                    "min": "1",
                    "max": "3",
                    "histogram": [
                      {
                        "bin_start": 1,
                        "bin_end": 1.2,
                        "count": 2
                      },
                      {
                        "bin_start": 1.2,
                        "bin_end": 1.4,
                        "count": 0
                      },
                      {
                        "bin_start": 1.4,
                        "bin_end": 1.6,
                        "count": 0
                      },
                      {
                        "bin_start": 1.6,
                        "bin_end": 1.8,
                        "count": 0
                      },
                      {
                        "bin_start": 1.8,
                        "bin_end": 2,
                        "count": 0
                      },
                      {
                        "bin_start": 2,
                        "bin_end": 2.2,
                        "count": 2
                      },
                      {
                        "bin_start": 2.2,
                        "bin_end": 2.4000000000000004,
                        "count": 0
                      },
                      {
                        "bin_start": 2.4000000000000004,
                        "bin_end": 2.6,
                        "count": 0
                      },
                      {
                        "bin_start": 2.6,
                        "bin_end": 2.8,
                        "count": 0
                      },
                      {
                        "bin_start": 2.8,
                        "bin_end": 3,
                        "count": 1
                      }
                    ]
                  }
                },
                {
                  "name": "charges",
                  "dtype": "float64",
                  "stats": {
                    "unique_count": 5,
                    "nan_count": 0,
                    "min": "1725.5523",
                    "max": "21984.47061",
                    "histogram": [
                      {
                        "bin_start": 1725.5523,
                        "bin_end": 3751.444131,
                        "count": 1
                      },
                      {
                        "bin_start": 3751.444131,
                        "bin_end": 5777.335962,
                        "count": 2
                      },
                      {
                        "bin_start": 5777.335962,
                        "bin_end": 7803.227793000001,
                        "count": 0
                      },
                      {
                        "bin_start": 7803.227793000001,
                        "bin_end": 9829.119624,
                        "count": 0
                      },
                      {
                        "bin_start": 9829.119624,
                        "bin_end": 11855.011455,
                        "count": 0
                      },
                      {
                        "bin_start": 11855.011455,
                        "bin_end": 13880.903286,
                        "count": 0
                      },
                      {
                        "bin_start": 13880.903286,
                        "bin_end": 15906.795117,
                        "count": 0
                      },
                      {
                        "bin_start": 15906.795117,
                        "bin_end": 17932.686948000002,
                        "count": 1
                      },
                      {
                        "bin_start": 17932.686948000002,
                        "bin_end": 19958.578779,
                        "count": 0
                      },
                      {
                        "bin_start": 19958.578779,
                        "bin_end": 21984.47061,
                        "count": 1
                      }
                    ]
                  }
                },
                {
                  "name": "insuranceclaim",
                  "dtype": "int64",
                  "stats": {
                    "unique_count": 2,
                    "nan_count": 0,
                    "min": "0",
                    "max": "1",
                    "histogram": [
                      {
                        "bin_start": 0,
                        "bin_end": 0.1,
                        "count": 2
                      },
                      {
                        "bin_start": 0.1,
                        "bin_end": 0.2,
                        "count": 0
                      },
                      {
                        "bin_start": 0.2,
                        "bin_end": 0.30000000000000004,
                        "count": 0
                      },
                      {
                        "bin_start": 0.30000000000000004,
                        "bin_end": 0.4,
                        "count": 0
                      },
                      {
                        "bin_start": 0.4,
                        "bin_end": 0.5,
                        "count": 0
                      },
                      {
                        "bin_start": 0.5,
                        "bin_end": 0.6000000000000001,
                        "count": 0
                      },
                      {
                        "bin_start": 0.6000000000000001,
                        "bin_end": 0.7000000000000001,
                        "count": 0
                      },
                      {
                        "bin_start": 0.7000000000000001,
                        "bin_end": 0.8,
                        "count": 0
                      },
                      {
                        "bin_start": 0.8,
                        "bin_end": 0.9,
                        "count": 0
                      },
                      {
                        "bin_start": 0.9,
                        "bin_end": 1,
                        "count": 3
                      }
                    ]
                  }
                },
                {
                  "name": "_deepnote_index_column",
                  "dtype": "int64"
                }
              ],
              "rows_top": [
                {
                  "age": 19,
                  "sex": 0,
                  "bmi": 27.9,
                  "children": 0,
                  "smoker": 1,
                  "region": 3,
                  "charges": 16884.924,
                  "insuranceclaim": 1,
                  "_deepnote_index_column": 0
                },
                {
                  "age": 18,
                  "sex": 1,
                  "bmi": 33.77,
                  "children": 1,
                  "smoker": 0,
                  "region": 2,
                  "charges": 1725.5523,
                  "insuranceclaim": 1,
                  "_deepnote_index_column": 1
                },
                {
                  "age": 28,
                  "sex": 1,
                  "bmi": 33,
                  "children": 3,
                  "smoker": 0,
                  "region": 2,
                  "charges": 4449.462,
                  "insuranceclaim": 0,
                  "_deepnote_index_column": 2
                },
                {
                  "age": 33,
                  "sex": 1,
                  "bmi": 22.705,
                  "children": 0,
                  "smoker": 0,
                  "region": 1,
                  "charges": 21984.47061,
                  "insuranceclaim": 0,
                  "_deepnote_index_column": 3
                },
                {
                  "age": 32,
                  "sex": 1,
                  "bmi": 28.88,
                  "children": 0,
                  "smoker": 0,
                  "region": 1,
                  "charges": 3866.8552,
                  "insuranceclaim": 1,
                  "_deepnote_index_column": 4
                }
              ],
              "rows_bottom": null
            },
            "text/plain": "   age  sex     bmi  children  smoker  region      charges  insuranceclaim\n0   19    0  27.900         0       1       3  16884.92400               1\n1   18    1  33.770         1       0       2   1725.55230               1\n2   28    1  33.000         3       0       2   4449.46200               0\n3   33    1  22.705         0       0       1  21984.47061               0\n4   32    1  28.880         0       0       1   3866.85520               1",
            "text/html": "<div>\n<style scoped>\n    .dataframe tbody tr th:only-of-type {\n        vertical-align: middle;\n    }\n\n    .dataframe tbody tr th {\n        vertical-align: top;\n    }\n\n    .dataframe thead th {\n        text-align: right;\n    }\n</style>\n<table border=\"1\" class=\"dataframe\">\n  <thead>\n    <tr style=\"text-align: right;\">\n      <th></th>\n      <th>age</th>\n      <th>sex</th>\n      <th>bmi</th>\n      <th>children</th>\n      <th>smoker</th>\n      <th>region</th>\n      <th>charges</th>\n      <th>insuranceclaim</th>\n    </tr>\n  </thead>\n  <tbody>\n    <tr>\n      <th>0</th>\n      <td>19</td>\n      <td>0</td>\n      <td>27.900</td>\n      <td>0</td>\n      <td>1</td>\n      <td>3</td>\n      <td>16884.92400</td>\n      <td>1</td>\n    </tr>\n    <tr>\n      <th>1</th>\n      <td>18</td>\n      <td>1</td>\n      <td>33.770</td>\n      <td>1</td>\n      <td>0</td>\n      <td>2</td>\n      <td>1725.55230</td>\n      <td>1</td>\n    </tr>\n    <tr>\n      <th>2</th>\n      <td>28</td>\n      <td>1</td>\n      <td>33.000</td>\n      <td>3</td>\n      <td>0</td>\n      <td>2</td>\n      <td>4449.46200</td>\n      <td>0</td>\n    </tr>\n    <tr>\n      <th>3</th>\n      <td>33</td>\n      <td>1</td>\n      <td>22.705</td>\n      <td>0</td>\n      <td>0</td>\n      <td>1</td>\n      <td>21984.47061</td>\n      <td>0</td>\n    </tr>\n    <tr>\n      <th>4</th>\n      <td>32</td>\n      <td>1</td>\n      <td>28.880</td>\n      <td>0</td>\n      <td>0</td>\n      <td>1</td>\n      <td>3866.85520</td>\n      <td>1</td>\n    </tr>\n  </tbody>\n</table>\n</div>"
          },
          "metadata": {}
        }
      ]
    },
    {
      "cell_type": "markdown",
      "source": "__Q1:__ Plot the histogram of charges and calculate the mean and standard deviation. Comment on the appropriateness of these statistics for the data.",
      "metadata": {
        "cell_id": "00010-83677b6e-7547-4580-aecd-f96e95dc4baf",
        "deepnote_cell_type": "markdown"
      }
    },
    {
      "cell_type": "markdown",
      "source": "__A:__",
      "metadata": {
        "cell_id": "00011-00bb5d86-31e7-45b8-b337-54b395ea66f7",
        "deepnote_cell_type": "markdown"
      }
    },
    {
      "cell_type": "code",
      "metadata": {
        "cell_id": "00012-e9909abb-1d83-4c7d-b3ca-40c966c07cb7",
        "deepnote_to_be_reexecuted": false,
        "source_hash": "6a6c2e5f",
        "execution_millis": 177,
        "execution_start": 1619451248271,
        "deepnote_cell_type": "code"
      },
      "source": "medical.hist(column='charges')",
      "execution_count": 4,
      "outputs": [
        {
          "output_type": "execute_result",
          "execution_count": 4,
          "data": {
            "text/plain": "array([[<AxesSubplot:title={'center':'charges'}>]], dtype=object)"
          },
          "metadata": {}
        },
        {
          "data": {
            "text/plain": "<Figure size 432x288 with 1 Axes>",
            "image/png": "[encoded data removed]"
          },
          "metadata": {
            "needs_background": "light"
          },
          "output_type": "display_data"
        }
      ]
    },
    {
      "cell_type": "code",
      "metadata": {
        "cell_id": "00013-2e263413-3f26-496f-8b96-6beaa3f07e5e",
        "deepnote_to_be_reexecuted": false,
        "source_hash": "ff5f131e",
        "execution_millis": 20,
        "execution_start": 1619451248444,
        "deepnote_cell_type": "code"
      },
      "source": "charges = medical['charges'].tolist()\ncharges_mean = np.mean(charges)\ncharges_std = np.std(charges)\nprint('The mean is ', charges_mean, ' the std is ', charges_std)",
      "execution_count": 5,
      "outputs": [
        {
          "name": "stdout",
          "text": "The mean is  13270.422265141257  the std is  12105.484975561612\n",
          "output_type": "stream"
        }
      ]
    },
    {
      "cell_type": "markdown",
      "source": "__Q2:__ The administrator is concerned that the actual average charge has fallen below 12,000, threatening the hospital's operational model. On the assumption that these data represent a random sample of charges, how would you justify that these data allow you to answer that question? And what would be the most appropriate frequentist test, of the ones discussed so far, to apply?",
      "metadata": {
        "cell_id": "00014-6f3ffe23-4300-47ce-b594-d98a7f66c9cc",
        "deepnote_cell_type": "markdown"
      }
    },
    {
      "cell_type": "markdown",
      "source": "__A:__ ",
      "metadata": {
        "cell_id": "00015-bfaa0dc7-4309-489d-b002-1d9d20c735c3",
        "deepnote_cell_type": "markdown"
      }
    },
    {
      "cell_type": "markdown",
      "source": "##### The most appropirate frequentist test is one sided confidence interval.",
      "metadata": {
        "tags": [],
        "cell_id": "00016-b1adc943-9248-4203-9ec3-2a58348c2b6c",
        "deepnote_cell_type": "markdown"
      }
    },
    {
      "cell_type": "markdown",
      "source": "__Q3:__ Given the nature of the administrator's concern, what is the appropriate confidence interval in this case? A ***one-sided*** or ***two-sided*** interval? (Refresh your understanding of this concept on p. 399 of the *AoS*). Calculate the critical value and the relevant 95% confidence interval for the mean, and comment on whether the administrator should be concerned.",
      "metadata": {
        "cell_id": "00016-0f8662b3-f809-404d-b948-242aa9cfea46",
        "deepnote_cell_type": "markdown"
      }
    },
    {
      "cell_type": "markdown",
      "source": "__A:__",
      "metadata": {
        "cell_id": "00017-5b536a2f-762f-4544-b975-66af7f931dc4",
        "deepnote_cell_type": "markdown"
      }
    },
    {
      "cell_type": "markdown",
      "source": "##### Since the concern involves a question with a < to test on, one sided interval should be used instead od two sided.",
      "metadata": {
        "tags": [],
        "cell_id": "00019-c6516f90-0415-4cac-9d9b-9bdf44c15aa2",
        "deepnote_cell_type": "markdown"
      }
    },
    {
      "cell_type": "code",
      "metadata": {
        "cell_id": "00018-d5e50028-3378-485a-b3d4-69b7c09bb335",
        "deepnote_to_be_reexecuted": false,
        "source_hash": "3aa077ca",
        "execution_millis": 5,
        "execution_start": 1619451315523,
        "deepnote_cell_type": "code"
      },
      "source": "n = medical['charges'].count()\nt_critical = t.ppf(0.95, n-1)\nt_critical",
      "execution_count": 8,
      "outputs": [
        {
          "output_type": "execute_result",
          "execution_count": 8,
          "data": {
            "text/plain": "1.6459941145571317"
          },
          "metadata": {}
        }
      ]
    },
    {
      "cell_type": "code",
      "metadata": {
        "cell_id": "00019-542f286b-8bc6-4e9f-8ebd-423b330b0221",
        "deepnote_to_be_reexecuted": false,
        "source_hash": "eea5f4ae",
        "execution_millis": 7,
        "execution_start": 1619451316394,
        "deepnote_cell_type": "code"
      },
      "source": "error = t_critical * (charges_std/np.sqrt(n))\nerror",
      "execution_count": 9,
      "outputs": [
        {
          "output_type": "execute_result",
          "execution_count": 9,
          "data": {
            "text/plain": "544.7314053390938"
          },
          "metadata": {}
        }
      ]
    },
    {
      "cell_type": "code",
      "metadata": {
        "cell_id": "00020-96bd0ee9-5d51-4c04-a282-ae8e5af09aba",
        "deepnote_to_be_reexecuted": false,
        "source_hash": "559556cf",
        "execution_millis": 16,
        "execution_start": 1619451324127,
        "deepnote_cell_type": "code"
      },
      "source": "confidence_interval = (charges_mean - error)\nconfidence_interval",
      "execution_count": 11,
      "outputs": [
        {
          "output_type": "execute_result",
          "execution_count": 11,
          "data": {
            "text/plain": "12725.690859802162"
          },
          "metadata": {}
        }
      ]
    },
    {
      "cell_type": "markdown",
      "source": "##### The administrator should not be concerned since 95% cases will have a mean that is above 12000.",
      "metadata": {
        "tags": [],
        "cell_id": "00023-0697b8ed-2b05-487b-ab6f-85295b4fbd90",
        "deepnote_cell_type": "markdown"
      }
    },
    {
      "cell_type": "markdown",
      "source": "The administrator then wants to know whether people with insurance really are charged a different amount to those without.\n\n__Q4:__ State the null and alternative hypothesis here. Use the _t_-test for the difference between means, where the pooled standard deviation of the two groups is given by:\n\\begin{equation}\ns_p = \\sqrt{\\frac{(n_0 - 1)s^2_0 + (n_1 - 1)s^2_1}{n_0 + n_1 - 2}}\n\\end{equation}\n\nand the *t*-test statistic is then given by:\n\n\\begin{equation}\nt = \\frac{\\bar{x}_0 - \\bar{x}_1}{s_p \\sqrt{1/n_0 + 1/n_1}}.\n\\end{equation}\n\n(If you need some reminding of the general definition of ***t-statistic***, check out the definition on p. 404 of *AoS*). \n\nWhat assumption about the variances of the two groups are we making here?",
      "metadata": {
        "cell_id": "00021-8f0f0170-4c5d-4cca-84de-49f780ddb060",
        "deepnote_cell_type": "markdown"
      }
    },
    {
      "cell_type": "markdown",
      "source": "__A:__",
      "metadata": {
        "cell_id": "00022-e8dac321-3f96-48f3-bfeb-6e909362214e",
        "deepnote_cell_type": "markdown"
      }
    },
    {
      "cell_type": "markdown",
      "source": "##### The null hypothesis is that there's no difference between the amount charged to insured people and uninsured people.",
      "metadata": {
        "tags": [],
        "cell_id": "00026-146622f0-cfbf-4b8b-bcb9-9034d8bce15d",
        "deepnote_cell_type": "markdown"
      }
    },
    {
      "cell_type": "markdown",
      "source": "__Q5:__ Perform this hypothesis test both manually, using the above formulae, and then using the appropriate function from [scipy.stats](https://docs.scipy.org/doc/scipy/reference/stats.html#statistical-tests) (hint, you're looking for a function to perform a _t_-test on two independent samples). For the manual approach, calculate the value of the test statistic and then its probability (the p-value). Verify you get the same results from both.",
      "metadata": {
        "cell_id": "00023-ae80c6fe-b1e3-4ffd-ad6c-bf0d1c593db2",
        "deepnote_cell_type": "markdown"
      }
    },
    {
      "cell_type": "markdown",
      "source": "__A:__ ",
      "metadata": {
        "cell_id": "00024-082d58e6-2da0-44fa-9e07-e626a9d39346",
        "deepnote_cell_type": "markdown"
      }
    },
    {
      "cell_type": "code",
      "metadata": {
        "cell_id": "00025-d0eb439e-c1ef-4d76-8234-dee6fd89636f",
        "deepnote_to_be_reexecuted": false,
        "source_hash": "c5fd16a0",
        "execution_millis": 3,
        "execution_start": 1619452099266,
        "deepnote_cell_type": "code"
      },
      "source": "n_0 = medical[medical['insuranceclaim'] == 0]['charges'].count()\nn_1 = medical[medical['insuranceclaim'] == 1]['charges'].count()",
      "execution_count": 17,
      "outputs": []
    },
    {
      "cell_type": "code",
      "metadata": {
        "cell_id": "00026-cec51824-1200-4c56-ab60-480506e22d14",
        "deepnote_to_be_reexecuted": false,
        "source_hash": "82d08d36",
        "execution_millis": 0,
        "execution_start": 1619452185579,
        "deepnote_cell_type": "code"
      },
      "source": "s_0 = medical[medical['insuranceclaim'] == 0]['charges'].std()\ns_1 = medical[medical['insuranceclaim'] == 1]['charges'].std()",
      "execution_count": 20,
      "outputs": []
    },
    {
      "cell_type": "code",
      "metadata": {
        "cell_id": "00027-e4f7e7c5-d93e-45bd-bcd8-e0a3b383542a",
        "deepnote_to_be_reexecuted": false,
        "source_hash": "ea813851",
        "execution_start": 1619452217602,
        "execution_millis": 6,
        "deepnote_cell_type": "code"
      },
      "source": "s_p = np.sqrt(((n_0 -1) * s_0 **2 + (n_1 - 1) * s_1 ** 2)/(n_0 + n_1 - 2))\ns_p",
      "execution_count": 21,
      "outputs": [
        {
          "output_type": "execute_result",
          "execution_count": 21,
          "data": {
            "text/plain": "11520.034268775262"
          },
          "metadata": {}
        }
      ]
    },
    {
      "cell_type": "code",
      "metadata": {
        "cell_id": "00028-9d5945e8-c978-458d-aa5c-a71d04a98613",
        "deepnote_to_be_reexecuted": false,
        "source_hash": "39c0b3a5",
        "execution_start": 1619452323245,
        "execution_millis": 3,
        "deepnote_cell_type": "code"
      },
      "source": "insured_mean = medical[medical['insuranceclaim'] == 1]['charges'].mean()\nuninsured_mean = medical[medical['insuranceclaim'] == 0]['charges'].mean()",
      "execution_count": 22,
      "outputs": []
    },
    {
      "cell_type": "code",
      "source": "t = (uninsured_mean - insured_mean)/(s_p * np.sqrt((1/n_0) + (1/n_1)))\nt",
      "metadata": {
        "tags": [],
        "cell_id": "00034-620c925e-228c-4aad-828b-b3d4fddb0665",
        "deepnote_to_be_reexecuted": false,
        "source_hash": "8c3e9e1c",
        "execution_start": 1619452365708,
        "execution_millis": 26,
        "deepnote_cell_type": "code"
      },
      "outputs": [
        {
          "output_type": "execute_result",
          "execution_count": 23,
          "data": {
            "text/plain": "-11.89329903087671"
          },
          "metadata": {}
        }
      ],
      "execution_count": 23
    },
    {
      "cell_type": "code",
      "source": "from scipy.stats import ttest_ind_from_stats\nx, y = ttest_ind_from_stats(uninsured_mean, s_0, n_0, insured_mean, s_1, n_1)\nprint(x, y)",
      "metadata": {
        "tags": [],
        "cell_id": "00035-7fa4b975-ae55-4fdf-a9d4-263fc99f7cc6",
        "deepnote_to_be_reexecuted": false,
        "source_hash": "b7f7fc94",
        "execution_millis": 7,
        "execution_start": 1619452518858,
        "deepnote_cell_type": "code"
      },
      "outputs": [
        {
          "name": "stdout",
          "text": "-11.893299030876712 4.461230231620717e-31\n",
          "output_type": "stream"
        }
      ],
      "execution_count": 26
    },
    {
      "cell_type": "markdown",
      "source": "Congratulations! Hopefully you got the exact same numerical results. This shows that you correctly calculated the numbers by hand. Secondly, you used the correct function and saw that it's much easier to use. All you need to do is pass your data to it.",
      "metadata": {
        "cell_id": "00029-3cc8c9c2-b768-414a-9638-c8c28a158399",
        "deepnote_cell_type": "markdown"
      }
    },
    {
      "cell_type": "markdown",
      "source": "__Q6:__ Conceptual question: look through the documentation for statistical test functions in scipy.stats. You'll see the above _t_-test for a sample, but can you see an equivalent one for performing a *z*-test from a sample? Comment on your answer.",
      "metadata": {
        "cell_id": "00030-28620486-570d-49a8-971f-88eb543ec10e",
        "deepnote_cell_type": "markdown"
      }
    },
    {
      "cell_type": "markdown",
      "source": "__A:__",
      "metadata": {
        "cell_id": "00031-41d7d6e8-b78f-4816-acb8-19fd2d73c13d",
        "deepnote_cell_type": "markdown"
      }
    },
    {
      "cell_type": "markdown",
      "source": "## Learning outcomes",
      "metadata": {
        "cell_id": "00032-2635814d-6c03-4963-b629-5393b85456b1",
        "deepnote_cell_type": "markdown"
      }
    },
    {
      "cell_type": "markdown",
      "source": "Having completed this project notebook, you now have good hands-on experience:\n* using the central limit theorem to help you apply frequentist techniques to answer questions that pertain to very non-normally distributed data from the real world\n* performing inference using such data to answer business questions\n* forming a hypothesis and framing the null and alternative hypotheses\n* testing this using a _t_-test",
      "metadata": {
        "cell_id": "00033-0dd149c7-07ff-410b-b8d2-0cb15ebfde00",
        "deepnote_cell_type": "markdown"
      }
    },
    {
      "cell_type": "markdown",
      "source": "<a style='text-decoration:none;line-height:16px;display:flex;color:#5B5B62;padding:10px;justify-content:end;' href='https://deepnote.com?utm_source=created-in-deepnote-cell&projectId=2264813b-5942-4b81-9822-1f4433a34e31' target=\"_blank\">\n<img alt='Created in deepnote.com' style='display:inline;max-height:16px;margin:0px;margin-right:7.5px;' src='data:image/svg+xml;base64,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' > </img>\nCreated in <span style='font-weight:600;margin-left:4px;'>Deepnote</span></a>",
      "metadata": {
        "tags": [],
        "created_in_deepnote_cell": true,
        "deepnote_cell_type": "markdown"
      }
    }
  ],
  "nbformat": 4,
  "nbformat_minor": 2,
  "metadata": {
    "kernelspec": {
      "display_name": "Python 3",
      "language": "python",
      "name": "python3"
    },
    "language_info": {
      "codemirror_mode": {
        "name": "ipython",
        "version": 3
      },
      "file_extension": ".py",
      "mimetype": "text/x-python",
      "name": "python",
      "nbconvert_exporter": "python",
      "pygments_lexer": "ipython3",
      "version": "3.7.3"
    },
    "deepnote_notebook_id": "9adf907c-9029-4325-83c4-cf065e0ebd6f",
    "deepnote": {},
    "deepnote_execution_queue": []
  }
}