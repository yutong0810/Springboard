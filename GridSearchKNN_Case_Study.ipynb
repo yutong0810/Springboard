{
 "cells": [
  {
   "cell_type": "markdown",
   "source": "## Grid Search Hyperparameter optimization",
   "metadata": {
    "cell_id": "00000-a011f7c9-0d41-42fd-9767-75a5138d72ba",
    "deepnote_cell_type": "markdown"
   }
  },
  {
   "cell_type": "markdown",
   "source": "This case study is all about using grid searches to identify the optimal parameters for a machine learning algorithm. To complere this case study, you'll use the Pima Indian diabetes dataset from Kaggle and KNN. Follow along with the preprocessing steps of this case study.",
   "metadata": {
    "cell_id": "00001-eed5e8b5-1e24-4dde-9a99-472323c07ed4",
    "deepnote_cell_type": "markdown"
   }
  },
  {
   "cell_type": "markdown",
   "source": "Load the necessary packages",
   "metadata": {
    "tags": [],
    "cell_id": "00002-4cc2c250-b4b2-498f-ab0c-b6ee594225a4",
    "deepnote_cell_type": "markdown"
   }
  },
  {
   "cell_type": "code",
   "metadata": {
    "cell_id": "00003-92727537-1921-419f-b30c-69eafe416738",
    "deepnote_to_be_reexecuted": false,
    "source_hash": "ae851bc5",
    "execution_start": 1624657503908,
    "execution_millis": 1143,
    "deepnote_cell_type": "code"
   },
   "source": "import numpy as np\nimport pandas as pd\nimport matplotlib.pyplot as plt\nimport seaborn as sns\nsns.set()\n\n# set random seed to try make this exercise and solutions reproducible (NB: this is just for teaching purpose and not something you would do in real life)\nrandom_seed_number = 42\nnp.random.seed(random_seed_number)",
   "execution_count": 1,
   "outputs": []
  },
  {
   "cell_type": "markdown",
   "source": "#### Load the diabetes data",
   "metadata": {
    "tags": [],
    "cell_id": "00004-485b15ea-8a69-4bf7-890f-968b8ffd260b",
    "deepnote_cell_type": "markdown"
   }
  },
  {
   "cell_type": "code",
   "metadata": {
    "cell_id": "00005-d859814a-c85e-49ce-9a0f-7206135b5b0f",
    "deepnote_to_be_reexecuted": false,
    "source_hash": "963ca9b1",
    "execution_start": 1624657505053,
    "execution_millis": 40,
    "deepnote_cell_type": "code"
   },
   "source": "diabetes_data = pd.read_csv('data/diabetes.csv')\ndiabetes_data.head()",
   "execution_count": 2,
   "outputs": [
    {
     "output_type": "execute_result",
     "execution_count": 2,
     "data": {
      "application/vnd.deepnote.dataframe.v2+json": {
       "row_count": 5,
       "column_count": 9,
       "columns": [
        {
         "name": "Pregnancies",
         "dtype": "int64",
         "stats": {
          "unique_count": 4,
          "nan_count": 0,
          "min": "0",
          "max": "8",
          "histogram": [
           {
            "bin_start": 0,
            "bin_end": 0.8,
            "count": 1
           },
           {
            "bin_start": 0.8,
            "bin_end": 1.6,
            "count": 2
           },
           {
            "bin_start": 1.6,
            "bin_end": 2.4000000000000004,
            "count": 0
           },
           {
            "bin_start": 2.4000000000000004,
            "bin_end": 3.2,
            "count": 0
           },
           {
            "bin_start": 3.2,
            "bin_end": 4,
            "count": 0
           },
           {
            "bin_start": 4,
            "bin_end": 4.800000000000001,
            "count": 0
           },
           {
            "bin_start": 4.800000000000001,
            "bin_end": 5.6000000000000005,
            "count": 0
           },
           {
            "bin_start": 5.6000000000000005,
            "bin_end": 6.4,
            "count": 1
           },
           {
            "bin_start": 6.4,
            "bin_end": 7.2,
            "count": 0
           },
           {
            "bin_start": 7.2,
            "bin_end": 8,
            "count": 1
           }
          ]
         }
        },
        {
         "name": "Glucose",
         "dtype": "int64",
         "stats": {
          "unique_count": 5,
          "nan_count": 0,
          "min": "85",
          "max": "183",
          "histogram": [
           {
            "bin_start": 85,
            "bin_end": 94.8,
            "count": 2
           },
           {
            "bin_start": 94.8,
            "bin_end": 104.6,
            "count": 0
           },
           {
            "bin_start": 104.6,
            "bin_end": 114.4,
            "count": 0
           },
           {
            "bin_start": 114.4,
            "bin_end": 124.2,
            "count": 0
           },
           {
            "bin_start": 124.2,
            "bin_end": 134,
            "count": 0
           },
           {
            "bin_start": 134,
            "bin_end": 143.8,
            "count": 1
           },
           {
            "bin_start": 143.8,
            "bin_end": 153.60000000000002,
            "count": 1
           },
           {
            "bin_start": 153.60000000000002,
            "bin_end": 163.4,
            "count": 0
           },
           {
            "bin_start": 163.4,
            "bin_end": 173.2,
            "count": 0
           },
           {
            "bin_start": 173.2,
            "bin_end": 183,
            "count": 1
           }
          ]
         }
        },
        {
         "name": "BloodPressure",
         "dtype": "int64",
         "stats": {
          "unique_count": 4,
          "nan_count": 0,
          "min": "40",
          "max": "72",
          "histogram": [
           {
            "bin_start": 40,
            "bin_end": 43.2,
            "count": 1
           },
           {
            "bin_start": 43.2,
            "bin_end": 46.4,
            "count": 0
           },
           {
            "bin_start": 46.4,
            "bin_end": 49.6,
            "count": 0
           },
           {
            "bin_start": 49.6,
            "bin_end": 52.8,
            "count": 0
           },
           {
            "bin_start": 52.8,
            "bin_end": 56,
            "count": 0
           },
           {
            "bin_start": 56,
            "bin_end": 59.2,
            "count": 0
           },
           {
            "bin_start": 59.2,
            "bin_end": 62.400000000000006,
            "count": 0
           },
           {
            "bin_start": 62.400000000000006,
            "bin_end": 65.6,
            "count": 1
           },
           {
            "bin_start": 65.6,
            "bin_end": 68.8,
            "count": 2
           },
           {
            "bin_start": 68.8,
            "bin_end": 72,
            "count": 1
           }
          ]
         }
        },
        {
         "name": "SkinThickness",
         "dtype": "int64",
         "stats": {
          "unique_count": 4,
          "nan_count": 0,
          "min": "0",
          "max": "35",
          "histogram": [
           {
            "bin_start": 0,
            "bin_end": 3.5,
            "count": 1
           },
           {
            "bin_start": 3.5,
            "bin_end": 7,
            "count": 0
           },
           {
            "bin_start": 7,
            "bin_end": 10.5,
            "count": 0
           },
           {
            "bin_start": 10.5,
            "bin_end": 14,
            "count": 0
           },
           {
            "bin_start": 14,
            "bin_end": 17.5,
            "count": 0
           },
           {
            "bin_start": 17.5,
            "bin_end": 21,
            "count": 0
           },
           {
            "bin_start": 21,
            "bin_end": 24.5,
            "count": 1
           },
           {
            "bin_start": 24.5,
            "bin_end": 28,
            "count": 0
           },
           {
            "bin_start": 28,
            "bin_end": 31.5,
            "count": 1
           },
           {
            "bin_start": 31.5,
            "bin_end": 35,
            "count": 2
           }
          ]
         }
        },
        {
         "name": "Insulin",
         "dtype": "int64",
         "stats": {
          "unique_count": 3,
          "nan_count": 0,
          "min": "0",
          "max": "168",
          "histogram": [
           {
            "bin_start": 0,
            "bin_end": 16.8,
            "count": 3
           },
           {
            "bin_start": 16.8,
            "bin_end": 33.6,
            "count": 0
           },
           {
            "bin_start": 33.6,
            "bin_end": 50.400000000000006,
            "count": 0
           },
           {
            "bin_start": 50.400000000000006,
            "bin_end": 67.2,
            "count": 0
           },
           {
            "bin_start": 67.2,
            "bin_end": 84,
            "count": 0
           },
           {
            "bin_start": 84,
            "bin_end": 100.80000000000001,
            "count": 1
           },
           {
            "bin_start": 100.80000000000001,
            "bin_end": 117.60000000000001,
            "count": 0
           },
           {
            "bin_start": 117.60000000000001,
            "bin_end": 134.4,
            "count": 0
           },
           {
            "bin_start": 134.4,
            "bin_end": 151.20000000000002,
            "count": 0
           },
           {
            "bin_start": 151.20000000000002,
            "bin_end": 168,
            "count": 1
           }
          ]
         }
        },
        {
         "name": "BMI",
         "dtype": "float64",
         "stats": {
          "unique_count": 5,
          "nan_count": 0,
          "min": "23.3",
          "max": "43.1",
          "histogram": [
           {
            "bin_start": 23.3,
            "bin_end": 25.28,
            "count": 1
           },
           {
            "bin_start": 25.28,
            "bin_end": 27.26,
            "count": 1
           },
           {
            "bin_start": 27.26,
            "bin_end": 29.240000000000002,
            "count": 1
           },
           {
            "bin_start": 29.240000000000002,
            "bin_end": 31.22,
            "count": 0
           },
           {
            "bin_start": 31.22,
            "bin_end": 33.2,
            "count": 0
           },
           {
            "bin_start": 33.2,
            "bin_end": 35.18,
            "count": 1
           },
           {
            "bin_start": 35.18,
            "bin_end": 37.16,
            "count": 0
           },
           {
            "bin_start": 37.16,
            "bin_end": 39.14,
            "count": 0
           },
           {
            "bin_start": 39.14,
            "bin_end": 41.120000000000005,
            "count": 0
           },
           {
            "bin_start": 41.120000000000005,
            "bin_end": 43.1,
            "count": 1
           }
          ]
         }
        },
        {
         "name": "DiabetesPedigreeFunction",
         "dtype": "float64",
         "stats": {
          "unique_count": 5,
          "nan_count": 0,
          "min": "0.167",
          "max": "2.288",
          "histogram": [
           {
            "bin_start": 0.167,
            "bin_end": 0.3791,
            "count": 2
           },
           {
            "bin_start": 0.3791,
            "bin_end": 0.5912000000000001,
            "count": 0
           },
           {
            "bin_start": 0.5912000000000001,
            "bin_end": 0.8033000000000001,
            "count": 2
           },
           {
            "bin_start": 0.8033000000000001,
            "bin_end": 1.0154,
            "count": 0
           },
           {
            "bin_start": 1.0154,
            "bin_end": 1.2275,
            "count": 0
           },
           {
            "bin_start": 1.2275,
            "bin_end": 1.4396000000000002,
            "count": 0
           },
           {
            "bin_start": 1.4396000000000002,
            "bin_end": 1.6517000000000002,
            "count": 0
           },
           {
            "bin_start": 1.6517000000000002,
            "bin_end": 1.8638000000000001,
            "count": 0
           },
           {
            "bin_start": 1.8638000000000001,
            "bin_end": 2.0759,
            "count": 0
           },
           {
            "bin_start": 2.0759,
            "bin_end": 2.288,
            "count": 1
           }
          ]
         }
        },
        {
         "name": "Age",
         "dtype": "int64",
         "stats": {
          "unique_count": 5,
          "nan_count": 0,
          "min": "21",
          "max": "50",
          "histogram": [
           {
            "bin_start": 21,
            "bin_end": 23.9,
            "count": 1
           },
           {
            "bin_start": 23.9,
            "bin_end": 26.8,
            "count": 0
           },
           {
            "bin_start": 26.8,
            "bin_end": 29.7,
            "count": 0
           },
           {
            "bin_start": 29.7,
            "bin_end": 32.6,
            "count": 2
           },
           {
            "bin_start": 32.6,
            "bin_end": 35.5,
            "count": 1
           },
           {
            "bin_start": 35.5,
            "bin_end": 38.4,
            "count": 0
           },
           {
            "bin_start": 38.4,
            "bin_end": 41.3,
            "count": 0
           },
           {
            "bin_start": 41.3,
            "bin_end": 44.2,
            "count": 0
           },
           {
            "bin_start": 44.2,
            "bin_end": 47.099999999999994,
            "count": 0
           },
           {
            "bin_start": 47.099999999999994,
            "bin_end": 50,
            "count": 1
           }
          ]
         }
        },
        {
         "name": "Outcome",
         "dtype": "int64",
         "stats": {
          "unique_count": 2,
          "nan_count": 0,
          "min": "0",
          "max": "1",
          "histogram": [
           {
            "bin_start": 0,
            "bin_end": 0.1,
            "count": 2
           },
           {
            "bin_start": 0.1,
            "bin_end": 0.2,
            "count": 0
           },
           {
            "bin_start": 0.2,
            "bin_end": 0.30000000000000004,
            "count": 0
           },
           {
            "bin_start": 0.30000000000000004,
            "bin_end": 0.4,
            "count": 0
           },
           {
            "bin_start": 0.4,
            "bin_end": 0.5,
            "count": 0
           },
           {
            "bin_start": 0.5,
            "bin_end": 0.6000000000000001,
            "count": 0
           },
           {
            "bin_start": 0.6000000000000001,
            "bin_end": 0.7000000000000001,
            "count": 0
           },
           {
            "bin_start": 0.7000000000000001,
            "bin_end": 0.8,
            "count": 0
           },
           {
            "bin_start": 0.8,
            "bin_end": 0.9,
            "count": 0
           },
           {
            "bin_start": 0.9,
            "bin_end": 1,
            "count": 3
           }
          ]
         }
        },
        {
         "name": "_deepnote_index_column",
         "dtype": "int64"
        }
       ],
       "rows_top": [
        {
         "Pregnancies": 6,
         "Glucose": 148,
         "BloodPressure": 72,
         "SkinThickness": 35,
         "Insulin": 0,
         "BMI": 33.6,
         "DiabetesPedigreeFunction": 0.627,
         "Age": 50,
         "Outcome": 1,
         "_deepnote_index_column": 0
        },
        {
         "Pregnancies": 1,
         "Glucose": 85,
         "BloodPressure": 66,
         "SkinThickness": 29,
         "Insulin": 0,
         "BMI": 26.6,
         "DiabetesPedigreeFunction": 0.351,
         "Age": 31,
         "Outcome": 0,
         "_deepnote_index_column": 1
        },
        {
         "Pregnancies": 8,
         "Glucose": 183,
         "BloodPressure": 64,
         "SkinThickness": 0,
         "Insulin": 0,
         "BMI": 23.3,
         "DiabetesPedigreeFunction": 0.672,
         "Age": 32,
         "Outcome": 1,
         "_deepnote_index_column": 2
        },
        {
         "Pregnancies": 1,
         "Glucose": 89,
         "BloodPressure": 66,
         "SkinThickness": 23,
         "Insulin": 94,
         "BMI": 28.1,
         "DiabetesPedigreeFunction": 0.167,
         "Age": 21,
         "Outcome": 0,
         "_deepnote_index_column": 3
        },
        {
         "Pregnancies": 0,
         "Glucose": 137,
         "BloodPressure": 40,
         "SkinThickness": 35,
         "Insulin": 168,
         "BMI": 43.1,
         "DiabetesPedigreeFunction": 2.288,
         "Age": 33,
         "Outcome": 1,
         "_deepnote_index_column": 4
        }
       ],
       "rows_bottom": null
      },
      "text/plain": "   Pregnancies  Glucose  BloodPressure  SkinThickness  Insulin   BMI  \\\n0            6      148             72             35        0  33.6   \n1            1       85             66             29        0  26.6   \n2            8      183             64              0        0  23.3   \n3            1       89             66             23       94  28.1   \n4            0      137             40             35      168  43.1   \n\n   DiabetesPedigreeFunction  Age  Outcome  \n0                     0.627   50        1  \n1                     0.351   31        0  \n2                     0.672   32        1  \n3                     0.167   21        0  \n4                     2.288   33        1  ",
      "text/html": "<div>\n<style scoped>\n    .dataframe tbody tr th:only-of-type {\n        vertical-align: middle;\n    }\n\n    .dataframe tbody tr th {\n        vertical-align: top;\n    }\n\n    .dataframe thead th {\n        text-align: right;\n    }\n</style>\n<table border=\"1\" class=\"dataframe\">\n  <thead>\n    <tr style=\"text-align: right;\">\n      <th></th>\n      <th>Pregnancies</th>\n      <th>Glucose</th>\n      <th>BloodPressure</th>\n      <th>SkinThickness</th>\n      <th>Insulin</th>\n      <th>BMI</th>\n      <th>DiabetesPedigreeFunction</th>\n      <th>Age</th>\n      <th>Outcome</th>\n    </tr>\n  </thead>\n  <tbody>\n    <tr>\n      <th>0</th>\n      <td>6</td>\n      <td>148</td>\n      <td>72</td>\n      <td>35</td>\n      <td>0</td>\n      <td>33.6</td>\n      <td>0.627</td>\n      <td>50</td>\n      <td>1</td>\n    </tr>\n    <tr>\n      <th>1</th>\n      <td>1</td>\n      <td>85</td>\n      <td>66</td>\n      <td>29</td>\n      <td>0</td>\n      <td>26.6</td>\n      <td>0.351</td>\n      <td>31</td>\n      <td>0</td>\n    </tr>\n    <tr>\n      <th>2</th>\n      <td>8</td>\n      <td>183</td>\n      <td>64</td>\n      <td>0</td>\n      <td>0</td>\n      <td>23.3</td>\n      <td>0.672</td>\n      <td>32</td>\n      <td>1</td>\n    </tr>\n    <tr>\n      <th>3</th>\n      <td>1</td>\n      <td>89</td>\n      <td>66</td>\n      <td>23</td>\n      <td>94</td>\n      <td>28.1</td>\n      <td>0.167</td>\n      <td>21</td>\n      <td>0</td>\n    </tr>\n    <tr>\n      <th>4</th>\n      <td>0</td>\n      <td>137</td>\n      <td>40</td>\n      <td>35</td>\n      <td>168</td>\n      <td>43.1</td>\n      <td>2.288</td>\n      <td>33</td>\n      <td>1</td>\n    </tr>\n  </tbody>\n</table>\n</div>"
     },
     "metadata": {}
    }
   ]
  },
  {
   "cell_type": "markdown",
   "source": "**<font color='teal'> Start by reviewing the data info.</font>**",
   "metadata": {
    "tags": [],
    "cell_id": "00006-6583117b-1170-4c4e-bd3e-2d19498ec028",
    "deepnote_cell_type": "markdown"
   }
  },
  {
   "cell_type": "code",
   "metadata": {
    "cell_id": "00007-dc43e9e5-19c4-47bf-a7d7-b483622eb5a2",
    "deepnote_to_be_reexecuted": false,
    "source_hash": "63adc49f",
    "execution_start": 1624657505097,
    "execution_millis": 9,
    "deepnote_cell_type": "code"
   },
   "source": "diabetes_data.info",
   "execution_count": 3,
   "outputs": [
    {
     "output_type": "execute_result",
     "execution_count": 3,
     "data": {
      "text/plain": "<bound method DataFrame.info of      Pregnancies  Glucose  BloodPressure  SkinThickness  Insulin   BMI  \\\n0              6      148             72             35        0  33.6   \n1              1       85             66             29        0  26.6   \n2              8      183             64              0        0  23.3   \n3              1       89             66             23       94  28.1   \n4              0      137             40             35      168  43.1   \n..           ...      ...            ...            ...      ...   ...   \n763           10      101             76             48      180  32.9   \n764            2      122             70             27        0  36.8   \n765            5      121             72             23      112  26.2   \n766            1      126             60              0        0  30.1   \n767            1       93             70             31        0  30.4   \n\n     DiabetesPedigreeFunction  Age  Outcome  \n0                       0.627   50        1  \n1                       0.351   31        0  \n2                       0.672   32        1  \n3                       0.167   21        0  \n4                       2.288   33        1  \n..                        ...  ...      ...  \n763                     0.171   63        0  \n764                     0.340   27        0  \n765                     0.245   30        0  \n766                     0.349   47        1  \n767                     0.315   23        0  \n\n[768 rows x 9 columns]>"
     },
     "metadata": {}
    }
   ]
  },
  {
   "cell_type": "markdown",
   "source": "**<font color='teal'> Apply the describe function to the data.</font>**",
   "metadata": {
    "tags": [],
    "cell_id": "00008-34709729-8a6c-40d4-aa0b-a82069ecf6ba",
    "deepnote_cell_type": "markdown"
   }
  },
  {
   "cell_type": "code",
   "metadata": {
    "cell_id": "00009-58bced1f-0472-407e-949f-0c86b1b3c7b7",
    "deepnote_to_be_reexecuted": false,
    "source_hash": "ab723140",
    "execution_start": 1624657505103,
    "execution_millis": 55,
    "deepnote_cell_type": "code"
   },
   "source": "diabetes_data.describe()",
   "execution_count": 4,
   "outputs": [
    {
     "output_type": "execute_result",
     "execution_count": 4,
     "data": {
      "application/vnd.deepnote.dataframe.v2+json": {
       "row_count": 8,
       "column_count": 9,
       "columns": [
        {
         "name": "Pregnancies",
         "dtype": "float64",
         "stats": {
          "unique_count": 8,
          "nan_count": 0,
          "min": "0.0",
          "max": "768.0",
          "histogram": [
           {
            "bin_start": 0,
            "bin_end": 76.8,
            "count": 7
           },
           {
            "bin_start": 76.8,
            "bin_end": 153.6,
            "count": 0
           },
           {
            "bin_start": 153.6,
            "bin_end": 230.39999999999998,
            "count": 0
           },
           {
            "bin_start": 230.39999999999998,
            "bin_end": 307.2,
            "count": 0
           },
           {
            "bin_start": 307.2,
            "bin_end": 384,
            "count": 0
           },
           {
            "bin_start": 384,
            "bin_end": 460.79999999999995,
            "count": 0
           },
           {
            "bin_start": 460.79999999999995,
            "bin_end": 537.6,
            "count": 0
           },
           {
            "bin_start": 537.6,
            "bin_end": 614.4,
            "count": 0
           },
           {
            "bin_start": 614.4,
            "bin_end": 691.1999999999999,
            "count": 0
           },
           {
            "bin_start": 691.1999999999999,
            "bin_end": 768,
            "count": 1
           }
          ]
         }
        },
        {
         "name": "Glucose",
         "dtype": "float64",
         "stats": {
          "unique_count": 8,
          "nan_count": 0,
          "min": "0.0",
          "max": "768.0",
          "histogram": [
           {
            "bin_start": 0,
            "bin_end": 76.8,
            "count": 2
           },
           {
            "bin_start": 76.8,
            "bin_end": 153.6,
            "count": 4
           },
           {
            "bin_start": 153.6,
            "bin_end": 230.39999999999998,
            "count": 1
           },
           {
            "bin_start": 230.39999999999998,
            "bin_end": 307.2,
            "count": 0
           },
           {
            "bin_start": 307.2,
            "bin_end": 384,
            "count": 0
           },
           {
            "bin_start": 384,
            "bin_end": 460.79999999999995,
            "count": 0
           },
           {
            "bin_start": 460.79999999999995,
            "bin_end": 537.6,
            "count": 0
           },
           {
            "bin_start": 537.6,
            "bin_end": 614.4,
            "count": 0
           },
           {
            "bin_start": 614.4,
            "bin_end": 691.1999999999999,
            "count": 0
           },
           {
            "bin_start": 691.1999999999999,
            "bin_end": 768,
            "count": 1
           }
          ]
         }
        },
        {
         "name": "BloodPressure",
         "dtype": "float64",
         "stats": {
          "unique_count": 8,
          "nan_count": 0,
          "min": "0.0",
          "max": "768.0",
          "histogram": [
           {
            "bin_start": 0,
            "bin_end": 76.8,
            "count": 5
           },
           {
            "bin_start": 76.8,
            "bin_end": 153.6,
            "count": 2
           },
           {
            "bin_start": 153.6,
            "bin_end": 230.39999999999998,
            "count": 0
           },
           {
            "bin_start": 230.39999999999998,
            "bin_end": 307.2,
            "count": 0
           },
           {
            "bin_start": 307.2,
            "bin_end": 384,
            "count": 0
           },
           {
            "bin_start": 384,
            "bin_end": 460.79999999999995,
            "count": 0
           },
           {
            "bin_start": 460.79999999999995,
            "bin_end": 537.6,
            "count": 0
           },
           {
            "bin_start": 537.6,
            "bin_end": 614.4,
            "count": 0
           },
           {
            "bin_start": 614.4,
            "bin_end": 691.1999999999999,
            "count": 0
           },
           {
            "bin_start": 691.1999999999999,
            "bin_end": 768,
            "count": 1
           }
          ]
         }
        },
        {
         "name": "SkinThickness",
         "dtype": "float64",
         "stats": {
          "unique_count": 7,
          "nan_count": 0,
          "min": "0.0",
          "max": "768.0",
          "histogram": [
           {
            "bin_start": 0,
            "bin_end": 76.8,
            "count": 6
           },
           {
            "bin_start": 76.8,
            "bin_end": 153.6,
            "count": 1
           },
           {
            "bin_start": 153.6,
            "bin_end": 230.39999999999998,
            "count": 0
           },
           {
            "bin_start": 230.39999999999998,
            "bin_end": 307.2,
            "count": 0
           },
           {
            "bin_start": 307.2,
            "bin_end": 384,
            "count": 0
           },
           {
            "bin_start": 384,
            "bin_end": 460.79999999999995,
            "count": 0
           },
           {
            "bin_start": 460.79999999999995,
            "bin_end": 537.6,
            "count": 0
           },
           {
            "bin_start": 537.6,
            "bin_end": 614.4,
            "count": 0
           },
           {
            "bin_start": 614.4,
            "bin_end": 691.1999999999999,
            "count": 0
           },
           {
            "bin_start": 691.1999999999999,
            "bin_end": 768,
            "count": 1
           }
          ]
         }
        },
        {
         "name": "Insulin",
         "dtype": "float64",
         "stats": {
          "unique_count": 7,
          "nan_count": 0,
          "min": "0.0",
          "max": "846.0",
          "histogram": [
           {
            "bin_start": 0,
            "bin_end": 84.6,
            "count": 4
           },
           {
            "bin_start": 84.6,
            "bin_end": 169.2,
            "count": 2
           },
           {
            "bin_start": 169.2,
            "bin_end": 253.79999999999998,
            "count": 0
           },
           {
            "bin_start": 253.79999999999998,
            "bin_end": 338.4,
            "count": 0
           },
           {
            "bin_start": 338.4,
            "bin_end": 423,
            "count": 0
           },
           {
            "bin_start": 423,
            "bin_end": 507.59999999999997,
            "count": 0
           },
           {
            "bin_start": 507.59999999999997,
            "bin_end": 592.1999999999999,
            "count": 0
           },
           {
            "bin_start": 592.1999999999999,
            "bin_end": 676.8,
            "count": 0
           },
           {
            "bin_start": 676.8,
            "bin_end": 761.4,
            "count": 0
           },
           {
            "bin_start": 761.4,
            "bin_end": 846,
            "count": 2
           }
          ]
         }
        },
        {
         "name": "BMI",
         "dtype": "float64",
         "stats": {
          "unique_count": 8,
          "nan_count": 0,
          "min": "0.0",
          "max": "768.0",
          "histogram": [
           {
            "bin_start": 0,
            "bin_end": 76.8,
            "count": 7
           },
           {
            "bin_start": 76.8,
            "bin_end": 153.6,
            "count": 0
           },
           {
            "bin_start": 153.6,
            "bin_end": 230.39999999999998,
            "count": 0
           },
           {
            "bin_start": 230.39999999999998,
            "bin_end": 307.2,
            "count": 0
           },
           {
            "bin_start": 307.2,
            "bin_end": 384,
            "count": 0
           },
           {
            "bin_start": 384,
            "bin_end": 460.79999999999995,
            "count": 0
           },
           {
            "bin_start": 460.79999999999995,
            "bin_end": 537.6,
            "count": 0
           },
           {
            "bin_start": 537.6,
            "bin_end": 614.4,
            "count": 0
           },
           {
            "bin_start": 614.4,
            "bin_end": 691.1999999999999,
            "count": 0
           },
           {
            "bin_start": 691.1999999999999,
            "bin_end": 768,
            "count": 1
           }
          ]
         }
        },
        {
         "name": "DiabetesPedigreeFunction",
         "dtype": "float64",
         "stats": {
          "unique_count": 8,
          "nan_count": 0,
          "min": "0.078",
          "max": "768.0",
          "histogram": [
           {
            "bin_start": 0.078,
            "bin_end": 76.87020000000001,
            "count": 7
           },
           {
            "bin_start": 76.87020000000001,
            "bin_end": 153.66240000000002,
            "count": 0
           },
           {
            "bin_start": 153.66240000000002,
            "bin_end": 230.45460000000003,
            "count": 0
           },
           {
            "bin_start": 230.45460000000003,
            "bin_end": 307.2468,
            "count": 0
           },
           {
            "bin_start": 307.2468,
            "bin_end": 384.039,
            "count": 0
           },
           {
            "bin_start": 384.039,
            "bin_end": 460.8312,
            "count": 0
           },
           {
            "bin_start": 460.8312,
            "bin_end": 537.6234000000001,
            "count": 0
           },
           {
            "bin_start": 537.6234000000001,
            "bin_end": 614.4156,
            "count": 0
           },
           {
            "bin_start": 614.4156,
            "bin_end": 691.2078,
            "count": 0
           },
           {
            "bin_start": 691.2078,
            "bin_end": 768,
            "count": 1
           }
          ]
         }
        },
        {
         "name": "Age",
         "dtype": "float64",
         "stats": {
          "unique_count": 8,
          "nan_count": 0,
          "min": "11.760231540678685",
          "max": "768.0",
          "histogram": [
           {
            "bin_start": 11.760231540678685,
            "bin_end": 87.38420838661082,
            "count": 7
           },
           {
            "bin_start": 87.38420838661082,
            "bin_end": 163.00818523254296,
            "count": 0
           },
           {
            "bin_start": 163.00818523254296,
            "bin_end": 238.6321620784751,
            "count": 0
           },
           {
            "bin_start": 238.6321620784751,
            "bin_end": 314.2561389244072,
            "count": 0
           },
           {
            "bin_start": 314.2561389244072,
            "bin_end": 389.88011577033933,
            "count": 0
           },
           {
            "bin_start": 389.88011577033933,
            "bin_end": 465.50409261627146,
            "count": 0
           },
           {
            "bin_start": 465.50409261627146,
            "bin_end": 541.1280694622036,
            "count": 0
           },
           {
            "bin_start": 541.1280694622036,
            "bin_end": 616.7520463081357,
            "count": 0
           },
           {
            "bin_start": 616.7520463081357,
            "bin_end": 692.3760231540679,
            "count": 0
           },
           {
            "bin_start": 692.3760231540679,
            "bin_end": 768,
            "count": 1
           }
          ]
         }
        },
        {
         "name": "Outcome",
         "dtype": "float64",
         "stats": {
          "unique_count": 5,
          "nan_count": 0,
          "min": "0.0",
          "max": "768.0",
          "histogram": [
           {
            "bin_start": 0,
            "bin_end": 76.8,
            "count": 7
           },
           {
            "bin_start": 76.8,
            "bin_end": 153.6,
            "count": 0
           },
           {
            "bin_start": 153.6,
            "bin_end": 230.39999999999998,
            "count": 0
           },
           {
            "bin_start": 230.39999999999998,
            "bin_end": 307.2,
            "count": 0
           },
           {
            "bin_start": 307.2,
            "bin_end": 384,
            "count": 0
           },
           {
            "bin_start": 384,
            "bin_end": 460.79999999999995,
            "count": 0
           },
           {
            "bin_start": 460.79999999999995,
            "bin_end": 537.6,
            "count": 0
           },
           {
            "bin_start": 537.6,
            "bin_end": 614.4,
            "count": 0
           },
           {
            "bin_start": 614.4,
            "bin_end": 691.1999999999999,
            "count": 0
           },
           {
            "bin_start": 691.1999999999999,
            "bin_end": 768,
            "count": 1
           }
          ]
         }
        },
        {
         "name": "_deepnote_index_column",
         "dtype": "object"
        }
       ],
       "rows_top": [
        {
         "Pregnancies": 768,
         "Glucose": 768,
         "BloodPressure": 768,
         "SkinThickness": 768,
         "Insulin": 768,
         "BMI": 768,
         "DiabetesPedigreeFunction": 768,
         "Age": 768,
         "Outcome": 768,
         "_deepnote_index_column": "count"
        },
        {
         "Pregnancies": 3.8450520833333335,
         "Glucose": 120.89453125,
         "BloodPressure": 69.10546875,
         "SkinThickness": 20.536458333333332,
         "Insulin": 79.79947916666667,
         "BMI": 31.992578124999998,
         "DiabetesPedigreeFunction": 0.47187630208333325,
         "Age": 33.240885416666664,
         "Outcome": 0.3489583333333333,
         "_deepnote_index_column": "mean"
        },
        {
         "Pregnancies": 3.3695780626988694,
         "Glucose": 31.97261819513622,
         "BloodPressure": 19.355807170644777,
         "SkinThickness": 15.952217567727637,
         "Insulin": 115.24400235133817,
         "BMI": 7.884160320375446,
         "DiabetesPedigreeFunction": 0.3313285950127749,
         "Age": 11.760231540678685,
         "Outcome": 0.47695137724279896,
         "_deepnote_index_column": "std"
        },
        {
         "Pregnancies": 0,
         "Glucose": 0,
         "BloodPressure": 0,
         "SkinThickness": 0,
         "Insulin": 0,
         "BMI": 0,
         "DiabetesPedigreeFunction": 0.078,
         "Age": 21,
         "Outcome": 0,
         "_deepnote_index_column": "min"
        },
        {
         "Pregnancies": 1,
         "Glucose": 99,
         "BloodPressure": 62,
         "SkinThickness": 0,
         "Insulin": 0,
         "BMI": 27.3,
         "DiabetesPedigreeFunction": 0.24375,
         "Age": 24,
         "Outcome": 0,
         "_deepnote_index_column": "25%"
        },
        {
         "Pregnancies": 3,
         "Glucose": 117,
         "BloodPressure": 72,
         "SkinThickness": 23,
         "Insulin": 30.5,
         "BMI": 32,
         "DiabetesPedigreeFunction": 0.3725,
         "Age": 29,
         "Outcome": 0,
         "_deepnote_index_column": "50%"
        },
        {
         "Pregnancies": 6,
         "Glucose": 140.25,
         "BloodPressure": 80,
         "SkinThickness": 32,
         "Insulin": 127.25,
         "BMI": 36.6,
         "DiabetesPedigreeFunction": 0.62625,
         "Age": 41,
         "Outcome": 1,
         "_deepnote_index_column": "75%"
        },
        {
         "Pregnancies": 17,
         "Glucose": 199,
         "BloodPressure": 122,
         "SkinThickness": 99,
         "Insulin": 846,
         "BMI": 67.1,
         "DiabetesPedigreeFunction": 2.42,
         "Age": 81,
         "Outcome": 1,
         "_deepnote_index_column": "max"
        }
       ],
       "rows_bottom": null
      },
      "text/plain": "       Pregnancies     Glucose  BloodPressure  SkinThickness     Insulin  \\\ncount   768.000000  768.000000     768.000000     768.000000  768.000000   \nmean      3.845052  120.894531      69.105469      20.536458   79.799479   \nstd       3.369578   31.972618      19.355807      15.952218  115.244002   \nmin       0.000000    0.000000       0.000000       0.000000    0.000000   \n25%       1.000000   99.000000      62.000000       0.000000    0.000000   \n50%       3.000000  117.000000      72.000000      23.000000   30.500000   \n75%       6.000000  140.250000      80.000000      32.000000  127.250000   \nmax      17.000000  199.000000     122.000000      99.000000  846.000000   \n\n              BMI  DiabetesPedigreeFunction         Age     Outcome  \ncount  768.000000                768.000000  768.000000  768.000000  \nmean    31.992578                  0.471876   33.240885    0.348958  \nstd      7.884160                  0.331329   11.760232    0.476951  \nmin      0.000000                  0.078000   21.000000    0.000000  \n25%     27.300000                  0.243750   24.000000    0.000000  \n50%     32.000000                  0.372500   29.000000    0.000000  \n75%     36.600000                  0.626250   41.000000    1.000000  \nmax     67.100000                  2.420000   81.000000    1.000000  ",
      "text/html": "<div>\n<style scoped>\n    .dataframe tbody tr th:only-of-type {\n        vertical-align: middle;\n    }\n\n    .dataframe tbody tr th {\n        vertical-align: top;\n    }\n\n    .dataframe thead th {\n        text-align: right;\n    }\n</style>\n<table border=\"1\" class=\"dataframe\">\n  <thead>\n    <tr style=\"text-align: right;\">\n      <th></th>\n      <th>Pregnancies</th>\n      <th>Glucose</th>\n      <th>BloodPressure</th>\n      <th>SkinThickness</th>\n      <th>Insulin</th>\n      <th>BMI</th>\n      <th>DiabetesPedigreeFunction</th>\n      <th>Age</th>\n      <th>Outcome</th>\n    </tr>\n  </thead>\n  <tbody>\n    <tr>\n      <th>count</th>\n      <td>768.000000</td>\n      <td>768.000000</td>\n      <td>768.000000</td>\n      <td>768.000000</td>\n      <td>768.000000</td>\n      <td>768.000000</td>\n      <td>768.000000</td>\n      <td>768.000000</td>\n      <td>768.000000</td>\n    </tr>\n    <tr>\n      <th>mean</th>\n      <td>3.845052</td>\n      <td>120.894531</td>\n      <td>69.105469</td>\n      <td>20.536458</td>\n      <td>79.799479</td>\n      <td>31.992578</td>\n      <td>0.471876</td>\n      <td>33.240885</td>\n      <td>0.348958</td>\n    </tr>\n    <tr>\n      <th>std</th>\n      <td>3.369578</td>\n      <td>31.972618</td>\n      <td>19.355807</td>\n      <td>15.952218</td>\n      <td>115.244002</td>\n      <td>7.884160</td>\n      <td>0.331329</td>\n      <td>11.760232</td>\n      <td>0.476951</td>\n    </tr>\n    <tr>\n      <th>min</th>\n      <td>0.000000</td>\n      <td>0.000000</td>\n      <td>0.000000</td>\n      <td>0.000000</td>\n      <td>0.000000</td>\n      <td>0.000000</td>\n      <td>0.078000</td>\n      <td>21.000000</td>\n      <td>0.000000</td>\n    </tr>\n    <tr>\n      <th>25%</th>\n      <td>1.000000</td>\n      <td>99.000000</td>\n      <td>62.000000</td>\n      <td>0.000000</td>\n      <td>0.000000</td>\n      <td>27.300000</td>\n      <td>0.243750</td>\n      <td>24.000000</td>\n      <td>0.000000</td>\n    </tr>\n    <tr>\n      <th>50%</th>\n      <td>3.000000</td>\n      <td>117.000000</td>\n      <td>72.000000</td>\n      <td>23.000000</td>\n      <td>30.500000</td>\n      <td>32.000000</td>\n      <td>0.372500</td>\n      <td>29.000000</td>\n      <td>0.000000</td>\n    </tr>\n    <tr>\n      <th>75%</th>\n      <td>6.000000</td>\n      <td>140.250000</td>\n      <td>80.000000</td>\n      <td>32.000000</td>\n      <td>127.250000</td>\n      <td>36.600000</td>\n      <td>0.626250</td>\n      <td>41.000000</td>\n      <td>1.000000</td>\n    </tr>\n    <tr>\n      <th>max</th>\n      <td>17.000000</td>\n      <td>199.000000</td>\n      <td>122.000000</td>\n      <td>99.000000</td>\n      <td>846.000000</td>\n      <td>67.100000</td>\n      <td>2.420000</td>\n      <td>81.000000</td>\n      <td>1.000000</td>\n    </tr>\n  </tbody>\n</table>\n</div>"
     },
     "metadata": {}
    }
   ]
  },
  {
   "cell_type": "markdown",
   "source": "**<font color='teal'> Currently, the missing values in the dataset are represented as zeros. Replace the zero values in the following columns ['Glucose','BloodPressure','SkinThickness','Insulin','BMI'] with nan .</font>**",
   "metadata": {
    "tags": [],
    "cell_id": "00010-96599ae8-b86b-45f2-bcbe-e106771314db",
    "deepnote_cell_type": "markdown"
   }
  },
  {
   "cell_type": "code",
   "metadata": {
    "cell_id": "00011-7ab3a27d-3491-44f0-bccf-8cab9df40093",
    "deepnote_to_be_reexecuted": false,
    "source_hash": "8988af33",
    "execution_start": 1624657505194,
    "execution_millis": 1,
    "deepnote_cell_type": "code"
   },
   "source": "cols = ['Glucose','BloodPressure','SkinThickness','Insulin','BMI']\ndiabetes_data[cols] = diabetes_data[cols].replace(to_replace = 0, value = np.nan)",
   "execution_count": 5,
   "outputs": []
  },
  {
   "cell_type": "code",
   "source": "diabetes_data[cols]",
   "metadata": {
    "tags": [],
    "cell_id": "00012-beb16133-bcb8-47ad-96a8-9f9a9fe70dd3",
    "deepnote_to_be_reexecuted": false,
    "source_hash": "50643da3",
    "execution_start": 1624657505195,
    "execution_millis": 14,
    "deepnote_cell_type": "code"
   },
   "outputs": [
    {
     "output_type": "execute_result",
     "execution_count": 6,
     "data": {
      "application/vnd.deepnote.dataframe.v2+json": {
       "row_count": 768,
       "column_count": 5,
       "columns": [
        {
         "name": "Glucose",
         "dtype": "float64",
         "stats": {
          "unique_count": 135,
          "nan_count": 5,
          "min": "44.0",
          "max": "199.0",
          "histogram": [
           {
            "bin_start": 44,
            "bin_end": 59.5,
            "count": 4
           },
           {
            "bin_start": 59.5,
            "bin_end": 75,
            "count": 19
           },
           {
            "bin_start": 75,
            "bin_end": 90.5,
            "count": 87
           },
           {
            "bin_start": 90.5,
            "bin_end": 106,
            "count": 149
           },
           {
            "bin_start": 106,
            "bin_end": 121.5,
            "count": 161
           },
           {
            "bin_start": 121.5,
            "bin_end": 137,
            "count": 125
           },
           {
            "bin_start": 137,
            "bin_end": 152.5,
            "count": 88
           },
           {
            "bin_start": 152.5,
            "bin_end": 168,
            "count": 54
           },
           {
            "bin_start": 168,
            "bin_end": 183.5,
            "count": 44
           },
           {
            "bin_start": 183.5,
            "bin_end": 199,
            "count": 32
           }
          ]
         }
        },
        {
         "name": "BloodPressure",
         "dtype": "float64",
         "stats": {
          "unique_count": 46,
          "nan_count": 35,
          "min": "24.0",
          "max": "122.0",
          "histogram": [
           {
            "bin_start": 24,
            "bin_end": 33.8,
            "count": 3
           },
           {
            "bin_start": 33.8,
            "bin_end": 43.6,
            "count": 2
           },
           {
            "bin_start": 43.6,
            "bin_end": 53.400000000000006,
            "count": 35
           },
           {
            "bin_start": 53.400000000000006,
            "bin_end": 63.2,
            "count": 118
           },
           {
            "bin_start": 63.2,
            "bin_end": 73,
            "count": 226
           },
           {
            "bin_start": 73,
            "bin_end": 82.80000000000001,
            "count": 214
           },
           {
            "bin_start": 82.80000000000001,
            "bin_end": 92.60000000000001,
            "count": 105
           },
           {
            "bin_start": 92.60000000000001,
            "bin_end": 102.4,
            "count": 18
           },
           {
            "bin_start": 102.4,
            "bin_end": 112.2,
            "count": 10
           },
           {
            "bin_start": 112.2,
            "bin_end": 122,
            "count": 2
           }
          ]
         }
        },
        {
         "name": "SkinThickness",
         "dtype": "float64",
         "stats": {
          "unique_count": 50,
          "nan_count": 227,
          "min": "7.0",
          "max": "99.0",
          "histogram": [
           {
            "bin_start": 7,
            "bin_end": 16.2,
            "count": 59
           },
           {
            "bin_start": 16.2,
            "bin_end": 25.4,
            "count": 141
           },
           {
            "bin_start": 25.4,
            "bin_end": 34.599999999999994,
            "count": 181
           },
           {
            "bin_start": 34.599999999999994,
            "bin_end": 43.8,
            "count": 118
           },
           {
            "bin_start": 43.8,
            "bin_end": 53,
            "count": 36
           },
           {
            "bin_start": 53,
            "bin_end": 62.199999999999996,
            "count": 4
           },
           {
            "bin_start": 62.199999999999996,
            "bin_end": 71.39999999999999,
            "count": 1
           },
           {
            "bin_start": 71.39999999999999,
            "bin_end": 80.6,
            "count": 0
           },
           {
            "bin_start": 80.6,
            "bin_end": 89.8,
            "count": 0
           },
           {
            "bin_start": 89.8,
            "bin_end": 99,
            "count": 1
           }
          ]
         }
        },
        {
         "name": "Insulin",
         "dtype": "float64",
         "stats": {
          "unique_count": 185,
          "nan_count": 374,
          "min": "14.0",
          "max": "846.0",
          "histogram": [
           {
            "bin_start": 14,
            "bin_end": 97.2,
            "count": 142
           },
           {
            "bin_start": 97.2,
            "bin_end": 180.4,
            "count": 143
           },
           {
            "bin_start": 180.4,
            "bin_end": 263.6,
            "count": 55
           },
           {
            "bin_start": 263.6,
            "bin_end": 346.8,
            "count": 29
           },
           {
            "bin_start": 346.8,
            "bin_end": 430,
            "count": 7
           },
           {
            "bin_start": 430,
            "bin_end": 513.2,
            "count": 10
           },
           {
            "bin_start": 513.2,
            "bin_end": 596.4,
            "count": 4
           },
           {
            "bin_start": 596.4,
            "bin_end": 679.6,
            "count": 1
           },
           {
            "bin_start": 679.6,
            "bin_end": 762.8000000000001,
            "count": 2
           },
           {
            "bin_start": 762.8000000000001,
            "bin_end": 846,
            "count": 1
           }
          ]
         }
        },
        {
         "name": "BMI",
         "dtype": "float64",
         "stats": {
          "unique_count": 247,
          "nan_count": 11,
          "min": "18.2",
          "max": "67.1",
          "histogram": [
           {
            "bin_start": 18.2,
            "bin_end": 23.089999999999996,
            "count": 52
           },
           {
            "bin_start": 23.089999999999996,
            "bin_end": 27.979999999999997,
            "count": 161
           },
           {
            "bin_start": 27.979999999999997,
            "bin_end": 32.87,
            "count": 196
           },
           {
            "bin_start": 32.87,
            "bin_end": 37.75999999999999,
            "count": 193
           },
           {
            "bin_start": 37.75999999999999,
            "bin_end": 42.64999999999999,
            "count": 91
           },
           {
            "bin_start": 42.64999999999999,
            "bin_end": 47.53999999999999,
            "count": 48
           },
           {
            "bin_start": 47.53999999999999,
            "bin_end": 52.42999999999999,
            "count": 10
           },
           {
            "bin_start": 52.42999999999999,
            "bin_end": 57.31999999999999,
            "count": 4
           },
           {
            "bin_start": 57.31999999999999,
            "bin_end": 62.209999999999994,
            "count": 1
           },
           {
            "bin_start": 62.209999999999994,
            "bin_end": 67.1,
            "count": 1
           }
          ]
         }
        },
        {
         "name": "_deepnote_index_column",
         "dtype": "int64"
        }
       ],
       "rows_top": [
        {
         "Glucose": 148,
         "BloodPressure": 72,
         "SkinThickness": 35,
         "Insulin": "nan",
         "BMI": 33.6,
         "_deepnote_index_column": 0
        },
        {
         "Glucose": 85,
         "BloodPressure": 66,
         "SkinThickness": 29,
         "Insulin": "nan",
         "BMI": 26.6,
         "_deepnote_index_column": 1
        },
        {
         "Glucose": 183,
         "BloodPressure": 64,
         "SkinThickness": "nan",
         "Insulin": "nan",
         "BMI": 23.3,
         "_deepnote_index_column": 2
        },
        {
         "Glucose": 89,
         "BloodPressure": 66,
         "SkinThickness": 23,
         "Insulin": 94,
         "BMI": 28.1,
         "_deepnote_index_column": 3
        },
        {
         "Glucose": 137,
         "BloodPressure": 40,
         "SkinThickness": 35,
         "Insulin": 168,
         "BMI": 43.1,
         "_deepnote_index_column": 4
        },
        {
         "Glucose": 116,
         "BloodPressure": 74,
         "SkinThickness": "nan",
         "Insulin": "nan",
         "BMI": 25.6,
         "_deepnote_index_column": 5
        },
        {
         "Glucose": 78,
         "BloodPressure": 50,
         "SkinThickness": 32,
         "Insulin": 88,
         "BMI": 31,
         "_deepnote_index_column": 6
        },
        {
         "Glucose": 115,
         "BloodPressure": "nan",
         "SkinThickness": "nan",
         "Insulin": "nan",
         "BMI": 35.3,
         "_deepnote_index_column": 7
        },
        {
         "Glucose": 197,
         "BloodPressure": 70,
         "SkinThickness": 45,
         "Insulin": 543,
         "BMI": 30.5,
         "_deepnote_index_column": 8
        },
        {
         "Glucose": 125,
         "BloodPressure": 96,
         "SkinThickness": "nan",
         "Insulin": "nan",
         "BMI": "nan",
         "_deepnote_index_column": 9
        },
        {
         "Glucose": 110,
         "BloodPressure": 92,
         "SkinThickness": "nan",
         "Insulin": "nan",
         "BMI": 37.6,
         "_deepnote_index_column": 10
        },
        {
         "Glucose": 168,
         "BloodPressure": 74,
         "SkinThickness": "nan",
         "Insulin": "nan",
         "BMI": 38,
         "_deepnote_index_column": 11
        },
        {
         "Glucose": 139,
         "BloodPressure": 80,
         "SkinThickness": "nan",
         "Insulin": "nan",
         "BMI": 27.1,
         "_deepnote_index_column": 12
        },
        {
         "Glucose": 189,
         "BloodPressure": 60,
         "SkinThickness": 23,
         "Insulin": 846,
         "BMI": 30.1,
         "_deepnote_index_column": 13
        },
        {
         "Glucose": 166,
         "BloodPressure": 72,
         "SkinThickness": 19,
         "Insulin": 175,
         "BMI": 25.8,
         "_deepnote_index_column": 14
        },
        {
         "Glucose": 100,
         "BloodPressure": "nan",
         "SkinThickness": "nan",
         "Insulin": "nan",
         "BMI": 30,
         "_deepnote_index_column": 15
        },
        {
         "Glucose": 118,
         "BloodPressure": 84,
         "SkinThickness": 47,
         "Insulin": 230,
         "BMI": 45.8,
         "_deepnote_index_column": 16
        },
        {
         "Glucose": 107,
         "BloodPressure": 74,
         "SkinThickness": "nan",
         "Insulin": "nan",
         "BMI": 29.6,
         "_deepnote_index_column": 17
        },
        {
         "Glucose": 103,
         "BloodPressure": 30,
         "SkinThickness": 38,
         "Insulin": 83,
         "BMI": 43.3,
         "_deepnote_index_column": 18
        },
        {
         "Glucose": 115,
         "BloodPressure": 70,
         "SkinThickness": 30,
         "Insulin": 96,
         "BMI": 34.6,
         "_deepnote_index_column": 19
        },
        {
         "Glucose": 126,
         "BloodPressure": 88,
         "SkinThickness": 41,
         "Insulin": 235,
         "BMI": 39.3,
         "_deepnote_index_column": 20
        },
        {
         "Glucose": 99,
         "BloodPressure": 84,
         "SkinThickness": "nan",
         "Insulin": "nan",
         "BMI": 35.4,
         "_deepnote_index_column": 21
        },
        {
         "Glucose": 196,
         "BloodPressure": 90,
         "SkinThickness": "nan",
         "Insulin": "nan",
         "BMI": 39.8,
         "_deepnote_index_column": 22
        },
        {
         "Glucose": 119,
         "BloodPressure": 80,
         "SkinThickness": 35,
         "Insulin": "nan",
         "BMI": 29,
         "_deepnote_index_column": 23
        },
        {
         "Glucose": 143,
         "BloodPressure": 94,
         "SkinThickness": 33,
         "Insulin": 146,
         "BMI": 36.6,
         "_deepnote_index_column": 24
        },
        {
         "Glucose": 125,
         "BloodPressure": 70,
         "SkinThickness": 26,
         "Insulin": 115,
         "BMI": 31.1,
         "_deepnote_index_column": 25
        },
        {
         "Glucose": 147,
         "BloodPressure": 76,
         "SkinThickness": "nan",
         "Insulin": "nan",
         "BMI": 39.4,
         "_deepnote_index_column": 26
        },
        {
         "Glucose": 97,
         "BloodPressure": 66,
         "SkinThickness": 15,
         "Insulin": 140,
         "BMI": 23.2,
         "_deepnote_index_column": 27
        },
        {
         "Glucose": 145,
         "BloodPressure": 82,
         "SkinThickness": 19,
         "Insulin": 110,
         "BMI": 22.2,
         "_deepnote_index_column": 28
        },
        {
         "Glucose": 117,
         "BloodPressure": 92,
         "SkinThickness": "nan",
         "Insulin": "nan",
         "BMI": 34.1,
         "_deepnote_index_column": 29
        },
        {
         "Glucose": 109,
         "BloodPressure": 75,
         "SkinThickness": 26,
         "Insulin": "nan",
         "BMI": 36,
         "_deepnote_index_column": 30
        },
        {
         "Glucose": 158,
         "BloodPressure": 76,
         "SkinThickness": 36,
         "Insulin": 245,
         "BMI": 31.6,
         "_deepnote_index_column": 31
        },
        {
         "Glucose": 88,
         "BloodPressure": 58,
         "SkinThickness": 11,
         "Insulin": 54,
         "BMI": 24.8,
         "_deepnote_index_column": 32
        },
        {
         "Glucose": 92,
         "BloodPressure": 92,
         "SkinThickness": "nan",
         "Insulin": "nan",
         "BMI": 19.9,
         "_deepnote_index_column": 33
        },
        {
         "Glucose": 122,
         "BloodPressure": 78,
         "SkinThickness": 31,
         "Insulin": "nan",
         "BMI": 27.6,
         "_deepnote_index_column": 34
        },
        {
         "Glucose": 103,
         "BloodPressure": 60,
         "SkinThickness": 33,
         "Insulin": 192,
         "BMI": 24,
         "_deepnote_index_column": 35
        },
        {
         "Glucose": 138,
         "BloodPressure": 76,
         "SkinThickness": "nan",
         "Insulin": "nan",
         "BMI": 33.2,
         "_deepnote_index_column": 36
        },
        {
         "Glucose": 102,
         "BloodPressure": 76,
         "SkinThickness": 37,
         "Insulin": "nan",
         "BMI": 32.9,
         "_deepnote_index_column": 37
        },
        {
         "Glucose": 90,
         "BloodPressure": 68,
         "SkinThickness": 42,
         "Insulin": "nan",
         "BMI": 38.2,
         "_deepnote_index_column": 38
        },
        {
         "Glucose": 111,
         "BloodPressure": 72,
         "SkinThickness": 47,
         "Insulin": 207,
         "BMI": 37.1,
         "_deepnote_index_column": 39
        },
        {
         "Glucose": 180,
         "BloodPressure": 64,
         "SkinThickness": 25,
         "Insulin": 70,
         "BMI": 34,
         "_deepnote_index_column": 40
        },
        {
         "Glucose": 133,
         "BloodPressure": 84,
         "SkinThickness": "nan",
         "Insulin": "nan",
         "BMI": 40.2,
         "_deepnote_index_column": 41
        },
        {
         "Glucose": 106,
         "BloodPressure": 92,
         "SkinThickness": 18,
         "Insulin": "nan",
         "BMI": 22.7,
         "_deepnote_index_column": 42
        },
        {
         "Glucose": 171,
         "BloodPressure": 110,
         "SkinThickness": 24,
         "Insulin": 240,
         "BMI": 45.4,
         "_deepnote_index_column": 43
        },
        {
         "Glucose": 159,
         "BloodPressure": 64,
         "SkinThickness": "nan",
         "Insulin": "nan",
         "BMI": 27.4,
         "_deepnote_index_column": 44
        },
        {
         "Glucose": 180,
         "BloodPressure": 66,
         "SkinThickness": 39,
         "Insulin": "nan",
         "BMI": 42,
         "_deepnote_index_column": 45
        },
        {
         "Glucose": 146,
         "BloodPressure": 56,
         "SkinThickness": "nan",
         "Insulin": "nan",
         "BMI": 29.7,
         "_deepnote_index_column": 46
        },
        {
         "Glucose": 71,
         "BloodPressure": 70,
         "SkinThickness": 27,
         "Insulin": "nan",
         "BMI": 28,
         "_deepnote_index_column": 47
        },
        {
         "Glucose": 103,
         "BloodPressure": 66,
         "SkinThickness": 32,
         "Insulin": "nan",
         "BMI": 39.1,
         "_deepnote_index_column": 48
        },
        {
         "Glucose": 105,
         "BloodPressure": "nan",
         "SkinThickness": "nan",
         "Insulin": "nan",
         "BMI": "nan",
         "_deepnote_index_column": 49
        },
        {
         "Glucose": 103,
         "BloodPressure": 80,
         "SkinThickness": 11,
         "Insulin": 82,
         "BMI": 19.4,
         "_deepnote_index_column": 50
        },
        {
         "Glucose": 101,
         "BloodPressure": 50,
         "SkinThickness": 15,
         "Insulin": 36,
         "BMI": 24.2,
         "_deepnote_index_column": 51
        },
        {
         "Glucose": 88,
         "BloodPressure": 66,
         "SkinThickness": 21,
         "Insulin": 23,
         "BMI": 24.4,
         "_deepnote_index_column": 52
        },
        {
         "Glucose": 176,
         "BloodPressure": 90,
         "SkinThickness": 34,
         "Insulin": 300,
         "BMI": 33.7,
         "_deepnote_index_column": 53
        },
        {
         "Glucose": 150,
         "BloodPressure": 66,
         "SkinThickness": 42,
         "Insulin": 342,
         "BMI": 34.7,
         "_deepnote_index_column": 54
        },
        {
         "Glucose": 73,
         "BloodPressure": 50,
         "SkinThickness": 10,
         "Insulin": "nan",
         "BMI": 23,
         "_deepnote_index_column": 55
        },
        {
         "Glucose": 187,
         "BloodPressure": 68,
         "SkinThickness": 39,
         "Insulin": 304,
         "BMI": 37.7,
         "_deepnote_index_column": 56
        },
        {
         "Glucose": 100,
         "BloodPressure": 88,
         "SkinThickness": 60,
         "Insulin": 110,
         "BMI": 46.8,
         "_deepnote_index_column": 57
        },
        {
         "Glucose": 146,
         "BloodPressure": 82,
         "SkinThickness": "nan",
         "Insulin": "nan",
         "BMI": 40.5,
         "_deepnote_index_column": 58
        },
        {
         "Glucose": 105,
         "BloodPressure": 64,
         "SkinThickness": 41,
         "Insulin": 142,
         "BMI": 41.5,
         "_deepnote_index_column": 59
        },
        {
         "Glucose": 84,
         "BloodPressure": "nan",
         "SkinThickness": "nan",
         "Insulin": "nan",
         "BMI": "nan",
         "_deepnote_index_column": 60
        },
        {
         "Glucose": 133,
         "BloodPressure": 72,
         "SkinThickness": "nan",
         "Insulin": "nan",
         "BMI": 32.9,
         "_deepnote_index_column": 61
        },
        {
         "Glucose": 44,
         "BloodPressure": 62,
         "SkinThickness": "nan",
         "Insulin": "nan",
         "BMI": 25,
         "_deepnote_index_column": 62
        },
        {
         "Glucose": 141,
         "BloodPressure": 58,
         "SkinThickness": 34,
         "Insulin": 128,
         "BMI": 25.4,
         "_deepnote_index_column": 63
        },
        {
         "Glucose": 114,
         "BloodPressure": 66,
         "SkinThickness": "nan",
         "Insulin": "nan",
         "BMI": 32.8,
         "_deepnote_index_column": 64
        },
        {
         "Glucose": 99,
         "BloodPressure": 74,
         "SkinThickness": 27,
         "Insulin": "nan",
         "BMI": 29,
         "_deepnote_index_column": 65
        },
        {
         "Glucose": 109,
         "BloodPressure": 88,
         "SkinThickness": 30,
         "Insulin": "nan",
         "BMI": 32.5,
         "_deepnote_index_column": 66
        },
        {
         "Glucose": 109,
         "BloodPressure": 92,
         "SkinThickness": "nan",
         "Insulin": "nan",
         "BMI": 42.7,
         "_deepnote_index_column": 67
        },
        {
         "Glucose": 95,
         "BloodPressure": 66,
         "SkinThickness": 13,
         "Insulin": 38,
         "BMI": 19.6,
         "_deepnote_index_column": 68
        },
        {
         "Glucose": 146,
         "BloodPressure": 85,
         "SkinThickness": 27,
         "Insulin": 100,
         "BMI": 28.9,
         "_deepnote_index_column": 69
        },
        {
         "Glucose": 100,
         "BloodPressure": 66,
         "SkinThickness": 20,
         "Insulin": 90,
         "BMI": 32.9,
         "_deepnote_index_column": 70
        },
        {
         "Glucose": 139,
         "BloodPressure": 64,
         "SkinThickness": 35,
         "Insulin": 140,
         "BMI": 28.6,
         "_deepnote_index_column": 71
        },
        {
         "Glucose": 126,
         "BloodPressure": 90,
         "SkinThickness": "nan",
         "Insulin": "nan",
         "BMI": 43.4,
         "_deepnote_index_column": 72
        },
        {
         "Glucose": 129,
         "BloodPressure": 86,
         "SkinThickness": 20,
         "Insulin": 270,
         "BMI": 35.1,
         "_deepnote_index_column": 73
        },
        {
         "Glucose": 79,
         "BloodPressure": 75,
         "SkinThickness": 30,
         "Insulin": "nan",
         "BMI": 32,
         "_deepnote_index_column": 74
        },
        {
         "Glucose": "nan",
         "BloodPressure": 48,
         "SkinThickness": 20,
         "Insulin": "nan",
         "BMI": 24.7,
         "_deepnote_index_column": 75
        },
        {
         "Glucose": 62,
         "BloodPressure": 78,
         "SkinThickness": "nan",
         "Insulin": "nan",
         "BMI": 32.6,
         "_deepnote_index_column": 76
        },
        {
         "Glucose": 95,
         "BloodPressure": 72,
         "SkinThickness": 33,
         "Insulin": "nan",
         "BMI": 37.7,
         "_deepnote_index_column": 77
        },
        {
         "Glucose": 131,
         "BloodPressure": "nan",
         "SkinThickness": "nan",
         "Insulin": "nan",
         "BMI": 43.2,
         "_deepnote_index_column": 78
        },
        {
         "Glucose": 112,
         "BloodPressure": 66,
         "SkinThickness": 22,
         "Insulin": "nan",
         "BMI": 25,
         "_deepnote_index_column": 79
        },
        {
         "Glucose": 113,
         "BloodPressure": 44,
         "SkinThickness": 13,
         "Insulin": "nan",
         "BMI": 22.4,
         "_deepnote_index_column": 80
        },
        {
         "Glucose": 74,
         "BloodPressure": "nan",
         "SkinThickness": "nan",
         "Insulin": "nan",
         "BMI": "nan",
         "_deepnote_index_column": 81
        },
        {
         "Glucose": 83,
         "BloodPressure": 78,
         "SkinThickness": 26,
         "Insulin": 71,
         "BMI": 29.3,
         "_deepnote_index_column": 82
        },
        {
         "Glucose": 101,
         "BloodPressure": 65,
         "SkinThickness": 28,
         "Insulin": "nan",
         "BMI": 24.6,
         "_deepnote_index_column": 83
        },
        {
         "Glucose": 137,
         "BloodPressure": 108,
         "SkinThickness": "nan",
         "Insulin": "nan",
         "BMI": 48.8,
         "_deepnote_index_column": 84
        },
        {
         "Glucose": 110,
         "BloodPressure": 74,
         "SkinThickness": 29,
         "Insulin": 125,
         "BMI": 32.4,
         "_deepnote_index_column": 85
        },
        {
         "Glucose": 106,
         "BloodPressure": 72,
         "SkinThickness": 54,
         "Insulin": "nan",
         "BMI": 36.6,
         "_deepnote_index_column": 86
        },
        {
         "Glucose": 100,
         "BloodPressure": 68,
         "SkinThickness": 25,
         "Insulin": 71,
         "BMI": 38.5,
         "_deepnote_index_column": 87
        },
        {
         "Glucose": 136,
         "BloodPressure": 70,
         "SkinThickness": 32,
         "Insulin": 110,
         "BMI": 37.1,
         "_deepnote_index_column": 88
        },
        {
         "Glucose": 107,
         "BloodPressure": 68,
         "SkinThickness": 19,
         "Insulin": "nan",
         "BMI": 26.5,
         "_deepnote_index_column": 89
        },
        {
         "Glucose": 80,
         "BloodPressure": 55,
         "SkinThickness": "nan",
         "Insulin": "nan",
         "BMI": 19.1,
         "_deepnote_index_column": 90
        },
        {
         "Glucose": 123,
         "BloodPressure": 80,
         "SkinThickness": 15,
         "Insulin": 176,
         "BMI": 32,
         "_deepnote_index_column": 91
        },
        {
         "Glucose": 81,
         "BloodPressure": 78,
         "SkinThickness": 40,
         "Insulin": 48,
         "BMI": 46.7,
         "_deepnote_index_column": 92
        },
        {
         "Glucose": 134,
         "BloodPressure": 72,
         "SkinThickness": "nan",
         "Insulin": "nan",
         "BMI": 23.8,
         "_deepnote_index_column": 93
        },
        {
         "Glucose": 142,
         "BloodPressure": 82,
         "SkinThickness": 18,
         "Insulin": 64,
         "BMI": 24.7,
         "_deepnote_index_column": 94
        },
        {
         "Glucose": 144,
         "BloodPressure": 72,
         "SkinThickness": 27,
         "Insulin": 228,
         "BMI": 33.9,
         "_deepnote_index_column": 95
        },
        {
         "Glucose": 92,
         "BloodPressure": 62,
         "SkinThickness": 28,
         "Insulin": "nan",
         "BMI": 31.6,
         "_deepnote_index_column": 96
        },
        {
         "Glucose": 71,
         "BloodPressure": 48,
         "SkinThickness": 18,
         "Insulin": 76,
         "BMI": 20.4,
         "_deepnote_index_column": 97
        },
        {
         "Glucose": 93,
         "BloodPressure": 50,
         "SkinThickness": 30,
         "Insulin": 64,
         "BMI": 28.7,
         "_deepnote_index_column": 98
        },
        {
         "Glucose": 122,
         "BloodPressure": 90,
         "SkinThickness": 51,
         "Insulin": 220,
         "BMI": 49.7,
         "_deepnote_index_column": 99
        }
       ],
       "rows_bottom": [
        {
         "Glucose": 98,
         "BloodPressure": 58,
         "SkinThickness": 33,
         "Insulin": 190,
         "BMI": 34,
         "_deepnote_index_column": 668
        },
        {
         "Glucose": 154,
         "BloodPressure": 78,
         "SkinThickness": 30,
         "Insulin": 100,
         "BMI": 30.9,
         "_deepnote_index_column": 669
        },
        {
         "Glucose": 165,
         "BloodPressure": 68,
         "SkinThickness": 26,
         "Insulin": 168,
         "BMI": 33.6,
         "_deepnote_index_column": 670
        },
        {
         "Glucose": 99,
         "BloodPressure": 58,
         "SkinThickness": 10,
         "Insulin": "nan",
         "BMI": 25.4,
         "_deepnote_index_column": 671
        },
        {
         "Glucose": 68,
         "BloodPressure": 106,
         "SkinThickness": 23,
         "Insulin": 49,
         "BMI": 35.5,
         "_deepnote_index_column": 672
        },
        {
         "Glucose": 123,
         "BloodPressure": 100,
         "SkinThickness": 35,
         "Insulin": 240,
         "BMI": 57.3,
         "_deepnote_index_column": 673
        },
        {
         "Glucose": 91,
         "BloodPressure": 82,
         "SkinThickness": "nan",
         "Insulin": "nan",
         "BMI": 35.6,
         "_deepnote_index_column": 674
        },
        {
         "Glucose": 195,
         "BloodPressure": 70,
         "SkinThickness": "nan",
         "Insulin": "nan",
         "BMI": 30.9,
         "_deepnote_index_column": 675
        },
        {
         "Glucose": 156,
         "BloodPressure": 86,
         "SkinThickness": "nan",
         "Insulin": "nan",
         "BMI": 24.8,
         "_deepnote_index_column": 676
        },
        {
         "Glucose": 93,
         "BloodPressure": 60,
         "SkinThickness": "nan",
         "Insulin": "nan",
         "BMI": 35.3,
         "_deepnote_index_column": 677
        },
        {
         "Glucose": 121,
         "BloodPressure": 52,
         "SkinThickness": "nan",
         "Insulin": "nan",
         "BMI": 36,
         "_deepnote_index_column": 678
        },
        {
         "Glucose": 101,
         "BloodPressure": 58,
         "SkinThickness": 17,
         "Insulin": 265,
         "BMI": 24.2,
         "_deepnote_index_column": 679
        },
        {
         "Glucose": 56,
         "BloodPressure": 56,
         "SkinThickness": 28,
         "Insulin": 45,
         "BMI": 24.2,
         "_deepnote_index_column": 680
        },
        {
         "Glucose": 162,
         "BloodPressure": 76,
         "SkinThickness": 36,
         "Insulin": "nan",
         "BMI": 49.6,
         "_deepnote_index_column": 681
        },
        {
         "Glucose": 95,
         "BloodPressure": 64,
         "SkinThickness": 39,
         "Insulin": 105,
         "BMI": 44.6,
         "_deepnote_index_column": 682
        },
        {
         "Glucose": 125,
         "BloodPressure": 80,
         "SkinThickness": "nan",
         "Insulin": "nan",
         "BMI": 32.3,
         "_deepnote_index_column": 683
        },
        {
         "Glucose": 136,
         "BloodPressure": 82,
         "SkinThickness": "nan",
         "Insulin": "nan",
         "BMI": "nan",
         "_deepnote_index_column": 684
        },
        {
         "Glucose": 129,
         "BloodPressure": 74,
         "SkinThickness": 26,
         "Insulin": 205,
         "BMI": 33.2,
         "_deepnote_index_column": 685
        },
        {
         "Glucose": 130,
         "BloodPressure": 64,
         "SkinThickness": "nan",
         "Insulin": "nan",
         "BMI": 23.1,
         "_deepnote_index_column": 686
        },
        {
         "Glucose": 107,
         "BloodPressure": 50,
         "SkinThickness": 19,
         "Insulin": "nan",
         "BMI": 28.3,
         "_deepnote_index_column": 687
        },
        {
         "Glucose": 140,
         "BloodPressure": 74,
         "SkinThickness": 26,
         "Insulin": 180,
         "BMI": 24.1,
         "_deepnote_index_column": 688
        },
        {
         "Glucose": 144,
         "BloodPressure": 82,
         "SkinThickness": 46,
         "Insulin": 180,
         "BMI": 46.1,
         "_deepnote_index_column": 689
        },
        {
         "Glucose": 107,
         "BloodPressure": 80,
         "SkinThickness": "nan",
         "Insulin": "nan",
         "BMI": 24.6,
         "_deepnote_index_column": 690
        },
        {
         "Glucose": 158,
         "BloodPressure": 114,
         "SkinThickness": "nan",
         "Insulin": "nan",
         "BMI": 42.3,
         "_deepnote_index_column": 691
        },
        {
         "Glucose": 121,
         "BloodPressure": 70,
         "SkinThickness": 32,
         "Insulin": 95,
         "BMI": 39.1,
         "_deepnote_index_column": 692
        },
        {
         "Glucose": 129,
         "BloodPressure": 68,
         "SkinThickness": 49,
         "Insulin": 125,
         "BMI": 38.5,
         "_deepnote_index_column": 693
        },
        {
         "Glucose": 90,
         "BloodPressure": 60,
         "SkinThickness": "nan",
         "Insulin": "nan",
         "BMI": 23.5,
         "_deepnote_index_column": 694
        },
        {
         "Glucose": 142,
         "BloodPressure": 90,
         "SkinThickness": 24,
         "Insulin": 480,
         "BMI": 30.4,
         "_deepnote_index_column": 695
        },
        {
         "Glucose": 169,
         "BloodPressure": 74,
         "SkinThickness": 19,
         "Insulin": 125,
         "BMI": 29.9,
         "_deepnote_index_column": 696
        },
        {
         "Glucose": 99,
         "BloodPressure": "nan",
         "SkinThickness": "nan",
         "Insulin": "nan",
         "BMI": 25,
         "_deepnote_index_column": 697
        },
        {
         "Glucose": 127,
         "BloodPressure": 88,
         "SkinThickness": 11,
         "Insulin": 155,
         "BMI": 34.5,
         "_deepnote_index_column": 698
        },
        {
         "Glucose": 118,
         "BloodPressure": 70,
         "SkinThickness": "nan",
         "Insulin": "nan",
         "BMI": 44.5,
         "_deepnote_index_column": 699
        },
        {
         "Glucose": 122,
         "BloodPressure": 76,
         "SkinThickness": 27,
         "Insulin": 200,
         "BMI": 35.9,
         "_deepnote_index_column": 700
        },
        {
         "Glucose": 125,
         "BloodPressure": 78,
         "SkinThickness": 31,
         "Insulin": "nan",
         "BMI": 27.6,
         "_deepnote_index_column": 701
        },
        {
         "Glucose": 168,
         "BloodPressure": 88,
         "SkinThickness": 29,
         "Insulin": "nan",
         "BMI": 35,
         "_deepnote_index_column": 702
        },
        {
         "Glucose": 129,
         "BloodPressure": "nan",
         "SkinThickness": "nan",
         "Insulin": "nan",
         "BMI": 38.5,
         "_deepnote_index_column": 703
        },
        {
         "Glucose": 110,
         "BloodPressure": 76,
         "SkinThickness": 20,
         "Insulin": 100,
         "BMI": 28.4,
         "_deepnote_index_column": 704
        },
        {
         "Glucose": 80,
         "BloodPressure": 80,
         "SkinThickness": 36,
         "Insulin": "nan",
         "BMI": 39.8,
         "_deepnote_index_column": 705
        },
        {
         "Glucose": 115,
         "BloodPressure": "nan",
         "SkinThickness": "nan",
         "Insulin": "nan",
         "BMI": "nan",
         "_deepnote_index_column": 706
        },
        {
         "Glucose": 127,
         "BloodPressure": 46,
         "SkinThickness": 21,
         "Insulin": 335,
         "BMI": 34.4,
         "_deepnote_index_column": 707
        },
        {
         "Glucose": 164,
         "BloodPressure": 78,
         "SkinThickness": "nan",
         "Insulin": "nan",
         "BMI": 32.8,
         "_deepnote_index_column": 708
        },
        {
         "Glucose": 93,
         "BloodPressure": 64,
         "SkinThickness": 32,
         "Insulin": 160,
         "BMI": 38,
         "_deepnote_index_column": 709
        },
        {
         "Glucose": 158,
         "BloodPressure": 64,
         "SkinThickness": 13,
         "Insulin": 387,
         "BMI": 31.2,
         "_deepnote_index_column": 710
        },
        {
         "Glucose": 126,
         "BloodPressure": 78,
         "SkinThickness": 27,
         "Insulin": 22,
         "BMI": 29.6,
         "_deepnote_index_column": 711
        },
        {
         "Glucose": 129,
         "BloodPressure": 62,
         "SkinThickness": 36,
         "Insulin": "nan",
         "BMI": 41.2,
         "_deepnote_index_column": 712
        },
        {
         "Glucose": 134,
         "BloodPressure": 58,
         "SkinThickness": 20,
         "Insulin": 291,
         "BMI": 26.4,
         "_deepnote_index_column": 713
        },
        {
         "Glucose": 102,
         "BloodPressure": 74,
         "SkinThickness": "nan",
         "Insulin": "nan",
         "BMI": 29.5,
         "_deepnote_index_column": 714
        },
        {
         "Glucose": 187,
         "BloodPressure": 50,
         "SkinThickness": 33,
         "Insulin": 392,
         "BMI": 33.9,
         "_deepnote_index_column": 715
        },
        {
         "Glucose": 173,
         "BloodPressure": 78,
         "SkinThickness": 39,
         "Insulin": 185,
         "BMI": 33.8,
         "_deepnote_index_column": 716
        },
        {
         "Glucose": 94,
         "BloodPressure": 72,
         "SkinThickness": 18,
         "Insulin": "nan",
         "BMI": 23.1,
         "_deepnote_index_column": 717
        },
        {
         "Glucose": 108,
         "BloodPressure": 60,
         "SkinThickness": 46,
         "Insulin": 178,
         "BMI": 35.5,
         "_deepnote_index_column": 718
        },
        {
         "Glucose": 97,
         "BloodPressure": 76,
         "SkinThickness": 27,
         "Insulin": "nan",
         "BMI": 35.6,
         "_deepnote_index_column": 719
        },
        {
         "Glucose": 83,
         "BloodPressure": 86,
         "SkinThickness": 19,
         "Insulin": "nan",
         "BMI": 29.3,
         "_deepnote_index_column": 720
        },
        {
         "Glucose": 114,
         "BloodPressure": 66,
         "SkinThickness": 36,
         "Insulin": 200,
         "BMI": 38.1,
         "_deepnote_index_column": 721
        },
        {
         "Glucose": 149,
         "BloodPressure": 68,
         "SkinThickness": 29,
         "Insulin": 127,
         "BMI": 29.3,
         "_deepnote_index_column": 722
        },
        {
         "Glucose": 117,
         "BloodPressure": 86,
         "SkinThickness": 30,
         "Insulin": 105,
         "BMI": 39.1,
         "_deepnote_index_column": 723
        },
        {
         "Glucose": 111,
         "BloodPressure": 94,
         "SkinThickness": "nan",
         "Insulin": "nan",
         "BMI": 32.8,
         "_deepnote_index_column": 724
        },
        {
         "Glucose": 112,
         "BloodPressure": 78,
         "SkinThickness": 40,
         "Insulin": "nan",
         "BMI": 39.4,
         "_deepnote_index_column": 725
        },
        {
         "Glucose": 116,
         "BloodPressure": 78,
         "SkinThickness": 29,
         "Insulin": 180,
         "BMI": 36.1,
         "_deepnote_index_column": 726
        },
        {
         "Glucose": 141,
         "BloodPressure": 84,
         "SkinThickness": 26,
         "Insulin": "nan",
         "BMI": 32.4,
         "_deepnote_index_column": 727
        },
        {
         "Glucose": 175,
         "BloodPressure": 88,
         "SkinThickness": "nan",
         "Insulin": "nan",
         "BMI": 22.9,
         "_deepnote_index_column": 728
        },
        {
         "Glucose": 92,
         "BloodPressure": 52,
         "SkinThickness": "nan",
         "Insulin": "nan",
         "BMI": 30.1,
         "_deepnote_index_column": 729
        },
        {
         "Glucose": 130,
         "BloodPressure": 78,
         "SkinThickness": 23,
         "Insulin": 79,
         "BMI": 28.4,
         "_deepnote_index_column": 730
        },
        {
         "Glucose": 120,
         "BloodPressure": 86,
         "SkinThickness": "nan",
         "Insulin": "nan",
         "BMI": 28.4,
         "_deepnote_index_column": 731
        },
        {
         "Glucose": 174,
         "BloodPressure": 88,
         "SkinThickness": 37,
         "Insulin": 120,
         "BMI": 44.5,
         "_deepnote_index_column": 732
        },
        {
         "Glucose": 106,
         "BloodPressure": 56,
         "SkinThickness": 27,
         "Insulin": 165,
         "BMI": 29,
         "_deepnote_index_column": 733
        },
        {
         "Glucose": 105,
         "BloodPressure": 75,
         "SkinThickness": "nan",
         "Insulin": "nan",
         "BMI": 23.3,
         "_deepnote_index_column": 734
        },
        {
         "Glucose": 95,
         "BloodPressure": 60,
         "SkinThickness": 32,
         "Insulin": "nan",
         "BMI": 35.4,
         "_deepnote_index_column": 735
        },
        {
         "Glucose": 126,
         "BloodPressure": 86,
         "SkinThickness": 27,
         "Insulin": 120,
         "BMI": 27.4,
         "_deepnote_index_column": 736
        },
        {
         "Glucose": 65,
         "BloodPressure": 72,
         "SkinThickness": 23,
         "Insulin": "nan",
         "BMI": 32,
         "_deepnote_index_column": 737
        },
        {
         "Glucose": 99,
         "BloodPressure": 60,
         "SkinThickness": 17,
         "Insulin": 160,
         "BMI": 36.6,
         "_deepnote_index_column": 738
        },
        {
         "Glucose": 102,
         "BloodPressure": 74,
         "SkinThickness": "nan",
         "Insulin": "nan",
         "BMI": 39.5,
         "_deepnote_index_column": 739
        },
        {
         "Glucose": 120,
         "BloodPressure": 80,
         "SkinThickness": 37,
         "Insulin": 150,
         "BMI": 42.3,
         "_deepnote_index_column": 740
        },
        {
         "Glucose": 102,
         "BloodPressure": 44,
         "SkinThickness": 20,
         "Insulin": 94,
         "BMI": 30.8,
         "_deepnote_index_column": 741
        },
        {
         "Glucose": 109,
         "BloodPressure": 58,
         "SkinThickness": 18,
         "Insulin": 116,
         "BMI": 28.5,
         "_deepnote_index_column": 742
        },
        {
         "Glucose": 140,
         "BloodPressure": 94,
         "SkinThickness": "nan",
         "Insulin": "nan",
         "BMI": 32.7,
         "_deepnote_index_column": 743
        },
        {
         "Glucose": 153,
         "BloodPressure": 88,
         "SkinThickness": 37,
         "Insulin": 140,
         "BMI": 40.6,
         "_deepnote_index_column": 744
        },
        {
         "Glucose": 100,
         "BloodPressure": 84,
         "SkinThickness": 33,
         "Insulin": 105,
         "BMI": 30,
         "_deepnote_index_column": 745
        },
        {
         "Glucose": 147,
         "BloodPressure": 94,
         "SkinThickness": 41,
         "Insulin": "nan",
         "BMI": 49.3,
         "_deepnote_index_column": 746
        },
        {
         "Glucose": 81,
         "BloodPressure": 74,
         "SkinThickness": 41,
         "Insulin": 57,
         "BMI": 46.3,
         "_deepnote_index_column": 747
        },
        {
         "Glucose": 187,
         "BloodPressure": 70,
         "SkinThickness": 22,
         "Insulin": 200,
         "BMI": 36.4,
         "_deepnote_index_column": 748
        },
        {
         "Glucose": 162,
         "BloodPressure": 62,
         "SkinThickness": "nan",
         "Insulin": "nan",
         "BMI": 24.3,
         "_deepnote_index_column": 749
        },
        {
         "Glucose": 136,
         "BloodPressure": 70,
         "SkinThickness": "nan",
         "Insulin": "nan",
         "BMI": 31.2,
         "_deepnote_index_column": 750
        },
        {
         "Glucose": 121,
         "BloodPressure": 78,
         "SkinThickness": 39,
         "Insulin": 74,
         "BMI": 39,
         "_deepnote_index_column": 751
        },
        {
         "Glucose": 108,
         "BloodPressure": 62,
         "SkinThickness": 24,
         "Insulin": "nan",
         "BMI": 26,
         "_deepnote_index_column": 752
        },
        {
         "Glucose": 181,
         "BloodPressure": 88,
         "SkinThickness": 44,
         "Insulin": 510,
         "BMI": 43.3,
         "_deepnote_index_column": 753
        },
        {
         "Glucose": 154,
         "BloodPressure": 78,
         "SkinThickness": 32,
         "Insulin": "nan",
         "BMI": 32.4,
         "_deepnote_index_column": 754
        },
        {
         "Glucose": 128,
         "BloodPressure": 88,
         "SkinThickness": 39,
         "Insulin": 110,
         "BMI": 36.5,
         "_deepnote_index_column": 755
        },
        {
         "Glucose": 137,
         "BloodPressure": 90,
         "SkinThickness": 41,
         "Insulin": "nan",
         "BMI": 32,
         "_deepnote_index_column": 756
        },
        {
         "Glucose": 123,
         "BloodPressure": 72,
         "SkinThickness": "nan",
         "Insulin": "nan",
         "BMI": 36.3,
         "_deepnote_index_column": 757
        },
        {
         "Glucose": 106,
         "BloodPressure": 76,
         "SkinThickness": "nan",
         "Insulin": "nan",
         "BMI": 37.5,
         "_deepnote_index_column": 758
        },
        {
         "Glucose": 190,
         "BloodPressure": 92,
         "SkinThickness": "nan",
         "Insulin": "nan",
         "BMI": 35.5,
         "_deepnote_index_column": 759
        },
        {
         "Glucose": 88,
         "BloodPressure": 58,
         "SkinThickness": 26,
         "Insulin": 16,
         "BMI": 28.4,
         "_deepnote_index_column": 760
        },
        {
         "Glucose": 170,
         "BloodPressure": 74,
         "SkinThickness": 31,
         "Insulin": "nan",
         "BMI": 44,
         "_deepnote_index_column": 761
        },
        {
         "Glucose": 89,
         "BloodPressure": 62,
         "SkinThickness": "nan",
         "Insulin": "nan",
         "BMI": 22.5,
         "_deepnote_index_column": 762
        },
        {
         "Glucose": 101,
         "BloodPressure": 76,
         "SkinThickness": 48,
         "Insulin": 180,
         "BMI": 32.9,
         "_deepnote_index_column": 763
        },
        {
         "Glucose": 122,
         "BloodPressure": 70,
         "SkinThickness": 27,
         "Insulin": "nan",
         "BMI": 36.8,
         "_deepnote_index_column": 764
        },
        {
         "Glucose": 121,
         "BloodPressure": 72,
         "SkinThickness": 23,
         "Insulin": 112,
         "BMI": 26.2,
         "_deepnote_index_column": 765
        },
        {
         "Glucose": 126,
         "BloodPressure": 60,
         "SkinThickness": "nan",
         "Insulin": "nan",
         "BMI": 30.1,
         "_deepnote_index_column": 766
        },
        {
         "Glucose": 93,
         "BloodPressure": 70,
         "SkinThickness": 31,
         "Insulin": "nan",
         "BMI": 30.4,
         "_deepnote_index_column": 767
        }
       ]
      },
      "text/plain": "     Glucose  BloodPressure  SkinThickness  Insulin   BMI\n0      148.0           72.0           35.0      NaN  33.6\n1       85.0           66.0           29.0      NaN  26.6\n2      183.0           64.0            NaN      NaN  23.3\n3       89.0           66.0           23.0     94.0  28.1\n4      137.0           40.0           35.0    168.0  43.1\n..       ...            ...            ...      ...   ...\n763    101.0           76.0           48.0    180.0  32.9\n764    122.0           70.0           27.0      NaN  36.8\n765    121.0           72.0           23.0    112.0  26.2\n766    126.0           60.0            NaN      NaN  30.1\n767     93.0           70.0           31.0      NaN  30.4\n\n[768 rows x 5 columns]",
      "text/html": "<div>\n<style scoped>\n    .dataframe tbody tr th:only-of-type {\n        vertical-align: middle;\n    }\n\n    .dataframe tbody tr th {\n        vertical-align: top;\n    }\n\n    .dataframe thead th {\n        text-align: right;\n    }\n</style>\n<table border=\"1\" class=\"dataframe\">\n  <thead>\n    <tr style=\"text-align: right;\">\n      <th></th>\n      <th>Glucose</th>\n      <th>BloodPressure</th>\n      <th>SkinThickness</th>\n      <th>Insulin</th>\n      <th>BMI</th>\n    </tr>\n  </thead>\n  <tbody>\n    <tr>\n      <th>0</th>\n      <td>148.0</td>\n      <td>72.0</td>\n      <td>35.0</td>\n      <td>NaN</td>\n      <td>33.6</td>\n    </tr>\n    <tr>\n      <th>1</th>\n      <td>85.0</td>\n      <td>66.0</td>\n      <td>29.0</td>\n      <td>NaN</td>\n      <td>26.6</td>\n    </tr>\n    <tr>\n      <th>2</th>\n      <td>183.0</td>\n      <td>64.0</td>\n      <td>NaN</td>\n      <td>NaN</td>\n      <td>23.3</td>\n    </tr>\n    <tr>\n      <th>3</th>\n      <td>89.0</td>\n      <td>66.0</td>\n      <td>23.0</td>\n      <td>94.0</td>\n      <td>28.1</td>\n    </tr>\n    <tr>\n      <th>4</th>\n      <td>137.0</td>\n      <td>40.0</td>\n      <td>35.0</td>\n      <td>168.0</td>\n      <td>43.1</td>\n    </tr>\n    <tr>\n      <th>...</th>\n      <td>...</td>\n      <td>...</td>\n      <td>...</td>\n      <td>...</td>\n      <td>...</td>\n    </tr>\n    <tr>\n      <th>763</th>\n      <td>101.0</td>\n      <td>76.0</td>\n      <td>48.0</td>\n      <td>180.0</td>\n      <td>32.9</td>\n    </tr>\n    <tr>\n      <th>764</th>\n      <td>122.0</td>\n      <td>70.0</td>\n      <td>27.0</td>\n      <td>NaN</td>\n      <td>36.8</td>\n    </tr>\n    <tr>\n      <th>765</th>\n      <td>121.0</td>\n      <td>72.0</td>\n      <td>23.0</td>\n      <td>112.0</td>\n      <td>26.2</td>\n    </tr>\n    <tr>\n      <th>766</th>\n      <td>126.0</td>\n      <td>60.0</td>\n      <td>NaN</td>\n      <td>NaN</td>\n      <td>30.1</td>\n    </tr>\n    <tr>\n      <th>767</th>\n      <td>93.0</td>\n      <td>70.0</td>\n      <td>31.0</td>\n      <td>NaN</td>\n      <td>30.4</td>\n    </tr>\n  </tbody>\n</table>\n<p>768 rows × 5 columns</p>\n</div>"
     },
     "metadata": {}
    }
   ],
   "execution_count": 6
  },
  {
   "cell_type": "markdown",
   "source": "**<font color='teal'> Plot histograms of each column. </font>**",
   "metadata": {
    "tags": [],
    "cell_id": "00012-091033f1-3870-4c71-bfcd-a0f18962ef57",
    "deepnote_cell_type": "markdown"
   }
  },
  {
   "cell_type": "code",
   "metadata": {
    "cell_id": "00013-4991f579-8154-4901-b4d3-ea773e7783ed",
    "deepnote_to_be_reexecuted": false,
    "source_hash": "262f169e",
    "execution_start": 1624657505204,
    "execution_millis": 1016,
    "deepnote_cell_type": "code"
   },
   "source": "hist = diabetes_data.hist()",
   "execution_count": 7,
   "outputs": [
    {
     "data": {
      "text/plain": "<Figure size 432x288 with 9 Axes>",
      "image/png": "[encoded data removed]"
     },
     "metadata": {
      "image/png": {
       "width": 381,
       "height": 267
      }
     },
     "output_type": "display_data"
    }
   ]
  },
  {
   "cell_type": "markdown",
   "source": "#### Replace the zeros with mean and median values.",
   "metadata": {
    "tags": [],
    "cell_id": "00014-d4a8964d-f16e-4748-861b-58ff41c69d0b",
    "deepnote_cell_type": "markdown"
   }
  },
  {
   "cell_type": "code",
   "metadata": {
    "cell_id": "00015-bd29c3cd-49c2-4b32-b784-2a075cedd427",
    "deepnote_to_be_reexecuted": false,
    "source_hash": "591f0744",
    "execution_start": 1624657506203,
    "execution_millis": 7,
    "deepnote_cell_type": "code"
   },
   "source": "diabetes_data['Glucose'].fillna(diabetes_data['Glucose'].mean(), inplace = True)\ndiabetes_data['BloodPressure'].fillna(diabetes_data['BloodPressure'].mean(), inplace = True)\ndiabetes_data['SkinThickness'].fillna(diabetes_data['SkinThickness'].median(), inplace = True)\ndiabetes_data['Insulin'].fillna(diabetes_data['Insulin'].median(), inplace = True)\ndiabetes_data['BMI'].fillna(diabetes_data['BMI'].median(), inplace = True)",
   "execution_count": 8,
   "outputs": []
  },
  {
   "cell_type": "markdown",
   "source": "**<font color='teal'> Plot histograms of each column after replacing nan. </font>**",
   "metadata": {
    "tags": [],
    "cell_id": "00016-590d8d4a-3b21-455a-a3ab-2072dc8b5651",
    "deepnote_cell_type": "markdown"
   }
  },
  {
   "cell_type": "code",
   "metadata": {
    "cell_id": "00017-40f4491a-aea0-4db6-85c9-6d91e1beb0c6",
    "deepnote_to_be_reexecuted": false,
    "source_hash": "262f169e",
    "execution_start": 1624657506216,
    "execution_millis": 1024,
    "deepnote_cell_type": "code"
   },
   "source": "hist = diabetes_data.hist()",
   "execution_count": 9,
   "outputs": []
  },
  {
   "cell_type": "markdown",
   "source": "#### Plot the correlation matrix heatmap",
   "metadata": {
    "tags": [],
    "cell_id": "00018-c5bd1e67-475e-4090-bfba-f9a48e832a79",
    "deepnote_cell_type": "markdown"
   }
  },
  {
   "cell_type": "code",
   "metadata": {
    "cell_id": "00019-69400b02-5a10-49b1-b5fe-0ec6b279f863",
    "deepnote_to_be_reexecuted": false,
    "source_hash": "c8a03954",
    "execution_start": 1624657507243,
    "execution_millis": 906,
    "deepnote_cell_type": "code"
   },
   "source": "plt.figure(figsize=(12,10))\nprint('Correlation between various features')\np=sns.heatmap(diabetes_data.corr(), annot=True,cmap ='Blues')",
   "execution_count": 10,
   "outputs": [
    {
     "name": "stdout",
     "text": "Correlation between various features\n",
     "output_type": "stream"
    },
    {
     "data": {
      "text/plain": "<Figure size 864x720 with 2 Axes>",
      "image/png": "[encoded data removed]"
     },
     "metadata": {
      "image/png": {
       "width": 791,
       "height": 716
      }
     },
     "output_type": "display_data"
    }
   ]
  },
  {
   "cell_type": "markdown",
   "source": "**<font color='teal'> Define the `y` variable as the `Outcome` column.</font>**",
   "metadata": {
    "tags": [],
    "cell_id": "00020-82ae89d7-b8c5-4e49-b6e8-f637b2c091b5",
    "deepnote_cell_type": "markdown"
   }
  },
  {
   "cell_type": "code",
   "source": "diabetes_data.columns",
   "metadata": {
    "tags": [],
    "cell_id": "00022-b7bae7e3-22a9-4603-bc2c-0651ef2fc938",
    "deepnote_to_be_reexecuted": false,
    "source_hash": "e9b76c16",
    "execution_start": 1624657508148,
    "execution_millis": 14,
    "deepnote_cell_type": "code"
   },
   "outputs": [
    {
     "output_type": "execute_result",
     "execution_count": 11,
     "data": {
      "text/plain": "Index(['Pregnancies', 'Glucose', 'BloodPressure', 'SkinThickness', 'Insulin',\n       'BMI', 'DiabetesPedigreeFunction', 'Age', 'Outcome'],\n      dtype='object')"
     },
     "metadata": {}
    }
   ],
   "execution_count": 11
  },
  {
   "cell_type": "code",
   "metadata": {
    "cell_id": "00021-c5949ef8-cac3-4c14-951c-78e004a13c35",
    "deepnote_to_be_reexecuted": false,
    "source_hash": "104cf06f",
    "execution_start": 1624657508155,
    "execution_millis": 2,
    "deepnote_cell_type": "code"
   },
   "source": "y = diabetes_data['Outcome'].values\n\nfeatures = ['Pregnancies', 'Glucose', 'BloodPressure', 'SkinThickness', 'Insulin',\n       'BMI', 'DiabetesPedigreeFunction', 'Age']\n\nX = diabetes_data[features].values",
   "execution_count": 12,
   "outputs": []
  },
  {
   "cell_type": "markdown",
   "source": "**<font color='teal'> Create a 70/30 train and test split. </font>**",
   "metadata": {
    "tags": [],
    "cell_id": "00022-48d08118-c3db-483a-85cc-1fa5bd15a4e3",
    "deepnote_cell_type": "markdown"
   }
  },
  {
   "cell_type": "code",
   "metadata": {
    "cell_id": "00023-5e5d33c8-3170-4368-92f9-53283f0c7f7d",
    "deepnote_to_be_reexecuted": false,
    "source_hash": "c4d413",
    "execution_start": 1624657508160,
    "execution_millis": 715,
    "deepnote_cell_type": "code"
   },
   "source": "from sklearn.model_selection import train_test_split\nX_train, X_test, y_train, y_test = train_test_split(X, y, test_size=0.3, random_state=42)",
   "execution_count": 13,
   "outputs": []
  },
  {
   "cell_type": "markdown",
   "source": "**<font color='teal'> Using Sklearn, standarize the magnitude of the features by scaling the values. </font>**",
   "metadata": {
    "tags": [],
    "cell_id": "00024-7b1eec10-15e5-4637-aa9f-b866dbd1658b",
    "deepnote_cell_type": "markdown"
   }
  },
  {
   "cell_type": "markdown",
   "source": "Note: Don't forget to fit() your scaler on X_train and then use that fitted scaler to transform() X_test. This is to avoid data leakage while you standardize your data.",
   "metadata": {
    "cell_id": "00025-641327a9-cd6f-4313-87a9-1298da7ffc91",
    "deepnote_cell_type": "markdown"
   }
  },
  {
   "cell_type": "code",
   "metadata": {
    "cell_id": "00026-4b820d81-8231-438b-81a7-cb41a266b34d",
    "deepnote_to_be_reexecuted": false,
    "source_hash": "825ccfae",
    "execution_start": 1624657508878,
    "execution_millis": 2,
    "deepnote_cell_type": "code"
   },
   "source": "from sklearn import preprocessing\nscaler = preprocessing.StandardScaler().fit(X_train)\nX_train = scaler.transform(X_train)\n\nX_test = scaler.transform(X_test)\n\nX = scaler.transform(X)",
   "execution_count": 14,
   "outputs": []
  },
  {
   "cell_type": "markdown",
   "source": "#### Using a range of neighbor values of 1-10, apply the KNearestNeighbor classifier to classify the the data.",
   "metadata": {
    "tags": [],
    "cell_id": "00027-badfb701-ef09-49fd-8cbf-af204fa4d28e",
    "deepnote_cell_type": "markdown"
   }
  },
  {
   "cell_type": "code",
   "metadata": {
    "cell_id": "00028-01d515c4-2179-4c9d-bd0e-46e09eb1b79e",
    "deepnote_to_be_reexecuted": false,
    "source_hash": "cc97c9d1",
    "execution_start": 1624657508884,
    "execution_millis": 313,
    "deepnote_cell_type": "code"
   },
   "source": "from sklearn.neighbors import KNeighborsClassifier\n\n\ntest_scores = []\ntrain_scores = []\n\nfor i in range(1,10):\n\n    knn = KNeighborsClassifier(i)\n    knn.fit(X_train,y_train)\n    \n    train_scores.append(knn.score(X_train,y_train))\n    test_scores.append(knn.score(X_test,y_test))",
   "execution_count": 15,
   "outputs": []
  },
  {
   "cell_type": "markdown",
   "source": "**<font color='teal'> Print the train and test scores for each iteration.</font>**",
   "metadata": {
    "tags": [],
    "cell_id": "00029-1289031e-7db2-4305-84a8-eb0b9284ece4",
    "deepnote_cell_type": "markdown"
   }
  },
  {
   "cell_type": "code",
   "metadata": {
    "cell_id": "00030-7c219ab8-0f4c-4a51-b5ab-ab1c450ccc21",
    "deepnote_to_be_reexecuted": false,
    "source_hash": "e81cbf4e",
    "execution_start": 1624657509202,
    "execution_millis": 8,
    "deepnote_cell_type": "code"
   },
   "source": "train_scores",
   "execution_count": 16,
   "outputs": [
    {
     "output_type": "execute_result",
     "execution_count": 16,
     "data": {
      "text/plain": "[1.0,\n 0.851024208566108,\n 0.8547486033519553,\n 0.8417132216014898,\n 0.839851024208566,\n 0.8230912476722533,\n 0.8342644320297952,\n 0.8212290502793296,\n 0.8268156424581006]"
     },
     "metadata": {}
    }
   ]
  },
  {
   "cell_type": "code",
   "source": "test_scores",
   "metadata": {
    "tags": [],
    "cell_id": "00033-c42af2ed-0636-4043-995a-05cacc026cd8",
    "deepnote_to_be_reexecuted": false,
    "source_hash": "c0908902",
    "execution_start": 1624657509208,
    "execution_millis": 19,
    "deepnote_cell_type": "code"
   },
   "outputs": [
    {
     "output_type": "execute_result",
     "execution_count": 17,
     "data": {
      "text/plain": "[0.6666666666666666,\n 0.670995670995671,\n 0.670995670995671,\n 0.6926406926406926,\n 0.7012987012987013,\n 0.683982683982684,\n 0.7316017316017316,\n 0.7359307359307359,\n 0.7316017316017316]"
     },
     "metadata": {}
    }
   ],
   "execution_count": 17
  },
  {
   "cell_type": "markdown",
   "source": "**<font color='teal'> Identify the number of neighbors that resulted in the max score in the training dataset. </font>**",
   "metadata": {
    "tags": [],
    "cell_id": "00031-89056c3c-a37f-425e-9783-477d26c1b836",
    "deepnote_cell_type": "markdown"
   }
  },
  {
   "cell_type": "code",
   "metadata": {
    "cell_id": "00032-f463a1fb-ffad-4a2f-b6f7-1f495bb33378",
    "deepnote_to_be_reexecuted": false,
    "source_hash": "af189f40",
    "execution_start": 1624657509215,
    "execution_millis": 12,
    "deepnote_cell_type": "code"
   },
   "source": "train_scores.index(max(train_scores)) + 1",
   "execution_count": 18,
   "outputs": [
    {
     "output_type": "execute_result",
     "execution_count": 18,
     "data": {
      "text/plain": "1"
     },
     "metadata": {}
    }
   ]
  },
  {
   "cell_type": "markdown",
   "source": "**<font color='teal'> Identify the number of neighbors that resulted in the max score in the testing dataset. </font>**",
   "metadata": {
    "tags": [],
    "cell_id": "00033-f0c89997-0f21-4b85-89a3-6ddf384bc900",
    "deepnote_cell_type": "markdown"
   }
  },
  {
   "cell_type": "code",
   "metadata": {
    "cell_id": "00034-a542b9bf-00a0-423b-9cf2-4dbb3faf4f67",
    "deepnote_to_be_reexecuted": false,
    "source_hash": "951849f9",
    "execution_start": 1624657509220,
    "execution_millis": 14,
    "deepnote_cell_type": "code"
   },
   "source": "test_scores.index(max(test_scores)) + 1",
   "execution_count": 19,
   "outputs": [
    {
     "output_type": "execute_result",
     "execution_count": 19,
     "data": {
      "text/plain": "8"
     },
     "metadata": {}
    }
   ]
  },
  {
   "cell_type": "markdown",
   "source": "Plot the train and test model performance by number of neighbors.",
   "metadata": {
    "tags": [],
    "cell_id": "00035-505b7c05-d4ce-44ce-a4ab-e61f0ef42353",
    "deepnote_cell_type": "markdown"
   }
  },
  {
   "cell_type": "code",
   "metadata": {
    "cell_id": "00036-fe16a8b9-1e40-4c3e-b206-1e87a6fdd2e2",
    "deepnote_to_be_reexecuted": false,
    "source_hash": "62f11280",
    "execution_start": 1624657509232,
    "execution_millis": 254,
    "deepnote_cell_type": "code"
   },
   "source": "plt.figure(figsize=(12,5))\np = sns.lineplot(range(1,10),train_scores,marker='*',label='Train Score')\np = sns.lineplot(range(1,10),test_scores,marker='o',label='Test Score')",
   "execution_count": 20,
   "outputs": [
    {
     "name": "stderr",
     "text": "/shared-libs/python3.7/py/lib/python3.7/site-packages/seaborn/_decorators.py:43: FutureWarning: Pass the following variables as keyword args: x, y. From version 0.12, the only valid positional argument will be `data`, and passing other arguments without an explicit keyword will result in an error or misinterpretation.\n  FutureWarning\n/shared-libs/python3.7/py/lib/python3.7/site-packages/seaborn/_decorators.py:43: FutureWarning: Pass the following variables as keyword args: x, y. From version 0.12, the only valid positional argument will be `data`, and passing other arguments without an explicit keyword will result in an error or misinterpretation.\n  FutureWarning\n",
     "output_type": "stream"
    },
    {
     "data": {
      "text/plain": "<Figure size 864x360 with 1 Axes>",
      "image/png": "[encoded data removed]"
     },
     "metadata": {
      "image/png": {
       "width": 717,
       "height": 305
      }
     },
     "output_type": "display_data"
    }
   ]
  },
  {
   "cell_type": "markdown",
   "source": "**<font color='teal'> Fit and score the best number of neighbors based on the plot. </font>**",
   "metadata": {
    "tags": [],
    "cell_id": "00037-2eb88a0c-7235-40f6-a189-a5b51362561a",
    "deepnote_cell_type": "markdown"
   }
  },
  {
   "cell_type": "code",
   "metadata": {
    "cell_id": "00038-1145790f-299e-4f95-b3cc-92568ea586e2",
    "deepnote_to_be_reexecuted": false,
    "source_hash": "40b6b002",
    "execution_start": 1624657509483,
    "execution_millis": 10,
    "deepnote_cell_type": "code"
   },
   "source": "knn = KNeighborsClassifier(8)\nknn.fit(X_train,y_train)",
   "execution_count": 21,
   "outputs": [
    {
     "output_type": "execute_result",
     "execution_count": 21,
     "data": {
      "text/plain": "KNeighborsClassifier(n_neighbors=8)"
     },
     "metadata": {}
    }
   ]
  },
  {
   "cell_type": "code",
   "metadata": {
    "cell_id": "00039-0c2f2ad9-a958-4839-ba93-b6a90b98daab",
    "deepnote_to_be_reexecuted": false,
    "source_hash": "aac86fd7",
    "execution_start": 1624657509534,
    "execution_millis": 0,
    "deepnote_cell_type": "code"
   },
   "source": "from sklearn.metrics import confusion_matrix\ny_pred = knn.predict(X_test)\npl = confusion_matrix(y_test,y_pred)",
   "execution_count": 22,
   "outputs": []
  },
  {
   "cell_type": "markdown",
   "source": "**<font color='teal'> Plot the confusion matrix for the model fit above. </font>**",
   "metadata": {
    "tags": [],
    "cell_id": "00040-e6bc0f50-0570-4633-93a8-ea05ada9dfa3",
    "deepnote_cell_type": "markdown"
   }
  },
  {
   "cell_type": "code",
   "metadata": {
    "cell_id": "00041-677dbf3b-4ff7-4dfc-a322-d12f4e60181a",
    "deepnote_to_be_reexecuted": false,
    "source_hash": "42e9cff2",
    "execution_start": 1624657509535,
    "execution_millis": 443,
    "deepnote_cell_type": "code"
   },
   "source": "from sklearn.metrics import plot_confusion_matrix\ntitles_options = [(\"Confusion matrix, without normalization\", None),\n                  (\"Normalized confusion matrix\", 'true')]\nfor title, normalize in titles_options:\n    disp = plot_confusion_matrix(knn, X_test, y_test,\n                                 cmap=plt.cm.Blues,\n                                 normalize=normalize)\n    disp.ax_.set_title(title)\n\n    print(title)\n    print(disp.confusion_matrix)\n\nplt.show()\n",
   "execution_count": 23,
   "outputs": [
    {
     "name": "stdout",
     "text": "Confusion matrix, without normalization\n[[126  25]\n [ 36  44]]\nNormalized confusion matrix\n[[0.83443709 0.16556291]\n [0.45       0.55      ]]\n",
     "output_type": "stream"
    },
    {
     "data": {
      "text/plain": "<Figure size 432x288 with 2 Axes>",
      "image/png": "[encoded data removed]"
     },
     "metadata": {
      "image/png": {
       "width": 323,
       "height": 284
      }
     },
     "output_type": "display_data"
    },
    {
     "data": {
      "text/plain": "<Figure size 432x288 with 2 Axes>",
      "image/png": "[encoded data removed]"
     },
     "metadata": {
      "image/png": {
       "width": 319,
       "height": 284
      }
     },
     "output_type": "display_data"
    }
   ]
  },
  {
   "cell_type": "markdown",
   "source": "**<font color='teal'> Print the classification report </font>**",
   "metadata": {
    "tags": [],
    "cell_id": "00042-56baf1f9-5e87-4fea-9767-c8e98f3eb24d",
    "deepnote_cell_type": "markdown"
   }
  },
  {
   "cell_type": "code",
   "metadata": {
    "cell_id": "00043-472b95c5-0fcb-4607-933d-a37095c89d34",
    "deepnote_to_be_reexecuted": false,
    "source_hash": "e3df0b94",
    "execution_start": 1624657509974,
    "execution_millis": 14,
    "deepnote_cell_type": "code"
   },
   "source": "from sklearn.metrics import classification_report\ntarget_names = ['class 0', 'class 1']\nprint(classification_report(y_test, y_pred, target_names=target_names))",
   "execution_count": 24,
   "outputs": [
    {
     "name": "stdout",
     "text": "              precision    recall  f1-score   support\n\n     class 0       0.78      0.83      0.81       151\n     class 1       0.64      0.55      0.59        80\n\n    accuracy                           0.74       231\n   macro avg       0.71      0.69      0.70       231\nweighted avg       0.73      0.74      0.73       231\n\n",
     "output_type": "stream"
    }
   ]
  },
  {
   "cell_type": "markdown",
   "source": "#### In the case of the K nearest neighbors algorithm, the K parameter is one of the most important parameters affecting the model performance.  The model performance isn't horrible, but what if we didn't consider a wide enough range of values in our neighbors for the KNN? An alternative to fitting a loop of models is to use a grid search to identify the proper number. It is common practice to use a grid search method for all adjustable parameters in any type of machine learning algorithm. First, you define the grid — aka the range of values — to test in the parameter being optimized, and then compare the model outcome performance based on the different values in the grid.",
   "metadata": {
    "tags": [],
    "cell_id": "00044-8b747961-26e0-41bc-83bc-81a6af678cb8",
    "deepnote_cell_type": "markdown"
   }
  },
  {
   "cell_type": "markdown",
   "source": "#### Run the code in the next cell to see how to implement the grid search method for identifying the best parameter value for the n_neighbors parameter. Notice the param_grid is the range value to test and we apply cross validation with five folds to score each possible value of n_neighbors.",
   "metadata": {
    "tags": [],
    "cell_id": "00045-5b328908-aa22-4ff3-8883-cf919a997250",
    "deepnote_cell_type": "markdown"
   }
  },
  {
   "cell_type": "code",
   "metadata": {
    "cell_id": "00046-972dcde4-f4ca-4484-9654-343f70ffa9da",
    "deepnote_to_be_reexecuted": false,
    "source_hash": "f8b43b65",
    "execution_start": 1624657509984,
    "execution_millis": 1932,
    "deepnote_cell_type": "code"
   },
   "source": "from sklearn.model_selection import GridSearchCV\nparam_grid = {'n_neighbors':np.arange(1,50)}\nknn = KNeighborsClassifier()\nknn_cv= GridSearchCV(knn,param_grid,cv=5)\nknn_cv.fit(X,y)",
   "execution_count": 25,
   "outputs": [
    {
     "output_type": "execute_result",
     "execution_count": 25,
     "data": {
      "text/plain": "GridSearchCV(cv=5, estimator=KNeighborsClassifier(),\n             param_grid={'n_neighbors': array([ 1,  2,  3,  4,  5,  6,  7,  8,  9, 10, 11, 12, 13, 14, 15, 16, 17,\n       18, 19, 20, 21, 22, 23, 24, 25, 26, 27, 28, 29, 30, 31, 32, 33, 34,\n       35, 36, 37, 38, 39, 40, 41, 42, 43, 44, 45, 46, 47, 48, 49])})"
     },
     "metadata": {}
    }
   ]
  },
  {
   "cell_type": "markdown",
   "source": "#### Print the best score and best parameter for n_neighbors.",
   "metadata": {
    "tags": [],
    "cell_id": "00047-1f6bf177-df9d-40f1-a10c-9a02072ff7af",
    "deepnote_cell_type": "markdown"
   }
  },
  {
   "cell_type": "code",
   "metadata": {
    "cell_id": "00048-8b801f57-9c9b-432b-91ce-2daba63b9921",
    "deepnote_to_be_reexecuted": false,
    "source_hash": "fd698e2c",
    "execution_start": 1624657511899,
    "execution_millis": 17,
    "deepnote_cell_type": "code"
   },
   "source": "print(\"Best Score:\" + str(knn_cv.best_score_))\nprint(\"Best Parameters: \" + str(knn_cv.best_params_))",
   "execution_count": 26,
   "outputs": [
    {
     "name": "stdout",
     "text": "Best Score:0.7721925133689839\nBest Parameters: {'n_neighbors': 30}\n",
     "output_type": "stream"
    }
   ]
  },
  {
   "cell_type": "markdown",
   "source": "Here you can see that the ideal number of n_neighbors for this model is 14 based on the grid search performed. ",
   "metadata": {
    "cell_id": "00049-84108231-97d0-4f01-982b-fcf03bc82bd1",
    "deepnote_cell_type": "markdown"
   }
  },
  {
   "cell_type": "markdown",
   "source": "**<font color='teal'> Now, following the KNN example, apply this grid search method to find the optimal number of estimators in a Randon Forest model.\n</font>**",
   "metadata": {
    "tags": [],
    "cell_id": "00050-a4c49be2-2df5-4043-b007-24e6d7d57b46",
    "deepnote_cell_type": "markdown"
   }
  },
  {
   "cell_type": "code",
   "metadata": {
    "cell_id": "00051-fada7add-97f5-4c27-8fc2-de54444569f2",
    "deepnote_to_be_reexecuted": false,
    "source_hash": "93d84f78",
    "execution_start": 1624657964643,
    "execution_millis": 42997,
    "deepnote_cell_type": "code"
   },
   "source": "from sklearn.ensemble import RandomForestClassifier\nparam_grid = {'n_estimators':np.arange(1,100)}\nclf = RandomForestClassifier(random_state=0)\nclf_cv= GridSearchCV(clf,param_grid,cv=5)\nclf_cv.fit(X,y)",
   "execution_count": 31,
   "outputs": [
    {
     "output_type": "execute_result",
     "execution_count": 31,
     "data": {
      "text/plain": "GridSearchCV(cv=5, estimator=RandomForestClassifier(random_state=0),\n             param_grid={'n_estimators': array([ 1,  2,  3,  4,  5,  6,  7,  8,  9, 10, 11, 12, 13, 14, 15, 16, 17,\n       18, 19, 20, 21, 22, 23, 24, 25, 26, 27, 28, 29, 30, 31, 32, 33, 34,\n       35, 36, 37, 38, 39, 40, 41, 42, 43, 44, 45, 46, 47, 48, 49, 50, 51,\n       52, 53, 54, 55, 56, 57, 58, 59, 60, 61, 62, 63, 64, 65, 66, 67, 68,\n       69, 70, 71, 72, 73, 74, 75, 76, 77, 78, 79, 80, 81, 82, 83, 84, 85,\n       86, 87, 88, 89, 90, 91, 92, 93, 94, 95, 96, 97, 98, 99])})"
     },
     "metadata": {}
    }
   ]
  },
  {
   "cell_type": "code",
   "metadata": {
    "tags": [],
    "cell_id": "00052-6bff5f65-4d1e-4da6-991c-0f68bc06c6c9",
    "deepnote_to_be_reexecuted": false,
    "source_hash": "15d2823e",
    "execution_start": 1624658013408,
    "execution_millis": 1,
    "deepnote_cell_type": "code"
   },
   "source": "print(\"Best Score:\" + str(clf_cv.best_score_))\nprint(\"Best Parameters: \" + str(clf_cv.best_params_))",
   "execution_count": 32,
   "outputs": [
    {
     "name": "stdout",
     "text": "Best Score:0.7721500721500723\nBest Parameters: {'n_estimators': 34}\n",
     "output_type": "stream"
    }
   ]
  },
  {
   "cell_type": "code",
   "source": "",
   "metadata": {
    "tags": [],
    "cell_id": "00056-e8cd4440-ec2c-4ed8-83cd-78f4c3402561",
    "deepnote_cell_type": "code"
   },
   "outputs": [],
   "execution_count": null
  },
  {
   "cell_type": "markdown",
   "source": "<a style='text-decoration:none;line-height:16px;display:flex;color:#5B5B62;padding:10px;justify-content:end;' href='https://deepnote.com?utm_source=created-in-deepnote-cell&projectId=0d36682d-bc89-47a4-86a1-e970c0e11891' target=\"_blank\">\n<img alt='Created in deepnote.com' style='display:inline;max-height:16px;margin:0px;margin-right:7.5px;' src='data:image/svg+xml;base64,PD94bWwgdmVyc2lvbj0iMS4wIiBlbmNvZGluZz0iVVRGLTgiPz4KPHN2ZyB3aWR0aD0iODBweCIgaGVpZ2h0PSI4MHB4IiB2aWV3Qm94PSIwIDAgODAgODAiIHZlcnNpb249IjEuMSIgeG1sbnM9Imh0dHA6Ly93d3cudzMub3JnLzIwMDAvc3ZnIiB4bWxuczp4bGluaz0iaHR0cDovL3d3dy53My5vcmcvMTk5OS94bGluayI+CiAgICA8IS0tIEdlbmVyYXRvcjogU2tldGNoIDU0LjEgKDc2NDkwKSAtIGh0dHBzOi8vc2tldGNoYXBwLmNvbSAtLT4KICAgIDx0aXRsZT5Hcm91cCAzPC90aXRsZT4KICAgIDxkZXNjPkNyZWF0ZWQgd2l0aCBTa2V0Y2guPC9kZXNjPgogICAgPGcgaWQ9IkxhbmRpbmciIHN0cm9rZT0ibm9uZSIgc3Ryb2tlLXdpZHRoPSIxIiBmaWxsPSJub25lIiBmaWxsLXJ1bGU9ImV2ZW5vZGQiPgogICAgICAgIDxnIGlkPSJBcnRib2FyZCIgdHJhbnNmb3JtPSJ0cmFuc2xhdGUoLTEyMzUuMDAwMDAwLCAtNzkuMDAwMDAwKSI+CiAgICAgICAgICAgIDxnIGlkPSJHcm91cC0zIiB0cmFuc2Zvcm09InRyYW5zbGF0ZSgxMjM1LjAwMDAwMCwgNzkuMDAwMDAwKSI+CiAgICAgICAgICAgICAgICA8cG9seWdvbiBpZD0iUGF0aC0yMCIgZmlsbD0iIzAyNjVCNCIgcG9pbnRzPSIyLjM3NjIzNzYyIDgwIDM4LjA0NzY2NjcgODAgNTcuODIxNzgyMiA3My44MDU3NTkyIDU3LjgyMTc4MjIgMzIuNzU5MjczOSAzOS4xNDAyMjc4IDMxLjY4MzE2ODMiPjwvcG9seWdvbj4KICAgICAgICAgICAgICAgIDxwYXRoIGQ9Ik0zNS4wMDc3MTgsODAgQzQyLjkwNjIwMDcsNzYuNDU0OTM1OCA0Ny41NjQ5MTY3LDcxLjU0MjI2NzEgNDguOTgzODY2LDY1LjI2MTk5MzkgQzUxLjExMjI4OTksNTUuODQxNTg0MiA0MS42NzcxNzk1LDQ5LjIxMjIyODQgMjUuNjIzOTg0Niw0OS4yMTIyMjg0IEMyNS40ODQ5Mjg5LDQ5LjEyNjg0NDggMjkuODI2MTI5Niw0My4yODM4MjQ4IDM4LjY0NzU4NjksMzEuNjgzMTY4MyBMNzIuODcxMjg3MSwzMi41NTQ0MjUgTDY1LjI4MDk3Myw2Ny42NzYzNDIxIEw1MS4xMTIyODk5LDc3LjM3NjE0NCBMMzUuMDA3NzE4LDgwIFoiIGlkPSJQYXRoLTIyIiBmaWxsPSIjMDAyODY4Ij48L3BhdGg+CiAgICAgICAgICAgICAgICA8cGF0aCBkPSJNMCwzNy43MzA0NDA1IEwyNy4xMTQ1MzcsMC4yNTcxMTE0MzYgQzYyLjM3MTUxMjMsLTEuOTkwNzE3MDEgODAsMTAuNTAwMzkyNyA4MCwzNy43MzA0NDA1IEM4MCw2NC45NjA0ODgyIDY0Ljc3NjUwMzgsNzkuMDUwMzQxNCAzNC4zMjk1MTEzLDgwIEM0Ny4wNTUzNDg5LDc3LjU2NzA4MDggNTMuNDE4MjY3Nyw3MC4zMTM2MTAzIDUzLjQxODI2NzcsNTguMjM5NTg4NSBDNTMuNDE4MjY3Nyw0MC4xMjg1NTU3IDM2LjMwMzk1NDQsMzcuNzMwNDQwNSAyNS4yMjc0MTcsMzcuNzMwNDQwNSBDMTcuODQzMDU4NiwzNy43MzA0NDA1IDkuNDMzOTE5NjYsMzcuNzMwNDQwNSAwLDM3LjczMDQ0MDUgWiIgaWQ9IlBhdGgtMTkiIGZpbGw9IiMzNzkzRUYiPjwvcGF0aD4KICAgICAgICAgICAgPC9nPgogICAgICAgIDwvZz4KICAgIDwvZz4KPC9zdmc+' > </img>\nCreated in <span style='font-weight:600;margin-left:4px;'>Deepnote</span></a>",
   "metadata": {
    "tags": [],
    "created_in_deepnote_cell": true,
    "deepnote_cell_type": "markdown"
   }
  }
 ],
 "nbformat": 4,
 "nbformat_minor": 4,
 "metadata": {
  "kernelspec": {
   "display_name": "Python 3",
   "language": "python",
   "name": "python3"
  },
  "language_info": {
   "codemirror_mode": {
    "name": "ipython",
    "version": 3
   },
   "file_extension": ".py",
   "mimetype": "text/x-python",
   "name": "python",
   "nbconvert_exporter": "python",
   "pygments_lexer": "ipython3",
   "version": "3.7.4"
  },
  "deepnote_notebook_id": "01c17c3d-bfdb-4d79-8a68-b0bd99d9a7f5",
  "deepnote": {},
  "deepnote_execution_queue": []
 }
}