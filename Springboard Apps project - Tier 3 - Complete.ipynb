{
  "cells": [
    {
      "cell_type": "markdown",
      "source": "# Springboard Apps project - Tier 3 - Complete\n\nWelcome to the Apps project! To give you a taste of your future career, we're going to walk through exactly the kind of notebook that you'd write as a data scientist. In the process, we'll be sure to signpost the general framework for our investigation - the Data Science Pipeline - as well as give reasons for why we're doing what we're doing. We're also going to apply some of the skills and knowledge you've built up in the previous unit when reading Professor Spiegelhalter's *The Art of Statistics* (hereinafter *AoS*). \n\nSo let's get cracking!\n\n**Brief**\n\nDid Apple Store apps receive better reviews than Google Play apps?\n\n## Stages of the project\n\n1. Sourcing and loading \n    * Load the two datasets\n    * Pick the columns that we are going to work with \n    * Subsetting the data on this basis \n \n \n2. Cleaning, transforming and visualizing\n    * Check the data types and fix them\n    * Add a `platform` column to both the `Apple` and the `Google` dataframes\n    * Changing the column names to prepare for a join \n    * Join the two data sets\n    * Eliminate the `NaN` values\n    * Filter only those apps that have been reviewed at least once\n    * Summarize the data visually and analytically (by the column `platform`)  \n  \n  \n3. Modelling \n    * Hypothesis formulation\n    * Getting the distribution of the data\n    * Permutation test \n\n\n4. Evaluating and concluding \n    * What is our conclusion?\n    * What is our decision?\n    * Other models we could have used. \n    ",
      "metadata": {
        "id": "i2RUFW7TFcuh",
        "colab_type": "text",
        "cell_id": "00000-82a95686-31ce-486d-8885-007496332721",
        "deepnote_cell_type": "markdown"
      }
    },
    {
      "cell_type": "markdown",
      "source": "## Importing the libraries\n\nIn this case we are going to import pandas, numpy, scipy, random and matplotlib.pyplot",
      "metadata": {
        "id": "QLUAXtl1Fcuk",
        "colab_type": "text",
        "cell_id": "00001-aed17b02-164e-4ef1-a796-5d53af515ea0",
        "deepnote_cell_type": "markdown"
      }
    },
    {
      "cell_type": "code",
      "metadata": {
        "id": "XeXJOlGiFcum",
        "colab_type": "code",
        "colab": {},
        "cell_id": "00002-ab4aba7f-e76e-44ca-b84d-69a2a5578656",
        "deepnote_to_be_reexecuted": false,
        "source_hash": "558c7ea1",
        "execution_millis": 974,
        "execution_start": 1618666952364,
        "deepnote_cell_type": "code"
      },
      "source": "import pandas as pd\nimport numpy as np\nimport matplotlib.pyplot as plt\n# scipi is a library for statistical tests and visualizations \nfrom scipy import stats\n# random enables us to generate random numbers\nimport random",
      "execution_count": 2,
      "outputs": []
    },
    {
      "cell_type": "markdown",
      "source": "## Stage 1 -  Sourcing and loading data",
      "metadata": {
        "id": "zVD7NlPAFcup",
        "colab_type": "text",
        "cell_id": "00003-d7e6b482-5665-405c-8b06-43a7963e1e24",
        "deepnote_cell_type": "markdown"
      }
    },
    {
      "cell_type": "markdown",
      "source": "### 1a. Source and load the data\nLet's download the data from Kaggle. Kaggle is a fantastic resource: a kind of social medium for data scientists, it boasts projects, datasets and news on the freshest libraries and technologies all in one place. The data from the Apple Store can be found [here](https://www.kaggle.com/ramamet4/app-store-apple-data-set-10k-apps) and the data from Google Store can be found [here](https://www.kaggle.com/lava18/google-play-store-apps).\nDownload the datasets and save them in your working directory.",
      "metadata": {
        "id": "KU8bdbImFcuq",
        "colab_type": "text",
        "cell_id": "00004-38d4eafc-4104-4c2d-a644-172552efc12b",
        "deepnote_cell_type": "markdown"
      }
    },
    {
      "cell_type": "code",
      "metadata": {
        "id": "laM1PB76Fcur",
        "colab_type": "code",
        "colab": {},
        "cell_id": "00005-d2cf6584-fdcb-489c-be60-632208039874",
        "deepnote_to_be_reexecuted": false,
        "source_hash": "487bb78f",
        "execution_millis": 122,
        "execution_start": 1618666954724,
        "deepnote_cell_type": "code"
      },
      "source": "# Now that the files are saved, we want to load them into Python using read_csv and pandas.\n\n# Create a variable called google, and store in it the path of the csv file that contains your google dataset. \n# If your dataset is in the same folder as this notebook, the path will simply be the name of the file. \ngoogle = 'googleplaystore.csv'\n\n# Read the csv file into a data frame called Google using the read_csv() pandas method.\nGoogle = pd.read_csv(google)\n\n# Using the head() pandas method, observe the first three entries.\nGoogle.head(3)",
      "execution_count": 3,
      "outputs": [
        {
          "output_type": "execute_result",
          "execution_count": 3,
          "data": {
            "application/vnd.deepnote.dataframe.v2+json": {
              "row_count": 3,
              "column_count": 13,
              "columns": [
                {
                  "name": "App",
                  "dtype": "object",
                  "stats": {
                    "unique_count": 3,
                    "nan_count": 0,
                    "categories": [
                      {
                        "name": "Photo Editor & Candy Camera & Grid & ScrapBook",
                        "count": 1
                      },
                      {
                        "name": "Coloring book moana",
                        "count": 1
                      },
                      {
                        "name": "U Launcher Lite – FREE Live Cool Themes, Hide Apps",
                        "count": 1
                      }
                    ]
                  }
                },
                {
                  "name": "Category",
                  "dtype": "object",
                  "stats": {
                    "unique_count": 1,
                    "nan_count": 0,
                    "categories": [
                      {
                        "name": "ART_AND_DESIGN",
                        "count": 3
                      }
                    ]
                  }
                },
                {
                  "name": "Rating",
                  "dtype": "float64",
                  "stats": {
                    "unique_count": 3,
                    "nan_count": 0,
                    "min": "3.9",
                    "max": "4.7",
                    "histogram": [
                      {
                        "bin_start": 3.9,
                        "bin_end": 3.98,
                        "count": 1
                      },
                      {
                        "bin_start": 3.98,
                        "bin_end": 4.06,
                        "count": 0
                      },
                      {
                        "bin_start": 4.06,
                        "bin_end": 4.14,
                        "count": 1
                      },
                      {
                        "bin_start": 4.14,
                        "bin_end": 4.22,
                        "count": 0
                      },
                      {
                        "bin_start": 4.22,
                        "bin_end": 4.3,
                        "count": 0
                      },
                      {
                        "bin_start": 4.3,
                        "bin_end": 4.38,
                        "count": 0
                      },
                      {
                        "bin_start": 4.38,
                        "bin_end": 4.46,
                        "count": 0
                      },
                      {
                        "bin_start": 4.46,
                        "bin_end": 4.54,
                        "count": 0
                      },
                      {
                        "bin_start": 4.54,
                        "bin_end": 4.62,
                        "count": 0
                      },
                      {
                        "bin_start": 4.62,
                        "bin_end": 4.7,
                        "count": 1
                      }
                    ]
                  }
                },
                {
                  "name": "Reviews",
                  "dtype": "object",
                  "stats": {
                    "unique_count": 3,
                    "nan_count": 0,
                    "categories": [
                      {
                        "name": "159",
                        "count": 1
                      },
                      {
                        "name": "967",
                        "count": 1
                      },
                      {
                        "name": "87510",
                        "count": 1
                      }
                    ]
                  }
                },
                {
                  "name": "Size",
                  "dtype": "object",
                  "stats": {
                    "unique_count": 3,
                    "nan_count": 0,
                    "categories": [
                      {
                        "name": "19M",
                        "count": 1
                      },
                      {
                        "name": "14M",
                        "count": 1
                      },
                      {
                        "name": "8.7M",
                        "count": 1
                      }
                    ]
                  }
                },
                {
                  "name": "Installs",
                  "dtype": "object",
                  "stats": {
                    "unique_count": 3,
                    "nan_count": 0,
                    "categories": [
                      {
                        "name": "10,000+",
                        "count": 1
                      },
                      {
                        "name": "500,000+",
                        "count": 1
                      },
                      {
                        "name": "5,000,000+",
                        "count": 1
                      }
                    ]
                  }
                },
                {
                  "name": "Type",
                  "dtype": "object",
                  "stats": {
                    "unique_count": 1,
                    "nan_count": 0,
                    "categories": [
                      {
                        "name": "Free",
                        "count": 3
                      }
                    ]
                  }
                },
                {
                  "name": "Price",
                  "dtype": "object",
                  "stats": {
                    "unique_count": 1,
                    "nan_count": 0,
                    "categories": [
                      {
                        "name": "0",
                        "count": 3
                      }
                    ]
                  }
                },
                {
                  "name": "Content Rating",
                  "dtype": "object",
                  "stats": {
                    "unique_count": 1,
                    "nan_count": 0,
                    "categories": [
                      {
                        "name": "Everyone",
                        "count": 3
                      }
                    ]
                  }
                },
                {
                  "name": "Genres",
                  "dtype": "object",
                  "stats": {
                    "unique_count": 2,
                    "nan_count": 0,
                    "categories": [
                      {
                        "name": "Art & Design",
                        "count": 2
                      },
                      {
                        "name": "Art & Design;Pretend Play",
                        "count": 1
                      }
                    ]
                  }
                },
                {
                  "name": "Last Updated",
                  "dtype": "object",
                  "stats": {
                    "unique_count": 3,
                    "nan_count": 0,
                    "categories": [
                      {
                        "name": "January 7, 2018",
                        "count": 1
                      },
                      {
                        "name": "January 15, 2018",
                        "count": 1
                      },
                      {
                        "name": "August 1, 2018",
                        "count": 1
                      }
                    ]
                  }
                },
                {
                  "name": "Current Ver",
                  "dtype": "object",
                  "stats": {
                    "unique_count": 3,
                    "nan_count": 0,
                    "categories": [
                      {
                        "name": "1.0.0",
                        "count": 1
                      },
                      {
                        "name": "2.0.0",
                        "count": 1
                      },
                      {
                        "name": "1.2.4",
                        "count": 1
                      }
                    ]
                  }
                },
                {
                  "name": "Android Ver",
                  "dtype": "object",
                  "stats": {
                    "unique_count": 1,
                    "nan_count": 0,
                    "categories": [
                      {
                        "name": "4.0.3 and up",
                        "count": 3
                      }
                    ]
                  }
                },
                {
                  "name": "_deepnote_index_column",
                  "dtype": "int64"
                }
              ],
              "rows_top": [
                {
                  "App": "Photo Editor & Candy Camera & Grid & ScrapBook",
                  "Category": "ART_AND_DESIGN",
                  "Rating": 4.1,
                  "Reviews": "159",
                  "Size": "19M",
                  "Installs": "10,000+",
                  "Type": "Free",
                  "Price": "0",
                  "Content Rating": "Everyone",
                  "Genres": "Art & Design",
                  "Last Updated": "January 7, 2018",
                  "Current Ver": "1.0.0",
                  "Android Ver": "4.0.3 and up",
                  "_deepnote_index_column": 0
                },
                {
                  "App": "Coloring book moana",
                  "Category": "ART_AND_DESIGN",
                  "Rating": 3.9,
                  "Reviews": "967",
                  "Size": "14M",
                  "Installs": "500,000+",
                  "Type": "Free",
                  "Price": "0",
                  "Content Rating": "Everyone",
                  "Genres": "Art & Design;Pretend Play",
                  "Last Updated": "January 15, 2018",
                  "Current Ver": "2.0.0",
                  "Android Ver": "4.0.3 and up",
                  "_deepnote_index_column": 1
                },
                {
                  "App": "U Launcher Lite – FREE Live Cool Themes, Hide Apps",
                  "Category": "ART_AND_DESIGN",
                  "Rating": 4.7,
                  "Reviews": "87510",
                  "Size": "8.7M",
                  "Installs": "5,000,000+",
                  "Type": "Free",
                  "Price": "0",
                  "Content Rating": "Everyone",
                  "Genres": "Art & Design",
                  "Last Updated": "August 1, 2018",
                  "Current Ver": "1.2.4",
                  "Android Ver": "4.0.3 and up",
                  "_deepnote_index_column": 2
                }
              ],
              "rows_bottom": null
            },
            "text/plain": "                                                 App        Category  Rating  \\\n0     Photo Editor & Candy Camera & Grid & ScrapBook  ART_AND_DESIGN     4.1   \n1                                Coloring book moana  ART_AND_DESIGN     3.9   \n2  U Launcher Lite – FREE Live Cool Themes, Hide ...  ART_AND_DESIGN     4.7   \n\n  Reviews  Size    Installs  Type Price Content Rating  \\\n0     159   19M     10,000+  Free     0       Everyone   \n1     967   14M    500,000+  Free     0       Everyone   \n2   87510  8.7M  5,000,000+  Free     0       Everyone   \n\n                      Genres      Last Updated Current Ver   Android Ver  \n0               Art & Design   January 7, 2018       1.0.0  4.0.3 and up  \n1  Art & Design;Pretend Play  January 15, 2018       2.0.0  4.0.3 and up  \n2               Art & Design    August 1, 2018       1.2.4  4.0.3 and up  ",
            "text/html": "<div>\n<style scoped>\n    .dataframe tbody tr th:only-of-type {\n        vertical-align: middle;\n    }\n\n    .dataframe tbody tr th {\n        vertical-align: top;\n    }\n\n    .dataframe thead th {\n        text-align: right;\n    }\n</style>\n<table border=\"1\" class=\"dataframe\">\n  <thead>\n    <tr style=\"text-align: right;\">\n      <th></th>\n      <th>App</th>\n      <th>Category</th>\n      <th>Rating</th>\n      <th>Reviews</th>\n      <th>Size</th>\n      <th>Installs</th>\n      <th>Type</th>\n      <th>Price</th>\n      <th>Content Rating</th>\n      <th>Genres</th>\n      <th>Last Updated</th>\n      <th>Current Ver</th>\n      <th>Android Ver</th>\n    </tr>\n  </thead>\n  <tbody>\n    <tr>\n      <th>0</th>\n      <td>Photo Editor &amp; Candy Camera &amp; Grid &amp; ScrapBook</td>\n      <td>ART_AND_DESIGN</td>\n      <td>4.1</td>\n      <td>159</td>\n      <td>19M</td>\n      <td>10,000+</td>\n      <td>Free</td>\n      <td>0</td>\n      <td>Everyone</td>\n      <td>Art &amp; Design</td>\n      <td>January 7, 2018</td>\n      <td>1.0.0</td>\n      <td>4.0.3 and up</td>\n    </tr>\n    <tr>\n      <th>1</th>\n      <td>Coloring book moana</td>\n      <td>ART_AND_DESIGN</td>\n      <td>3.9</td>\n      <td>967</td>\n      <td>14M</td>\n      <td>500,000+</td>\n      <td>Free</td>\n      <td>0</td>\n      <td>Everyone</td>\n      <td>Art &amp; Design;Pretend Play</td>\n      <td>January 15, 2018</td>\n      <td>2.0.0</td>\n      <td>4.0.3 and up</td>\n    </tr>\n    <tr>\n      <th>2</th>\n      <td>U Launcher Lite – FREE Live Cool Themes, Hide ...</td>\n      <td>ART_AND_DESIGN</td>\n      <td>4.7</td>\n      <td>87510</td>\n      <td>8.7M</td>\n      <td>5,000,000+</td>\n      <td>Free</td>\n      <td>0</td>\n      <td>Everyone</td>\n      <td>Art &amp; Design</td>\n      <td>August 1, 2018</td>\n      <td>1.2.4</td>\n      <td>4.0.3 and up</td>\n    </tr>\n  </tbody>\n</table>\n</div>"
          },
          "metadata": {}
        }
      ]
    },
    {
      "cell_type": "code",
      "metadata": {
        "id": "3AW8EA1wFcuu",
        "colab_type": "code",
        "colab": {},
        "cell_id": "00006-ff3ae69b-7d50-492c-a31c-541339c3ab80",
        "deepnote_to_be_reexecuted": false,
        "source_hash": "70abe5e1",
        "execution_millis": 64,
        "execution_start": 1618666955928,
        "deepnote_cell_type": "code"
      },
      "source": "# Create a variable called apple, and store in it the path of the csv file that contains your apple dataset. \napple = 'AppleStore.csv'\n\n# Read the csv file into a pandas DataFrame object called Apple.\nApple = pd.read_csv(apple)\n\n# Observe the first three entries like you did with your other data. \nApple.head(3)",
      "execution_count": 4,
      "outputs": [
        {
          "output_type": "execute_result",
          "execution_count": 4,
          "data": {
            "application/vnd.deepnote.dataframe.v2+json": {
              "row_count": 3,
              "column_count": 17,
              "columns": [
                {
                  "name": "Unnamed: 0",
                  "dtype": "int64",
                  "stats": {
                    "unique_count": 3,
                    "nan_count": 0,
                    "min": "1",
                    "max": "3",
                    "histogram": [
                      {
                        "bin_start": 1,
                        "bin_end": 1.2,
                        "count": 1
                      },
                      {
                        "bin_start": 1.2,
                        "bin_end": 1.4,
                        "count": 0
                      },
                      {
                        "bin_start": 1.4,
                        "bin_end": 1.6,
                        "count": 0
                      },
                      {
                        "bin_start": 1.6,
                        "bin_end": 1.8,
                        "count": 0
                      },
                      {
                        "bin_start": 1.8,
                        "bin_end": 2,
                        "count": 0
                      },
                      {
                        "bin_start": 2,
                        "bin_end": 2.2,
                        "count": 1
                      },
                      {
                        "bin_start": 2.2,
                        "bin_end": 2.4000000000000004,
                        "count": 0
                      },
                      {
                        "bin_start": 2.4000000000000004,
                        "bin_end": 2.6,
                        "count": 0
                      },
                      {
                        "bin_start": 2.6,
                        "bin_end": 2.8,
                        "count": 0
                      },
                      {
                        "bin_start": 2.8,
                        "bin_end": 3,
                        "count": 1
                      }
                    ]
                  }
                },
                {
                  "name": "id",
                  "dtype": "int64",
                  "stats": {
                    "unique_count": 3,
                    "nan_count": 0,
                    "min": "281656475",
                    "max": "281940292",
                    "histogram": [
                      {
                        "bin_start": 281656475,
                        "bin_end": 281684856.7,
                        "count": 1
                      },
                      {
                        "bin_start": 281684856.7,
                        "bin_end": 281713238.4,
                        "count": 0
                      },
                      {
                        "bin_start": 281713238.4,
                        "bin_end": 281741620.1,
                        "count": 0
                      },
                      {
                        "bin_start": 281741620.1,
                        "bin_end": 281770001.8,
                        "count": 0
                      },
                      {
                        "bin_start": 281770001.8,
                        "bin_end": 281798383.5,
                        "count": 1
                      },
                      {
                        "bin_start": 281798383.5,
                        "bin_end": 281826765.2,
                        "count": 0
                      },
                      {
                        "bin_start": 281826765.2,
                        "bin_end": 281855146.9,
                        "count": 0
                      },
                      {
                        "bin_start": 281855146.9,
                        "bin_end": 281883528.6,
                        "count": 0
                      },
                      {
                        "bin_start": 281883528.6,
                        "bin_end": 281911910.3,
                        "count": 0
                      },
                      {
                        "bin_start": 281911910.3,
                        "bin_end": 281940292,
                        "count": 1
                      }
                    ]
                  }
                },
                {
                  "name": "track_name",
                  "dtype": "object",
                  "stats": {
                    "unique_count": 3,
                    "nan_count": 0,
                    "categories": [
                      {
                        "name": "PAC-MAN Premium",
                        "count": 1
                      },
                      {
                        "name": "Evernote - stay organized",
                        "count": 1
                      },
                      {
                        "name": "WeatherBug - Local Weather, Radar, Maps, Alerts",
                        "count": 1
                      }
                    ]
                  }
                },
                {
                  "name": "size_bytes",
                  "dtype": "int64",
                  "stats": {
                    "unique_count": 3,
                    "nan_count": 0,
                    "min": "100524032",
                    "max": "158578688",
                    "histogram": [
                      {
                        "bin_start": 100524032,
                        "bin_end": 106329497.6,
                        "count": 2
                      },
                      {
                        "bin_start": 106329497.6,
                        "bin_end": 112134963.2,
                        "count": 0
                      },
                      {
                        "bin_start": 112134963.2,
                        "bin_end": 117940428.8,
                        "count": 0
                      },
                      {
                        "bin_start": 117940428.8,
                        "bin_end": 123745894.4,
                        "count": 0
                      },
                      {
                        "bin_start": 123745894.4,
                        "bin_end": 129551360,
                        "count": 0
                      },
                      {
                        "bin_start": 129551360,
                        "bin_end": 135356825.6,
                        "count": 0
                      },
                      {
                        "bin_start": 135356825.6,
                        "bin_end": 141162291.2,
                        "count": 0
                      },
                      {
                        "bin_start": 141162291.2,
                        "bin_end": 146967756.8,
                        "count": 0
                      },
                      {
                        "bin_start": 146967756.8,
                        "bin_end": 152773222.4,
                        "count": 0
                      },
                      {
                        "bin_start": 152773222.4,
                        "bin_end": 158578688,
                        "count": 1
                      }
                    ]
                  }
                },
                {
                  "name": "currency",
                  "dtype": "object",
                  "stats": {
                    "unique_count": 1,
                    "nan_count": 0,
                    "categories": [
                      {
                        "name": "USD",
                        "count": 3
                      }
                    ]
                  }
                },
                {
                  "name": "price",
                  "dtype": "float64",
                  "stats": {
                    "unique_count": 2,
                    "nan_count": 0,
                    "min": "0.0",
                    "max": "3.99",
                    "histogram": [
                      {
                        "bin_start": 0,
                        "bin_end": 0.399,
                        "count": 2
                      },
                      {
                        "bin_start": 0.399,
                        "bin_end": 0.798,
                        "count": 0
                      },
                      {
                        "bin_start": 0.798,
                        "bin_end": 1.197,
                        "count": 0
                      },
                      {
                        "bin_start": 1.197,
                        "bin_end": 1.596,
                        "count": 0
                      },
                      {
                        "bin_start": 1.596,
                        "bin_end": 1.995,
                        "count": 0
                      },
                      {
                        "bin_start": 1.995,
                        "bin_end": 2.394,
                        "count": 0
                      },
                      {
                        "bin_start": 2.394,
                        "bin_end": 2.793,
                        "count": 0
                      },
                      {
                        "bin_start": 2.793,
                        "bin_end": 3.192,
                        "count": 0
                      },
                      {
                        "bin_start": 3.192,
                        "bin_end": 3.591,
                        "count": 0
                      },
                      {
                        "bin_start": 3.591,
                        "bin_end": 3.99,
                        "count": 1
                      }
                    ]
                  }
                },
                {
                  "name": "rating_count_tot",
                  "dtype": "int64",
                  "stats": {
                    "unique_count": 3,
                    "nan_count": 0,
                    "min": "21292",
                    "max": "188583",
                    "histogram": [
                      {
                        "bin_start": 21292,
                        "bin_end": 38021.1,
                        "count": 1
                      },
                      {
                        "bin_start": 38021.1,
                        "bin_end": 54750.2,
                        "count": 0
                      },
                      {
                        "bin_start": 54750.2,
                        "bin_end": 71479.29999999999,
                        "count": 0
                      },
                      {
                        "bin_start": 71479.29999999999,
                        "bin_end": 88208.4,
                        "count": 0
                      },
                      {
                        "bin_start": 88208.4,
                        "bin_end": 104937.5,
                        "count": 0
                      },
                      {
                        "bin_start": 104937.5,
                        "bin_end": 121666.59999999999,
                        "count": 0
                      },
                      {
                        "bin_start": 121666.59999999999,
                        "bin_end": 138395.69999999998,
                        "count": 0
                      },
                      {
                        "bin_start": 138395.69999999998,
                        "bin_end": 155124.8,
                        "count": 0
                      },
                      {
                        "bin_start": 155124.8,
                        "bin_end": 171853.9,
                        "count": 1
                      },
                      {
                        "bin_start": 171853.9,
                        "bin_end": 188583,
                        "count": 1
                      }
                    ]
                  }
                },
                {
                  "name": "rating_count_ver",
                  "dtype": "int64",
                  "stats": {
                    "unique_count": 2,
                    "nan_count": 0,
                    "min": "26",
                    "max": "2822",
                    "histogram": [
                      {
                        "bin_start": 26,
                        "bin_end": 305.6,
                        "count": 2
                      },
                      {
                        "bin_start": 305.6,
                        "bin_end": 585.2,
                        "count": 0
                      },
                      {
                        "bin_start": 585.2,
                        "bin_end": 864.8000000000001,
                        "count": 0
                      },
                      {
                        "bin_start": 864.8000000000001,
                        "bin_end": 1144.4,
                        "count": 0
                      },
                      {
                        "bin_start": 1144.4,
                        "bin_end": 1424,
                        "count": 0
                      },
                      {
                        "bin_start": 1424,
                        "bin_end": 1703.6000000000001,
                        "count": 0
                      },
                      {
                        "bin_start": 1703.6000000000001,
                        "bin_end": 1983.2000000000003,
                        "count": 0
                      },
                      {
                        "bin_start": 1983.2000000000003,
                        "bin_end": 2262.8,
                        "count": 0
                      },
                      {
                        "bin_start": 2262.8,
                        "bin_end": 2542.4,
                        "count": 0
                      },
                      {
                        "bin_start": 2542.4,
                        "bin_end": 2822,
                        "count": 1
                      }
                    ]
                  }
                },
                {
                  "name": "user_rating",
                  "dtype": "float64",
                  "stats": {
                    "unique_count": 2,
                    "nan_count": 0,
                    "min": "3.5",
                    "max": "4.0",
                    "histogram": [
                      {
                        "bin_start": 3.5,
                        "bin_end": 3.55,
                        "count": 1
                      },
                      {
                        "bin_start": 3.55,
                        "bin_end": 3.6,
                        "count": 0
                      },
                      {
                        "bin_start": 3.6,
                        "bin_end": 3.65,
                        "count": 0
                      },
                      {
                        "bin_start": 3.65,
                        "bin_end": 3.7,
                        "count": 0
                      },
                      {
                        "bin_start": 3.7,
                        "bin_end": 3.75,
                        "count": 0
                      },
                      {
                        "bin_start": 3.75,
                        "bin_end": 3.8,
                        "count": 0
                      },
                      {
                        "bin_start": 3.8,
                        "bin_end": 3.85,
                        "count": 0
                      },
                      {
                        "bin_start": 3.85,
                        "bin_end": 3.9,
                        "count": 0
                      },
                      {
                        "bin_start": 3.9,
                        "bin_end": 3.95,
                        "count": 0
                      },
                      {
                        "bin_start": 3.95,
                        "bin_end": 4,
                        "count": 2
                      }
                    ]
                  }
                },
                {
                  "name": "user_rating_ver",
                  "dtype": "float64",
                  "stats": {
                    "unique_count": 2,
                    "nan_count": 0,
                    "min": "3.5",
                    "max": "4.5",
                    "histogram": [
                      {
                        "bin_start": 3.5,
                        "bin_end": 3.6,
                        "count": 1
                      },
                      {
                        "bin_start": 3.6,
                        "bin_end": 3.7,
                        "count": 0
                      },
                      {
                        "bin_start": 3.7,
                        "bin_end": 3.8,
                        "count": 0
                      },
                      {
                        "bin_start": 3.8,
                        "bin_end": 3.9,
                        "count": 0
                      },
                      {
                        "bin_start": 3.9,
                        "bin_end": 4,
                        "count": 0
                      },
                      {
                        "bin_start": 4,
                        "bin_end": 4.1,
                        "count": 0
                      },
                      {
                        "bin_start": 4.1,
                        "bin_end": 4.2,
                        "count": 0
                      },
                      {
                        "bin_start": 4.2,
                        "bin_end": 4.3,
                        "count": 0
                      },
                      {
                        "bin_start": 4.3,
                        "bin_end": 4.4,
                        "count": 0
                      },
                      {
                        "bin_start": 4.4,
                        "bin_end": 4.5,
                        "count": 2
                      }
                    ]
                  }
                },
                {
                  "name": "ver",
                  "dtype": "object",
                  "stats": {
                    "unique_count": 3,
                    "nan_count": 0,
                    "categories": [
                      {
                        "name": "6.3.5",
                        "count": 1
                      },
                      {
                        "name": "8.2.2",
                        "count": 1
                      },
                      {
                        "name": "5.0.0",
                        "count": 1
                      }
                    ]
                  }
                },
                {
                  "name": "cont_rating",
                  "dtype": "object",
                  "stats": {
                    "unique_count": 1,
                    "nan_count": 0,
                    "categories": [
                      {
                        "name": "4+",
                        "count": 3
                      }
                    ]
                  }
                },
                {
                  "name": "prime_genre",
                  "dtype": "object",
                  "stats": {
                    "unique_count": 3,
                    "nan_count": 0,
                    "categories": [
                      {
                        "name": "Games",
                        "count": 1
                      },
                      {
                        "name": "Productivity",
                        "count": 1
                      },
                      {
                        "name": "Weather",
                        "count": 1
                      }
                    ]
                  }
                },
                {
                  "name": "sup_devices.num",
                  "dtype": "int64",
                  "stats": {
                    "unique_count": 2,
                    "nan_count": 0,
                    "min": "37",
                    "max": "38",
                    "histogram": [
                      {
                        "bin_start": 37,
                        "bin_end": 37.1,
                        "count": 2
                      },
                      {
                        "bin_start": 37.1,
                        "bin_end": 37.2,
                        "count": 0
                      },
                      {
                        "bin_start": 37.2,
                        "bin_end": 37.3,
                        "count": 0
                      },
                      {
                        "bin_start": 37.3,
                        "bin_end": 37.4,
                        "count": 0
                      },
                      {
                        "bin_start": 37.4,
                        "bin_end": 37.5,
                        "count": 0
                      },
                      {
                        "bin_start": 37.5,
                        "bin_end": 37.6,
                        "count": 0
                      },
                      {
                        "bin_start": 37.6,
                        "bin_end": 37.7,
                        "count": 0
                      },
                      {
                        "bin_start": 37.7,
                        "bin_end": 37.8,
                        "count": 0
                      },
                      {
                        "bin_start": 37.8,
                        "bin_end": 37.9,
                        "count": 0
                      },
                      {
                        "bin_start": 37.9,
                        "bin_end": 38,
                        "count": 1
                      }
                    ]
                  }
                },
                {
                  "name": "ipadSc_urls.num",
                  "dtype": "int64",
                  "stats": {
                    "unique_count": 1,
                    "nan_count": 0,
                    "min": "5",
                    "max": "5",
                    "histogram": [
                      {
                        "bin_start": 4.5,
                        "bin_end": 4.6,
                        "count": 0
                      },
                      {
                        "bin_start": 4.6,
                        "bin_end": 4.7,
                        "count": 0
                      },
                      {
                        "bin_start": 4.7,
                        "bin_end": 4.8,
                        "count": 0
                      },
                      {
                        "bin_start": 4.8,
                        "bin_end": 4.9,
                        "count": 0
                      },
                      {
                        "bin_start": 4.9,
                        "bin_end": 5,
                        "count": 0
                      },
                      {
                        "bin_start": 5,
                        "bin_end": 5.1,
                        "count": 3
                      },
                      {
                        "bin_start": 5.1,
                        "bin_end": 5.2,
                        "count": 0
                      },
                      {
                        "bin_start": 5.2,
                        "bin_end": 5.3,
                        "count": 0
                      },
                      {
                        "bin_start": 5.3,
                        "bin_end": 5.4,
                        "count": 0
                      },
                      {
                        "bin_start": 5.4,
                        "bin_end": 5.5,
                        "count": 0
                      }
                    ]
                  }
                },
                {
                  "name": "lang.num",
                  "dtype": "int64",
                  "stats": {
                    "unique_count": 3,
                    "nan_count": 0,
                    "min": "3",
                    "max": "23",
                    "histogram": [
                      {
                        "bin_start": 3,
                        "bin_end": 5,
                        "count": 1
                      },
                      {
                        "bin_start": 5,
                        "bin_end": 7,
                        "count": 0
                      },
                      {
                        "bin_start": 7,
                        "bin_end": 9,
                        "count": 0
                      },
                      {
                        "bin_start": 9,
                        "bin_end": 11,
                        "count": 1
                      },
                      {
                        "bin_start": 11,
                        "bin_end": 13,
                        "count": 0
                      },
                      {
                        "bin_start": 13,
                        "bin_end": 15,
                        "count": 0
                      },
                      {
                        "bin_start": 15,
                        "bin_end": 17,
                        "count": 0
                      },
                      {
                        "bin_start": 17,
                        "bin_end": 19,
                        "count": 0
                      },
                      {
                        "bin_start": 19,
                        "bin_end": 21,
                        "count": 0
                      },
                      {
                        "bin_start": 21,
                        "bin_end": 23,
                        "count": 1
                      }
                    ]
                  }
                },
                {
                  "name": "vpp_lic",
                  "dtype": "int64",
                  "stats": {
                    "unique_count": 1,
                    "nan_count": 0,
                    "min": "1",
                    "max": "1",
                    "histogram": [
                      {
                        "bin_start": 0.5,
                        "bin_end": 0.6,
                        "count": 0
                      },
                      {
                        "bin_start": 0.6,
                        "bin_end": 0.7,
                        "count": 0
                      },
                      {
                        "bin_start": 0.7,
                        "bin_end": 0.8,
                        "count": 0
                      },
                      {
                        "bin_start": 0.8,
                        "bin_end": 0.9,
                        "count": 0
                      },
                      {
                        "bin_start": 0.9,
                        "bin_end": 1,
                        "count": 0
                      },
                      {
                        "bin_start": 1,
                        "bin_end": 1.1,
                        "count": 3
                      },
                      {
                        "bin_start": 1.1,
                        "bin_end": 1.2000000000000002,
                        "count": 0
                      },
                      {
                        "bin_start": 1.2000000000000002,
                        "bin_end": 1.3,
                        "count": 0
                      },
                      {
                        "bin_start": 1.3,
                        "bin_end": 1.4,
                        "count": 0
                      },
                      {
                        "bin_start": 1.4,
                        "bin_end": 1.5,
                        "count": 0
                      }
                    ]
                  }
                },
                {
                  "name": "_deepnote_index_column",
                  "dtype": "int64"
                }
              ],
              "rows_top": [
                {
                  "Unnamed: 0": 1,
                  "id": 281656475,
                  "track_name": "PAC-MAN Premium",
                  "size_bytes": 100788224,
                  "currency": "USD",
                  "price": 3.99,
                  "rating_count_tot": 21292,
                  "rating_count_ver": 26,
                  "user_rating": 4,
                  "user_rating_ver": 4.5,
                  "ver": "6.3.5",
                  "cont_rating": "4+",
                  "prime_genre": "Games",
                  "sup_devices.num": 38,
                  "ipadSc_urls.num": 5,
                  "lang.num": 10,
                  "vpp_lic": 1,
                  "_deepnote_index_column": 0
                },
                {
                  "Unnamed: 0": 2,
                  "id": 281796108,
                  "track_name": "Evernote - stay organized",
                  "size_bytes": 158578688,
                  "currency": "USD",
                  "price": 0,
                  "rating_count_tot": 161065,
                  "rating_count_ver": 26,
                  "user_rating": 4,
                  "user_rating_ver": 3.5,
                  "ver": "8.2.2",
                  "cont_rating": "4+",
                  "prime_genre": "Productivity",
                  "sup_devices.num": 37,
                  "ipadSc_urls.num": 5,
                  "lang.num": 23,
                  "vpp_lic": 1,
                  "_deepnote_index_column": 1
                },
                {
                  "Unnamed: 0": 3,
                  "id": 281940292,
                  "track_name": "WeatherBug - Local Weather, Radar, Maps, Alerts",
                  "size_bytes": 100524032,
                  "currency": "USD",
                  "price": 0,
                  "rating_count_tot": 188583,
                  "rating_count_ver": 2822,
                  "user_rating": 3.5,
                  "user_rating_ver": 4.5,
                  "ver": "5.0.0",
                  "cont_rating": "4+",
                  "prime_genre": "Weather",
                  "sup_devices.num": 37,
                  "ipadSc_urls.num": 5,
                  "lang.num": 3,
                  "vpp_lic": 1,
                  "_deepnote_index_column": 2
                }
              ],
              "rows_bottom": null
            },
            "text/plain": "   Unnamed: 0         id                                       track_name  \\\n0           1  281656475                                  PAC-MAN Premium   \n1           2  281796108                        Evernote - stay organized   \n2           3  281940292  WeatherBug - Local Weather, Radar, Maps, Alerts   \n\n   size_bytes currency  price  rating_count_tot  rating_count_ver  \\\n0   100788224      USD   3.99             21292                26   \n1   158578688      USD   0.00            161065                26   \n2   100524032      USD   0.00            188583              2822   \n\n   user_rating  user_rating_ver    ver cont_rating   prime_genre  \\\n0          4.0              4.5  6.3.5          4+         Games   \n1          4.0              3.5  8.2.2          4+  Productivity   \n2          3.5              4.5  5.0.0          4+       Weather   \n\n   sup_devices.num  ipadSc_urls.num  lang.num  vpp_lic  \n0               38                5        10        1  \n1               37                5        23        1  \n2               37                5         3        1  ",
            "text/html": "<div>\n<style scoped>\n    .dataframe tbody tr th:only-of-type {\n        vertical-align: middle;\n    }\n\n    .dataframe tbody tr th {\n        vertical-align: top;\n    }\n\n    .dataframe thead th {\n        text-align: right;\n    }\n</style>\n<table border=\"1\" class=\"dataframe\">\n  <thead>\n    <tr style=\"text-align: right;\">\n      <th></th>\n      <th>Unnamed: 0</th>\n      <th>id</th>\n      <th>track_name</th>\n      <th>size_bytes</th>\n      <th>currency</th>\n      <th>price</th>\n      <th>rating_count_tot</th>\n      <th>rating_count_ver</th>\n      <th>user_rating</th>\n      <th>user_rating_ver</th>\n      <th>ver</th>\n      <th>cont_rating</th>\n      <th>prime_genre</th>\n      <th>sup_devices.num</th>\n      <th>ipadSc_urls.num</th>\n      <th>lang.num</th>\n      <th>vpp_lic</th>\n    </tr>\n  </thead>\n  <tbody>\n    <tr>\n      <th>0</th>\n      <td>1</td>\n      <td>281656475</td>\n      <td>PAC-MAN Premium</td>\n      <td>100788224</td>\n      <td>USD</td>\n      <td>3.99</td>\n      <td>21292</td>\n      <td>26</td>\n      <td>4.0</td>\n      <td>4.5</td>\n      <td>6.3.5</td>\n      <td>4+</td>\n      <td>Games</td>\n      <td>38</td>\n      <td>5</td>\n      <td>10</td>\n      <td>1</td>\n    </tr>\n    <tr>\n      <th>1</th>\n      <td>2</td>\n      <td>281796108</td>\n      <td>Evernote - stay organized</td>\n      <td>158578688</td>\n      <td>USD</td>\n      <td>0.00</td>\n      <td>161065</td>\n      <td>26</td>\n      <td>4.0</td>\n      <td>3.5</td>\n      <td>8.2.2</td>\n      <td>4+</td>\n      <td>Productivity</td>\n      <td>37</td>\n      <td>5</td>\n      <td>23</td>\n      <td>1</td>\n    </tr>\n    <tr>\n      <th>2</th>\n      <td>3</td>\n      <td>281940292</td>\n      <td>WeatherBug - Local Weather, Radar, Maps, Alerts</td>\n      <td>100524032</td>\n      <td>USD</td>\n      <td>0.00</td>\n      <td>188583</td>\n      <td>2822</td>\n      <td>3.5</td>\n      <td>4.5</td>\n      <td>5.0.0</td>\n      <td>4+</td>\n      <td>Weather</td>\n      <td>37</td>\n      <td>5</td>\n      <td>3</td>\n      <td>1</td>\n    </tr>\n  </tbody>\n</table>\n</div>"
          },
          "metadata": {}
        }
      ]
    },
    {
      "cell_type": "markdown",
      "source": "### 1b. Pick the columns we'll work with\n\nFrom the documentation of these datasets, we can infer that the most appropriate columns to answer the brief are:\n\n1. Google:\n    * `Category` # Do we need this?\n    * `Rating`\n    * `Reviews`\n    * `Price` (maybe)\n2. Apple:    \n    * `prime_genre` # Do we need this?\n    * `user_rating` \n    * `rating_count_tot`\n    * `price` (maybe)",
      "metadata": {
        "id": "vljOHKNTFcuw",
        "colab_type": "text",
        "cell_id": "00007-0284536b-d223-4e88-ba38-eb1dc2d509a9",
        "deepnote_cell_type": "markdown"
      }
    },
    {
      "cell_type": "markdown",
      "source": "### 1c. Subsetting accordingly\n\nLet's select only those columns that we want to work with from both datasets. We'll overwrite the subsets in the original variables.",
      "metadata": {
        "id": "uf69AeTvFcux",
        "colab_type": "text",
        "cell_id": "00008-cb914738-490b-49a1-9058-844b44decbd4",
        "deepnote_cell_type": "markdown"
      }
    },
    {
      "cell_type": "code",
      "metadata": {
        "id": "LNSDXyjdFcuy",
        "colab_type": "code",
        "colab": {},
        "cell_id": "00009-7d7832ae-3d5e-48d4-ba5a-316ad79a586a",
        "deepnote_to_be_reexecuted": false,
        "source_hash": "9bd54995",
        "execution_millis": 22,
        "execution_start": 1618666957669,
        "deepnote_cell_type": "code"
      },
      "source": "# Subset our DataFrame object Google by selecting just the variables ['Category', 'Rating', 'Reviews', 'Price']\nGoogle = Google[['Category', 'Rating', 'Reviews', 'Price']]\n\n# Check the first three entries\nGoogle.head(3)",
      "execution_count": 5,
      "outputs": [
        {
          "output_type": "execute_result",
          "execution_count": 5,
          "data": {
            "application/vnd.deepnote.dataframe.v2+json": {
              "row_count": 3,
              "column_count": 4,
              "columns": [
                {
                  "name": "Category",
                  "dtype": "object",
                  "stats": {
                    "unique_count": 1,
                    "nan_count": 0,
                    "categories": [
                      {
                        "name": "ART_AND_DESIGN",
                        "count": 3
                      }
                    ]
                  }
                },
                {
                  "name": "Rating",
                  "dtype": "float64",
                  "stats": {
                    "unique_count": 3,
                    "nan_count": 0,
                    "min": "3.9",
                    "max": "4.7",
                    "histogram": [
                      {
                        "bin_start": 3.9,
                        "bin_end": 3.98,
                        "count": 1
                      },
                      {
                        "bin_start": 3.98,
                        "bin_end": 4.06,
                        "count": 0
                      },
                      {
                        "bin_start": 4.06,
                        "bin_end": 4.14,
                        "count": 1
                      },
                      {
                        "bin_start": 4.14,
                        "bin_end": 4.22,
                        "count": 0
                      },
                      {
                        "bin_start": 4.22,
                        "bin_end": 4.3,
                        "count": 0
                      },
                      {
                        "bin_start": 4.3,
                        "bin_end": 4.38,
                        "count": 0
                      },
                      {
                        "bin_start": 4.38,
                        "bin_end": 4.46,
                        "count": 0
                      },
                      {
                        "bin_start": 4.46,
                        "bin_end": 4.54,
                        "count": 0
                      },
                      {
                        "bin_start": 4.54,
                        "bin_end": 4.62,
                        "count": 0
                      },
                      {
                        "bin_start": 4.62,
                        "bin_end": 4.7,
                        "count": 1
                      }
                    ]
                  }
                },
                {
                  "name": "Reviews",
                  "dtype": "object",
                  "stats": {
                    "unique_count": 3,
                    "nan_count": 0,
                    "categories": [
                      {
                        "name": "159",
                        "count": 1
                      },
                      {
                        "name": "967",
                        "count": 1
                      },
                      {
                        "name": "87510",
                        "count": 1
                      }
                    ]
                  }
                },
                {
                  "name": "Price",
                  "dtype": "object",
                  "stats": {
                    "unique_count": 1,
                    "nan_count": 0,
                    "categories": [
                      {
                        "name": "0",
                        "count": 3
                      }
                    ]
                  }
                },
                {
                  "name": "_deepnote_index_column",
                  "dtype": "int64"
                }
              ],
              "rows_top": [
                {
                  "Category": "ART_AND_DESIGN",
                  "Rating": 4.1,
                  "Reviews": "159",
                  "Price": "0",
                  "_deepnote_index_column": 0
                },
                {
                  "Category": "ART_AND_DESIGN",
                  "Rating": 3.9,
                  "Reviews": "967",
                  "Price": "0",
                  "_deepnote_index_column": 1
                },
                {
                  "Category": "ART_AND_DESIGN",
                  "Rating": 4.7,
                  "Reviews": "87510",
                  "Price": "0",
                  "_deepnote_index_column": 2
                }
              ],
              "rows_bottom": null
            },
            "text/plain": "         Category  Rating Reviews Price\n0  ART_AND_DESIGN     4.1     159     0\n1  ART_AND_DESIGN     3.9     967     0\n2  ART_AND_DESIGN     4.7   87510     0",
            "text/html": "<div>\n<style scoped>\n    .dataframe tbody tr th:only-of-type {\n        vertical-align: middle;\n    }\n\n    .dataframe tbody tr th {\n        vertical-align: top;\n    }\n\n    .dataframe thead th {\n        text-align: right;\n    }\n</style>\n<table border=\"1\" class=\"dataframe\">\n  <thead>\n    <tr style=\"text-align: right;\">\n      <th></th>\n      <th>Category</th>\n      <th>Rating</th>\n      <th>Reviews</th>\n      <th>Price</th>\n    </tr>\n  </thead>\n  <tbody>\n    <tr>\n      <th>0</th>\n      <td>ART_AND_DESIGN</td>\n      <td>4.1</td>\n      <td>159</td>\n      <td>0</td>\n    </tr>\n    <tr>\n      <th>1</th>\n      <td>ART_AND_DESIGN</td>\n      <td>3.9</td>\n      <td>967</td>\n      <td>0</td>\n    </tr>\n    <tr>\n      <th>2</th>\n      <td>ART_AND_DESIGN</td>\n      <td>4.7</td>\n      <td>87510</td>\n      <td>0</td>\n    </tr>\n  </tbody>\n</table>\n</div>"
          },
          "metadata": {}
        }
      ]
    },
    {
      "cell_type": "code",
      "metadata": {
        "id": "AVCtENPtFcu0",
        "colab_type": "code",
        "colab": {},
        "cell_id": "00010-6b111c6f-ce6c-4fb1-9466-b964e67b583e",
        "deepnote_to_be_reexecuted": false,
        "source_hash": "d860678d",
        "execution_millis": 13,
        "execution_start": 1618666958258,
        "deepnote_cell_type": "code"
      },
      "source": "# Do the same with our Apple object, selecting just the variables ['prime_genre', 'user_rating', 'rating_count_tot', 'price']\nApple = Apple[['prime_genre', 'user_rating', 'rating_count_tot', 'price']]\n\n# Let's check the first three entries\nApple.head(3)",
      "execution_count": 6,
      "outputs": [
        {
          "output_type": "execute_result",
          "execution_count": 6,
          "data": {
            "application/vnd.deepnote.dataframe.v2+json": {
              "row_count": 3,
              "column_count": 4,
              "columns": [
                {
                  "name": "prime_genre",
                  "dtype": "object",
                  "stats": {
                    "unique_count": 3,
                    "nan_count": 0,
                    "categories": [
                      {
                        "name": "Games",
                        "count": 1
                      },
                      {
                        "name": "Productivity",
                        "count": 1
                      },
                      {
                        "name": "Weather",
                        "count": 1
                      }
                    ]
                  }
                },
                {
                  "name": "user_rating",
                  "dtype": "float64",
                  "stats": {
                    "unique_count": 2,
                    "nan_count": 0,
                    "min": "3.5",
                    "max": "4.0",
                    "histogram": [
                      {
                        "bin_start": 3.5,
                        "bin_end": 3.55,
                        "count": 1
                      },
                      {
                        "bin_start": 3.55,
                        "bin_end": 3.6,
                        "count": 0
                      },
                      {
                        "bin_start": 3.6,
                        "bin_end": 3.65,
                        "count": 0
                      },
                      {
                        "bin_start": 3.65,
                        "bin_end": 3.7,
                        "count": 0
                      },
                      {
                        "bin_start": 3.7,
                        "bin_end": 3.75,
                        "count": 0
                      },
                      {
                        "bin_start": 3.75,
                        "bin_end": 3.8,
                        "count": 0
                      },
                      {
                        "bin_start": 3.8,
                        "bin_end": 3.85,
                        "count": 0
                      },
                      {
                        "bin_start": 3.85,
                        "bin_end": 3.9,
                        "count": 0
                      },
                      {
                        "bin_start": 3.9,
                        "bin_end": 3.95,
                        "count": 0
                      },
                      {
                        "bin_start": 3.95,
                        "bin_end": 4,
                        "count": 2
                      }
                    ]
                  }
                },
                {
                  "name": "rating_count_tot",
                  "dtype": "int64",
                  "stats": {
                    "unique_count": 3,
                    "nan_count": 0,
                    "min": "21292",
                    "max": "188583",
                    "histogram": [
                      {
                        "bin_start": 21292,
                        "bin_end": 38021.1,
                        "count": 1
                      },
                      {
                        "bin_start": 38021.1,
                        "bin_end": 54750.2,
                        "count": 0
                      },
                      {
                        "bin_start": 54750.2,
                        "bin_end": 71479.29999999999,
                        "count": 0
                      },
                      {
                        "bin_start": 71479.29999999999,
                        "bin_end": 88208.4,
                        "count": 0
                      },
                      {
                        "bin_start": 88208.4,
                        "bin_end": 104937.5,
                        "count": 0
                      },
                      {
                        "bin_start": 104937.5,
                        "bin_end": 121666.59999999999,
                        "count": 0
                      },
                      {
                        "bin_start": 121666.59999999999,
                        "bin_end": 138395.69999999998,
                        "count": 0
                      },
                      {
                        "bin_start": 138395.69999999998,
                        "bin_end": 155124.8,
                        "count": 0
                      },
                      {
                        "bin_start": 155124.8,
                        "bin_end": 171853.9,
                        "count": 1
                      },
                      {
                        "bin_start": 171853.9,
                        "bin_end": 188583,
                        "count": 1
                      }
                    ]
                  }
                },
                {
                  "name": "price",
                  "dtype": "float64",
                  "stats": {
                    "unique_count": 2,
                    "nan_count": 0,
                    "min": "0.0",
                    "max": "3.99",
                    "histogram": [
                      {
                        "bin_start": 0,
                        "bin_end": 0.399,
                        "count": 2
                      },
                      {
                        "bin_start": 0.399,
                        "bin_end": 0.798,
                        "count": 0
                      },
                      {
                        "bin_start": 0.798,
                        "bin_end": 1.197,
                        "count": 0
                      },
                      {
                        "bin_start": 1.197,
                        "bin_end": 1.596,
                        "count": 0
                      },
                      {
                        "bin_start": 1.596,
                        "bin_end": 1.995,
                        "count": 0
                      },
                      {
                        "bin_start": 1.995,
                        "bin_end": 2.394,
                        "count": 0
                      },
                      {
                        "bin_start": 2.394,
                        "bin_end": 2.793,
                        "count": 0
                      },
                      {
                        "bin_start": 2.793,
                        "bin_end": 3.192,
                        "count": 0
                      },
                      {
                        "bin_start": 3.192,
                        "bin_end": 3.591,
                        "count": 0
                      },
                      {
                        "bin_start": 3.591,
                        "bin_end": 3.99,
                        "count": 1
                      }
                    ]
                  }
                },
                {
                  "name": "_deepnote_index_column",
                  "dtype": "int64"
                }
              ],
              "rows_top": [
                {
                  "prime_genre": "Games",
                  "user_rating": 4,
                  "rating_count_tot": 21292,
                  "price": 3.99,
                  "_deepnote_index_column": 0
                },
                {
                  "prime_genre": "Productivity",
                  "user_rating": 4,
                  "rating_count_tot": 161065,
                  "price": 0,
                  "_deepnote_index_column": 1
                },
                {
                  "prime_genre": "Weather",
                  "user_rating": 3.5,
                  "rating_count_tot": 188583,
                  "price": 0,
                  "_deepnote_index_column": 2
                }
              ],
              "rows_bottom": null
            },
            "text/plain": "    prime_genre  user_rating  rating_count_tot  price\n0         Games          4.0             21292   3.99\n1  Productivity          4.0            161065   0.00\n2       Weather          3.5            188583   0.00",
            "text/html": "<div>\n<style scoped>\n    .dataframe tbody tr th:only-of-type {\n        vertical-align: middle;\n    }\n\n    .dataframe tbody tr th {\n        vertical-align: top;\n    }\n\n    .dataframe thead th {\n        text-align: right;\n    }\n</style>\n<table border=\"1\" class=\"dataframe\">\n  <thead>\n    <tr style=\"text-align: right;\">\n      <th></th>\n      <th>prime_genre</th>\n      <th>user_rating</th>\n      <th>rating_count_tot</th>\n      <th>price</th>\n    </tr>\n  </thead>\n  <tbody>\n    <tr>\n      <th>0</th>\n      <td>Games</td>\n      <td>4.0</td>\n      <td>21292</td>\n      <td>3.99</td>\n    </tr>\n    <tr>\n      <th>1</th>\n      <td>Productivity</td>\n      <td>4.0</td>\n      <td>161065</td>\n      <td>0.00</td>\n    </tr>\n    <tr>\n      <th>2</th>\n      <td>Weather</td>\n      <td>3.5</td>\n      <td>188583</td>\n      <td>0.00</td>\n    </tr>\n  </tbody>\n</table>\n</div>"
          },
          "metadata": {}
        }
      ]
    },
    {
      "cell_type": "markdown",
      "source": "## Stage 2 -  Cleaning, transforming and visualizing",
      "metadata": {
        "id": "wwK2wH-rFcu2",
        "colab_type": "text",
        "cell_id": "00011-bca59477-ce99-4565-a571-c9397f308c02",
        "deepnote_cell_type": "markdown"
      }
    },
    {
      "cell_type": "markdown",
      "source": "### 2a. Check the data types for both Apple and Google, and fix them\n\nTypes are crucial for data science in Python. Let's determine whether the variables we selected in the previous section belong to the types they should do, or whether there are any errors here. ",
      "metadata": {
        "id": "NsoE5x0JFcu3",
        "colab_type": "text",
        "cell_id": "00012-9f5ca05d-e0e7-461a-b5cb-0c200cc3c4a8",
        "deepnote_cell_type": "markdown"
      }
    },
    {
      "cell_type": "code",
      "metadata": {
        "id": "ymw10SaWFcu4",
        "colab_type": "code",
        "colab": {},
        "cell_id": "00013-9339e28c-ebc2-4d90-8979-ee570fc2c685",
        "deepnote_to_be_reexecuted": false,
        "source_hash": "3f94ce66",
        "execution_millis": 9,
        "execution_start": 1618666960030,
        "deepnote_cell_type": "code"
      },
      "source": "# Using the dtypes feature of pandas DataFrame objects, check out the data types within our Apple dataframe.\n# Are they what you expect?\nApple.dtypes",
      "execution_count": 7,
      "outputs": [
        {
          "output_type": "execute_result",
          "execution_count": 7,
          "data": {
            "text/plain": "prime_genre          object\nuser_rating         float64\nrating_count_tot      int64\nprice               float64\ndtype: object"
          },
          "metadata": {}
        }
      ]
    },
    {
      "cell_type": "markdown",
      "source": "This is looking healthy. But what about our Google data frame?",
      "metadata": {
        "id": "VAiM6jIxFcu6",
        "colab_type": "text",
        "cell_id": "00014-2f0fa58f-92e8-4686-b89d-1295f01ef057",
        "deepnote_cell_type": "markdown"
      }
    },
    {
      "cell_type": "code",
      "metadata": {
        "id": "kmP8MhqyFcu7",
        "colab_type": "code",
        "colab": {},
        "cell_id": "00015-04b2e503-73c4-4168-9cce-7474dba606f2",
        "deepnote_to_be_reexecuted": false,
        "source_hash": "a5ca24af",
        "execution_millis": 8,
        "execution_start": 1618666961807,
        "deepnote_cell_type": "code"
      },
      "source": "# Using the same dtypes feature, check out the data types of our Google dataframe. \nGoogle.dtypes",
      "execution_count": 8,
      "outputs": [
        {
          "output_type": "execute_result",
          "execution_count": 8,
          "data": {
            "text/plain": "Category     object\nRating      float64\nReviews      object\nPrice        object\ndtype: object"
          },
          "metadata": {}
        }
      ]
    },
    {
      "cell_type": "markdown",
      "source": "Weird. The data type for the column 'Price' is 'object', not a numeric data type like a float or an integer. Let's investigate the unique values of this column. ",
      "metadata": {
        "id": "O-dxAy0WFcu9",
        "colab_type": "text",
        "cell_id": "00016-cc91ca84-9ab6-4df3-891f-5cc105a48af9",
        "deepnote_cell_type": "markdown"
      }
    },
    {
      "cell_type": "code",
      "metadata": {
        "id": "Hu08K9y7Fcu9",
        "colab_type": "code",
        "colab": {},
        "cell_id": "00017-af3c07ef-516a-4821-9ac5-5380249017c4",
        "deepnote_to_be_reexecuted": false,
        "source_hash": "26c770eb",
        "execution_millis": 20,
        "execution_start": 1618666963060,
        "deepnote_cell_type": "code"
      },
      "source": "# Use the unique() pandas method on the Price column to check its unique values. \nGoogle['Price'].unique()",
      "execution_count": 9,
      "outputs": [
        {
          "output_type": "execute_result",
          "execution_count": 9,
          "data": {
            "text/plain": "array(['0', '$4.99', '$3.99', '$6.99', '$1.49', '$2.99', '$7.99', '$5.99',\n       '$3.49', '$1.99', '$9.99', '$7.49', '$0.99', '$9.00', '$5.49',\n       '$10.00', '$24.99', '$11.99', '$79.99', '$16.99', '$14.99',\n       '$1.00', '$29.99', '$12.99', '$2.49', '$10.99', '$1.50', '$19.99',\n       '$15.99', '$33.99', '$74.99', '$39.99', '$3.95', '$4.49', '$1.70',\n       '$8.99', '$2.00', '$3.88', '$25.99', '$399.99', '$17.99',\n       '$400.00', '$3.02', '$1.76', '$4.84', '$4.77', '$1.61', '$2.50',\n       '$1.59', '$6.49', '$1.29', '$5.00', '$13.99', '$299.99', '$379.99',\n       '$37.99', '$18.99', '$389.99', '$19.90', '$8.49', '$1.75',\n       '$14.00', '$4.85', '$46.99', '$109.99', '$154.99', '$3.08',\n       '$2.59', '$4.80', '$1.96', '$19.40', '$3.90', '$4.59', '$15.46',\n       '$3.04', '$4.29', '$2.60', '$3.28', '$4.60', '$28.99', '$2.95',\n       '$2.90', '$1.97', '$200.00', '$89.99', '$2.56', '$30.99', '$3.61',\n       '$394.99', '$1.26', 'Everyone', '$1.20', '$1.04'], dtype=object)"
          },
          "metadata": {}
        }
      ]
    },
    {
      "cell_type": "markdown",
      "source": "Aha! Fascinating. There are actually two issues here. \n\n- Firstly, there's a price called `Everyone`. That is a massive mistake! \n- Secondly, there are dollar symbols everywhere! \n\n\nLet's address the first issue first. Let's check the datapoints that have the price value `Everyone`",
      "metadata": {
        "id": "w_7nkogFFcu_",
        "colab_type": "text",
        "cell_id": "00018-635cc66b-37fc-4da3-b792-7b873f1068df",
        "deepnote_cell_type": "markdown"
      }
    },
    {
      "cell_type": "code",
      "metadata": {
        "id": "E75WWmhdFcvA",
        "colab_type": "code",
        "colab": {},
        "cell_id": "00019-b8f777fd-36ef-4008-8e9e-1a9662aa4192",
        "deepnote_to_be_reexecuted": false,
        "source_hash": "f2fd8e52",
        "execution_millis": 7,
        "execution_start": 1618666964374,
        "deepnote_cell_type": "code"
      },
      "source": "# Let's check which data points have the value 'Everyone' for the 'Price' column by subsetting our Google dataframe.\n\n# Subset the Google dataframe on the price column. \n# To be sure: you want to pick out just those rows whose value for the 'Price' column is just 'Everyone'. \nGoogle[Google['Price'] == 'Everyone']",
      "execution_count": 10,
      "outputs": [
        {
          "output_type": "execute_result",
          "execution_count": 10,
          "data": {
            "application/vnd.deepnote.dataframe.v2+json": {
              "row_count": 1,
              "column_count": 4,
              "columns": [
                {
                  "name": "Category",
                  "dtype": "object",
                  "stats": {
                    "unique_count": 1,
                    "nan_count": 0,
                    "categories": [
                      {
                        "name": "1.9",
                        "count": 1
                      }
                    ]
                  }
                },
                {
                  "name": "Rating",
                  "dtype": "float64",
                  "stats": {
                    "unique_count": 1,
                    "nan_count": 0,
                    "min": "19.0",
                    "max": "19.0",
                    "histogram": [
                      {
                        "bin_start": 18.5,
                        "bin_end": 18.6,
                        "count": 0
                      },
                      {
                        "bin_start": 18.6,
                        "bin_end": 18.7,
                        "count": 0
                      },
                      {
                        "bin_start": 18.7,
                        "bin_end": 18.8,
                        "count": 0
                      },
                      {
                        "bin_start": 18.8,
                        "bin_end": 18.9,
                        "count": 0
                      },
                      {
                        "bin_start": 18.9,
                        "bin_end": 19,
                        "count": 0
                      },
                      {
                        "bin_start": 19,
                        "bin_end": 19.1,
                        "count": 1
                      },
                      {
                        "bin_start": 19.1,
                        "bin_end": 19.2,
                        "count": 0
                      },
                      {
                        "bin_start": 19.2,
                        "bin_end": 19.3,
                        "count": 0
                      },
                      {
                        "bin_start": 19.3,
                        "bin_end": 19.4,
                        "count": 0
                      },
                      {
                        "bin_start": 19.4,
                        "bin_end": 19.5,
                        "count": 0
                      }
                    ]
                  }
                },
                {
                  "name": "Reviews",
                  "dtype": "object",
                  "stats": {
                    "unique_count": 1,
                    "nan_count": 0,
                    "categories": [
                      {
                        "name": "3.0M",
                        "count": 1
                      }
                    ]
                  }
                },
                {
                  "name": "Price",
                  "dtype": "object",
                  "stats": {
                    "unique_count": 1,
                    "nan_count": 0,
                    "categories": [
                      {
                        "name": "Everyone",
                        "count": 1
                      }
                    ]
                  }
                },
                {
                  "name": "_deepnote_index_column",
                  "dtype": "int64"
                }
              ],
              "rows_top": [
                {
                  "Category": "1.9",
                  "Rating": 19,
                  "Reviews": "3.0M",
                  "Price": "Everyone",
                  "_deepnote_index_column": 10472
                }
              ],
              "rows_bottom": null
            },
            "text/plain": "      Category  Rating Reviews     Price\n10472      1.9    19.0    3.0M  Everyone",
            "text/html": "<div>\n<style scoped>\n    .dataframe tbody tr th:only-of-type {\n        vertical-align: middle;\n    }\n\n    .dataframe tbody tr th {\n        vertical-align: top;\n    }\n\n    .dataframe thead th {\n        text-align: right;\n    }\n</style>\n<table border=\"1\" class=\"dataframe\">\n  <thead>\n    <tr style=\"text-align: right;\">\n      <th></th>\n      <th>Category</th>\n      <th>Rating</th>\n      <th>Reviews</th>\n      <th>Price</th>\n    </tr>\n  </thead>\n  <tbody>\n    <tr>\n      <th>10472</th>\n      <td>1.9</td>\n      <td>19.0</td>\n      <td>3.0M</td>\n      <td>Everyone</td>\n    </tr>\n  </tbody>\n</table>\n</div>"
          },
          "metadata": {}
        }
      ]
    },
    {
      "cell_type": "markdown",
      "source": "Thankfully, it's just one row. We've gotta get rid of it. ",
      "metadata": {
        "id": "ezfLshdRFcvC",
        "colab_type": "text",
        "cell_id": "00020-9fde586b-9674-431c-9486-a4deee0d9265",
        "deepnote_cell_type": "markdown"
      }
    },
    {
      "cell_type": "code",
      "metadata": {
        "id": "DBmjUQUkFcvD",
        "colab_type": "code",
        "colab": {},
        "cell_id": "00021-d449a0cf-ae0e-4179-8293-8a84281daec6",
        "deepnote_to_be_reexecuted": false,
        "source_hash": "2ef99ee4",
        "execution_millis": 9,
        "execution_start": 1618666965680,
        "deepnote_cell_type": "code"
      },
      "source": "# Let's eliminate that row. \n\n# Subset our Google dataframe to pick out just those rows whose value for the 'Price' column is NOT 'Everyone'. \n# Reassign that subset to the Google variable. \n# You can do this in two lines or one. Your choice! \nGoogle = Google[Google['Price'] != 'Everyone']\n\n# Check again the unique values of Google\nGoogle['Price'].unique()",
      "execution_count": 11,
      "outputs": [
        {
          "output_type": "execute_result",
          "execution_count": 11,
          "data": {
            "text/plain": "array(['0', '$4.99', '$3.99', '$6.99', '$1.49', '$2.99', '$7.99', '$5.99',\n       '$3.49', '$1.99', '$9.99', '$7.49', '$0.99', '$9.00', '$5.49',\n       '$10.00', '$24.99', '$11.99', '$79.99', '$16.99', '$14.99',\n       '$1.00', '$29.99', '$12.99', '$2.49', '$10.99', '$1.50', '$19.99',\n       '$15.99', '$33.99', '$74.99', '$39.99', '$3.95', '$4.49', '$1.70',\n       '$8.99', '$2.00', '$3.88', '$25.99', '$399.99', '$17.99',\n       '$400.00', '$3.02', '$1.76', '$4.84', '$4.77', '$1.61', '$2.50',\n       '$1.59', '$6.49', '$1.29', '$5.00', '$13.99', '$299.99', '$379.99',\n       '$37.99', '$18.99', '$389.99', '$19.90', '$8.49', '$1.75',\n       '$14.00', '$4.85', '$46.99', '$109.99', '$154.99', '$3.08',\n       '$2.59', '$4.80', '$1.96', '$19.40', '$3.90', '$4.59', '$15.46',\n       '$3.04', '$4.29', '$2.60', '$3.28', '$4.60', '$28.99', '$2.95',\n       '$2.90', '$1.97', '$200.00', '$89.99', '$2.56', '$30.99', '$3.61',\n       '$394.99', '$1.26', '$1.20', '$1.04'], dtype=object)"
          },
          "metadata": {}
        }
      ]
    },
    {
      "cell_type": "markdown",
      "source": "Our second problem remains: I'm seeing dollar symbols when I close my eyes! (And not in a good way). \n\nThis is a problem because Python actually considers these values strings. So we can't do mathematical and statistical operations on them until we've made them into numbers. ",
      "metadata": {
        "id": "T43TB4qFFcvF",
        "colab_type": "text",
        "cell_id": "00022-462efe49-b125-422b-832b-79dbad5d1965",
        "deepnote_cell_type": "markdown"
      }
    },
    {
      "cell_type": "code",
      "metadata": {
        "id": "W87gVS9BFcvG",
        "colab_type": "code",
        "colab": {},
        "cell_id": "00023-82276e6d-14fb-457d-93cb-53b3b34de4fd",
        "deepnote_to_be_reexecuted": false,
        "source_hash": "91ec3a3c",
        "execution_millis": 6,
        "execution_start": 1618666967367,
        "deepnote_cell_type": "code"
      },
      "source": "# Let's create a variable called nosymb.\n# This variable will take the Price column of Google and apply the str.replace() method. \nnosymb = Google['Price'].str.replace('$', '')\n\n# Now we need to do two things:\n# i. Make the values in the nosymb variable numeric using the to_numeric() pandas method.\n# ii. Assign this new set of numeric, dollar-sign-less values to Google['Price']. \n# You can do this in one line if you wish.\nGoogle['Price'] = pd.to_numeric(nosymb)",
      "execution_count": 12,
      "outputs": [
        {
          "name": "stderr",
          "text": "/shared-libs/python3.7/py-core/lib/python3.7/site-packages/ipykernel_launcher.py:3: FutureWarning: The default value of regex will change from True to False in a future version. In addition, single character regular expressions will*not* be treated as literal strings when regex=True.\n  This is separate from the ipykernel package so we can avoid doing imports until\n",
          "output_type": "stream"
        }
      ]
    },
    {
      "cell_type": "markdown",
      "source": "Now let's check the data types for our Google dataframe again, to verify that the 'Price' column really is numeric now.",
      "metadata": {
        "id": "LxpJQ9yyFcvI",
        "colab_type": "text",
        "cell_id": "00024-d9927bf5-cbcc-486a-8e9b-e3c403d33d57",
        "deepnote_cell_type": "markdown"
      }
    },
    {
      "cell_type": "code",
      "metadata": {
        "id": "Fn5Gt-QbFcvI",
        "colab_type": "code",
        "colab": {},
        "cell_id": "00025-8cb7a1d4-0e6a-4d2e-a8cf-6343c6f199a7",
        "deepnote_to_be_reexecuted": false,
        "source_hash": "e40686d6",
        "execution_millis": 8,
        "execution_start": 1618666969016,
        "deepnote_cell_type": "code"
      },
      "source": "# Use the function dtypes. \nGoogle.dtypes",
      "execution_count": 13,
      "outputs": [
        {
          "output_type": "execute_result",
          "execution_count": 13,
          "data": {
            "text/plain": "Category     object\nRating      float64\nReviews      object\nPrice       float64\ndtype: object"
          },
          "metadata": {}
        }
      ]
    },
    {
      "cell_type": "markdown",
      "source": "Notice that the column `Reviews` is still an object column. We actually need this column to be a numeric column, too. ",
      "metadata": {
        "id": "FgfuiVo0FcvK",
        "colab_type": "text",
        "cell_id": "00026-8828d402-573d-4ff4-acc6-184b010fd16a",
        "deepnote_cell_type": "markdown"
      }
    },
    {
      "cell_type": "code",
      "metadata": {
        "id": "MiVEWsWBFcvL",
        "colab_type": "code",
        "colab": {},
        "cell_id": "00027-c5c32c4b-1525-407a-8ac9-65b149d06f0f",
        "deepnote_to_be_reexecuted": false,
        "source_hash": "694b90ed",
        "execution_millis": 0,
        "execution_start": 1618666970656,
        "deepnote_cell_type": "code"
      },
      "source": "# Convert the 'Reviews' column to a numeric data type. \nGoogle['Reviews'] = pd.to_numeric(Google['Reviews'])",
      "execution_count": 14,
      "outputs": []
    },
    {
      "cell_type": "code",
      "metadata": {
        "id": "wWJdXXTTFcvN",
        "colab_type": "code",
        "colab": {},
        "cell_id": "00028-4022cea6-43fc-4fea-9134-30710ab92fec",
        "deepnote_to_be_reexecuted": false,
        "source_hash": "886515cc",
        "execution_millis": 6,
        "execution_start": 1618666973880,
        "deepnote_cell_type": "code"
      },
      "source": "# Let's check the data types of Google again\nGoogle.dtypes",
      "execution_count": 15,
      "outputs": [
        {
          "output_type": "execute_result",
          "execution_count": 15,
          "data": {
            "text/plain": "Category     object\nRating      float64\nReviews       int64\nPrice       float64\ndtype: object"
          },
          "metadata": {}
        }
      ]
    },
    {
      "cell_type": "markdown",
      "source": "### 2b. Add a `platform` column to both the `Apple` and the `Google` dataframes\nLet's add a new column to both dataframe objects called `platform`: all of its values in the Google dataframe will be just 'google', and all of its values for the Apple dataframe will be just 'apple'. \n\nThe reason we're making this column is so that we can ultimately join our Apple and Google data together, and actually test out some hypotheses to solve the problem in our brief. ",
      "metadata": {
        "id": "OiLm2GEKFcvP",
        "colab_type": "text",
        "cell_id": "00029-07e9048d-0944-435c-b237-f148680f6efd",
        "deepnote_cell_type": "markdown"
      }
    },
    {
      "cell_type": "code",
      "metadata": {
        "id": "mF-sOcx2FcvQ",
        "colab_type": "code",
        "colab": {},
        "cell_id": "00030-71b38f7a-86c3-4f18-949f-9e06814090c4",
        "deepnote_to_be_reexecuted": false,
        "source_hash": "9f60556c",
        "execution_millis": 1,
        "execution_start": 1618666975080,
        "deepnote_cell_type": "code"
      },
      "source": "# Create a column called 'platform' in both the Apple and Google dataframes. \n# Add the value 'apple' and the value 'google' as appropriate. \nApple['platform'] = 'apple'\nGoogle['platform'] = 'google'",
      "execution_count": 16,
      "outputs": []
    },
    {
      "cell_type": "markdown",
      "source": "### 2c. Changing the column names to prepare for our join of the two datasets \nSince the easiest way to join two datasets is if they have both:\n- the same number of columns\n- the same column names\nwe need to rename the columns of `Apple` so that they're the same as the ones of `Google`, or vice versa.\n\nIn this case, we're going to change the `Apple` columns names to the names of the `Google` columns. \n\nThis is an important step to unify the two datasets!",
      "metadata": {
        "id": "EJcry17IFcvS",
        "colab_type": "text",
        "cell_id": "00031-f7ad0e9c-bfa3-4e1f-8d17-98086a641f11",
        "deepnote_cell_type": "markdown"
      }
    },
    {
      "cell_type": "code",
      "metadata": {
        "id": "bdt9XH2KFcvT",
        "colab_type": "code",
        "colab": {},
        "cell_id": "00032-404d0622-479e-449d-a277-46d50c94873a",
        "deepnote_to_be_reexecuted": false,
        "source_hash": "ab261faf",
        "execution_millis": 23,
        "execution_start": 1618666976648,
        "deepnote_cell_type": "code"
      },
      "source": "# Create a variable called old_names where you'll store the column names of the Apple dataframe. \n# Use the feature .columns.\nold_names = Apple.columns\nprint(old_names)\n\n# Create a variable called new_names where you'll store the column names of the Google dataframe. \nnew_names = Google.columns\nprint(new_names)\n\n# Use the rename() DataFrame method to change the columns names. \nApple = Apple.rename( columns = {'prime_genre':'Category', 'user_rating':'Rating', 'rating_count_tot':'Reviews', 'price':'Price' , 'platform':'platform'})\nApple.head()",
      "execution_count": 17,
      "outputs": [
        {
          "name": "stdout",
          "text": "Index(['prime_genre', 'user_rating', 'rating_count_tot', 'price', 'platform'], dtype='object')\nIndex(['Category', 'Rating', 'Reviews', 'Price', 'platform'], dtype='object')\n",
          "output_type": "stream"
        },
        {
          "output_type": "execute_result",
          "execution_count": 17,
          "data": {
            "application/vnd.deepnote.dataframe.v2+json": {
              "row_count": 5,
              "column_count": 5,
              "columns": [
                {
                  "name": "Category",
                  "dtype": "object",
                  "stats": {
                    "unique_count": 5,
                    "nan_count": 0,
                    "categories": [
                      {
                        "name": "Games",
                        "count": 1
                      },
                      {
                        "name": "Productivity",
                        "count": 1
                      },
                      {
                        "name": "3 others",
                        "count": 3
                      }
                    ]
                  }
                },
                {
                  "name": "Rating",
                  "dtype": "float64",
                  "stats": {
                    "unique_count": 3,
                    "nan_count": 0,
                    "min": "3.5",
                    "max": "4.5",
                    "histogram": [
                      {
                        "bin_start": 3.5,
                        "bin_end": 3.6,
                        "count": 1
                      },
                      {
                        "bin_start": 3.6,
                        "bin_end": 3.7,
                        "count": 0
                      },
                      {
                        "bin_start": 3.7,
                        "bin_end": 3.8,
                        "count": 0
                      },
                      {
                        "bin_start": 3.8,
                        "bin_end": 3.9,
                        "count": 0
                      },
                      {
                        "bin_start": 3.9,
                        "bin_end": 4,
                        "count": 0
                      },
                      {
                        "bin_start": 4,
                        "bin_end": 4.1,
                        "count": 3
                      },
                      {
                        "bin_start": 4.1,
                        "bin_end": 4.2,
                        "count": 0
                      },
                      {
                        "bin_start": 4.2,
                        "bin_end": 4.3,
                        "count": 0
                      },
                      {
                        "bin_start": 4.3,
                        "bin_end": 4.4,
                        "count": 0
                      },
                      {
                        "bin_start": 4.4,
                        "bin_end": 4.5,
                        "count": 1
                      }
                    ]
                  }
                },
                {
                  "name": "Reviews",
                  "dtype": "int64",
                  "stats": {
                    "unique_count": 5,
                    "nan_count": 0,
                    "min": "21292",
                    "max": "985920",
                    "histogram": [
                      {
                        "bin_start": 21292,
                        "bin_end": 117754.8,
                        "count": 1
                      },
                      {
                        "bin_start": 117754.8,
                        "bin_end": 214217.6,
                        "count": 2
                      },
                      {
                        "bin_start": 214217.6,
                        "bin_end": 310680.4,
                        "count": 1
                      },
                      {
                        "bin_start": 310680.4,
                        "bin_end": 407143.2,
                        "count": 0
                      },
                      {
                        "bin_start": 407143.2,
                        "bin_end": 503606,
                        "count": 0
                      },
                      {
                        "bin_start": 503606,
                        "bin_end": 600068.8,
                        "count": 0
                      },
                      {
                        "bin_start": 600068.8,
                        "bin_end": 696531.6,
                        "count": 0
                      },
                      {
                        "bin_start": 696531.6,
                        "bin_end": 792994.4,
                        "count": 0
                      },
                      {
                        "bin_start": 792994.4,
                        "bin_end": 889457.2000000001,
                        "count": 0
                      },
                      {
                        "bin_start": 889457.2000000001,
                        "bin_end": 985920,
                        "count": 1
                      }
                    ]
                  }
                },
                {
                  "name": "Price",
                  "dtype": "float64",
                  "stats": {
                    "unique_count": 2,
                    "nan_count": 0,
                    "min": "0.0",
                    "max": "3.99",
                    "histogram": [
                      {
                        "bin_start": 0,
                        "bin_end": 0.399,
                        "count": 4
                      },
                      {
                        "bin_start": 0.399,
                        "bin_end": 0.798,
                        "count": 0
                      },
                      {
                        "bin_start": 0.798,
                        "bin_end": 1.197,
                        "count": 0
                      },
                      {
                        "bin_start": 1.197,
                        "bin_end": 1.596,
                        "count": 0
                      },
                      {
                        "bin_start": 1.596,
                        "bin_end": 1.995,
                        "count": 0
                      },
                      {
                        "bin_start": 1.995,
                        "bin_end": 2.394,
                        "count": 0
                      },
                      {
                        "bin_start": 2.394,
                        "bin_end": 2.793,
                        "count": 0
                      },
                      {
                        "bin_start": 2.793,
                        "bin_end": 3.192,
                        "count": 0
                      },
                      {
                        "bin_start": 3.192,
                        "bin_end": 3.591,
                        "count": 0
                      },
                      {
                        "bin_start": 3.591,
                        "bin_end": 3.99,
                        "count": 1
                      }
                    ]
                  }
                },
                {
                  "name": "platform",
                  "dtype": "object",
                  "stats": {
                    "unique_count": 1,
                    "nan_count": 0,
                    "categories": [
                      {
                        "name": "apple",
                        "count": 5
                      }
                    ]
                  }
                },
                {
                  "name": "_deepnote_index_column",
                  "dtype": "int64"
                }
              ],
              "rows_top": [
                {
                  "Category": "Games",
                  "Rating": 4,
                  "Reviews": 21292,
                  "Price": 3.99,
                  "platform": "apple",
                  "_deepnote_index_column": 0
                },
                {
                  "Category": "Productivity",
                  "Rating": 4,
                  "Reviews": 161065,
                  "Price": 0,
                  "platform": "apple",
                  "_deepnote_index_column": 1
                },
                {
                  "Category": "Weather",
                  "Rating": 3.5,
                  "Reviews": 188583,
                  "Price": 0,
                  "platform": "apple",
                  "_deepnote_index_column": 2
                },
                {
                  "Category": "Shopping",
                  "Rating": 4,
                  "Reviews": 262241,
                  "Price": 0,
                  "platform": "apple",
                  "_deepnote_index_column": 3
                },
                {
                  "Category": "Reference",
                  "Rating": 4.5,
                  "Reviews": 985920,
                  "Price": 0,
                  "platform": "apple",
                  "_deepnote_index_column": 4
                }
              ],
              "rows_bottom": null
            },
            "text/plain": "       Category  Rating  Reviews  Price platform\n0         Games     4.0    21292   3.99    apple\n1  Productivity     4.0   161065   0.00    apple\n2       Weather     3.5   188583   0.00    apple\n3      Shopping     4.0   262241   0.00    apple\n4     Reference     4.5   985920   0.00    apple",
            "text/html": "<div>\n<style scoped>\n    .dataframe tbody tr th:only-of-type {\n        vertical-align: middle;\n    }\n\n    .dataframe tbody tr th {\n        vertical-align: top;\n    }\n\n    .dataframe thead th {\n        text-align: right;\n    }\n</style>\n<table border=\"1\" class=\"dataframe\">\n  <thead>\n    <tr style=\"text-align: right;\">\n      <th></th>\n      <th>Category</th>\n      <th>Rating</th>\n      <th>Reviews</th>\n      <th>Price</th>\n      <th>platform</th>\n    </tr>\n  </thead>\n  <tbody>\n    <tr>\n      <th>0</th>\n      <td>Games</td>\n      <td>4.0</td>\n      <td>21292</td>\n      <td>3.99</td>\n      <td>apple</td>\n    </tr>\n    <tr>\n      <th>1</th>\n      <td>Productivity</td>\n      <td>4.0</td>\n      <td>161065</td>\n      <td>0.00</td>\n      <td>apple</td>\n    </tr>\n    <tr>\n      <th>2</th>\n      <td>Weather</td>\n      <td>3.5</td>\n      <td>188583</td>\n      <td>0.00</td>\n      <td>apple</td>\n    </tr>\n    <tr>\n      <th>3</th>\n      <td>Shopping</td>\n      <td>4.0</td>\n      <td>262241</td>\n      <td>0.00</td>\n      <td>apple</td>\n    </tr>\n    <tr>\n      <th>4</th>\n      <td>Reference</td>\n      <td>4.5</td>\n      <td>985920</td>\n      <td>0.00</td>\n      <td>apple</td>\n    </tr>\n  </tbody>\n</table>\n</div>"
          },
          "metadata": {}
        }
      ]
    },
    {
      "cell_type": "markdown",
      "source": "### 2d. Join the two datasets \nLet's combine the two datasets into a single data frame called `df`.",
      "metadata": {
        "id": "qewPiLrRFcvX",
        "colab_type": "text",
        "cell_id": "00033-74c9aef7-a70a-4950-88bd-a200845c12bb",
        "deepnote_cell_type": "markdown"
      }
    },
    {
      "cell_type": "code",
      "metadata": {
        "id": "jq6fGfvyFcvY",
        "colab_type": "code",
        "colab": {},
        "cell_id": "00034-e3345c3b-4897-4b36-bc1f-bd77a797d19d",
        "deepnote_to_be_reexecuted": false,
        "source_hash": "a1d60c17",
        "execution_millis": 39,
        "execution_start": 1618666979676,
        "deepnote_cell_type": "code"
      },
      "source": "# Let's use the append() method to append Apple to Google. \ndf = Google.append(Apple)\n\n# Using the sample() method with the number 12 passed to it, check 12 random points of your dataset.\ndf.sample(12)",
      "execution_count": 18,
      "outputs": [
        {
          "output_type": "execute_result",
          "execution_count": 18,
          "data": {
            "application/vnd.deepnote.dataframe.v2+json": {
              "row_count": 12,
              "column_count": 5,
              "columns": [
                {
                  "name": "Category",
                  "dtype": "object",
                  "stats": {
                    "unique_count": 7,
                    "nan_count": 0,
                    "categories": [
                      {
                        "name": "GAME",
                        "count": 3
                      },
                      {
                        "name": "Games",
                        "count": 2
                      },
                      {
                        "name": "5 others",
                        "count": 7
                      }
                    ]
                  }
                },
                {
                  "name": "Rating",
                  "dtype": "float64",
                  "stats": {
                    "unique_count": 8,
                    "nan_count": 1,
                    "min": "0.0",
                    "max": "4.7",
                    "histogram": [
                      {
                        "bin_start": 0,
                        "bin_end": 0.47000000000000003,
                        "count": 1
                      },
                      {
                        "bin_start": 0.47000000000000003,
                        "bin_end": 0.9400000000000001,
                        "count": 0
                      },
                      {
                        "bin_start": 0.9400000000000001,
                        "bin_end": 1.4100000000000001,
                        "count": 0
                      },
                      {
                        "bin_start": 1.4100000000000001,
                        "bin_end": 1.8800000000000001,
                        "count": 0
                      },
                      {
                        "bin_start": 1.8800000000000001,
                        "bin_end": 2.35,
                        "count": 0
                      },
                      {
                        "bin_start": 2.35,
                        "bin_end": 2.8200000000000003,
                        "count": 0
                      },
                      {
                        "bin_start": 2.8200000000000003,
                        "bin_end": 3.29,
                        "count": 0
                      },
                      {
                        "bin_start": 3.29,
                        "bin_end": 3.7600000000000002,
                        "count": 0
                      },
                      {
                        "bin_start": 3.7600000000000002,
                        "bin_end": 4.23,
                        "count": 3
                      },
                      {
                        "bin_start": 4.23,
                        "bin_end": 4.7,
                        "count": 7
                      }
                    ]
                  }
                },
                {
                  "name": "Reviews",
                  "dtype": "int64",
                  "stats": {
                    "unique_count": 12,
                    "nan_count": 0,
                    "min": "0",
                    "max": "1433233",
                    "histogram": [
                      {
                        "bin_start": 0,
                        "bin_end": 143323.3,
                        "count": 8
                      },
                      {
                        "bin_start": 143323.3,
                        "bin_end": 286646.6,
                        "count": 1
                      },
                      {
                        "bin_start": 286646.6,
                        "bin_end": 429969.89999999997,
                        "count": 0
                      },
                      {
                        "bin_start": 429969.89999999997,
                        "bin_end": 573293.2,
                        "count": 0
                      },
                      {
                        "bin_start": 573293.2,
                        "bin_end": 716616.5,
                        "count": 0
                      },
                      {
                        "bin_start": 716616.5,
                        "bin_end": 859939.7999999999,
                        "count": 1
                      },
                      {
                        "bin_start": 859939.7999999999,
                        "bin_end": 1003263.0999999999,
                        "count": 0
                      },
                      {
                        "bin_start": 1003263.0999999999,
                        "bin_end": 1146586.4,
                        "count": 0
                      },
                      {
                        "bin_start": 1146586.4,
                        "bin_end": 1289909.7,
                        "count": 0
                      },
                      {
                        "bin_start": 1289909.7,
                        "bin_end": 1433233,
                        "count": 2
                      }
                    ]
                  }
                },
                {
                  "name": "Price",
                  "dtype": "float64",
                  "stats": {
                    "unique_count": 2,
                    "nan_count": 0,
                    "min": "0.0",
                    "max": "0.99",
                    "histogram": [
                      {
                        "bin_start": 0,
                        "bin_end": 0.099,
                        "count": 11
                      },
                      {
                        "bin_start": 0.099,
                        "bin_end": 0.198,
                        "count": 0
                      },
                      {
                        "bin_start": 0.198,
                        "bin_end": 0.29700000000000004,
                        "count": 0
                      },
                      {
                        "bin_start": 0.29700000000000004,
                        "bin_end": 0.396,
                        "count": 0
                      },
                      {
                        "bin_start": 0.396,
                        "bin_end": 0.495,
                        "count": 0
                      },
                      {
                        "bin_start": 0.495,
                        "bin_end": 0.5940000000000001,
                        "count": 0
                      },
                      {
                        "bin_start": 0.5940000000000001,
                        "bin_end": 0.6930000000000001,
                        "count": 0
                      },
                      {
                        "bin_start": 0.6930000000000001,
                        "bin_end": 0.792,
                        "count": 0
                      },
                      {
                        "bin_start": 0.792,
                        "bin_end": 0.891,
                        "count": 0
                      },
                      {
                        "bin_start": 0.891,
                        "bin_end": 0.99,
                        "count": 1
                      }
                    ]
                  }
                },
                {
                  "name": "platform",
                  "dtype": "object",
                  "stats": {
                    "unique_count": 2,
                    "nan_count": 0,
                    "categories": [
                      {
                        "name": "google",
                        "count": 10
                      },
                      {
                        "name": "apple",
                        "count": 2
                      }
                    ]
                  }
                },
                {
                  "name": "_deepnote_index_column",
                  "dtype": "int64"
                }
              ],
              "rows_top": [
                {
                  "Category": "GAME",
                  "Rating": "4.2",
                  "Reviews": 839206,
                  "Price": 0,
                  "platform": "google",
                  "_deepnote_index_column": 10378
                },
                {
                  "Category": "Games",
                  "Rating": "4.0",
                  "Reviews": 2908,
                  "Price": 0,
                  "platform": "apple",
                  "_deepnote_index_column": 4682
                },
                {
                  "Category": "GAME",
                  "Rating": "4.7",
                  "Reviews": 1351089,
                  "Price": 0,
                  "platform": "google",
                  "_deepnote_index_column": 1752
                },
                {
                  "Category": "BUSINESS",
                  "Rating": "4.6",
                  "Reviews": 17,
                  "Price": 0,
                  "platform": "google",
                  "_deepnote_index_column": 8222
                },
                {
                  "Category": "TOOLS",
                  "Rating": "4.4",
                  "Reviews": 51,
                  "Price": 0,
                  "platform": "google",
                  "_deepnote_index_column": 4142
                },
                {
                  "Category": "PRODUCTIVITY",
                  "Rating": "4.6",
                  "Reviews": 8,
                  "Price": 0,
                  "platform": "google",
                  "_deepnote_index_column": 9315
                },
                {
                  "Category": "BOOKS_AND_REFERENCE",
                  "Rating": "3.9",
                  "Reviews": 1433233,
                  "Price": 0,
                  "platform": "google",
                  "_deepnote_index_column": 152
                },
                {
                  "Category": "TOOLS",
                  "Rating": "4.3",
                  "Reviews": 269,
                  "Price": 0,
                  "platform": "google",
                  "_deepnote_index_column": 6741
                },
                {
                  "Category": "SOCIAL",
                  "Rating": "nan",
                  "Reviews": 62,
                  "Price": 0,
                  "platform": "google",
                  "_deepnote_index_column": 7343
                },
                {
                  "Category": "GAME",
                  "Rating": "4.3",
                  "Reviews": 187200,
                  "Price": 0,
                  "platform": "google",
                  "_deepnote_index_column": 9615
                },
                {
                  "Category": "Games",
                  "Rating": "0.0",
                  "Reviews": 0,
                  "Price": 0.99,
                  "platform": "apple",
                  "_deepnote_index_column": 5898
                },
                {
                  "Category": "PRODUCTIVITY",
                  "Rating": "4.7",
                  "Reviews": 10672,
                  "Price": 0,
                  "platform": "google",
                  "_deepnote_index_column": 4968
                }
              ],
              "rows_bottom": null
            },
            "text/plain": "                  Category  Rating  Reviews  Price platform\n10378                 GAME     4.2   839206   0.00   google\n4682                 Games     4.0     2908   0.00    apple\n1752                  GAME     4.7  1351089   0.00   google\n8222              BUSINESS     4.6       17   0.00   google\n4142                 TOOLS     4.4       51   0.00   google\n9315          PRODUCTIVITY     4.6        8   0.00   google\n152    BOOKS_AND_REFERENCE     3.9  1433233   0.00   google\n6741                 TOOLS     4.3      269   0.00   google\n7343                SOCIAL     NaN       62   0.00   google\n9615                  GAME     4.3   187200   0.00   google\n5898                 Games     0.0        0   0.99    apple\n4968          PRODUCTIVITY     4.7    10672   0.00   google",
            "text/html": "<div>\n<style scoped>\n    .dataframe tbody tr th:only-of-type {\n        vertical-align: middle;\n    }\n\n    .dataframe tbody tr th {\n        vertical-align: top;\n    }\n\n    .dataframe thead th {\n        text-align: right;\n    }\n</style>\n<table border=\"1\" class=\"dataframe\">\n  <thead>\n    <tr style=\"text-align: right;\">\n      <th></th>\n      <th>Category</th>\n      <th>Rating</th>\n      <th>Reviews</th>\n      <th>Price</th>\n      <th>platform</th>\n    </tr>\n  </thead>\n  <tbody>\n    <tr>\n      <th>10378</th>\n      <td>GAME</td>\n      <td>4.2</td>\n      <td>839206</td>\n      <td>0.00</td>\n      <td>google</td>\n    </tr>\n    <tr>\n      <th>4682</th>\n      <td>Games</td>\n      <td>4.0</td>\n      <td>2908</td>\n      <td>0.00</td>\n      <td>apple</td>\n    </tr>\n    <tr>\n      <th>1752</th>\n      <td>GAME</td>\n      <td>4.7</td>\n      <td>1351089</td>\n      <td>0.00</td>\n      <td>google</td>\n    </tr>\n    <tr>\n      <th>8222</th>\n      <td>BUSINESS</td>\n      <td>4.6</td>\n      <td>17</td>\n      <td>0.00</td>\n      <td>google</td>\n    </tr>\n    <tr>\n      <th>4142</th>\n      <td>TOOLS</td>\n      <td>4.4</td>\n      <td>51</td>\n      <td>0.00</td>\n      <td>google</td>\n    </tr>\n    <tr>\n      <th>9315</th>\n      <td>PRODUCTIVITY</td>\n      <td>4.6</td>\n      <td>8</td>\n      <td>0.00</td>\n      <td>google</td>\n    </tr>\n    <tr>\n      <th>152</th>\n      <td>BOOKS_AND_REFERENCE</td>\n      <td>3.9</td>\n      <td>1433233</td>\n      <td>0.00</td>\n      <td>google</td>\n    </tr>\n    <tr>\n      <th>6741</th>\n      <td>TOOLS</td>\n      <td>4.3</td>\n      <td>269</td>\n      <td>0.00</td>\n      <td>google</td>\n    </tr>\n    <tr>\n      <th>7343</th>\n      <td>SOCIAL</td>\n      <td>NaN</td>\n      <td>62</td>\n      <td>0.00</td>\n      <td>google</td>\n    </tr>\n    <tr>\n      <th>9615</th>\n      <td>GAME</td>\n      <td>4.3</td>\n      <td>187200</td>\n      <td>0.00</td>\n      <td>google</td>\n    </tr>\n    <tr>\n      <th>5898</th>\n      <td>Games</td>\n      <td>0.0</td>\n      <td>0</td>\n      <td>0.99</td>\n      <td>apple</td>\n    </tr>\n    <tr>\n      <th>4968</th>\n      <td>PRODUCTIVITY</td>\n      <td>4.7</td>\n      <td>10672</td>\n      <td>0.00</td>\n      <td>google</td>\n    </tr>\n  </tbody>\n</table>\n</div>"
          },
          "metadata": {}
        }
      ]
    },
    {
      "cell_type": "markdown",
      "source": "### 2e. Eliminate the NaN values\n\nAs you can see there are some `NaN` values. We want to eliminate all these `NaN` values from the table.",
      "metadata": {
        "id": "FjqsHugWFcvb",
        "colab_type": "text",
        "cell_id": "00035-e9782770-afbb-4a8a-a1be-40b96e91d6b7",
        "deepnote_cell_type": "markdown"
      }
    },
    {
      "cell_type": "code",
      "metadata": {
        "id": "Gp2q6GLyFcvb",
        "colab_type": "code",
        "colab": {},
        "cell_id": "00036-f2bf6272-81bc-44a0-8b1b-928bf6437ff8",
        "deepnote_to_be_reexecuted": false,
        "source_hash": "a616bfb7",
        "execution_millis": 18,
        "execution_start": 1618666981820,
        "deepnote_cell_type": "code"
      },
      "source": "# Lets check first the dimesions of df before droping `NaN` values. Use the .shape feature. \ndf.shape\n\n# Use the dropna() method to eliminate all the NaN values, and overwrite the same dataframe with the result. \ndf.dropna()\n\n# Check the new dimesions of our dataframe. \ndf.shape",
      "execution_count": 19,
      "outputs": [
        {
          "output_type": "execute_result",
          "execution_count": 19,
          "data": {
            "text/plain": "(18037, 5)"
          },
          "metadata": {}
        }
      ]
    },
    {
      "cell_type": "markdown",
      "source": "### 2f. Filter the data so that we only see whose apps that have been reviewed at least once\n\nApps that haven't been reviewed yet can't help us solve our brief. \n\nSo let's check to see if any apps have no reviews at all. ",
      "metadata": {
        "id": "qtfeQKtAFcvd",
        "colab_type": "text",
        "cell_id": "00037-f52aa4ea-e3fd-40d5-b647-b788ac7f369e",
        "deepnote_cell_type": "markdown"
      }
    },
    {
      "cell_type": "code",
      "metadata": {
        "id": "Ge9OKXLNFcvd",
        "colab_type": "code",
        "colab": {},
        "cell_id": "00038-68093796-2b29-4788-ba08-d7b690ec3755",
        "deepnote_to_be_reexecuted": false,
        "source_hash": "8b21869d",
        "execution_millis": 7,
        "execution_start": 1618666985482,
        "deepnote_cell_type": "code"
      },
      "source": "# Subset your df to pick out just those rows whose value for 'Reviews' is equal to 0. \n# Do a count() on the result. \ndf[df['Reviews'] == 0].count()",
      "execution_count": 20,
      "outputs": [
        {
          "output_type": "execute_result",
          "execution_count": 20,
          "data": {
            "text/plain": "Category    1525\nRating       929\nReviews     1525\nPrice       1525\nplatform    1525\ndtype: int64"
          },
          "metadata": {}
        }
      ]
    },
    {
      "cell_type": "markdown",
      "source": "929 apps do not have reviews, we need to eliminate these points!",
      "metadata": {
        "id": "05f7H0kAFcvg",
        "colab_type": "text",
        "cell_id": "00039-dfecd69d-5e3a-4a3b-abef-8e3c4c743594",
        "deepnote_cell_type": "markdown"
      }
    },
    {
      "cell_type": "code",
      "metadata": {
        "id": "pD8vmPjkFcvg",
        "colab_type": "code",
        "colab": {},
        "cell_id": "00040-9b5f9ad0-9488-4205-a3fe-8e2b1db75299",
        "deepnote_to_be_reexecuted": false,
        "source_hash": "8c5d7948",
        "execution_millis": 2,
        "execution_start": 1618666986803,
        "deepnote_cell_type": "code"
      },
      "source": "# Eliminate the points that have 0 reviews.\ndf = df[df['Reviews'] != 0]",
      "execution_count": 21,
      "outputs": []
    },
    {
      "cell_type": "markdown",
      "source": "### 2g. Summarize the data visually and analytically (by the column `platform`)",
      "metadata": {
        "id": "ApnKES_bFcvi",
        "colab_type": "text",
        "cell_id": "00041-c0a592ab-a2ed-4b64-b868-88345649b03f",
        "deepnote_cell_type": "markdown"
      }
    },
    {
      "cell_type": "markdown",
      "source": "What we need to solve our brief is a summary of the `Rating` column, but separated by the different platforms.",
      "metadata": {
        "id": "2smt9UocFcvj",
        "colab_type": "text",
        "cell_id": "00042-34481b35-c9ca-4301-a63e-ef458865d2fa",
        "deepnote_cell_type": "markdown"
      }
    },
    {
      "cell_type": "code",
      "metadata": {
        "id": "Vqckt347Fcvj",
        "colab_type": "code",
        "colab": {},
        "cell_id": "00043-14897929-420b-4209-b31a-1a5fe22debd5",
        "deepnote_to_be_reexecuted": false,
        "source_hash": "f85e41a4",
        "execution_millis": 40,
        "execution_start": 1618666989676,
        "deepnote_cell_type": "code"
      },
      "source": "# To summarize analytically, let's use the groupby() method on our df.\ndf.groupby(by = 'platform')['Rating'].describe()",
      "execution_count": 22,
      "outputs": [
        {
          "output_type": "execute_result",
          "execution_count": 22,
          "data": {
            "application/vnd.deepnote.dataframe.v2+json": {
              "row_count": 2,
              "column_count": 8,
              "columns": [
                {
                  "name": "count",
                  "dtype": "float64",
                  "stats": {
                    "unique_count": 2,
                    "nan_count": 0,
                    "min": "6268.0",
                    "max": "9366.0",
                    "histogram": [
                      {
                        "bin_start": 6268,
                        "bin_end": 6577.8,
                        "count": 1
                      },
                      {
                        "bin_start": 6577.8,
                        "bin_end": 6887.6,
                        "count": 0
                      },
                      {
                        "bin_start": 6887.6,
                        "bin_end": 7197.4,
                        "count": 0
                      },
                      {
                        "bin_start": 7197.4,
                        "bin_end": 7507.2,
                        "count": 0
                      },
                      {
                        "bin_start": 7507.2,
                        "bin_end": 7817,
                        "count": 0
                      },
                      {
                        "bin_start": 7817,
                        "bin_end": 8126.8,
                        "count": 0
                      },
                      {
                        "bin_start": 8126.8,
                        "bin_end": 8436.6,
                        "count": 0
                      },
                      {
                        "bin_start": 8436.6,
                        "bin_end": 8746.4,
                        "count": 0
                      },
                      {
                        "bin_start": 8746.4,
                        "bin_end": 9056.2,
                        "count": 0
                      },
                      {
                        "bin_start": 9056.2,
                        "bin_end": 9366,
                        "count": 1
                      }
                    ]
                  }
                },
                {
                  "name": "mean",
                  "dtype": "float64",
                  "stats": {
                    "unique_count": 2,
                    "nan_count": 0,
                    "min": "4.049696873005743",
                    "max": "4.191757420456972",
                    "histogram": [
                      {
                        "bin_start": 4.049696873005743,
                        "bin_end": 4.063902927750866,
                        "count": 1
                      },
                      {
                        "bin_start": 4.063902927750866,
                        "bin_end": 4.078108982495989,
                        "count": 0
                      },
                      {
                        "bin_start": 4.078108982495989,
                        "bin_end": 4.092315037241112,
                        "count": 0
                      },
                      {
                        "bin_start": 4.092315037241112,
                        "bin_end": 4.1065210919862345,
                        "count": 0
                      },
                      {
                        "bin_start": 4.1065210919862345,
                        "bin_end": 4.120727146731358,
                        "count": 0
                      },
                      {
                        "bin_start": 4.120727146731358,
                        "bin_end": 4.134933201476481,
                        "count": 0
                      },
                      {
                        "bin_start": 4.134933201476481,
                        "bin_end": 4.149139256221604,
                        "count": 0
                      },
                      {
                        "bin_start": 4.149139256221604,
                        "bin_end": 4.163345310966727,
                        "count": 0
                      },
                      {
                        "bin_start": 4.163345310966727,
                        "bin_end": 4.1775513657118495,
                        "count": 0
                      },
                      {
                        "bin_start": 4.1775513657118495,
                        "bin_end": 4.191757420456972,
                        "count": 1
                      }
                    ]
                  }
                },
                {
                  "name": "std",
                  "dtype": "float64",
                  "stats": {
                    "unique_count": 2,
                    "nan_count": 0,
                    "min": "0.5152188586177886",
                    "max": "0.7269427318908778",
                    "histogram": [
                      {
                        "bin_start": 0.5152188586177886,
                        "bin_end": 0.5363912459450975,
                        "count": 1
                      },
                      {
                        "bin_start": 0.5363912459450975,
                        "bin_end": 0.5575636332724064,
                        "count": 0
                      },
                      {
                        "bin_start": 0.5575636332724064,
                        "bin_end": 0.5787360205997154,
                        "count": 0
                      },
                      {
                        "bin_start": 0.5787360205997154,
                        "bin_end": 0.5999084079270243,
                        "count": 0
                      },
                      {
                        "bin_start": 0.5999084079270243,
                        "bin_end": 0.6210807952543331,
                        "count": 0
                      },
                      {
                        "bin_start": 0.6210807952543331,
                        "bin_end": 0.6422531825816421,
                        "count": 0
                      },
                      {
                        "bin_start": 0.6422531825816421,
                        "bin_end": 0.6634255699089511,
                        "count": 0
                      },
                      {
                        "bin_start": 0.6634255699089511,
                        "bin_end": 0.6845979572362599,
                        "count": 0
                      },
                      {
                        "bin_start": 0.6845979572362599,
                        "bin_end": 0.7057703445635688,
                        "count": 0
                      },
                      {
                        "bin_start": 0.7057703445635688,
                        "bin_end": 0.7269427318908778,
                        "count": 1
                      }
                    ]
                  }
                },
                {
                  "name": "min",
                  "dtype": "float64",
                  "stats": {
                    "unique_count": 1,
                    "nan_count": 0,
                    "min": "1.0",
                    "max": "1.0",
                    "histogram": [
                      {
                        "bin_start": 0.5,
                        "bin_end": 0.6,
                        "count": 0
                      },
                      {
                        "bin_start": 0.6,
                        "bin_end": 0.7,
                        "count": 0
                      },
                      {
                        "bin_start": 0.7,
                        "bin_end": 0.8,
                        "count": 0
                      },
                      {
                        "bin_start": 0.8,
                        "bin_end": 0.9,
                        "count": 0
                      },
                      {
                        "bin_start": 0.9,
                        "bin_end": 1,
                        "count": 0
                      },
                      {
                        "bin_start": 1,
                        "bin_end": 1.1,
                        "count": 2
                      },
                      {
                        "bin_start": 1.1,
                        "bin_end": 1.2000000000000002,
                        "count": 0
                      },
                      {
                        "bin_start": 1.2000000000000002,
                        "bin_end": 1.3,
                        "count": 0
                      },
                      {
                        "bin_start": 1.3,
                        "bin_end": 1.4,
                        "count": 0
                      },
                      {
                        "bin_start": 1.4,
                        "bin_end": 1.5,
                        "count": 0
                      }
                    ]
                  }
                },
                {
                  "name": "25%",
                  "dtype": "float64",
                  "stats": {
                    "unique_count": 1,
                    "nan_count": 0,
                    "min": "4.0",
                    "max": "4.0",
                    "histogram": [
                      {
                        "bin_start": 3.5,
                        "bin_end": 3.6,
                        "count": 0
                      },
                      {
                        "bin_start": 3.6,
                        "bin_end": 3.7,
                        "count": 0
                      },
                      {
                        "bin_start": 3.7,
                        "bin_end": 3.8,
                        "count": 0
                      },
                      {
                        "bin_start": 3.8,
                        "bin_end": 3.9,
                        "count": 0
                      },
                      {
                        "bin_start": 3.9,
                        "bin_end": 4,
                        "count": 0
                      },
                      {
                        "bin_start": 4,
                        "bin_end": 4.1,
                        "count": 2
                      },
                      {
                        "bin_start": 4.1,
                        "bin_end": 4.2,
                        "count": 0
                      },
                      {
                        "bin_start": 4.2,
                        "bin_end": 4.3,
                        "count": 0
                      },
                      {
                        "bin_start": 4.3,
                        "bin_end": 4.4,
                        "count": 0
                      },
                      {
                        "bin_start": 4.4,
                        "bin_end": 4.5,
                        "count": 0
                      }
                    ]
                  }
                },
                {
                  "name": "50%",
                  "dtype": "float64",
                  "stats": {
                    "unique_count": 2,
                    "nan_count": 0,
                    "min": "4.3",
                    "max": "4.5",
                    "histogram": [
                      {
                        "bin_start": 4.3,
                        "bin_end": 4.32,
                        "count": 1
                      },
                      {
                        "bin_start": 4.32,
                        "bin_end": 4.34,
                        "count": 0
                      },
                      {
                        "bin_start": 4.34,
                        "bin_end": 4.359999999999999,
                        "count": 0
                      },
                      {
                        "bin_start": 4.359999999999999,
                        "bin_end": 4.38,
                        "count": 0
                      },
                      {
                        "bin_start": 4.38,
                        "bin_end": 4.4,
                        "count": 0
                      },
                      {
                        "bin_start": 4.4,
                        "bin_end": 4.42,
                        "count": 0
                      },
                      {
                        "bin_start": 4.42,
                        "bin_end": 4.4399999999999995,
                        "count": 0
                      },
                      {
                        "bin_start": 4.4399999999999995,
                        "bin_end": 4.46,
                        "count": 0
                      },
                      {
                        "bin_start": 4.46,
                        "bin_end": 4.48,
                        "count": 0
                      },
                      {
                        "bin_start": 4.48,
                        "bin_end": 4.5,
                        "count": 1
                      }
                    ]
                  }
                },
                {
                  "name": "75%",
                  "dtype": "float64",
                  "stats": {
                    "unique_count": 1,
                    "nan_count": 0,
                    "min": "4.5",
                    "max": "4.5",
                    "histogram": [
                      {
                        "bin_start": 4,
                        "bin_end": 4.1,
                        "count": 0
                      },
                      {
                        "bin_start": 4.1,
                        "bin_end": 4.2,
                        "count": 0
                      },
                      {
                        "bin_start": 4.2,
                        "bin_end": 4.3,
                        "count": 0
                      },
                      {
                        "bin_start": 4.3,
                        "bin_end": 4.4,
                        "count": 0
                      },
                      {
                        "bin_start": 4.4,
                        "bin_end": 4.5,
                        "count": 0
                      },
                      {
                        "bin_start": 4.5,
                        "bin_end": 4.6,
                        "count": 2
                      },
                      {
                        "bin_start": 4.6,
                        "bin_end": 4.7,
                        "count": 0
                      },
                      {
                        "bin_start": 4.7,
                        "bin_end": 4.8,
                        "count": 0
                      },
                      {
                        "bin_start": 4.8,
                        "bin_end": 4.9,
                        "count": 0
                      },
                      {
                        "bin_start": 4.9,
                        "bin_end": 5,
                        "count": 0
                      }
                    ]
                  }
                },
                {
                  "name": "max",
                  "dtype": "float64",
                  "stats": {
                    "unique_count": 1,
                    "nan_count": 0,
                    "min": "5.0",
                    "max": "5.0",
                    "histogram": [
                      {
                        "bin_start": 4.5,
                        "bin_end": 4.6,
                        "count": 0
                      },
                      {
                        "bin_start": 4.6,
                        "bin_end": 4.7,
                        "count": 0
                      },
                      {
                        "bin_start": 4.7,
                        "bin_end": 4.8,
                        "count": 0
                      },
                      {
                        "bin_start": 4.8,
                        "bin_end": 4.9,
                        "count": 0
                      },
                      {
                        "bin_start": 4.9,
                        "bin_end": 5,
                        "count": 0
                      },
                      {
                        "bin_start": 5,
                        "bin_end": 5.1,
                        "count": 2
                      },
                      {
                        "bin_start": 5.1,
                        "bin_end": 5.2,
                        "count": 0
                      },
                      {
                        "bin_start": 5.2,
                        "bin_end": 5.3,
                        "count": 0
                      },
                      {
                        "bin_start": 5.3,
                        "bin_end": 5.4,
                        "count": 0
                      },
                      {
                        "bin_start": 5.4,
                        "bin_end": 5.5,
                        "count": 0
                      }
                    ]
                  }
                },
                {
                  "name": "_deepnote_index_column",
                  "dtype": "object"
                }
              ],
              "rows_top": [
                {
                  "count": 6268,
                  "mean": 4.049696873005743,
                  "std": 0.7269427318908778,
                  "min": 1,
                  "25%": 4,
                  "50%": 4.5,
                  "75%": 4.5,
                  "max": 5,
                  "_deepnote_index_column": "apple"
                },
                {
                  "count": 9366,
                  "mean": 4.191757420456972,
                  "std": 0.5152188586177886,
                  "min": 1,
                  "25%": 4,
                  "50%": 4.3,
                  "75%": 4.5,
                  "max": 5,
                  "_deepnote_index_column": "google"
                }
              ],
              "rows_bottom": null
            },
            "text/plain": "           count      mean       std  min  25%  50%  75%  max\nplatform                                                     \napple     6268.0  4.049697  0.726943  1.0  4.0  4.5  4.5  5.0\ngoogle    9366.0  4.191757  0.515219  1.0  4.0  4.3  4.5  5.0",
            "text/html": "<div>\n<style scoped>\n    .dataframe tbody tr th:only-of-type {\n        vertical-align: middle;\n    }\n\n    .dataframe tbody tr th {\n        vertical-align: top;\n    }\n\n    .dataframe thead th {\n        text-align: right;\n    }\n</style>\n<table border=\"1\" class=\"dataframe\">\n  <thead>\n    <tr style=\"text-align: right;\">\n      <th></th>\n      <th>count</th>\n      <th>mean</th>\n      <th>std</th>\n      <th>min</th>\n      <th>25%</th>\n      <th>50%</th>\n      <th>75%</th>\n      <th>max</th>\n    </tr>\n    <tr>\n      <th>platform</th>\n      <th></th>\n      <th></th>\n      <th></th>\n      <th></th>\n      <th></th>\n      <th></th>\n      <th></th>\n      <th></th>\n    </tr>\n  </thead>\n  <tbody>\n    <tr>\n      <th>apple</th>\n      <td>6268.0</td>\n      <td>4.049697</td>\n      <td>0.726943</td>\n      <td>1.0</td>\n      <td>4.0</td>\n      <td>4.5</td>\n      <td>4.5</td>\n      <td>5.0</td>\n    </tr>\n    <tr>\n      <th>google</th>\n      <td>9366.0</td>\n      <td>4.191757</td>\n      <td>0.515219</td>\n      <td>1.0</td>\n      <td>4.0</td>\n      <td>4.3</td>\n      <td>4.5</td>\n      <td>5.0</td>\n    </tr>\n  </tbody>\n</table>\n</div>"
          },
          "metadata": {}
        }
      ]
    },
    {
      "cell_type": "markdown",
      "source": "Interesting! Our means of 4.049697 and 4.191757 don't **seem** all that different! Perhaps we've solved our brief already: there's no significant difference between Google Play app reviews and Apple Store app reviews. We have an ***observed difference*** here: which is simply (4.191757 - 4.049697) = 0.14206. This is just the actual difference that we observed between the mean rating for apps from Google Play, and the mean rating for apps from the Apple Store. Let's look at how we're going to use this observed difference to solve our problem using a statistical test. \n\n**Outline of our method:**\n1. We'll assume that platform (i.e, whether the app was Google or Apple) really doesn’t impact on ratings. \n\n\n2. Given this assumption, we should actually be able to get a difference in mean rating for Apple apps and mean rating for Google apps that's pretty similar to the one we actually got (0.14206) just by: \na. shuffling the ratings column, \nb. keeping the platform column the same,\nc. calculating the difference between the mean rating for Apple and the mean rating for Google. \n\n\n3. We can make the shuffle more useful by doing it many times, each time calculating the mean rating for Apple apps and the mean rating for Google apps, and the difference between these means. \n\n\n4. We can then take the mean of all these differences, and this will be called our permutation difference. This permutation difference will be great indicator of what the difference would be if our initial assumption were true and platform really doesn’t impact on ratings. \n\n\n5. Now we do a comparison. If the observed difference looks just like the permutation difference, then we stick with the claim that actually, platform doesn’t impact on ratings. If instead, however, the permutation difference differs significantly from the observed difference, we'll conclude: something's going on; the platform does in fact impact on ratings. \n\n\n6. As for what the definition of *significantly* is, we'll get to that. But there’s a brief summary of what we're going to do. Exciting!\n\nIf you want to look more deeply at the statistics behind this project, check out [this resource](https://www.springboard.com/archeio/download/4ea4d453b0b84014bcef287c50f47f00/).",
      "metadata": {
        "id": "8f9TqMtKFcvl",
        "colab_type": "text",
        "cell_id": "00044-03f7a05a-0a13-47bd-85fb-949065378752",
        "deepnote_cell_type": "markdown"
      }
    },
    {
      "cell_type": "markdown",
      "source": "Let's also get a **visual summary** of the `Rating` column, separated by the different platforms. \n\nA good tool to use here is the boxplot!",
      "metadata": {
        "id": "d6EhTxArFcvm",
        "colab_type": "text",
        "cell_id": "00045-20edc8f3-0387-4765-ab08-ac909ef02bbb",
        "deepnote_cell_type": "markdown"
      }
    },
    {
      "cell_type": "code",
      "metadata": {
        "id": "hFKjrlWgFcvm",
        "colab_type": "code",
        "colab": {},
        "cell_id": "00046-65126bcb-4537-438b-939b-9f2f1ee21e84",
        "deepnote_to_be_reexecuted": false,
        "source_hash": "36c95830",
        "execution_start": 1618667122327,
        "execution_millis": 255,
        "deepnote_cell_type": "code"
      },
      "source": "# Call the boxplot() method on our df.\ndf.boxplot(by='platform', column =['Rating'], grid=False, rot=45, fontsize=15)",
      "execution_count": 23,
      "outputs": [
        {
          "output_type": "execute_result",
          "execution_count": 23,
          "data": {
            "text/plain": "<AxesSubplot:title={'center':'Rating'}, xlabel='platform'>"
          },
          "metadata": {}
        },
        {
          "data": {
            "text/plain": "<Figure size 432x288 with 1 Axes>",
            "image/png": "[encoded data removed]"
          },
          "metadata": {
            "needs_background": "light"
          },
          "output_type": "display_data"
        }
      ]
    },
    {
      "cell_type": "markdown",
      "source": "Here we see the same information as in the analytical summary, but with a boxplot. Can you see how the boxplot is working here? If you need to revise your boxplots, check out this this [link](https://www.kaggle.com/ramamet4/app-store-apple-data-set-10k-apps). ",
      "metadata": {
        "id": "FqTlAjnmFcvo",
        "colab_type": "text",
        "cell_id": "00047-bcb0fbb5-c131-4d39-918a-11f4281f5a1d",
        "deepnote_cell_type": "markdown"
      }
    },
    {
      "cell_type": "markdown",
      "source": "## Stage 3 - Modelling",
      "metadata": {
        "id": "O8L-s1fgFcvp",
        "colab_type": "text",
        "cell_id": "00048-92277c2d-5e9e-4e2e-92ef-4e2cd4dcc541",
        "deepnote_cell_type": "markdown"
      }
    },
    {
      "cell_type": "markdown",
      "source": "### 3a. Hypothesis formulation\n\nOur **Null hypothesis** is just:\n\n**H<sub>null</sub>**: the observed difference in the mean rating of Apple Store and Google Play apps is due to chance (and thus not due to the platform).\n\nThe more interesting hypothesis is called the **Alternate hypothesis**:\n\n**H<sub>alternative</sub>**: the observed difference in the average ratings of apple and google users is not due to chance (and is actually due to platform)\n\nWe're also going to pick a **significance level** of 0.05. ",
      "metadata": {
        "id": "5fbRq2MZFcvq",
        "colab_type": "text",
        "cell_id": "00049-36f58485-67a9-44a4-a728-29366b8a6c2f",
        "deepnote_cell_type": "markdown"
      }
    },
    {
      "cell_type": "markdown",
      "source": "### 3b. Getting the distribution of the data\nNow that the hypotheses and significance level are defined, we can select a statistical test to determine which hypothesis to accept. \n\nThere are many different statistical tests, all with different assumptions. You'll generate an excellent judgement about when to use which statistical tests over the Data Science Career Track course. But in general, one of the most important things to determine is the **distribution of the data**.   ",
      "metadata": {
        "id": "TjBqkabaFcvq",
        "colab_type": "text",
        "cell_id": "00050-6cdc7b78-dd95-44e2-9681-1757ba83d15f",
        "deepnote_cell_type": "markdown"
      }
    },
    {
      "cell_type": "code",
      "metadata": {
        "id": "bFwVhkeWFcvr",
        "colab_type": "code",
        "colab": {},
        "cell_id": "00051-af7dd371-0c1e-4715-a45e-53a85dcdfbe0",
        "deepnote_to_be_reexecuted": false,
        "source_hash": "a448b5cc",
        "execution_start": 1618667639787,
        "execution_millis": 0,
        "deepnote_cell_type": "code"
      },
      "source": "# Create a subset of the column 'Rating' by the different platforms.\n# Call the subsets 'apple' and 'google' \napple = df[df['platform'] == 'apple']['Rating']\ngoogle = df[df['platform'] == 'google']['Rating']",
      "execution_count": 24,
      "outputs": []
    },
    {
      "cell_type": "code",
      "metadata": {
        "id": "oPPFpwPvFcvu",
        "colab_type": "code",
        "colab": {},
        "cell_id": "00052-0a9653f4-0143-42e8-852e-deb7bdd45eb7",
        "deepnote_to_be_reexecuted": false,
        "source_hash": "59f83523",
        "execution_start": 1618667672857,
        "execution_millis": 8,
        "deepnote_cell_type": "code"
      },
      "source": "# Using the stats.normaltest() method, get an indication of whether the apple data are normally distributed\n# Save the result in a variable called apple_normal, and print it out\napple_normal = stats.normaltest(apple)\nprint(apple_normal)",
      "execution_count": 25,
      "outputs": [
        {
          "name": "stdout",
          "text": "NormaltestResult(statistic=1778.9974234584017, pvalue=0.0)\n",
          "output_type": "stream"
        }
      ]
    },
    {
      "cell_type": "code",
      "source": "print(google)",
      "metadata": {
        "tags": [],
        "cell_id": "00053-4d6849e5-e23e-4cfe-a682-7f7466f02fca",
        "deepnote_to_be_reexecuted": false,
        "source_hash": "588c2947",
        "execution_start": 1618667759721,
        "execution_millis": 7,
        "deepnote_cell_type": "code"
      },
      "outputs": [
        {
          "name": "stdout",
          "text": "0        4.1\n1        3.9\n2        4.7\n3        4.5\n4        4.3\n        ... \n10836    4.5\n10837    5.0\n10838    NaN\n10839    4.5\n10840    4.5\nName: Rating, Length: 10244, dtype: float64\n",
          "output_type": "stream"
        }
      ],
      "execution_count": 28
    },
    {
      "cell_type": "code",
      "metadata": {
        "id": "rCdh8a8KFcvw",
        "colab_type": "code",
        "colab": {},
        "cell_id": "00053-20d1afc0-00f3-4126-be50-9fcf206ef3d5",
        "deepnote_to_be_reexecuted": false,
        "source_hash": "2ffdd501",
        "execution_millis": 14,
        "execution_start": 1618667876246,
        "deepnote_cell_type": "code"
      },
      "source": "# Do the same with the google data. \ngoogle_normal = stats.normaltest(google.dropna())\nprint(google_normal)",
      "execution_count": 29,
      "outputs": [
        {
          "name": "stdout",
          "text": "NormaltestResult(statistic=nan, pvalue=nan)\n",
          "output_type": "stream"
        }
      ]
    },
    {
      "cell_type": "markdown",
      "source": "Since the null hypothesis of the normaltest() is that the data are normally distributed, the lower the p-value in the result of this test, the more likely the data are to be non-normal. \n\nSince the p-values is 0 for both tests, regardless of what we pick for the significance level, our conclusion is that the data are not normally distributed. \n\nWe can actually also check out the distribution of the data visually with a histogram. A normal distribution has the following visual characteristics:\n    - symmetric\n    - unimodal (one hump)\nAs well as a roughly identical mean, median and mode. ",
      "metadata": {
        "id": "9gDqu21yFcv0",
        "colab_type": "text",
        "cell_id": "00054-91dcd7b9-fd82-4312-9ea4-f8ecb85a6153",
        "deepnote_cell_type": "markdown"
      }
    },
    {
      "cell_type": "code",
      "metadata": {
        "id": "P9tT9RjNFcv1",
        "colab_type": "code",
        "colab": {},
        "cell_id": "00055-3fc65b78-5d39-475a-96e6-9f1b2dded2b8",
        "deepnote_to_be_reexecuted": false,
        "source_hash": "3d4094ec",
        "execution_start": 1618667921343,
        "execution_millis": 168,
        "deepnote_cell_type": "code"
      },
      "source": "# Create a histogram of the apple reviews distribution\nhist_Apple = plt.hist(apple)",
      "execution_count": 30,
      "outputs": [
        {
          "data": {
            "text/plain": "<Figure size 432x288 with 1 Axes>",
            "image/png": "[encoded data removed]"
          },
          "metadata": {
            "needs_background": "light"
          },
          "output_type": "display_data"
        }
      ]
    },
    {
      "cell_type": "code",
      "metadata": {
        "id": "8dE1uC5iFcv2",
        "colab_type": "code",
        "colab": {},
        "cell_id": "00056-9e21ad1a-5e69-4409-a7bc-5416893eab9a",
        "deepnote_to_be_reexecuted": false,
        "source_hash": "7457b088",
        "execution_start": 1618667957722,
        "execution_millis": 148,
        "deepnote_cell_type": "code"
      },
      "source": "# Create a histogram of the google data\nhist_Google = plt.hist(google)",
      "execution_count": 31,
      "outputs": [
        {
          "data": {
            "text/plain": "<Figure size 432x288 with 1 Axes>",
            "image/png": "[encoded data removed]"
          },
          "metadata": {
            "needs_background": "light"
          },
          "output_type": "display_data"
        }
      ]
    },
    {
      "cell_type": "markdown",
      "source": "### 3c. Permutation test\nSince the data aren't normally distributed, we're using a *non-parametric* test here. This is simply a label for statistical tests used when the data aren't normally distributed. These tests are extraordinarily powerful due to how few assumptions we need to make.  \n\nCheck out more about permutations [here.](http://rasbt.github.io/mlxtend/user_guide/evaluate/permutation_test/)",
      "metadata": {
        "id": "QhZV89FzFcv5",
        "colab_type": "text",
        "cell_id": "00057-efc96e12-e95e-4722-9199-59e7eedbe7d0",
        "deepnote_cell_type": "markdown"
      }
    },
    {
      "cell_type": "code",
      "metadata": {
        "id": "bxNhQgpqFcv6",
        "colab_type": "code",
        "colab": {},
        "cell_id": "00058-f468cbff-2813-4c13-b213-b4818867d9b0",
        "deepnote_to_be_reexecuted": false,
        "source_hash": "ba7a7d66",
        "execution_start": 1618668691930,
        "execution_millis": 44,
        "deepnote_cell_type": "code"
      },
      "source": "# Create a column called `Permutation1`, and assign to it the result of permuting (shuffling) the Rating column\n# This assignment will use our numpy object's random.permutation() method\ndf['Permutation1'] = np.random.permutation(df['Rating'])\n\n# Call the describe() method on our permutation grouped by 'platform'. \ndf.groupby(by='platform')['Permutation1'].describe()",
      "execution_count": 32,
      "outputs": [
        {
          "output_type": "execute_result",
          "execution_count": 32,
          "data": {
            "application/vnd.deepnote.dataframe.v2+json": {
              "row_count": 2,
              "column_count": 8,
              "columns": [
                {
                  "name": "count",
                  "dtype": "float64",
                  "stats": {
                    "unique_count": 2,
                    "nan_count": 0,
                    "min": "5956.0",
                    "max": "9678.0",
                    "histogram": [
                      {
                        "bin_start": 5956,
                        "bin_end": 6328.2,
                        "count": 1
                      },
                      {
                        "bin_start": 6328.2,
                        "bin_end": 6700.4,
                        "count": 0
                      },
                      {
                        "bin_start": 6700.4,
                        "bin_end": 7072.6,
                        "count": 0
                      },
                      {
                        "bin_start": 7072.6,
                        "bin_end": 7444.8,
                        "count": 0
                      },
                      {
                        "bin_start": 7444.8,
                        "bin_end": 7817,
                        "count": 0
                      },
                      {
                        "bin_start": 7817,
                        "bin_end": 8189.2,
                        "count": 0
                      },
                      {
                        "bin_start": 8189.2,
                        "bin_end": 8561.4,
                        "count": 0
                      },
                      {
                        "bin_start": 8561.4,
                        "bin_end": 8933.6,
                        "count": 0
                      },
                      {
                        "bin_start": 8933.6,
                        "bin_end": 9305.8,
                        "count": 0
                      },
                      {
                        "bin_start": 9305.8,
                        "bin_end": 9678,
                        "count": 1
                      }
                    ]
                  }
                },
                {
                  "name": "mean",
                  "dtype": "float64",
                  "stats": {
                    "unique_count": 2,
                    "nan_count": 0,
                    "min": "4.124059771658832",
                    "max": "4.141413515189089",
                    "histogram": [
                      {
                        "bin_start": 4.124059771658832,
                        "bin_end": 4.125795146011858,
                        "count": 1
                      },
                      {
                        "bin_start": 4.125795146011858,
                        "bin_end": 4.127530520364883,
                        "count": 0
                      },
                      {
                        "bin_start": 4.127530520364883,
                        "bin_end": 4.129265894717909,
                        "count": 0
                      },
                      {
                        "bin_start": 4.129265894717909,
                        "bin_end": 4.131001269070935,
                        "count": 0
                      },
                      {
                        "bin_start": 4.131001269070935,
                        "bin_end": 4.132736643423961,
                        "count": 0
                      },
                      {
                        "bin_start": 4.132736643423961,
                        "bin_end": 4.134472017776986,
                        "count": 0
                      },
                      {
                        "bin_start": 4.134472017776986,
                        "bin_end": 4.136207392130012,
                        "count": 0
                      },
                      {
                        "bin_start": 4.136207392130012,
                        "bin_end": 4.137942766483038,
                        "count": 0
                      },
                      {
                        "bin_start": 4.137942766483038,
                        "bin_end": 4.139678140836063,
                        "count": 0
                      },
                      {
                        "bin_start": 4.139678140836063,
                        "bin_end": 4.141413515189089,
                        "count": 1
                      }
                    ]
                  }
                },
                {
                  "name": "std",
                  "dtype": "float64",
                  "stats": {
                    "unique_count": 2,
                    "nan_count": 0,
                    "min": "0.6105105261358764",
                    "max": "0.6168011836930004",
                    "histogram": [
                      {
                        "bin_start": 0.6105105261358764,
                        "bin_end": 0.6111395918915888,
                        "count": 1
                      },
                      {
                        "bin_start": 0.6111395918915888,
                        "bin_end": 0.6117686576473013,
                        "count": 0
                      },
                      {
                        "bin_start": 0.6117686576473013,
                        "bin_end": 0.6123977234030136,
                        "count": 0
                      },
                      {
                        "bin_start": 0.6123977234030136,
                        "bin_end": 0.613026789158726,
                        "count": 0
                      },
                      {
                        "bin_start": 0.613026789158726,
                        "bin_end": 0.6136558549144384,
                        "count": 0
                      },
                      {
                        "bin_start": 0.6136558549144384,
                        "bin_end": 0.6142849206701508,
                        "count": 0
                      },
                      {
                        "bin_start": 0.6142849206701508,
                        "bin_end": 0.6149139864258633,
                        "count": 0
                      },
                      {
                        "bin_start": 0.6149139864258633,
                        "bin_end": 0.6155430521815756,
                        "count": 0
                      },
                      {
                        "bin_start": 0.6155430521815756,
                        "bin_end": 0.616172117937288,
                        "count": 0
                      },
                      {
                        "bin_start": 0.616172117937288,
                        "bin_end": 0.6168011836930004,
                        "count": 1
                      }
                    ]
                  }
                },
                {
                  "name": "min",
                  "dtype": "float64",
                  "stats": {
                    "unique_count": 1,
                    "nan_count": 0,
                    "min": "1.0",
                    "max": "1.0",
                    "histogram": [
                      {
                        "bin_start": 0.5,
                        "bin_end": 0.6,
                        "count": 0
                      },
                      {
                        "bin_start": 0.6,
                        "bin_end": 0.7,
                        "count": 0
                      },
                      {
                        "bin_start": 0.7,
                        "bin_end": 0.8,
                        "count": 0
                      },
                      {
                        "bin_start": 0.8,
                        "bin_end": 0.9,
                        "count": 0
                      },
                      {
                        "bin_start": 0.9,
                        "bin_end": 1,
                        "count": 0
                      },
                      {
                        "bin_start": 1,
                        "bin_end": 1.1,
                        "count": 2
                      },
                      {
                        "bin_start": 1.1,
                        "bin_end": 1.2000000000000002,
                        "count": 0
                      },
                      {
                        "bin_start": 1.2000000000000002,
                        "bin_end": 1.3,
                        "count": 0
                      },
                      {
                        "bin_start": 1.3,
                        "bin_end": 1.4,
                        "count": 0
                      },
                      {
                        "bin_start": 1.4,
                        "bin_end": 1.5,
                        "count": 0
                      }
                    ]
                  }
                },
                {
                  "name": "25%",
                  "dtype": "float64",
                  "stats": {
                    "unique_count": 1,
                    "nan_count": 0,
                    "min": "4.0",
                    "max": "4.0",
                    "histogram": [
                      {
                        "bin_start": 3.5,
                        "bin_end": 3.6,
                        "count": 0
                      },
                      {
                        "bin_start": 3.6,
                        "bin_end": 3.7,
                        "count": 0
                      },
                      {
                        "bin_start": 3.7,
                        "bin_end": 3.8,
                        "count": 0
                      },
                      {
                        "bin_start": 3.8,
                        "bin_end": 3.9,
                        "count": 0
                      },
                      {
                        "bin_start": 3.9,
                        "bin_end": 4,
                        "count": 0
                      },
                      {
                        "bin_start": 4,
                        "bin_end": 4.1,
                        "count": 2
                      },
                      {
                        "bin_start": 4.1,
                        "bin_end": 4.2,
                        "count": 0
                      },
                      {
                        "bin_start": 4.2,
                        "bin_end": 4.3,
                        "count": 0
                      },
                      {
                        "bin_start": 4.3,
                        "bin_end": 4.4,
                        "count": 0
                      },
                      {
                        "bin_start": 4.4,
                        "bin_end": 4.5,
                        "count": 0
                      }
                    ]
                  }
                },
                {
                  "name": "50%",
                  "dtype": "float64",
                  "stats": {
                    "unique_count": 1,
                    "nan_count": 0,
                    "min": "4.3",
                    "max": "4.3",
                    "histogram": [
                      {
                        "bin_start": 3.8,
                        "bin_end": 3.9,
                        "count": 0
                      },
                      {
                        "bin_start": 3.9,
                        "bin_end": 4,
                        "count": 0
                      },
                      {
                        "bin_start": 4,
                        "bin_end": 4.1,
                        "count": 0
                      },
                      {
                        "bin_start": 4.1,
                        "bin_end": 4.2,
                        "count": 0
                      },
                      {
                        "bin_start": 4.2,
                        "bin_end": 4.3,
                        "count": 0
                      },
                      {
                        "bin_start": 4.3,
                        "bin_end": 4.4,
                        "count": 2
                      },
                      {
                        "bin_start": 4.4,
                        "bin_end": 4.5,
                        "count": 0
                      },
                      {
                        "bin_start": 4.5,
                        "bin_end": 4.6,
                        "count": 0
                      },
                      {
                        "bin_start": 4.6,
                        "bin_end": 4.7,
                        "count": 0
                      },
                      {
                        "bin_start": 4.7,
                        "bin_end": 4.8,
                        "count": 0
                      }
                    ]
                  }
                },
                {
                  "name": "75%",
                  "dtype": "float64",
                  "stats": {
                    "unique_count": 1,
                    "nan_count": 0,
                    "min": "4.5",
                    "max": "4.5",
                    "histogram": [
                      {
                        "bin_start": 4,
                        "bin_end": 4.1,
                        "count": 0
                      },
                      {
                        "bin_start": 4.1,
                        "bin_end": 4.2,
                        "count": 0
                      },
                      {
                        "bin_start": 4.2,
                        "bin_end": 4.3,
                        "count": 0
                      },
                      {
                        "bin_start": 4.3,
                        "bin_end": 4.4,
                        "count": 0
                      },
                      {
                        "bin_start": 4.4,
                        "bin_end": 4.5,
                        "count": 0
                      },
                      {
                        "bin_start": 4.5,
                        "bin_end": 4.6,
                        "count": 2
                      },
                      {
                        "bin_start": 4.6,
                        "bin_end": 4.7,
                        "count": 0
                      },
                      {
                        "bin_start": 4.7,
                        "bin_end": 4.8,
                        "count": 0
                      },
                      {
                        "bin_start": 4.8,
                        "bin_end": 4.9,
                        "count": 0
                      },
                      {
                        "bin_start": 4.9,
                        "bin_end": 5,
                        "count": 0
                      }
                    ]
                  }
                },
                {
                  "name": "max",
                  "dtype": "float64",
                  "stats": {
                    "unique_count": 1,
                    "nan_count": 0,
                    "min": "5.0",
                    "max": "5.0",
                    "histogram": [
                      {
                        "bin_start": 4.5,
                        "bin_end": 4.6,
                        "count": 0
                      },
                      {
                        "bin_start": 4.6,
                        "bin_end": 4.7,
                        "count": 0
                      },
                      {
                        "bin_start": 4.7,
                        "bin_end": 4.8,
                        "count": 0
                      },
                      {
                        "bin_start": 4.8,
                        "bin_end": 4.9,
                        "count": 0
                      },
                      {
                        "bin_start": 4.9,
                        "bin_end": 5,
                        "count": 0
                      },
                      {
                        "bin_start": 5,
                        "bin_end": 5.1,
                        "count": 2
                      },
                      {
                        "bin_start": 5.1,
                        "bin_end": 5.2,
                        "count": 0
                      },
                      {
                        "bin_start": 5.2,
                        "bin_end": 5.3,
                        "count": 0
                      },
                      {
                        "bin_start": 5.3,
                        "bin_end": 5.4,
                        "count": 0
                      },
                      {
                        "bin_start": 5.4,
                        "bin_end": 5.5,
                        "count": 0
                      }
                    ]
                  }
                },
                {
                  "name": "_deepnote_index_column",
                  "dtype": "object"
                }
              ],
              "rows_top": [
                {
                  "count": 5956,
                  "mean": 4.124059771658832,
                  "std": 0.6168011836930004,
                  "min": 1,
                  "25%": 4,
                  "50%": 4.3,
                  "75%": 4.5,
                  "max": 5,
                  "_deepnote_index_column": "apple"
                },
                {
                  "count": 9678,
                  "mean": 4.141413515189089,
                  "std": 0.6105105261358764,
                  "min": 1,
                  "25%": 4,
                  "50%": 4.3,
                  "75%": 4.5,
                  "max": 5,
                  "_deepnote_index_column": "google"
                }
              ],
              "rows_bottom": null
            },
            "text/plain": "           count      mean       std  min  25%  50%  75%  max\nplatform                                                     \napple     5956.0  4.124060  0.616801  1.0  4.0  4.3  4.5  5.0\ngoogle    9678.0  4.141414  0.610511  1.0  4.0  4.3  4.5  5.0",
            "text/html": "<div>\n<style scoped>\n    .dataframe tbody tr th:only-of-type {\n        vertical-align: middle;\n    }\n\n    .dataframe tbody tr th {\n        vertical-align: top;\n    }\n\n    .dataframe thead th {\n        text-align: right;\n    }\n</style>\n<table border=\"1\" class=\"dataframe\">\n  <thead>\n    <tr style=\"text-align: right;\">\n      <th></th>\n      <th>count</th>\n      <th>mean</th>\n      <th>std</th>\n      <th>min</th>\n      <th>25%</th>\n      <th>50%</th>\n      <th>75%</th>\n      <th>max</th>\n    </tr>\n    <tr>\n      <th>platform</th>\n      <th></th>\n      <th></th>\n      <th></th>\n      <th></th>\n      <th></th>\n      <th></th>\n      <th></th>\n      <th></th>\n    </tr>\n  </thead>\n  <tbody>\n    <tr>\n      <th>apple</th>\n      <td>5956.0</td>\n      <td>4.124060</td>\n      <td>0.616801</td>\n      <td>1.0</td>\n      <td>4.0</td>\n      <td>4.3</td>\n      <td>4.5</td>\n      <td>5.0</td>\n    </tr>\n    <tr>\n      <th>google</th>\n      <td>9678.0</td>\n      <td>4.141414</td>\n      <td>0.610511</td>\n      <td>1.0</td>\n      <td>4.0</td>\n      <td>4.3</td>\n      <td>4.5</td>\n      <td>5.0</td>\n    </tr>\n  </tbody>\n</table>\n</div>"
          },
          "metadata": {}
        }
      ]
    },
    {
      "cell_type": "code",
      "metadata": {
        "id": "AaGNfPGTFcv7",
        "colab_type": "code",
        "colab": {},
        "cell_id": "00059-0caa1f08-de26-4e85-8919-571790481dca",
        "deepnote_to_be_reexecuted": false,
        "source_hash": "d67488b5",
        "execution_start": 1618668712502,
        "execution_millis": 47,
        "deepnote_cell_type": "code"
      },
      "source": "# Lets compare with the previous analytical summary:\ndf.groupby(by='platform')['Rating'].describe()",
      "execution_count": 33,
      "outputs": [
        {
          "output_type": "execute_result",
          "execution_count": 33,
          "data": {
            "application/vnd.deepnote.dataframe.v2+json": {
              "row_count": 2,
              "column_count": 8,
              "columns": [
                {
                  "name": "count",
                  "dtype": "float64",
                  "stats": {
                    "unique_count": 2,
                    "nan_count": 0,
                    "min": "6268.0",
                    "max": "9366.0",
                    "histogram": [
                      {
                        "bin_start": 6268,
                        "bin_end": 6577.8,
                        "count": 1
                      },
                      {
                        "bin_start": 6577.8,
                        "bin_end": 6887.6,
                        "count": 0
                      },
                      {
                        "bin_start": 6887.6,
                        "bin_end": 7197.4,
                        "count": 0
                      },
                      {
                        "bin_start": 7197.4,
                        "bin_end": 7507.2,
                        "count": 0
                      },
                      {
                        "bin_start": 7507.2,
                        "bin_end": 7817,
                        "count": 0
                      },
                      {
                        "bin_start": 7817,
                        "bin_end": 8126.8,
                        "count": 0
                      },
                      {
                        "bin_start": 8126.8,
                        "bin_end": 8436.6,
                        "count": 0
                      },
                      {
                        "bin_start": 8436.6,
                        "bin_end": 8746.4,
                        "count": 0
                      },
                      {
                        "bin_start": 8746.4,
                        "bin_end": 9056.2,
                        "count": 0
                      },
                      {
                        "bin_start": 9056.2,
                        "bin_end": 9366,
                        "count": 1
                      }
                    ]
                  }
                },
                {
                  "name": "mean",
                  "dtype": "float64",
                  "stats": {
                    "unique_count": 2,
                    "nan_count": 0,
                    "min": "4.049696873005743",
                    "max": "4.191757420456972",
                    "histogram": [
                      {
                        "bin_start": 4.049696873005743,
                        "bin_end": 4.063902927750866,
                        "count": 1
                      },
                      {
                        "bin_start": 4.063902927750866,
                        "bin_end": 4.078108982495989,
                        "count": 0
                      },
                      {
                        "bin_start": 4.078108982495989,
                        "bin_end": 4.092315037241112,
                        "count": 0
                      },
                      {
                        "bin_start": 4.092315037241112,
                        "bin_end": 4.1065210919862345,
                        "count": 0
                      },
                      {
                        "bin_start": 4.1065210919862345,
                        "bin_end": 4.120727146731358,
                        "count": 0
                      },
                      {
                        "bin_start": 4.120727146731358,
                        "bin_end": 4.134933201476481,
                        "count": 0
                      },
                      {
                        "bin_start": 4.134933201476481,
                        "bin_end": 4.149139256221604,
                        "count": 0
                      },
                      {
                        "bin_start": 4.149139256221604,
                        "bin_end": 4.163345310966727,
                        "count": 0
                      },
                      {
                        "bin_start": 4.163345310966727,
                        "bin_end": 4.1775513657118495,
                        "count": 0
                      },
                      {
                        "bin_start": 4.1775513657118495,
                        "bin_end": 4.191757420456972,
                        "count": 1
                      }
                    ]
                  }
                },
                {
                  "name": "std",
                  "dtype": "float64",
                  "stats": {
                    "unique_count": 2,
                    "nan_count": 0,
                    "min": "0.5152188586177886",
                    "max": "0.7269427318908778",
                    "histogram": [
                      {
                        "bin_start": 0.5152188586177886,
                        "bin_end": 0.5363912459450975,
                        "count": 1
                      },
                      {
                        "bin_start": 0.5363912459450975,
                        "bin_end": 0.5575636332724064,
                        "count": 0
                      },
                      {
                        "bin_start": 0.5575636332724064,
                        "bin_end": 0.5787360205997154,
                        "count": 0
                      },
                      {
                        "bin_start": 0.5787360205997154,
                        "bin_end": 0.5999084079270243,
                        "count": 0
                      },
                      {
                        "bin_start": 0.5999084079270243,
                        "bin_end": 0.6210807952543331,
                        "count": 0
                      },
                      {
                        "bin_start": 0.6210807952543331,
                        "bin_end": 0.6422531825816421,
                        "count": 0
                      },
                      {
                        "bin_start": 0.6422531825816421,
                        "bin_end": 0.6634255699089511,
                        "count": 0
                      },
                      {
                        "bin_start": 0.6634255699089511,
                        "bin_end": 0.6845979572362599,
                        "count": 0
                      },
                      {
                        "bin_start": 0.6845979572362599,
                        "bin_end": 0.7057703445635688,
                        "count": 0
                      },
                      {
                        "bin_start": 0.7057703445635688,
                        "bin_end": 0.7269427318908778,
                        "count": 1
                      }
                    ]
                  }
                },
                {
                  "name": "min",
                  "dtype": "float64",
                  "stats": {
                    "unique_count": 1,
                    "nan_count": 0,
                    "min": "1.0",
                    "max": "1.0",
                    "histogram": [
                      {
                        "bin_start": 0.5,
                        "bin_end": 0.6,
                        "count": 0
                      },
                      {
                        "bin_start": 0.6,
                        "bin_end": 0.7,
                        "count": 0
                      },
                      {
                        "bin_start": 0.7,
                        "bin_end": 0.8,
                        "count": 0
                      },
                      {
                        "bin_start": 0.8,
                        "bin_end": 0.9,
                        "count": 0
                      },
                      {
                        "bin_start": 0.9,
                        "bin_end": 1,
                        "count": 0
                      },
                      {
                        "bin_start": 1,
                        "bin_end": 1.1,
                        "count": 2
                      },
                      {
                        "bin_start": 1.1,
                        "bin_end": 1.2000000000000002,
                        "count": 0
                      },
                      {
                        "bin_start": 1.2000000000000002,
                        "bin_end": 1.3,
                        "count": 0
                      },
                      {
                        "bin_start": 1.3,
                        "bin_end": 1.4,
                        "count": 0
                      },
                      {
                        "bin_start": 1.4,
                        "bin_end": 1.5,
                        "count": 0
                      }
                    ]
                  }
                },
                {
                  "name": "25%",
                  "dtype": "float64",
                  "stats": {
                    "unique_count": 1,
                    "nan_count": 0,
                    "min": "4.0",
                    "max": "4.0",
                    "histogram": [
                      {
                        "bin_start": 3.5,
                        "bin_end": 3.6,
                        "count": 0
                      },
                      {
                        "bin_start": 3.6,
                        "bin_end": 3.7,
                        "count": 0
                      },
                      {
                        "bin_start": 3.7,
                        "bin_end": 3.8,
                        "count": 0
                      },
                      {
                        "bin_start": 3.8,
                        "bin_end": 3.9,
                        "count": 0
                      },
                      {
                        "bin_start": 3.9,
                        "bin_end": 4,
                        "count": 0
                      },
                      {
                        "bin_start": 4,
                        "bin_end": 4.1,
                        "count": 2
                      },
                      {
                        "bin_start": 4.1,
                        "bin_end": 4.2,
                        "count": 0
                      },
                      {
                        "bin_start": 4.2,
                        "bin_end": 4.3,
                        "count": 0
                      },
                      {
                        "bin_start": 4.3,
                        "bin_end": 4.4,
                        "count": 0
                      },
                      {
                        "bin_start": 4.4,
                        "bin_end": 4.5,
                        "count": 0
                      }
                    ]
                  }
                },
                {
                  "name": "50%",
                  "dtype": "float64",
                  "stats": {
                    "unique_count": 2,
                    "nan_count": 0,
                    "min": "4.3",
                    "max": "4.5",
                    "histogram": [
                      {
                        "bin_start": 4.3,
                        "bin_end": 4.32,
                        "count": 1
                      },
                      {
                        "bin_start": 4.32,
                        "bin_end": 4.34,
                        "count": 0
                      },
                      {
                        "bin_start": 4.34,
                        "bin_end": 4.359999999999999,
                        "count": 0
                      },
                      {
                        "bin_start": 4.359999999999999,
                        "bin_end": 4.38,
                        "count": 0
                      },
                      {
                        "bin_start": 4.38,
                        "bin_end": 4.4,
                        "count": 0
                      },
                      {
                        "bin_start": 4.4,
                        "bin_end": 4.42,
                        "count": 0
                      },
                      {
                        "bin_start": 4.42,
                        "bin_end": 4.4399999999999995,
                        "count": 0
                      },
                      {
                        "bin_start": 4.4399999999999995,
                        "bin_end": 4.46,
                        "count": 0
                      },
                      {
                        "bin_start": 4.46,
                        "bin_end": 4.48,
                        "count": 0
                      },
                      {
                        "bin_start": 4.48,
                        "bin_end": 4.5,
                        "count": 1
                      }
                    ]
                  }
                },
                {
                  "name": "75%",
                  "dtype": "float64",
                  "stats": {
                    "unique_count": 1,
                    "nan_count": 0,
                    "min": "4.5",
                    "max": "4.5",
                    "histogram": [
                      {
                        "bin_start": 4,
                        "bin_end": 4.1,
                        "count": 0
                      },
                      {
                        "bin_start": 4.1,
                        "bin_end": 4.2,
                        "count": 0
                      },
                      {
                        "bin_start": 4.2,
                        "bin_end": 4.3,
                        "count": 0
                      },
                      {
                        "bin_start": 4.3,
                        "bin_end": 4.4,
                        "count": 0
                      },
                      {
                        "bin_start": 4.4,
                        "bin_end": 4.5,
                        "count": 0
                      },
                      {
                        "bin_start": 4.5,
                        "bin_end": 4.6,
                        "count": 2
                      },
                      {
                        "bin_start": 4.6,
                        "bin_end": 4.7,
                        "count": 0
                      },
                      {
                        "bin_start": 4.7,
                        "bin_end": 4.8,
                        "count": 0
                      },
                      {
                        "bin_start": 4.8,
                        "bin_end": 4.9,
                        "count": 0
                      },
                      {
                        "bin_start": 4.9,
                        "bin_end": 5,
                        "count": 0
                      }
                    ]
                  }
                },
                {
                  "name": "max",
                  "dtype": "float64",
                  "stats": {
                    "unique_count": 1,
                    "nan_count": 0,
                    "min": "5.0",
                    "max": "5.0",
                    "histogram": [
                      {
                        "bin_start": 4.5,
                        "bin_end": 4.6,
                        "count": 0
                      },
                      {
                        "bin_start": 4.6,
                        "bin_end": 4.7,
                        "count": 0
                      },
                      {
                        "bin_start": 4.7,
                        "bin_end": 4.8,
                        "count": 0
                      },
                      {
                        "bin_start": 4.8,
                        "bin_end": 4.9,
                        "count": 0
                      },
                      {
                        "bin_start": 4.9,
                        "bin_end": 5,
                        "count": 0
                      },
                      {
                        "bin_start": 5,
                        "bin_end": 5.1,
                        "count": 2
                      },
                      {
                        "bin_start": 5.1,
                        "bin_end": 5.2,
                        "count": 0
                      },
                      {
                        "bin_start": 5.2,
                        "bin_end": 5.3,
                        "count": 0
                      },
                      {
                        "bin_start": 5.3,
                        "bin_end": 5.4,
                        "count": 0
                      },
                      {
                        "bin_start": 5.4,
                        "bin_end": 5.5,
                        "count": 0
                      }
                    ]
                  }
                },
                {
                  "name": "_deepnote_index_column",
                  "dtype": "object"
                }
              ],
              "rows_top": [
                {
                  "count": 6268,
                  "mean": 4.049696873005743,
                  "std": 0.7269427318908778,
                  "min": 1,
                  "25%": 4,
                  "50%": 4.5,
                  "75%": 4.5,
                  "max": 5,
                  "_deepnote_index_column": "apple"
                },
                {
                  "count": 9366,
                  "mean": 4.191757420456972,
                  "std": 0.5152188586177886,
                  "min": 1,
                  "25%": 4,
                  "50%": 4.3,
                  "75%": 4.5,
                  "max": 5,
                  "_deepnote_index_column": "google"
                }
              ],
              "rows_bottom": null
            },
            "text/plain": "           count      mean       std  min  25%  50%  75%  max\nplatform                                                     \napple     6268.0  4.049697  0.726943  1.0  4.0  4.5  4.5  5.0\ngoogle    9366.0  4.191757  0.515219  1.0  4.0  4.3  4.5  5.0",
            "text/html": "<div>\n<style scoped>\n    .dataframe tbody tr th:only-of-type {\n        vertical-align: middle;\n    }\n\n    .dataframe tbody tr th {\n        vertical-align: top;\n    }\n\n    .dataframe thead th {\n        text-align: right;\n    }\n</style>\n<table border=\"1\" class=\"dataframe\">\n  <thead>\n    <tr style=\"text-align: right;\">\n      <th></th>\n      <th>count</th>\n      <th>mean</th>\n      <th>std</th>\n      <th>min</th>\n      <th>25%</th>\n      <th>50%</th>\n      <th>75%</th>\n      <th>max</th>\n    </tr>\n    <tr>\n      <th>platform</th>\n      <th></th>\n      <th></th>\n      <th></th>\n      <th></th>\n      <th></th>\n      <th></th>\n      <th></th>\n      <th></th>\n    </tr>\n  </thead>\n  <tbody>\n    <tr>\n      <th>apple</th>\n      <td>6268.0</td>\n      <td>4.049697</td>\n      <td>0.726943</td>\n      <td>1.0</td>\n      <td>4.0</td>\n      <td>4.5</td>\n      <td>4.5</td>\n      <td>5.0</td>\n    </tr>\n    <tr>\n      <th>google</th>\n      <td>9366.0</td>\n      <td>4.191757</td>\n      <td>0.515219</td>\n      <td>1.0</td>\n      <td>4.0</td>\n      <td>4.3</td>\n      <td>4.5</td>\n      <td>5.0</td>\n    </tr>\n  </tbody>\n</table>\n</div>"
          },
          "metadata": {}
        }
      ]
    },
    {
      "cell_type": "code",
      "metadata": {
        "id": "aJPNpX0JFcv-",
        "colab_type": "code",
        "colab": {},
        "cell_id": "00060-d814239b-a6a5-4b12-af86-c1e7324d2f88",
        "deepnote_to_be_reexecuted": false,
        "source_hash": "2a933a5a",
        "execution_millis": 2256,
        "execution_start": 1618669274627,
        "deepnote_cell_type": "code"
      },
      "source": "# The difference in the means for Permutation1 (0.001103) now looks hugely different to our observed difference of 0.14206. \n# It's sure starting to look like our observed difference is significant, and that the Null is false; platform does impact on ratings\n# But to be sure, let's create 10,000 permutations, calculate the mean ratings for Google and Apple apps and the difference between these for each one, and then take the average of all of these differences.\n# Let's create a vector with the differences - that will be the distibution of the Null.\n\n# First, make a list called difference.\ndifference = []\n\n# Now make a for loop that does the following 10,000 times:\n# 1. makes a permutation of the 'Rating' as you did above\n# 2. calculates the difference in the mean rating for apple and the mean rating for google. \nfor i in range(1000):\n    permutation = np.random.permutation(df['Rating'])\n    updated_permutation = np.nan_to_num(permutation)\n    difference.append(np.mean(updated_permutation[df['platform']=='apple']) - np.mean(updated_permutation[df['platform']=='google']))",
      "execution_count": 40,
      "outputs": []
    },
    {
      "cell_type": "code",
      "source": "print(difference)",
      "metadata": {
        "tags": [],
        "cell_id": "00062-5b7e44c6-4a93-45a5-8672-e040dc675afe",
        "deepnote_to_be_reexecuted": false,
        "source_hash": "8d38f69",
        "execution_millis": 7,
        "execution_start": 1618669287494,
        "deepnote_cell_type": "code"
      },
      "outputs": [
        {
          "name": "stdout",
          "text": "[-0.016779084281004053, -0.003818288763737243, -0.015210416569587881, -0.041080575875878544, 0.011945535942779362, 0.0028164041796254757, 0.021820427765457673, 0.007908145275694167, 0.003150710413205804, -0.00708420350717498, -0.009218620229264562, -0.02225656333889514, -0.0049755026492070975, -0.006364159311772255, 0.0015048951094254193, 0.0012734523323318925, 0.007239532808533955, 0.004230776706311445, -0.00024378365083999043, -0.002506779693538075, 0.034086894951443014, 0.003176426277326616, -0.010298686522370204, -0.009604358191088291, -0.012921704662770317, 0.018220206788439608, -0.0033039714813059007, -0.008087122207916408, -0.0047440598721126825, 0.015931494881622044, 0.01606007420222877, -0.00808712220791552, -0.009964380288790764, 0.0046422305322564306, -0.01965926106261806, 0.011559797980955189, -0.03303151040582941, 0.02593496602490708, -0.006312727583527966, -0.024005242099161883, -0.005669830980488566, 0.018245922652560864, 0.021203247026540417, 0.0046422305322564306, 0.013231329148857274, -0.015776165580262624, 0.026269272258488297, 0.004770809852864044, 0.015005723773244828, 0.0036650276956367023, -0.03598883477980941, -0.009758653375817605, -0.019222091372551375, 0.007882429411572467, 0.013822794023653717, -0.0007066692050288204, 0.01099404897028089, 0.020791793200595876, -0.02125364463815549, 0.01858022888614208, -0.029508437021176448, -0.02925127837995989, -0.004666912279748914, 0.024392014177614385, -0.025213887712876026, 0.029998072556114863, 0.010968333106159633, -0.022668017164841014, -0.027425452027330266, 0.018965966847965365, 0.007188101080290554, -0.0033039714813059007, 0.008962495704678108, 0.011354071067983362, 0.005928023738334343, -0.012484534972703631, -0.03935761297973306, 0.014439974762570529, 0.022231881591403102, -0.014567519966550257, 0.013848509887774973, 0.009219654345893336, 0.0158543472892565, -0.021742246056464687, -0.03724891212176562, 0.011791240758049604, 0.0009648619628723765, -0.010838719668922359, -0.013384590216957815, -0.015056121384859011, -0.03382870219359768, 0.04735628083816801, -0.015236132433709582, -0.038200399094263204, 0.0047965257169857445, -0.019556397606131704, -0.020276441801535317, 0.014722849267908344, 0.02212901813491719, -0.004949786785086285, 0.022180449863160145, -0.001735303769890173, 0.010556879280215536, -0.009938664424669064, 0.009939698541297393, -0.009115756772778205, 0.001633474430033477, 0.00016767017510455062, -0.021973688833558214, -0.01613618767796421, 0.0057737285536041405, 0.014645701675543243, 0.01225412631223799, 0.03683849241244941, -0.015570438667290354, -0.0012981340798234875, 0.015700052104527185, 0.0068023631184672695, 0.0013505999246965494, -0.01922209137255182, -0.012895988798647728, -0.02346520895260973, -0.01094158312540916, -0.007855679430822438, 0.019223125489180592, 0.0028164041796245876, -0.011378752815475401, -0.021999404697680358, 0.0012991681964535928, 0.013771362295409872, -0.012998852255133642, -0.029225562515839076, 0.01917169376093808, -0.005104081969815599, 0.0027135407231386743, -0.02881410868989276, 0.0024820979460447035, -0.00793282702318665, 0.01083975378555202, -0.0025582114217801433, 0.013719930567166916, 0.012768443594669332, 0.005053684358200972, 0.03033237878969519, 0.02886657453476582, -0.040386247544595744, -0.000372362971447604, -0.016007608357357483, 0.0026621089948957177, 0.0011963047399667914, -0.013436021945201215, -0.033391532503531884, -0.0012209864874592746, -0.03539736990501341, -0.021562235007614117, -0.018142025079446178, 0.02477775213943767, -0.005772694436976256, 0.010942617242038821, -0.00011520433023237686, 0.010505447551971692, 0.0014277475170607623, 0.02102323597769029, -0.0010152595744874482, 0.0062366141077934145, 0.010454015823728735, -0.02629395400598078, -0.01842489958478355, -0.008241417392645278, 0.012742727730548076, -0.0077013842460922355, 0.018811671663236496, 0.032466795511783886, -0.034934484350825024, -0.014078918548240171, -0.02716829338611415, 0.018837387527357752, 0.017217288087699956, 0.003819322880366016, -0.02711686165787075, 0.019223125489180592, -0.009835800968182706, -0.005258377154544913, -0.03984621439804359, -0.02403095796328314, -0.0036125618507649726, 0.011251207611497449, 0.010428299959607035, -0.011507332136083903, -0.008652871218591596, -0.02469957043044335, 0.022103302270796377, -0.023465208952609284, -0.029559868749418516, 0.014311395441962471, -0.012793125342161371, 0.028892290398886633, -0.0044097536385332425, 0.008988211568799809, 0.0008105667781435066, 0.006262329971913783, 0.009811119220689779, 0.004925105037593358, -0.020379305258021674, 0.008319599101639596, -0.016804800145124865, 0.010711174464944406, -0.01901636445957866, -0.01870777409012092, -1.2340873745575465e-05, 0.005748012689482884, -0.008292849120888235, 0.0222061657272814, 0.015160018957973698, 0.0152885982785822, -0.010478697571221662, 0.0008619985063860192, 0.01729443568006417, -0.01665050496039555, 0.02704074818213531, 0.030975275392734147, 0.010762606193186475, -0.013564601265808829, -0.004641196415628102, 0.01672868666938898, -0.012124512875001603, 0.009708255764202978, -0.0016838720416472164, 0.015108587229730741, 0.02953518700192559, 0.0022763710330715448, 0.00219922344070822, -0.009552926462845335, -0.0017610196340127615, 3.9090854496937055e-05, 0.03887004567805308, -0.04475794444526038, -0.01950496587788919, -0.0005523740202990624, -0.017704855389379937, -0.0003209312432046474, 0.02719504336686418, -0.0150818372489816, -0.012227376331487516, 0.013745646431287728, 0.025600659791328084, -0.0008609643897581343, 0.03087241193624779, -0.01171305904905573, -0.016084755949720808, -0.0010409754386078163, -0.0045383329591413, 0.026012113617272625, -0.009270051957507963, 0.017680173641886565, -0.014181782004726085, 0.010814037921430764, 0.03197819409347469, -0.02755403134793788, 0.028737995214157763, -0.03375155460123391, 0.023183368563900686, 0.012537000817574917, -0.00044951056381314913, -0.040463395136960845, -0.008627155354469007, -0.01510755311310108, 0.004822241581107889, 0.019968885548705906, 0.014311395441962471, -0.0018381672263774185, 0.026706441948554094, 0.0055165699123893575, 0.016600107348781812, 0.00621089824367127, 0.04128733690548003, 0.024031992079912357, -0.03380298632947598, 0.011405502796226763, -0.007675668381971423, 0.007882429411572467, -0.014258929597090741, 0.021717564308972648, 0.002790688315502887, -0.00039807883556974843, -0.00044951056381314913, 0.0006048398651703479, 0.0018649172071274478, 0.035501267478128984, 0.010582595144336793, 0.027169327502742924, -0.03503734780731049, 0.021537553260120745, -0.0027382224706320457, 0.005336558863537899, 0.031283865762192775, 0.039358647096362276, 0.0035878801032729335, 0.0009648619628732646, -0.016933379465732923, -0.018244888535932535, -0.015184700705467513, -0.011301605223110744, 0.005387990591781744, -0.002506779693538075, -0.021742246056464243, -0.0017610196340127615, -0.009707221647575093, 0.008319599101638708, 0.00929680193825888, -0.01454180410242678, -0.00644130690413558, -0.010504413435342919, 0.006365193428401028, -0.014078918548240171, -0.0030210969759694173, 0.004770809852864044, -0.01094158312540916, -0.016881947737489966, -0.020302157665657017, -0.029817027390634188, -0.023156618583150212, 0.017731605370130854, 0.0012991681964535928, -0.013256010896349757, -0.004024015676709958, -0.027219725114357107, 0.008088156324545182, 0.01750016259303644, 0.0072909645367764675, 0.012074115263387863, 0.015160018957973698, -0.02660254437543985, -0.013770328178780655, 0.03447263291326674, 0.018220206788440052, 0.01243413736108856, 0.015828631425135242, -0.02945700529293216, 0.01611150593047217, 0.007676702498600196, 0.0065709203413728545, 0.01068545860082315, -0.006492738632379869, -0.012998852255134086, 0.05190798878768321, -0.025188171848754326, 0.008576757742853935, -0.01706195878634098, -0.02351664068085224, 0.021537553260120745, 0.00865390533521948, -0.016059040085599552, -0.01765342366113698, 0.005696580961239928, 0.004925105037593802, 0.02261761955322683, 0.004667946396377687, -0.01649620977566668, 0.02148612153187779, 0.003870754608609861, 0.014337111306084616, -0.015313280026073794, -0.019350670693158545, -0.021407939822884803, 0.001144873011724279, 0.018940250983843665, -0.001426713400431101, -0.016779084281004053, -0.029559868749418516, -0.025368182897604896, -0.008087122207917297, 0.019608863451003877, 0.020020317276948862, 0.004976536765836315, -0.006287011719407598, -0.016213335270328866, 0.011456934524470164, -0.004332606046168586, -0.01279312534216226, -0.0033039714813059007, 0.03460121223387436, -0.027734042396788006, -0.013564601265808829, 0.004127913249825532, 0.007085237623805085, 0.018631660614385037, 0.043216026714596456, -0.0006295216126641634, -0.02814549622273299, -0.015004689656616055, -0.007649952517850167, 0.023543390661603603, 0.018477365429655723, 0.006545204477252042, 0.0158543472892565, -0.015904744900870238, 0.0036135959673937457, -0.016161903542086353, 0.0033564373261785185, 0.012819875322911845, 0.020946088385324746, 0.007393827993262825, -0.00916718850102205, -0.009707221647575093, 0.0007077033216571493, 0.023003357515051004, 0.006030887194820256, -0.0070584876430532795, -0.003818288763737243, -0.0013752816721890326, -0.0023267686446861724, 0.02683502126916215, 0.016240085251079783, -0.024622422838079583, 0.023440527205117245, -0.006107000670555696, 0.015777199696891397, 0.00021910190334661905, 0.007650986634478052, 0.03120671816982723, -0.02688541888077678, -0.0034839825301560268, 0.02719504336686418, -0.018630626497755376, -0.02657682851131815, 0.008371030829882997, -0.013616032994051341, 0.02562637565544934, 0.0048736733093508455, -0.006775613137716796, -0.013847475771145756, -0.004049731540831658, 0.007599554906235539, 0.007908145275693723, -0.010658708620072677, 0.01714014049533441, -0.02354235654497394, 0.006879510710831482, -0.013307442624593158, 0.020971804249446446, 0.013025602235884559, -0.0004752264279344054, 0.004307924298675214, -0.02349092481673054, -0.0023782003729304613, 0.005979455466577299, 0.0017877696147627908, -0.020225010073292804, 0.021023235977689403, 0.018348786109047666, 0.021537553260120745, -0.008035690479673452, 0.0017620537506415346, 0.02385198103106223, 0.006390909292521396, -0.0015038609927966462, 0.016471528028174198, 0.03264680656063579, -0.004204026725560972, -0.04691807703147299, 0.020611782151744862, 0.01009399372602715, -0.01721625397106985, 0.023209084428021942, 0.012408421496967303, 0.007728134226843597, -0.0027896541988745582, 0.021100383570054948, -0.01240738738033853, 0.007985292868059268, 0.023697685846332472, -0.008524291897983538, -0.008832882267441278, -0.024159537283891197, -0.01541614348256104, 0.026346419850853398, -0.027836905853274807, 0.0027392565872608188, -0.006827044865959753, 0.0141056685289902, 0.004102197385704276, -0.000372362971447604, 0.010454015823728735, 0.029098017311859792, -0.0411062917399998, -0.00708420350717498, -0.010272970658248504, -0.013693180586415998, 0.010479731687849991, -0.029817027390635076, -0.027528315483814847, -0.0021724734599573026, 0.004102197385703388, 0.013822794023653717, -0.010504413435342919, -0.014876110336008441, 0.0019163489353708485, 0.0021735075765860756, 0.00862818947109778, 0.014902860316759359, 0.0002962494957121642, -0.008369996713253336, -0.003175392160698287, -0.000603805748542019, 0.005285127135295387, 0.019994601412827606, 0.01688298185411874, 0.0010162936911171094, 0.014131384393111457, -0.024570991109836182, -0.03146284269441457, 0.008936779840555964, -0.007264214556026438, 0.011354071067983362, -0.01094158312540916, -0.00808712220791552, 0.003253573869691717, 0.001633474430033477, 0.023029073379171372, -0.01870777409012092, 0.018760239934993095, 0.010093993726026262, 0.001633474430033477, -0.005875557893461725, 0.0020192123918567617, 0.013565635382438046, -0.013384590216958259, 0.0061594665154283135, -0.008910029859806379, 0.006185182379550014, -0.005464104067517628, -0.006467022768258168, -0.015544722803169098, 0.0048736733093504014, -0.011275889358989488, -0.008524291897983538, 0.008988211568800253, -0.017962014030595164, 0.007085237623805085, -0.00852429189798265, -0.01940210242140239, 0.010994048970281778, 0.0005019764086848788, 0.01940313653803205, -0.011507332136083459, -0.0125873984291891, -0.0049755026492070975, -0.006441306904136024, -0.0002952153790838352, 0.016908697718239996, -0.031797148927994456, -0.043317856054453596, 0.02650071503558271, 0.003870754608609861, 0.013359908469465775, 0.012228410448116733, -0.005464104067517628, -0.026396817462467137, -0.001066691302731293, 0.007470975585627926, -0.012330239787972985, -0.002918233519482616, -0.007341362148390651, 0.0018906330712491481, -0.011070162446017662, -0.021202212909911644, 0.011199775883254048, 0.0012734523323314484, 0.014054236800747244, 0.006776647254345569, 0.016960129446484284, 0.008936779840555964, -0.014850394471885853, 0.002919267636111389, -0.004846923328599484, 0.02760649719280961, 0.020251760054042833, -0.006492738632379869, -0.006209864127041609, 0.025549228063083795, 0.0013763157888178057, 0.0058508761459692415, 0.027246475095108025, -0.008987177452170592, 0.014980007909123128, -0.0005523740202995064, -0.020533600442751432, -0.024545275245714482, 0.00574801268948244, -0.0025839272859022877, -0.014516088238305969, 0.051136512864037975, 0.011842672486293448, -0.00530980888278787, 0.00855104187873268, 0.02644928330733931, 0.026526430899703524, 0.0006305557292938246, 0.00765098663447894, -0.02115078118166913, -0.003381119073671446, 0.022257597455525246, 0.000604839865170792, 0.02184614362958026, 0.005490854048267213, 0.008293883237517452, 0.0011191571476030227, -0.014438940645941756, 0.001890633071248704, -0.025573909810577167, -0.0009381119821223471, -0.007161351099540081, 0.008782484655827094, 0.0158543472892565, 0.016934413582361696, 0.010325436503121121, 0.015340030006825156, 0.004410787755162016, 0.004770809852864044, 0.009065359161164466, -0.03670887897521258, 0.022951925786806715, 0.005465138184145513, 0.014594269947299843, -0.012767409478040559, 0.005773728553605473, -0.014387508917697911, -0.021459371551127315, 0.02380054930281883, 0.027297906823350537, -0.02081647494808836, 0.011045480698524734, 0.01207411526338742, 0.006468056884886941, -0.010015812017032832, -0.038869011561424305, -0.020096430752685635, 0.009091075025285722, 0.011199775883254048, 0.002919267636110945, -0.006209864127042941, 0.0055165699123893575, -0.021922257105316145, 0.029586618730169878, -0.019582113470253848, -0.01811630921532492, 0.015777199696892286, 0.005568001640632314, -0.0019410306828633317, 0.012742727730548076, -0.016727652552760208, 0.011714093165685835, -0.006389875175893511, 0.02722075923098588, -0.0013495658080677764, -0.00044951056381314913, 0.01207411526338742, 0.013822794023653717, -0.018347751992418893, 0.016445812164052498, 9.052258273900549e-05, -0.023568072409096086, -0.0005009422920552176, -0.010401549978857005, 0.0028935517719896886, 0.0066480679337375115, 0.003022131092597302, 0.022489040232618773, 0.019531715858638776, -0.026139658821251466, -0.005618399252246498, -0.005309808882788758, 0.007753850090964853, 0.015288598278582644, -0.027039714065506093, -0.011250173494868676, 0.013154181556492617, 0.005336558863537899, 0.0141056685289902, -0.007109919371297124, -0.02531675116936194, 0.013925657480139186, 0.010479731687849991, 0.002842120043746732, 0.03601558476055988, 0.004565082939890885, 0.0019934965277350614, 0.015108587229730741, -0.0015810085851613032, -0.027656894804424237, 0.02763221305693131, -0.007135635235417936, -0.015673302123775823, 0.015597188648040383, -0.012870272934526028, 0.009631108171838765, 0.0147228492679079, 0.030486673974424505, -0.006389875175893511, 0.05267946471133067, 0.010994048970281778, 0.031155286441584717, 0.028969437991252178, 0.014002805072503843, 0.03853573944447186, 0.019068830304451723, 0.0028935517719905768, -0.032285750346303654, -0.00842142844149718, 0.024957763188288684, -0.013821759907024944, -0.041903483527767627, -0.0019667465469859202, -0.020867906676332648, 0.011405502796226319, -0.023619504137339042, -0.016213335270328866, -0.02750259961969448, -0.001812451362255274, 0.004282208434554402, -0.023542356544974385, -0.023130902719028512, -0.001658156177525516, -0.014516088238306857, 0.028352257252334034, -0.018116309215325366, 0.00299641522847649, -0.005978421349948526, -0.023928094506797226, -0.0017610196340127615, -0.019582113470253848, -0.0005523740202990624, 0.025034910780652453, -0.00014092019435363312, 0.036118448217046684, 0.018117343331954583, -0.013950339227632558, 0.02115181529829746, -0.02140793982288436, -0.007341362148390651, 0.009682539900081721, 0.027323622687471794, 0.03215820514232437, -0.025548193946455466, -0.0007581009332722211, 0.009759687492446822, -0.02590821604415794, 0.006030887194820256, -0.01641906218330158, -0.009424347142237721, 0.030280947061451347, -0.010530129299464175, -0.014978973792494799, -0.042854970500265654, -0.03822611495838446, -0.005798410301096624, -0.0010666913027304048, -0.000372362971447604, -0.004024015676710402, 0.0033821531902993307, -0.02817121208685469, 0.012974170507642047, -0.025136740120510925, 0.00929680193825888, -0.009321483685751364, 0.0063909092925227284, 0.0033564373261771863, -0.005309808882788758, 0.009579676443595364, -0.01883635341072898, 0.016471528028174198, 0.010505447551971248, 0.015031439637366528, 0.0030992786849628473, 0.01755159432127895, 0.012974170507641158, 0.018400217837291066, 0.02032890764640838, -0.010144391337640446, -0.004898355056842885, 0.031541024403408, 0.0067252155261021684, -0.01240738738033853, -0.010401549978857005, -0.02580535258767158, 0.010994048970281778, -0.017524844340528478, 0.004307924298675214, -0.023825231050311313, -0.011018730717774261, 0.00803672459630178, -0.02881410868989276, -0.006878476594203153, -0.01701052705809758, 0.006699499661981356, -0.012175944603243671, 0.0034335849185427314, -0.024005242099161883, -0.019607829334375104, 0.03704421932542257, 0.017834468826616323, 0.02071464560823122, -0.022745164757205227, 0.001710622022398578, 0.008088156324545182, -0.03470304157373105, 0.02176899603721516, 0.020997520113568147, -0.003175392160698287, -0.013024568119256674, 0.011611229709199034, -0.005695546844612043, -0.011327321087232, 0.019403136538031607, -0.01135303695135459, -0.00873001881095492, 0.03542411988576344, -0.006827044865959753, 0.01163694557332029, 0.02017461246167862, 0.012562716681696617, -0.018964932731336592, -0.04007765717513756, 0.0033821531902993307, 0.0003991129521989656, 0.012948454643520346, -0.009964380288789876, -0.009912948560546475, -0.05180409121456897, 0.01251128495345366, 0.01896596684796581, 0.021846143629579817, -0.017113390514583493, 0.0003991129521989656, -0.005849842029340913, 0.022514756096740918, -0.03712033280115801, -0.012613114293310357, -0.012535966700946588, -0.009372915413993876, -0.03210573929745353, 0.02212901813491719, -0.005052650241572643, 0.025934966024907524, -0.014104634412361428, 0.013977089208381699, 0.005568001640632314, 0.0025078138101659597, 0.01698584531060554, 0.014928576180880615, 0.0012220206040880477, 0.0029449835002330893, 0.046610520778642694, 0.005336558863538343, 0.016085790066350913, -0.0037154253072504417, -0.0012209864874601628, -0.010993014853652117, -0.00024378365084043452, 0.0017877696147627908, -0.006698465545351695, 0.013951373344260887, 0.008756768791706282, 0.039435794688726045, -0.03208002343333227, 0.028120814475240064, -0.020919338404574717, 0.0014277475170612064, 0.01163694557332029, -6.377260198986434e-05, 0.011662661437441102, -0.012664546021553313, -0.030562787450159945, 0.017680173641886565, 0.022206165727280958, 0.004899389173472102, 0.028840858670644565, -0.00016663605847577756, 0.007470975585627482, -0.018347751992418893, -0.016367630455058624, 0.0067252155261021684, 0.0068023631184672695, 0.002764972451382075, 0.019660295179247722, -0.00034664710732634774, -0.03153999028678012, 0.005953739602456043, 0.002919267636111389, -0.028685529369285145, -0.01454180410242678, -0.02215369988241056, -0.0025839272859013995, -0.004101163269074171, 0.010402584095485778, 0.019300273081546138, -0.016959095329854623, 0.009708255764203422, -0.011070162446017218, 0.008602473606976524, -0.00034664710732634774, -0.005901273757583869, -0.017499128476406778, 0.022591903689104686, 0.016162937658714682, 0.01065974273670145, 0.014285679577842103, -0.016136187677965097, -0.03660601551872622, -0.008781450539198321, -0.023182334447271913, -0.02531675116936105, 0.028017951018754594, -0.013461737809322027, -0.030999957140225742, 0.008473894286369354, -0.013847475771145756, 0.032801101745364214, 0.011765524893927903, -0.011018730717774261, -0.023773799322067912, 0.02362053825396737, 0.008705337063461549, 0.016908697718239996, -0.02631966987010248, -0.03673459483933472, -0.009784369239938862, -0.032465761395156, -0.0025324955576602193, -0.008987177452171036, -0.01657335736803134, -0.0015810085851621913, 0.013179897420614317, -0.0024039162370512734, 0.010942617242037489, 0.04265027770392127, 0.0246234569547088, 0.01099404897028089, 0.0245463093623437, -0.0012981340798243757, 0.016368664571687397, -0.028994119738744217, 0.019660295179248166, -0.02703971406550565, -0.03820039909426276, 0.030615253295031675, 0.004050765657459987, -0.020147862480927703, 0.01328276087710023, -0.00309824456833363, 0.012768443594669332, -0.031231399917320157, 0.022669051281469788, 0.003870754608609861, -0.025496762218212954, 0.0244948776341003, -0.006364159311772255, -0.010272970658248504, 0.00862818947109778, 0.015802915561013542, 0.002687824859017862, -0.002943949383603872, -0.011635911456691073, -0.004075447404952914, 0.02192329122194492, 0.03768711592846152, -0.019530681742010447, -0.04213492630486204, 0.015545756919797427, -0.020327873529778717, 0.009579676443595364, 0.015597188648040383, -0.005258377154544469, 0.026294988122609997, 0.027709360649295522, 0.002764972451382075, -0.013436021945201215, -0.005515535795759696, 0.005053684358200972, -0.0035354142584003156, -0.004101163269074615, 0.024134855536398714, 0.023877696895182154, 0.024031992079911912, 0.030460958110302805, 0.009939698541297393, 0.025909250160786268, 0.012562716681696173, -0.0034582666660347705, 0.016625823212903068, 0.008833916384070495, 0.022514756096740474, -0.0060812848064353275, 0.00219922344070822, 0.0008105667781435066, -0.022127984018288416, 0.0002962494957121642, 0.010685458600822706, -0.015956176629114083]\n",
          "output_type": "stream"
        }
      ],
      "execution_count": 41
    },
    {
      "cell_type": "code",
      "metadata": {
        "id": "VlzpYTkYFcv_",
        "colab_type": "code",
        "colab": {},
        "cell_id": "00061-4ab2817c-ca1d-44d0-a266-721dbd3dc582",
        "deepnote_to_be_reexecuted": false,
        "source_hash": "c0077166",
        "execution_millis": 140,
        "execution_start": 1618669294903,
        "deepnote_cell_type": "code"
      },
      "source": "# Make a variable called 'histo', and assign to it the result of plotting a histogram of the difference list. \nhisto = plt.hist(difference)",
      "execution_count": 42,
      "outputs": [
        {
          "data": {
            "text/plain": "<Figure size 432x288 with 1 Axes>",
            "image/png": "[encoded data removed]"
          },
          "metadata": {
            "needs_background": "light"
          },
          "output_type": "display_data"
        }
      ]
    },
    {
      "cell_type": "code",
      "metadata": {
        "id": "KhqgDFd3FcwB",
        "colab_type": "code",
        "colab": {},
        "cell_id": "00062-cdc189c2-690e-41ef-b408-f34a54518f6b",
        "deepnote_to_be_reexecuted": false,
        "source_hash": "665220cf",
        "execution_start": 1618669433650,
        "execution_millis": 10,
        "deepnote_cell_type": "code"
      },
      "source": "# Now make a variable called obs_difference, and assign it the result of the mean of our 'apple' variable and the mean of our 'google variable'\nobs_difference = np.mean(apple) - np.mean(google)\n\n# Make this difference absolute with the built-in abs() function. \nobs_difference = abs(obs_difference)\n\n# Print out this value; it should be 0.1420605474512291. \nprint(obs_difference)",
      "execution_count": 43,
      "outputs": [
        {
          "name": "stdout",
          "text": "0.1420605474512291\n",
          "output_type": "stream"
        }
      ]
    },
    {
      "cell_type": "markdown",
      "source": "## Stage 4 -  Evaluating and concluding\n### 4a. What is our conclusion?",
      "metadata": {
        "id": "QUNuuSgDFcwE",
        "colab_type": "text",
        "cell_id": "00063-b31afe3c-bc47-442b-9196-91bd3d30547e",
        "deepnote_cell_type": "markdown"
      }
    },
    {
      "cell_type": "code",
      "metadata": {
        "id": "XMQHnqx1FcwF",
        "colab_type": "code",
        "colab": {},
        "cell_id": "00064-eb253010-2238-4c91-87a6-12917a5b2716",
        "deepnote_to_be_reexecuted": false,
        "source_hash": "4df2c609",
        "execution_start": 1618669812789,
        "execution_millis": 17,
        "deepnote_cell_type": "code"
      },
      "source": "'''\nWhat do we know? \n\nRecall: The p-value of our observed data is just the proportion of the data given the null that's at least as extreme as that observed data.\n\nAs a result, we're going to count how many of the differences in our difference list are at least as extreme as our observed difference.\n\nIf less than or equal to 5% of them are, then we will reject the Null. \n'''\n\npositive = 0\nnegative = 0\nfor i in range(len(difference)):\n    if difference[i] >= obs_difference:\n        positive += 1\n    if difference[i] <= -obs_difference:\n        negative += 1\n\nprint(positive, negative)",
      "execution_count": 44,
      "outputs": [
        {
          "name": "stdout",
          "text": "0 0\n",
          "output_type": "stream"
        }
      ]
    },
    {
      "cell_type": "markdown",
      "source": "### 4b. What is our decision?\nSo actually, zero differences are at least as extreme as our observed difference!\n\nSo the p-value of our observed data is 0. \n\nIt doesn't matter which significance level we pick; our observed data is statistically significant, and we reject the Null.\n\nWe conclude that platform does impact on ratings. Specifically, we should advise our client to integrate **only Google Play** into their operating system interface. ",
      "metadata": {
        "id": "4RTofY9wFcwI",
        "colab_type": "text",
        "cell_id": "00065-5014e367-cfe5-47f3-95e2-8b39572ca77d",
        "deepnote_cell_type": "markdown"
      }
    },
    {
      "cell_type": "markdown",
      "source": "### 4c. Other statistical tests, and next steps\nThe test we used here is the Permutation test. This was appropriate because our data were not normally distributed! \n\nAs we've seen in Professor Spiegelhalter's book, there are actually many different statistical tests, all with different assumptions. How many of these different statistical tests can you remember? How much do you remember about what the appropriate conditions are under which to use them? \n\nMake a note of your answers to these questions, and discuss them with your mentor at your next call. \n",
      "metadata": {
        "id": "Cu_eh7fTFcwJ",
        "colab_type": "text",
        "cell_id": "00066-5f1099a9-55fa-454e-bc02-9e5c6da4eebc",
        "deepnote_cell_type": "markdown"
      }
    },
    {
      "cell_type": "markdown",
      "source": "<a style='text-decoration:none;line-height:16px;display:flex;color:#5B5B62;padding:10px;justify-content:end;' href='https://deepnote.com?utm_source=created-in-deepnote-cell&projectId=712469a5-31c5-4a3b-9ec0-0e701eeb0c43' target=\"_blank\">\n<img alt='Created in deepnote.com' style='display:inline;max-height:16px;margin:0px;margin-right:7.5px;' src='data:image/svg+xml;base64,PD94bWwgdmVyc2lvbj0iMS4wIiBlbmNvZGluZz0iVVRGLTgiPz4KPHN2ZyB3aWR0aD0iODBweCIgaGVpZ2h0PSI4MHB4IiB2aWV3Qm94PSIwIDAgODAgODAiIHZlcnNpb249IjEuMSIgeG1sbnM9Imh0dHA6Ly93d3cudzMub3JnLzIwMDAvc3ZnIiB4bWxuczp4bGluaz0iaHR0cDovL3d3dy53My5vcmcvMTk5OS94bGluayI+CiAgICA8IS0tIEdlbmVyYXRvcjogU2tldGNoIDU0LjEgKDc2NDkwKSAtIGh0dHBzOi8vc2tldGNoYXBwLmNvbSAtLT4KICAgIDx0aXRsZT5Hcm91cCAzPC90aXRsZT4KICAgIDxkZXNjPkNyZWF0ZWQgd2l0aCBTa2V0Y2guPC9kZXNjPgogICAgPGcgaWQ9IkxhbmRpbmciIHN0cm9rZT0ibm9uZSIgc3Ryb2tlLXdpZHRoPSIxIiBmaWxsPSJub25lIiBmaWxsLXJ1bGU9ImV2ZW5vZGQiPgogICAgICAgIDxnIGlkPSJBcnRib2FyZCIgdHJhbnNmb3JtPSJ0cmFuc2xhdGUoLTEyMzUuMDAwMDAwLCAtNzkuMDAwMDAwKSI+CiAgICAgICAgICAgIDxnIGlkPSJHcm91cC0zIiB0cmFuc2Zvcm09InRyYW5zbGF0ZSgxMjM1LjAwMDAwMCwgNzkuMDAwMDAwKSI+CiAgICAgICAgICAgICAgICA8cG9seWdvbiBpZD0iUGF0aC0yMCIgZmlsbD0iIzAyNjVCNCIgcG9pbnRzPSIyLjM3NjIzNzYyIDgwIDM4LjA0NzY2NjcgODAgNTcuODIxNzgyMiA3My44MDU3NTkyIDU3LjgyMTc4MjIgMzIuNzU5MjczOSAzOS4xNDAyMjc4IDMxLjY4MzE2ODMiPjwvcG9seWdvbj4KICAgICAgICAgICAgICAgIDxwYXRoIGQ9Ik0zNS4wMDc3MTgsODAgQzQyLjkwNjIwMDcsNzYuNDU0OTM1OCA0Ny41NjQ5MTY3LDcxLjU0MjI2NzEgNDguOTgzODY2LDY1LjI2MTk5MzkgQzUxLjExMjI4OTksNTUuODQxNTg0MiA0MS42NzcxNzk1LDQ5LjIxMjIyODQgMjUuNjIzOTg0Niw0OS4yMTIyMjg0IEMyNS40ODQ5Mjg5LDQ5LjEyNjg0NDggMjkuODI2MTI5Niw0My4yODM4MjQ4IDM4LjY0NzU4NjksMzEuNjgzMTY4MyBMNzIuODcxMjg3MSwzMi41NTQ0MjUgTDY1LjI4MDk3Myw2Ny42NzYzNDIxIEw1MS4xMTIyODk5LDc3LjM3NjE0NCBMMzUuMDA3NzE4LDgwIFoiIGlkPSJQYXRoLTIyIiBmaWxsPSIjMDAyODY4Ij48L3BhdGg+CiAgICAgICAgICAgICAgICA8cGF0aCBkPSJNMCwzNy43MzA0NDA1IEwyNy4xMTQ1MzcsMC4yNTcxMTE0MzYgQzYyLjM3MTUxMjMsLTEuOTkwNzE3MDEgODAsMTAuNTAwMzkyNyA4MCwzNy43MzA0NDA1IEM4MCw2NC45NjA0ODgyIDY0Ljc3NjUwMzgsNzkuMDUwMzQxNCAzNC4zMjk1MTEzLDgwIEM0Ny4wNTUzNDg5LDc3LjU2NzA4MDggNTMuNDE4MjY3Nyw3MC4zMTM2MTAzIDUzLjQxODI2NzcsNTguMjM5NTg4NSBDNTMuNDE4MjY3Nyw0MC4xMjg1NTU3IDM2LjMwMzk1NDQsMzcuNzMwNDQwNSAyNS4yMjc0MTcsMzcuNzMwNDQwNSBDMTcuODQzMDU4NiwzNy43MzA0NDA1IDkuNDMzOTE5NjYsMzcuNzMwNDQwNSAwLDM3LjczMDQ0MDUgWiIgaWQ9IlBhdGgtMTkiIGZpbGw9IiMzNzkzRUYiPjwvcGF0aD4KICAgICAgICAgICAgPC9nPgogICAgICAgIDwvZz4KICAgIDwvZz4KPC9zdmc+' > </img>\nCreated in <span style='font-weight:600;margin-left:4px;'>Deepnote</span></a>",
      "metadata": {
        "tags": [],
        "created_in_deepnote_cell": true,
        "deepnote_cell_type": "markdown"
      }
    }
  ],
  "nbformat": 4,
  "nbformat_minor": 0,
  "metadata": {
    "kernelspec": {
      "display_name": "Python 3",
      "language": "python",
      "name": "python3"
    },
    "language_info": {
      "codemirror_mode": {
        "name": "ipython",
        "version": 3
      },
      "file_extension": ".py",
      "mimetype": "text/x-python",
      "name": "python",
      "nbconvert_exporter": "python",
      "pygments_lexer": "ipython3",
      "version": "3.7.3"
    },
    "colab": {
      "name": "Springboard Apps project - Tier 3 - Complete.ipynb",
      "provenance": [],
      "collapsed_sections": [
        "5fbRq2MZFcvq",
        "4RTofY9wFcwI",
        "Cu_eh7fTFcwJ"
      ]
    },
    "deepnote_notebook_id": "3524a75b-e45d-4184-8315-7d5cd52b0202",
    "deepnote": {},
    "deepnote_execution_queue": []
  }
}