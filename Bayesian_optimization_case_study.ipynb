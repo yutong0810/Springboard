{
 "cells": [
  {
   "cell_type": "markdown",
   "source": "## Bayesian methods of hyperparameter optimization",
   "metadata": {
    "colab_type": "text",
    "id": "WNK7vbHo-KYU",
    "cell_id": "00000-a555e268-cf60-4da6-8fbd-57bdc676e75c",
    "deepnote_cell_type": "markdown"
   }
  },
  {
   "cell_type": "markdown",
   "source": "In addition to the random search and the grid search methods for selecting optimal hyperparameters, we can use Bayesian methods of probabilities to select the optimal hyperparameters for an algorithm.\n\nIn this case study, we will be using the BayesianOptimization library to perform hyperparmater tuning. This library has very good documentation which you can find here: https://github.com/fmfn/BayesianOptimization\n\nYou will need to install the Bayesian optimization module. Running a cell with an exclamation point in the beginning of the command will run it as a shell command — please do this to install this module from our notebook in the cell below.",
   "metadata": {
    "colab_type": "text",
    "id": "BlFdvPwF-KYW",
    "cell_id": "00001-9e8f94cd-562e-43ee-aabc-de1c93051169",
    "deepnote_cell_type": "markdown"
   }
  },
  {
   "cell_type": "code",
   "metadata": {
    "colab": {},
    "colab_type": "code",
    "id": "Pssx080d-Ulf",
    "cell_id": "00002-0ea7561d-979c-4caa-b957-fc10cf646580",
    "deepnote_to_be_reexecuted": false,
    "source_hash": "ac300eac",
    "execution_start": 1624658694904,
    "execution_millis": 4440,
    "deepnote_cell_type": "code"
   },
   "source": "! pip install bayesian-optimization",
   "outputs": [
    {
     "name": "stdout",
     "text": "Collecting bayesian-optimization\n  Downloading bayesian-optimization-1.2.0.tar.gz (14 kB)\nRequirement already satisfied: numpy>=1.9.0 in /shared-libs/python3.7/py/lib/python3.7/site-packages (from bayesian-optimization) (1.19.5)\nRequirement already satisfied: scipy>=0.14.0 in /shared-libs/python3.7/py/lib/python3.7/site-packages (from bayesian-optimization) (1.6.3)\nRequirement already satisfied: scikit-learn>=0.18.0 in /shared-libs/python3.7/py/lib/python3.7/site-packages (from bayesian-optimization) (0.24.2)\nRequirement already satisfied: threadpoolctl>=2.0.0 in /shared-libs/python3.7/py/lib/python3.7/site-packages (from scikit-learn>=0.18.0->bayesian-optimization) (2.1.0)\nRequirement already satisfied: joblib>=0.11 in /shared-libs/python3.7/py/lib/python3.7/site-packages (from scikit-learn>=0.18.0->bayesian-optimization) (1.0.1)\nBuilding wheels for collected packages: bayesian-optimization\n  Building wheel for bayesian-optimization (setup.py) ... \u001b[?25ldone\n\u001b[?25h  Created wheel for bayesian-optimization: filename=bayesian_optimization-1.2.0-py3-none-any.whl size=11685 sha256=d5eb285cf1138c03250dda50cc6531ad2021fa7b1a0a8619e890a6c0f2f10e77\n  Stored in directory: /root/.cache/pip/wheels/fd/9b/71/f127d694e02eb40bcf18c7ae9613b88a6be4470f57a8528c5b\nSuccessfully built bayesian-optimization\nInstalling collected packages: bayesian-optimization\nSuccessfully installed bayesian-optimization-1.2.0\n",
     "output_type": "stream"
    }
   ],
   "execution_count": null
  },
  {
   "cell_type": "code",
   "metadata": {
    "ExecuteTime": {
     "end_time": "2019-04-22T16:39:09.312682Z",
     "start_time": "2019-04-22T16:39:09.309208Z"
    },
    "_kg_hide-input": true,
    "colab": {},
    "colab_type": "code",
    "id": "l9nfFTyj-KYY",
    "cell_id": "00003-709e8edd-3d20-4dcb-ae17-098bcd4b6aa3",
    "deepnote_to_be_reexecuted": false,
    "source_hash": "472c14be",
    "execution_start": 1624658732975,
    "execution_millis": 19,
    "deepnote_cell_type": "code"
   },
   "source": "import warnings\nwarnings.filterwarnings('ignore')\nfrom sklearn.preprocessing import LabelEncoder\nimport numpy as np\nimport pandas as pd\nimport lightgbm\nfrom bayes_opt import BayesianOptimization\nfrom catboost import CatBoostClassifier, cv, Pool",
   "outputs": [],
   "execution_count": null
  },
  {
   "cell_type": "code",
   "metadata": {
    "colab": {
     "base_uri": "https://localhost:8080/",
     "height": 85
    },
    "colab_type": "code",
    "id": "D16Dquw1AAK0",
    "outputId": "44167587-f22e-4bf5-a816-e2bcfdc6c4ee",
    "cell_id": "00004-4b126378-6c4f-4216-a1d1-a028d602d519",
    "deepnote_to_be_reexecuted": false,
    "source_hash": "2969e19c",
    "execution_start": 1624658734287,
    "execution_millis": 15,
    "deepnote_cell_type": "code"
   },
   "source": "import os\nos.listdir()",
   "outputs": [
    {
     "output_type": "execute_result",
     "execution_count": 7,
     "data": {
      "text/plain": "['Bayesian_optimization_case_study.ipynb',\n 'flight_delays_test.csv.zip',\n '.DS_Store',\n 'flight_delays_train.csv.zip']"
     },
     "metadata": {}
    }
   ],
   "execution_count": null
  },
  {
   "cell_type": "markdown",
   "source": "## How does Bayesian optimization work?",
   "metadata": {
    "ExecuteTime": {
     "end_time": "2019-04-22T14:48:15.929012Z",
     "start_time": "2019-04-22T14:48:15.926574Z"
    },
    "colab_type": "text",
    "id": "AkBt3yds-KYu",
    "cell_id": "00005-3c475e0e-3a18-4c1c-9a20-7a07a2c2f819",
    "deepnote_cell_type": "markdown"
   }
  },
  {
   "cell_type": "markdown",
   "source": "Bayesian optimization works by constructing a posterior distribution of functions (Gaussian process) that best describes the function you want to optimize. As the number of observations grows, the posterior distribution improves, and the algorithm becomes more certain of which regions in parameter space are worth exploring and which are not, as seen in the picture below.",
   "metadata": {
    "colab_type": "text",
    "id": "E1kyBCUs-KYv",
    "cell_id": "00006-d6d2a188-407a-4c26-8517-7708dfc83526",
    "deepnote_cell_type": "markdown"
   }
  },
  {
   "cell_type": "markdown",
   "source": "<img src=\"https://github.com/fmfn/BayesianOptimization/blob/master/examples/bo_example.png?raw=true\" />\nAs you iterate over and over, the algorithm balances its needs of exploration and exploitation while taking into account what it knows about the target function. At each step, a Gaussian Process is fitted to the known samples (points previously explored), and the posterior distribution, combined with an exploration strategy (such as UCB — aka Upper Confidence Bound), or EI (Expected Improvement). This process is used to determine the next point that should be explored (see the gif below).\n<img src=\"https://github.com/fmfn/BayesianOptimization/raw/master/examples/bayesian_optimization.gif\" />",
   "metadata": {
    "colab_type": "text",
    "id": "gAdHF72R-KYw",
    "cell_id": "00007-5b20f466-9b57-4bdf-a80d-7b496e36edce",
    "deepnote_cell_type": "markdown"
   }
  },
  {
   "cell_type": "markdown",
   "source": "## Let's look at a simple example",
   "metadata": {
    "colab_type": "text",
    "id": "RTP8KUlLoYzu",
    "cell_id": "00008-ed18374a-9214-4a1d-9dfc-926ef043b565",
    "deepnote_cell_type": "markdown"
   }
  },
  {
   "cell_type": "markdown",
   "source": "The first step is to create an optimizer. It uses two items:\n* function to optimize\n* bounds of parameters\n\nThe function is the procedure that counts metrics of our model quality. The important thing is that our optimization will maximize the value on function. Smaller metrics are best. Hint: don't forget to use negative metric values.",
   "metadata": {
    "colab_type": "text",
    "id": "crpPqKdC-KYx",
    "cell_id": "00009-8b174bcf-ad50-4167-83e9-57db80a97a34",
    "deepnote_cell_type": "markdown"
   }
  },
  {
   "cell_type": "markdown",
   "source": "Here we define our simple function we want to optimize.",
   "metadata": {
    "colab_type": "text",
    "id": "e09ciF8gpTfr",
    "cell_id": "00010-7287ed1c-199b-4166-8229-8e8b63a8a7ed",
    "deepnote_cell_type": "markdown"
   }
  },
  {
   "cell_type": "code",
   "metadata": {
    "colab": {},
    "colab_type": "code",
    "id": "ofwvnfEwo5mG",
    "cell_id": "00011-2c2f40dc-2812-4b02-bf87-876ca1736df4",
    "deepnote_to_be_reexecuted": false,
    "source_hash": "41fd9efa",
    "execution_start": 1624658763461,
    "execution_millis": 1,
    "deepnote_cell_type": "code"
   },
   "source": "def simple_func(a, b):\n    return a + b",
   "outputs": [],
   "execution_count": null
  },
  {
   "cell_type": "markdown",
   "source": "Now, we define our bounds of the parameters to optimize, within the Bayesian optimizer.",
   "metadata": {
    "colab_type": "text",
    "id": "XCGsdciCpeI3",
    "cell_id": "00012-acf2c86a-9553-4502-8066-5479488571f9",
    "deepnote_cell_type": "markdown"
   }
  },
  {
   "cell_type": "code",
   "metadata": {
    "colab": {},
    "colab_type": "code",
    "id": "4jLYW2qnpOFr",
    "cell_id": "00013-19f44079-7c0d-4a59-bee9-dcd62609afa2",
    "deepnote_to_be_reexecuted": false,
    "source_hash": "3db6ba71",
    "execution_start": 1624658768981,
    "execution_millis": 2,
    "deepnote_cell_type": "code"
   },
   "source": "optimizer = BayesianOptimization(\n    simple_func,\n    {'a': (1, 3),\n    'b': (4, 7)})",
   "outputs": [],
   "execution_count": null
  },
  {
   "cell_type": "markdown",
   "source": "These are the main parameters of this function:\n\n* **n_iter:** This is how many steps of Bayesian optimization you want to perform. The more steps, the more likely you are to find a good maximum.\n\n* **init_points:** This is how many steps of random exploration you want to perform. Random exploration can help by diversifying the exploration space.",
   "metadata": {
    "colab_type": "text",
    "id": "dg6LdYx8pq2T",
    "cell_id": "00014-7ef76414-1348-46ca-a737-5b761652c82e",
    "deepnote_cell_type": "markdown"
   }
  },
  {
   "cell_type": "markdown",
   "source": "Let's run an example where we use the optimizer to find the best values to maximize the target value for a and b given the inputs of 3 and 2.",
   "metadata": {
    "colab_type": "text",
    "id": "i-GKMJ1uqMYv",
    "cell_id": "00015-8ec6d837-41eb-4e3e-9b71-e9d5f9a7d0ec",
    "deepnote_cell_type": "markdown"
   }
  },
  {
   "cell_type": "code",
   "metadata": {
    "colab": {
     "base_uri": "https://localhost:8080/",
     "height": 153
    },
    "colab_type": "code",
    "id": "Oy44Ro7wqNat",
    "outputId": "9cc64d54-b1e6-46d1-dc29-4c0039a1c72d",
    "cell_id": "00016-2af508d6-2d4a-4ccc-bc11-291b3cb8c203",
    "deepnote_to_be_reexecuted": false,
    "source_hash": "c700ed96",
    "execution_start": 1624658776199,
    "execution_millis": 303,
    "deepnote_cell_type": "code"
   },
   "source": "optimizer.maximize(3,2)",
   "outputs": [
    {
     "name": "stdout",
     "text": "|   iter    |  target   |     a     |     b     |\n-------------------------------------------------\n| \u001b[0m 1       \u001b[0m | \u001b[0m 7.261   \u001b[0m | \u001b[0m 1.836   \u001b[0m | \u001b[0m 5.425   \u001b[0m |\n| \u001b[95m 2       \u001b[0m | \u001b[95m 8.587   \u001b[0m | \u001b[95m 2.196   \u001b[0m | \u001b[95m 6.392   \u001b[0m |\n| \u001b[95m 3       \u001b[0m | \u001b[95m 8.87    \u001b[0m | \u001b[95m 2.251   \u001b[0m | \u001b[95m 6.619   \u001b[0m |\n| \u001b[95m 4       \u001b[0m | \u001b[95m 10.0    \u001b[0m | \u001b[95m 3.0     \u001b[0m | \u001b[95m 7.0     \u001b[0m |\n| \u001b[0m 5       \u001b[0m | \u001b[0m 7.0     \u001b[0m | \u001b[0m 3.0     \u001b[0m | \u001b[0m 4.0     \u001b[0m |\n=================================================\n",
     "output_type": "stream"
    }
   ],
   "execution_count": null
  },
  {
   "cell_type": "markdown",
   "source": "Great, now let's print the best parameters and the associated maximized target.",
   "metadata": {
    "colab_type": "text",
    "id": "tyKFMF2Hq2Sx",
    "cell_id": "00017-0c90a3a9-4775-4a70-9813-bb4d871dcc70",
    "deepnote_cell_type": "markdown"
   }
  },
  {
   "cell_type": "code",
   "metadata": {
    "colab": {
     "base_uri": "https://localhost:8080/",
     "height": 51
    },
    "colab_type": "code",
    "id": "_H6DixyfscV_",
    "outputId": "fd0c35d7-e30d-4d30-9ab2-12c0fa837971",
    "cell_id": "00018-55b44da7-9a6a-4c29-acfd-fe67736f9304",
    "deepnote_to_be_reexecuted": false,
    "source_hash": "a452a42f",
    "execution_start": 1624658812294,
    "execution_millis": 7,
    "deepnote_cell_type": "code"
   },
   "source": "print(optimizer.max['params']);optimizer.max['target']",
   "outputs": [
    {
     "name": "stdout",
     "text": "{'a': 3.0, 'b': 7.0}\n",
     "output_type": "stream"
    },
    {
     "output_type": "execute_result",
     "execution_count": 11,
     "data": {
      "text/plain": "10.0"
     },
     "metadata": {}
    }
   ],
   "execution_count": null
  },
  {
   "cell_type": "markdown",
   "source": "## Test it on real data using the Light GBM",
   "metadata": {
    "colab_type": "text",
    "id": "tQ1T1V6Mspi4",
    "cell_id": "00019-5556770e-c033-4169-af86-ad211056ba93",
    "deepnote_cell_type": "markdown"
   }
  },
  {
   "cell_type": "markdown",
   "source": "The dataset we will be working with is the famous flight departures dataset. Our modeling goal will be to predict if a flight departure is going to be delayed by 15 minutes based on the other attributes in our dataset. As part of this modeling exercise, we will use Bayesian hyperparameter optimization to identify the best parameters for our model.",
   "metadata": {
    "colab_type": "text",
    "id": "y_oGwREZkm4h",
    "cell_id": "00020-362b9f2c-7c5b-41e9-84fb-a8330337a29b",
    "deepnote_cell_type": "markdown"
   }
  },
  {
   "cell_type": "markdown",
   "source": "**<font color='teal'> You can load the zipped csv files just as you would regular csv files using Pandas read_csv. In the next cell load the train and test data into two seperate dataframes. </font>**\n",
   "metadata": {
    "colab_type": "text",
    "id": "abYSagjQANDZ",
    "cell_id": "00021-cb9d6b17-45d7-47a4-9d9d-f3e9b17302d7",
    "deepnote_cell_type": "markdown"
   }
  },
  {
   "cell_type": "code",
   "metadata": {
    "colab": {},
    "colab_type": "code",
    "id": "EWKBApVuAeJe",
    "cell_id": "00022-11e38377-5ca7-47b7-a36f-03f37b9de827",
    "deepnote_to_be_reexecuted": false,
    "source_hash": "41b550d8",
    "execution_start": 1624658833478,
    "execution_millis": 198,
    "deepnote_cell_type": "code"
   },
   "source": "train_df = pd.read_csv('flight_delays_train.csv.zip')\ntest_df = pd.read_csv('flight_delays_test.csv.zip')",
   "outputs": [],
   "execution_count": null
  },
  {
   "cell_type": "markdown",
   "source": "**<font color='teal'> Print the top five rows of the train dataframe and review the columns in the data. </font>**",
   "metadata": {
    "colab_type": "text",
    "id": "OapNcT9Eikis",
    "cell_id": "00023-30ab5a5f-c452-4a9a-819b-b06bc86f1418",
    "deepnote_cell_type": "markdown"
   }
  },
  {
   "cell_type": "code",
   "metadata": {
    "colab": {
     "base_uri": "https://localhost:8080/",
     "height": 204
    },
    "colab_type": "code",
    "id": "__4cXZ8iiYaC",
    "outputId": "8718ad4b-8955-486c-9ae8-1dee6aa6c2fb",
    "cell_id": "00024-853e4b93-2750-44fd-ad15-cebd6612cffb",
    "deepnote_to_be_reexecuted": false,
    "source_hash": "b1a8b3e0",
    "execution_start": 1624658835344,
    "execution_millis": 19,
    "deepnote_cell_type": "code"
   },
   "source": "train_df.head()",
   "outputs": [
    {
     "output_type": "execute_result",
     "execution_count": 13,
     "data": {
      "application/vnd.deepnote.dataframe.v2+json": {
       "row_count": 5,
       "column_count": 9,
       "columns": [
        {
         "name": "Month",
         "dtype": "object",
         "stats": {
          "unique_count": 5,
          "nan_count": 0,
          "categories": [
           {
            "name": "c-8",
            "count": 1
           },
           {
            "name": "c-4",
            "count": 1
           },
           {
            "name": "3 others",
            "count": 3
           }
          ]
         }
        },
        {
         "name": "DayofMonth",
         "dtype": "object",
         "stats": {
          "unique_count": 5,
          "nan_count": 0,
          "categories": [
           {
            "name": "c-21",
            "count": 1
           },
           {
            "name": "c-20",
            "count": 1
           },
           {
            "name": "3 others",
            "count": 3
           }
          ]
         }
        },
        {
         "name": "DayOfWeek",
         "dtype": "object",
         "stats": {
          "unique_count": 4,
          "nan_count": 0,
          "categories": [
           {
            "name": "c-6",
            "count": 2
           },
           {
            "name": "c-7",
            "count": 1
           },
           {
            "name": "2 others",
            "count": 2
           }
          ]
         }
        },
        {
         "name": "DepTime",
         "dtype": "int64",
         "stats": {
          "unique_count": 5,
          "nan_count": 0,
          "min": "1015",
          "max": "1934",
          "histogram": [
           {
            "bin_start": 1015,
            "bin_end": 1106.9,
            "count": 1
           },
           {
            "bin_start": 1106.9,
            "bin_end": 1198.8,
            "count": 0
           },
           {
            "bin_start": 1198.8,
            "bin_end": 1290.7,
            "count": 0
           },
           {
            "bin_start": 1290.7,
            "bin_end": 1382.6,
            "count": 0
           },
           {
            "bin_start": 1382.6,
            "bin_end": 1474.5,
            "count": 1
           },
           {
            "bin_start": 1474.5,
            "bin_end": 1566.4,
            "count": 1
           },
           {
            "bin_start": 1566.4,
            "bin_end": 1658.3000000000002,
            "count": 0
           },
           {
            "bin_start": 1658.3000000000002,
            "bin_end": 1750.2,
            "count": 0
           },
           {
            "bin_start": 1750.2,
            "bin_end": 1842.1,
            "count": 1
           },
           {
            "bin_start": 1842.1,
            "bin_end": 1934,
            "count": 1
           }
          ]
         }
        },
        {
         "name": "UniqueCarrier",
         "dtype": "object",
         "stats": {
          "unique_count": 5,
          "nan_count": 0,
          "categories": [
           {
            "name": "AA",
            "count": 1
           },
           {
            "name": "US",
            "count": 1
           },
           {
            "name": "3 others",
            "count": 3
           }
          ]
         }
        },
        {
         "name": "Origin",
         "dtype": "object",
         "stats": {
          "unique_count": 5,
          "nan_count": 0,
          "categories": [
           {
            "name": "ATL",
            "count": 1
           },
           {
            "name": "PIT",
            "count": 1
           },
           {
            "name": "3 others",
            "count": 3
           }
          ]
         }
        },
        {
         "name": "Dest",
         "dtype": "object",
         "stats": {
          "unique_count": 5,
          "nan_count": 0,
          "categories": [
           {
            "name": "DFW",
            "count": 1
           },
           {
            "name": "MCO",
            "count": 1
           },
           {
            "name": "3 others",
            "count": 3
           }
          ]
         }
        },
        {
         "name": "Distance",
         "dtype": "int64",
         "stats": {
          "unique_count": 5,
          "nan_count": 0,
          "min": "416",
          "max": "872",
          "histogram": [
           {
            "bin_start": 416,
            "bin_end": 461.6,
            "count": 2
           },
           {
            "bin_start": 461.6,
            "bin_end": 507.2,
            "count": 0
           },
           {
            "bin_start": 507.2,
            "bin_end": 552.8,
            "count": 0
           },
           {
            "bin_start": 552.8,
            "bin_end": 598.4,
            "count": 0
           },
           {
            "bin_start": 598.4,
            "bin_end": 644,
            "count": 0
           },
           {
            "bin_start": 644,
            "bin_end": 689.6,
            "count": 0
           },
           {
            "bin_start": 689.6,
            "bin_end": 735.2,
            "count": 1
           },
           {
            "bin_start": 735.2,
            "bin_end": 780.8,
            "count": 0
           },
           {
            "bin_start": 780.8,
            "bin_end": 826.4000000000001,
            "count": 0
           },
           {
            "bin_start": 826.4000000000001,
            "bin_end": 872,
            "count": 2
           }
          ]
         }
        },
        {
         "name": "dep_delayed_15min",
         "dtype": "object",
         "stats": {
          "unique_count": 2,
          "nan_count": 0,
          "categories": [
           {
            "name": "N",
            "count": 4
           },
           {
            "name": "Y",
            "count": 1
           }
          ]
         }
        },
        {
         "name": "_deepnote_index_column",
         "dtype": "int64"
        }
       ],
       "rows_top": [
        {
         "Month": "c-8",
         "DayofMonth": "c-21",
         "DayOfWeek": "c-7",
         "DepTime": 1934,
         "UniqueCarrier": "AA",
         "Origin": "ATL",
         "Dest": "DFW",
         "Distance": 732,
         "dep_delayed_15min": "N",
         "_deepnote_index_column": 0
        },
        {
         "Month": "c-4",
         "DayofMonth": "c-20",
         "DayOfWeek": "c-3",
         "DepTime": 1548,
         "UniqueCarrier": "US",
         "Origin": "PIT",
         "Dest": "MCO",
         "Distance": 834,
         "dep_delayed_15min": "N",
         "_deepnote_index_column": 1
        },
        {
         "Month": "c-9",
         "DayofMonth": "c-2",
         "DayOfWeek": "c-5",
         "DepTime": 1422,
         "UniqueCarrier": "XE",
         "Origin": "RDU",
         "Dest": "CLE",
         "Distance": 416,
         "dep_delayed_15min": "N",
         "_deepnote_index_column": 2
        },
        {
         "Month": "c-11",
         "DayofMonth": "c-25",
         "DayOfWeek": "c-6",
         "DepTime": 1015,
         "UniqueCarrier": "OO",
         "Origin": "DEN",
         "Dest": "MEM",
         "Distance": 872,
         "dep_delayed_15min": "N",
         "_deepnote_index_column": 3
        },
        {
         "Month": "c-10",
         "DayofMonth": "c-7",
         "DayOfWeek": "c-6",
         "DepTime": 1828,
         "UniqueCarrier": "WN",
         "Origin": "MDW",
         "Dest": "OMA",
         "Distance": 423,
         "dep_delayed_15min": "Y",
         "_deepnote_index_column": 4
        }
       ],
       "rows_bottom": null
      },
      "text/plain": "  Month DayofMonth DayOfWeek  DepTime UniqueCarrier Origin Dest  Distance  \\\n0   c-8       c-21       c-7     1934            AA    ATL  DFW       732   \n1   c-4       c-20       c-3     1548            US    PIT  MCO       834   \n2   c-9        c-2       c-5     1422            XE    RDU  CLE       416   \n3  c-11       c-25       c-6     1015            OO    DEN  MEM       872   \n4  c-10        c-7       c-6     1828            WN    MDW  OMA       423   \n\n  dep_delayed_15min  \n0                 N  \n1                 N  \n2                 N  \n3                 N  \n4                 Y  ",
      "text/html": "<div>\n<style scoped>\n    .dataframe tbody tr th:only-of-type {\n        vertical-align: middle;\n    }\n\n    .dataframe tbody tr th {\n        vertical-align: top;\n    }\n\n    .dataframe thead th {\n        text-align: right;\n    }\n</style>\n<table border=\"1\" class=\"dataframe\">\n  <thead>\n    <tr style=\"text-align: right;\">\n      <th></th>\n      <th>Month</th>\n      <th>DayofMonth</th>\n      <th>DayOfWeek</th>\n      <th>DepTime</th>\n      <th>UniqueCarrier</th>\n      <th>Origin</th>\n      <th>Dest</th>\n      <th>Distance</th>\n      <th>dep_delayed_15min</th>\n    </tr>\n  </thead>\n  <tbody>\n    <tr>\n      <th>0</th>\n      <td>c-8</td>\n      <td>c-21</td>\n      <td>c-7</td>\n      <td>1934</td>\n      <td>AA</td>\n      <td>ATL</td>\n      <td>DFW</td>\n      <td>732</td>\n      <td>N</td>\n    </tr>\n    <tr>\n      <th>1</th>\n      <td>c-4</td>\n      <td>c-20</td>\n      <td>c-3</td>\n      <td>1548</td>\n      <td>US</td>\n      <td>PIT</td>\n      <td>MCO</td>\n      <td>834</td>\n      <td>N</td>\n    </tr>\n    <tr>\n      <th>2</th>\n      <td>c-9</td>\n      <td>c-2</td>\n      <td>c-5</td>\n      <td>1422</td>\n      <td>XE</td>\n      <td>RDU</td>\n      <td>CLE</td>\n      <td>416</td>\n      <td>N</td>\n    </tr>\n    <tr>\n      <th>3</th>\n      <td>c-11</td>\n      <td>c-25</td>\n      <td>c-6</td>\n      <td>1015</td>\n      <td>OO</td>\n      <td>DEN</td>\n      <td>MEM</td>\n      <td>872</td>\n      <td>N</td>\n    </tr>\n    <tr>\n      <th>4</th>\n      <td>c-10</td>\n      <td>c-7</td>\n      <td>c-6</td>\n      <td>1828</td>\n      <td>WN</td>\n      <td>MDW</td>\n      <td>OMA</td>\n      <td>423</td>\n      <td>Y</td>\n    </tr>\n  </tbody>\n</table>\n</div>"
     },
     "metadata": {}
    }
   ],
   "execution_count": null
  },
  {
   "cell_type": "markdown",
   "source": "**<font color='teal'> Use the describe function to review the numeric columns in the train dataframe. </font>**",
   "metadata": {
    "colab_type": "text",
    "id": "UxGBsPQhffgd",
    "cell_id": "00025-7e6c1582-567e-4089-bd2a-c624fbf534b8",
    "deepnote_cell_type": "markdown"
   }
  },
  {
   "cell_type": "code",
   "metadata": {
    "colab": {
     "base_uri": "https://localhost:8080/",
     "height": 297
    },
    "colab_type": "code",
    "id": "_bRRKG3DAtae",
    "outputId": "7cfb9975-ec97-422c-abbd-98923a0b7aec",
    "cell_id": "00026-c69ce03b-e8ca-4a96-892b-7ff795d186d8",
    "deepnote_to_be_reexecuted": false,
    "source_hash": "7fd5b85f",
    "execution_start": 1624658837554,
    "execution_millis": 31,
    "deepnote_cell_type": "code"
   },
   "source": "train_df.describe()",
   "outputs": [
    {
     "output_type": "execute_result",
     "execution_count": 14,
     "data": {
      "application/vnd.deepnote.dataframe.v2+json": {
       "row_count": 8,
       "column_count": 2,
       "columns": [
        {
         "name": "DepTime",
         "dtype": "float64",
         "stats": {
          "unique_count": 8,
          "nan_count": 0,
          "min": "1.0",
          "max": "100000.0",
          "histogram": [
           {
            "bin_start": 1,
            "bin_end": 10000.9,
            "count": 7
           },
           {
            "bin_start": 10000.9,
            "bin_end": 20000.8,
            "count": 0
           },
           {
            "bin_start": 20000.8,
            "bin_end": 30000.699999999997,
            "count": 0
           },
           {
            "bin_start": 30000.699999999997,
            "bin_end": 40000.6,
            "count": 0
           },
           {
            "bin_start": 40000.6,
            "bin_end": 50000.5,
            "count": 0
           },
           {
            "bin_start": 50000.5,
            "bin_end": 60000.399999999994,
            "count": 0
           },
           {
            "bin_start": 60000.399999999994,
            "bin_end": 70000.3,
            "count": 0
           },
           {
            "bin_start": 70000.3,
            "bin_end": 80000.2,
            "count": 0
           },
           {
            "bin_start": 80000.2,
            "bin_end": 90000.09999999999,
            "count": 0
           },
           {
            "bin_start": 90000.09999999999,
            "bin_end": 100000,
            "count": 1
           }
          ]
         }
        },
        {
         "name": "Distance",
         "dtype": "float64",
         "stats": {
          "unique_count": 8,
          "nan_count": 0,
          "min": "30.0",
          "max": "100000.0",
          "histogram": [
           {
            "bin_start": 30,
            "bin_end": 10027,
            "count": 7
           },
           {
            "bin_start": 10027,
            "bin_end": 20024,
            "count": 0
           },
           {
            "bin_start": 20024,
            "bin_end": 30021,
            "count": 0
           },
           {
            "bin_start": 30021,
            "bin_end": 40018,
            "count": 0
           },
           {
            "bin_start": 40018,
            "bin_end": 50015,
            "count": 0
           },
           {
            "bin_start": 50015,
            "bin_end": 60012,
            "count": 0
           },
           {
            "bin_start": 60012,
            "bin_end": 70009,
            "count": 0
           },
           {
            "bin_start": 70009,
            "bin_end": 80006,
            "count": 0
           },
           {
            "bin_start": 80006,
            "bin_end": 90003,
            "count": 0
           },
           {
            "bin_start": 90003,
            "bin_end": 100000,
            "count": 1
           }
          ]
         }
        },
        {
         "name": "_deepnote_index_column",
         "dtype": "object"
        }
       ],
       "rows_top": [
        {
         "DepTime": 100000,
         "Distance": 100000,
         "_deepnote_index_column": "count"
        },
        {
         "DepTime": 1341.52388,
         "Distance": 729.39716,
         "_deepnote_index_column": "mean"
        },
        {
         "DepTime": 476.37844461517204,
         "Distance": 574.6168595588606,
         "_deepnote_index_column": "std"
        },
        {
         "DepTime": 1,
         "Distance": 30,
         "_deepnote_index_column": "min"
        },
        {
         "DepTime": 931,
         "Distance": 317,
         "_deepnote_index_column": "25%"
        },
        {
         "DepTime": 1330,
         "Distance": 575,
         "_deepnote_index_column": "50%"
        },
        {
         "DepTime": 1733,
         "Distance": 957,
         "_deepnote_index_column": "75%"
        },
        {
         "DepTime": 2534,
         "Distance": 4962,
         "_deepnote_index_column": "max"
        }
       ],
       "rows_bottom": null
      },
      "text/plain": "             DepTime      Distance\ncount  100000.000000  100000.00000\nmean     1341.523880     729.39716\nstd       476.378445     574.61686\nmin         1.000000      30.00000\n25%       931.000000     317.00000\n50%      1330.000000     575.00000\n75%      1733.000000     957.00000\nmax      2534.000000    4962.00000",
      "text/html": "<div>\n<style scoped>\n    .dataframe tbody tr th:only-of-type {\n        vertical-align: middle;\n    }\n\n    .dataframe tbody tr th {\n        vertical-align: top;\n    }\n\n    .dataframe thead th {\n        text-align: right;\n    }\n</style>\n<table border=\"1\" class=\"dataframe\">\n  <thead>\n    <tr style=\"text-align: right;\">\n      <th></th>\n      <th>DepTime</th>\n      <th>Distance</th>\n    </tr>\n  </thead>\n  <tbody>\n    <tr>\n      <th>count</th>\n      <td>100000.000000</td>\n      <td>100000.00000</td>\n    </tr>\n    <tr>\n      <th>mean</th>\n      <td>1341.523880</td>\n      <td>729.39716</td>\n    </tr>\n    <tr>\n      <th>std</th>\n      <td>476.378445</td>\n      <td>574.61686</td>\n    </tr>\n    <tr>\n      <th>min</th>\n      <td>1.000000</td>\n      <td>30.00000</td>\n    </tr>\n    <tr>\n      <th>25%</th>\n      <td>931.000000</td>\n      <td>317.00000</td>\n    </tr>\n    <tr>\n      <th>50%</th>\n      <td>1330.000000</td>\n      <td>575.00000</td>\n    </tr>\n    <tr>\n      <th>75%</th>\n      <td>1733.000000</td>\n      <td>957.00000</td>\n    </tr>\n    <tr>\n      <th>max</th>\n      <td>2534.000000</td>\n      <td>4962.00000</td>\n    </tr>\n  </tbody>\n</table>\n</div>"
     },
     "metadata": {}
    }
   ],
   "execution_count": null
  },
  {
   "cell_type": "markdown",
   "source": "Notice, `DepTime` is the departure time in a numeric representation in 2400 hours. ",
   "metadata": {
    "colab_type": "text",
    "id": "i6k-_fI5Aiyh",
    "cell_id": "00027-7a64fb5e-2406-4088-8d9e-aa83b262d906",
    "deepnote_cell_type": "markdown"
   }
  },
  {
   "cell_type": "markdown",
   "source": " **<font color='teal'>The response variable is 'dep_delayed_15min' which is a categorical column, so we need to map the Y for yes and N for no values to 1 and 0. Run the code in the next cell to do this.</font>**",
   "metadata": {
    "colab_type": "text",
    "id": "gtZS4-hrlQah",
    "cell_id": "00028-c30de55a-6abc-4143-a3c9-cc77f876bc3f",
    "deepnote_cell_type": "markdown"
   }
  },
  {
   "cell_type": "code",
   "metadata": {
    "ExecuteTime": {
     "end_time": "2019-04-22T15:38:42.677690Z",
     "start_time": "2019-04-22T15:38:42.481963Z"
    },
    "colab": {},
    "colab_type": "code",
    "id": "yRlOTbnW-KYc",
    "cell_id": "00029-a45327cf-20e3-4ec5-af11-5264e86dd58e",
    "deepnote_to_be_reexecuted": false,
    "source_hash": "71fdbc47",
    "execution_start": 1624658883898,
    "execution_millis": 31,
    "deepnote_cell_type": "code"
   },
   "source": "train_df = train_df[train_df.DepTime <= 2400].copy()\ny_train = train_df['dep_delayed_15min'].map({'Y': 1, 'N': 0}).values",
   "outputs": [],
   "execution_count": null
  },
  {
   "cell_type": "markdown",
   "source": "## Feature Engineering\nUse these defined functions to create additional features for the model. Run the cell to add the functions to your workspace.",
   "metadata": {
    "colab_type": "text",
    "id": "z3WPkFQO9uo9",
    "cell_id": "00030-87a3c840-7ca5-4781-8d9d-36ad8603b52b",
    "deepnote_cell_type": "markdown"
   }
  },
  {
   "cell_type": "code",
   "metadata": {
    "colab": {},
    "colab_type": "code",
    "id": "cXqsqz5W9t3r",
    "cell_id": "00031-84c25d4c-cf6e-4186-9b6e-3c9dd1cfc9ce",
    "deepnote_to_be_reexecuted": false,
    "source_hash": "fbc75155",
    "execution_start": 1624658886251,
    "execution_millis": 2,
    "deepnote_cell_type": "code"
   },
   "source": "def label_enc(df_column):\n    df_column = LabelEncoder().fit_transform(df_column)\n    return df_column\n\ndef make_harmonic_features_sin(value, period=2400):\n    value *= 2 * np.pi / period \n    return np.sin(value)\n\ndef make_harmonic_features_cos(value, period=2400):\n    value *= 2 * np.pi / period \n    return np.cos(value)\n\ndef feature_eng(df):\n    df['flight'] = df['Origin']+df['Dest']\n    df['Month'] = df.Month.map(lambda x: x.split('-')[-1]).astype('int32')\n    df['DayofMonth'] = df.DayofMonth.map(lambda x: x.split('-')[-1]).astype('uint8')\n    df['begin_of_month'] = (df['DayofMonth'] < 10).astype('uint8')\n    df['midddle_of_month'] = ((df['DayofMonth'] >= 10)&(df['DayofMonth'] < 20)).astype('uint8')\n    df['end_of_month'] = (df['DayofMonth'] >= 20).astype('uint8')\n    df['DayOfWeek'] = df.DayOfWeek.map(lambda x: x.split('-')[-1]).astype('uint8')\n    df['hour'] = df.DepTime.map(lambda x: x/100).astype('int32')\n    df['morning'] = df['hour'].map(lambda x: 1 if (x <= 11)& (x >= 7) else 0).astype('uint8')\n    df['day'] = df['hour'].map(lambda x: 1 if (x >= 12) & (x <= 18) else 0).astype('uint8')\n    df['evening'] = df['hour'].map(lambda x: 1 if (x >= 19) & (x <= 23) else 0).astype('uint8')\n    df['night'] = df['hour'].map(lambda x: 1 if (x >= 0) & (x <= 6) else 0).astype('int32')\n    df['winter'] = df['Month'].map(lambda x: x in [12, 1, 2]).astype('int32')\n    df['spring'] = df['Month'].map(lambda x: x in [3, 4, 5]).astype('int32')\n    df['summer'] = df['Month'].map(lambda x: x in [6, 7, 8]).astype('int32')\n    df['autumn'] = df['Month'].map(lambda x: x in [9, 10, 11]).astype('int32')\n    df['holiday'] = (df['DayOfWeek'] >= 5).astype(int) \n    df['weekday'] = (df['DayOfWeek'] < 5).astype(int)\n    df['airport_dest_per_month'] = df.groupby(['Dest', 'Month'])['Dest'].transform('count')\n    df['airport_origin_per_month'] = df.groupby(['Origin', 'Month'])['Origin'].transform('count')\n    df['airport_dest_count'] = df.groupby(['Dest'])['Dest'].transform('count')\n    df['airport_origin_count'] = df.groupby(['Origin'])['Origin'].transform('count')\n    df['carrier_count'] = df.groupby(['UniqueCarrier'])['Dest'].transform('count')\n    df['carrier_count_per month'] = df.groupby(['UniqueCarrier', 'Month'])['Dest'].transform('count')\n    df['deptime_cos'] = df['DepTime'].map(make_harmonic_features_cos)\n    df['deptime_sin'] = df['DepTime'].map(make_harmonic_features_sin)\n    df['flightUC'] = df['flight']+df['UniqueCarrier']\n    df['DestUC'] = df['Dest']+df['UniqueCarrier']\n    df['OriginUC'] = df['Origin']+df['UniqueCarrier']\n    return df.drop('DepTime', axis=1)",
   "outputs": [],
   "execution_count": null
  },
  {
   "cell_type": "markdown",
   "source": "Concatenate the training and testing dataframes.\n",
   "metadata": {
    "colab_type": "text",
    "id": "-BYbxXpU-FGE",
    "cell_id": "00032-fb1fa413-6158-48c9-8c58-13dbe7801918",
    "deepnote_cell_type": "markdown"
   }
  },
  {
   "cell_type": "code",
   "metadata": {
    "colab": {},
    "colab_type": "code",
    "id": "Cj6bfSNw_RAf",
    "cell_id": "00033-4d4defec-bd6a-4ee7-99ae-8963b1a9edb8",
    "deepnote_to_be_reexecuted": false,
    "source_hash": "b197b6dd",
    "execution_start": 1624658903062,
    "execution_millis": 1544,
    "deepnote_cell_type": "code"
   },
   "source": "full_df = pd.concat([train_df.drop('dep_delayed_15min', axis=1), test_df])\nfull_df = feature_eng(full_df)",
   "outputs": [],
   "execution_count": null
  },
  {
   "cell_type": "markdown",
   "source": "Apply the earlier defined feature engineering functions to the full dataframe.",
   "metadata": {
    "colab_type": "text",
    "id": "GSO8JbfM_W-F",
    "cell_id": "00034-d1bee87b-5260-4c8f-a14f-58a37b3f79cc",
    "deepnote_cell_type": "markdown"
   }
  },
  {
   "cell_type": "code",
   "metadata": {
    "colab": {},
    "colab_type": "code",
    "id": "x6RfAINftjwi",
    "cell_id": "00035-b312d22a-bb2b-466d-81f9-068f6e54cf7c",
    "deepnote_to_be_reexecuted": false,
    "source_hash": "2140bb9a",
    "execution_start": 1624658905395,
    "execution_millis": 425,
    "deepnote_cell_type": "code"
   },
   "source": "for column in ['UniqueCarrier', 'Origin', 'Dest','flight',  'flightUC', 'DestUC', 'OriginUC']:\n    full_df[column] = label_enc(full_df[column])",
   "outputs": [],
   "execution_count": null
  },
  {
   "cell_type": "markdown",
   "source": "\nSplit the new full dataframe into X_train and X_test. ",
   "metadata": {
    "colab_type": "text",
    "id": "IJAw1RGB_ZuM",
    "cell_id": "00036-5789f590-aa18-4c88-9559-4cd94619821e",
    "deepnote_cell_type": "markdown"
   }
  },
  {
   "cell_type": "code",
   "metadata": {
    "colab": {},
    "colab_type": "code",
    "id": "15cPtQU5tjfz",
    "cell_id": "00037-f699c228-c1d0-4a45-bea4-8957ee8c2489",
    "deepnote_to_be_reexecuted": false,
    "source_hash": "ff222e95",
    "execution_start": 1624658907931,
    "execution_millis": 2,
    "deepnote_cell_type": "code"
   },
   "source": "X_train = full_df[:train_df.shape[0]]\nX_test = full_df[train_df.shape[0]:]",
   "outputs": [],
   "execution_count": null
  },
  {
   "cell_type": "markdown",
   "source": "Create a list of the categorical features.",
   "metadata": {
    "colab_type": "text",
    "id": "umfAw-9JErLV",
    "cell_id": "00038-22145a6a-b6a4-42d1-942d-184ad9fc3713",
    "deepnote_cell_type": "markdown"
   }
  },
  {
   "cell_type": "code",
   "metadata": {
    "ExecuteTime": {
     "end_time": "2019-04-22T14:31:58.412296Z",
     "start_time": "2019-04-22T14:31:58.409088Z"
    },
    "colab": {},
    "colab_type": "code",
    "id": "5ibeVyNb-KZI",
    "cell_id": "00039-393e0e13-dff6-4008-a6f9-38032f7d83a4",
    "deepnote_to_be_reexecuted": false,
    "source_hash": "23665e90",
    "execution_start": 1624658909381,
    "execution_millis": 0,
    "deepnote_cell_type": "code"
   },
   "source": "categorical_features = ['Month',  'DayOfWeek', 'UniqueCarrier', 'Origin', 'Dest','flight',  'flightUC', 'DestUC', 'OriginUC']",
   "outputs": [],
   "execution_count": null
  },
  {
   "cell_type": "markdown",
   "source": "Let's build a light GBM model to test the bayesian optimizer.",
   "metadata": {
    "colab_type": "text",
    "id": "NzMIsMPIETVk",
    "cell_id": "00040-f45a60af-33e3-4271-a4c8-5f6ee5814023",
    "deepnote_cell_type": "markdown"
   }
  },
  {
   "cell_type": "markdown",
   "source": "### [LightGBM](https://lightgbm.readthedocs.io/en/latest/) is a gradient boosting framework that uses tree-based learning algorithms. It is designed to be distributed and efficient with the following advantages:\n\n* Faster training speed and higher efficiency.\n* Lower memory usage.\n* Better accuracy.\n* Support of parallel and GPU learning.\n* Capable of handling large-scale data.",
   "metadata": {
    "ExecuteTime": {
     "end_time": "2019-04-22T15:18:04.466965Z",
     "start_time": "2019-04-22T15:18:04.457992Z"
    },
    "colab_type": "text",
    "id": "2hfm1i5G-KZH",
    "cell_id": "00041-0214609b-689a-4a63-8b8b-87912534e664",
    "deepnote_cell_type": "markdown"
   }
  },
  {
   "cell_type": "markdown",
   "source": "First, we define the function we want to maximize and that will count cross-validation metrics of lightGBM for our parameters.\n\nSome params such as num_leaves, max_depth, min_child_samples, min_data_in_leaf should be integers.",
   "metadata": {
    "colab_type": "text",
    "id": "jf-3F2Wg-KZL",
    "cell_id": "00042-cac5b6cc-cdc6-4861-ba09-58f0e2eeab82",
    "deepnote_cell_type": "markdown"
   }
  },
  {
   "cell_type": "code",
   "metadata": {
    "ExecuteTime": {
     "end_time": "2019-04-22T15:40:14.034265Z",
     "start_time": "2019-04-22T15:40:14.027868Z"
    },
    "colab": {},
    "colab_type": "code",
    "id": "LyUJBhGX-KZM",
    "cell_id": "00043-f5c2758d-cfdf-43ef-9b67-c93e567f4dea",
    "deepnote_to_be_reexecuted": false,
    "source_hash": "630cbcf0",
    "execution_start": 1624658912725,
    "execution_millis": 5,
    "deepnote_cell_type": "code"
   },
   "source": "def lgb_eval(num_leaves,max_depth,lambda_l2,lambda_l1,min_child_samples, min_data_in_leaf):\n    params = {\n        \"objective\" : \"binary\",\n        \"metric\" : \"auc\", \n        'is_unbalance': True,\n        \"num_leaves\" : int(num_leaves),\n        \"max_depth\" : int(max_depth),\n        \"lambda_l2\" : lambda_l2,\n        \"lambda_l1\" : lambda_l1,\n        \"num_threads\" : 20,\n        \"min_child_samples\" : int(min_child_samples),\n        'min_data_in_leaf': int(min_data_in_leaf),\n        \"learning_rate\" : 0.03,\n        \"subsample_freq\" : 5,\n        \"bagging_seed\" : 42,\n        \"verbosity\" : -1\n    }\n    lgtrain = lightgbm.Dataset(X_train, y_train,categorical_feature=categorical_features)\n    cv_result = lightgbm.cv(params,\n                       lgtrain,\n                       1000,\n                       early_stopping_rounds=100,\n                       stratified=True,\n                       nfold=3)\n    return cv_result['auc-mean'][-1]",
   "outputs": [],
   "execution_count": null
  },
  {
   "cell_type": "markdown",
   "source": "Apply the Bayesian optimizer to the function we created in the previous step to identify the best hyperparameters. We will run 10 iterations and set init_points = 2.\n",
   "metadata": {
    "colab_type": "text",
    "id": "FJwqBhdeF11Q",
    "cell_id": "00044-63312767-0914-4fc7-be56-83f59380128a",
    "deepnote_cell_type": "markdown"
   }
  },
  {
   "cell_type": "code",
   "metadata": {
    "ExecuteTime": {
     "end_time": "2019-04-22T15:48:04.682447Z",
     "start_time": "2019-04-22T15:40:14.641634Z"
    },
    "colab": {
     "base_uri": "https://localhost:8080/",
     "height": 51
    },
    "colab_type": "code",
    "id": "JheCOkUE-KZP",
    "outputId": "8f37ee51-885d-44e4-cdcd-ceb7abd58b61",
    "cell_id": "00045-1926aac2-77c6-4224-99a6-d2276a7ab5a6",
    "deepnote_to_be_reexecuted": false,
    "source_hash": "daa89b51",
    "execution_start": 1624658914276,
    "execution_millis": 1837353,
    "deepnote_cell_type": "code"
   },
   "source": "lgbBO = BayesianOptimization(lgb_eval, {'num_leaves': (25, 4000),\n                                                'max_depth': (5, 63),\n                                                'lambda_l2': (0.0, 0.05),\n                                                'lambda_l1': (0.0, 0.05),\n                                                'min_child_samples': (50, 10000),\n                                                'min_data_in_leaf': (100, 2000)\n                                                })\n\nlgbBO.maximize(n_iter=10, init_points=2)",
   "outputs": [
    {
     "name": "stdout",
     "text": "|   iter    |  target   | lambda_l1 | lambda_l2 | max_depth | min_ch... | min_da... | num_le... |\n-------------------------------------------------------------------------------------------------\n[LightGBM] [Warning] min_data_in_leaf is set=786, min_child_samples=5694 will be ignored. Current value: min_data_in_leaf=786\n| \u001b[0m 1       \u001b[0m | \u001b[0m 0.7272  \u001b[0m | \u001b[0m 0.004958\u001b[0m | \u001b[0m 0.0298  \u001b[0m | \u001b[0m 50.94   \u001b[0m | \u001b[0m 5.694e+0\u001b[0m | \u001b[0m 786.8   \u001b[0m | \u001b[0m 1.876e+0\u001b[0m |\n| \u001b[0m 2       \u001b[0m | \u001b[0m 0.7194  \u001b[0m | \u001b[0m 0.03586 \u001b[0m | \u001b[0m 0.006487\u001b[0m | \u001b[0m 43.14   \u001b[0m | \u001b[0m 7.413e+0\u001b[0m | \u001b[0m 450.4   \u001b[0m | \u001b[0m 956.1   \u001b[0m |\n| \u001b[0m 3       \u001b[0m | \u001b[0m 0.7202  \u001b[0m | \u001b[0m 0.008842\u001b[0m | \u001b[0m 0.001973\u001b[0m | \u001b[0m 8.145   \u001b[0m | \u001b[0m 1.942e+0\u001b[0m | \u001b[0m 421.4   \u001b[0m | \u001b[0m 2.868e+0\u001b[0m |\n| \u001b[0m 4       \u001b[0m | \u001b[0m 0.7267  \u001b[0m | \u001b[0m 0.03317 \u001b[0m | \u001b[0m 0.006474\u001b[0m | \u001b[0m 22.77   \u001b[0m | \u001b[0m 725.2   \u001b[0m | \u001b[0m 703.7   \u001b[0m | \u001b[0m 2.528e+0\u001b[0m |\n| \u001b[95m 5       \u001b[0m | \u001b[95m 0.7445  \u001b[0m | \u001b[95m 0.04256 \u001b[0m | \u001b[95m 0.04001 \u001b[0m | \u001b[95m 40.1    \u001b[0m | \u001b[95m 9.771e+0\u001b[0m | \u001b[95m 1.499e+0\u001b[0m | \u001b[95m 2.254e+0\u001b[0m |\n| \u001b[0m 6       \u001b[0m | \u001b[0m 0.7193  \u001b[0m | \u001b[0m 0.007115\u001b[0m | \u001b[0m 0.005509\u001b[0m | \u001b[0m 52.86   \u001b[0m | \u001b[0m 6.221e+0\u001b[0m | \u001b[0m 434.7   \u001b[0m | \u001b[0m 3.556e+0\u001b[0m |\n| \u001b[0m 7       \u001b[0m | \u001b[0m 0.7441  \u001b[0m | \u001b[0m 0.02111 \u001b[0m | \u001b[0m 0.01828 \u001b[0m | \u001b[0m 57.12   \u001b[0m | \u001b[0m 1.216e+0\u001b[0m | \u001b[0m 1.427e+0\u001b[0m | \u001b[0m 3.369e+0\u001b[0m |\n| \u001b[0m 8       \u001b[0m | \u001b[0m 0.7421  \u001b[0m | \u001b[0m 0.04402 \u001b[0m | \u001b[0m 0.00209 \u001b[0m | \u001b[0m 35.17   \u001b[0m | \u001b[0m 9.733e+0\u001b[0m | \u001b[0m 1.104e+0\u001b[0m | \u001b[0m 1.689e+0\u001b[0m |\n| \u001b[0m 9       \u001b[0m | \u001b[0m 0.7442  \u001b[0m | \u001b[0m 0.04466 \u001b[0m | \u001b[0m 0.01335 \u001b[0m | \u001b[0m 11.63   \u001b[0m | \u001b[0m 1.194e+0\u001b[0m | \u001b[0m 1.491e+0\u001b[0m | \u001b[0m 3.254e+0\u001b[0m |\n| \u001b[0m 10      \u001b[0m | \u001b[0m 0.7443  \u001b[0m | \u001b[0m 0.03689 \u001b[0m | \u001b[0m 0.01528 \u001b[0m | \u001b[0m 49.73   \u001b[0m | \u001b[0m 303.8   \u001b[0m | \u001b[0m 1.971e+0\u001b[0m | \u001b[0m 3.961e+0\u001b[0m |\n| \u001b[0m 11      \u001b[0m | \u001b[0m 0.7247  \u001b[0m | \u001b[0m 0.0359  \u001b[0m | \u001b[0m 0.01821 \u001b[0m | \u001b[0m 52.56   \u001b[0m | \u001b[0m 9.941e+0\u001b[0m | \u001b[0m 586.4   \u001b[0m | \u001b[0m 3.705e+0\u001b[0m |\n| \u001b[0m 12      \u001b[0m | \u001b[0m 0.7431  \u001b[0m | \u001b[0m 0.0442  \u001b[0m | \u001b[0m 0.0296  \u001b[0m | \u001b[0m 5.758   \u001b[0m | \u001b[0m 9.939e+0\u001b[0m | \u001b[0m 1.262e+0\u001b[0m | \u001b[0m 2.53e+03\u001b[0m |\n=================================================================================================\n",
     "output_type": "stream"
    }
   ],
   "execution_count": null
  },
  {
   "cell_type": "markdown",
   "source": " **<font color='teal'> Print the best result by using the '.max' function.</font>**",
   "metadata": {
    "colab_type": "text",
    "id": "rdkxhhST-KZS",
    "cell_id": "00046-4be8e5be-fa79-4644-b817-28109c8058df",
    "deepnote_cell_type": "markdown"
   }
  },
  {
   "cell_type": "code",
   "metadata": {
    "ExecuteTime": {
     "end_time": "2019-04-22T15:49:01.513767Z",
     "start_time": "2019-04-22T15:49:01.509392Z"
    },
    "colab": {},
    "colab_type": "code",
    "id": "oc8z6mfy-KZS",
    "cell_id": "00047-7b4f94e7-7286-4478-908a-defc462d9fd1",
    "deepnote_to_be_reexecuted": false,
    "source_hash": "50138ab3",
    "execution_start": 1624660751631,
    "execution_millis": 13,
    "deepnote_cell_type": "code"
   },
   "source": "lgbBO.max",
   "outputs": [
    {
     "output_type": "execute_result",
     "execution_count": 23,
     "data": {
      "text/plain": "{'target': 0.744476720915903,\n 'params': {'lambda_l1': 0.04256267428886574,\n  'lambda_l2': 0.040009826561283796,\n  'max_depth': 40.09778819535412,\n  'min_child_samples': 9770.972765124518,\n  'min_data_in_leaf': 1499.1282203408093,\n  'num_leaves': 2254.014406918314}}"
     },
     "metadata": {}
    }
   ],
   "execution_count": null
  },
  {
   "cell_type": "markdown",
   "source": "Review the process at each step by using the '.res[0]' function.",
   "metadata": {
    "ExecuteTime": {
     "end_time": "2019-04-22T15:50:29.049881Z",
     "start_time": "2019-04-22T15:50:29.045908Z"
    },
    "colab_type": "text",
    "id": "J5LAydKC-KZW",
    "cell_id": "00048-a230024b-04d9-4f1b-a28a-9b7c74df4de3",
    "deepnote_cell_type": "markdown"
   }
  },
  {
   "cell_type": "code",
   "metadata": {
    "ExecuteTime": {
     "end_time": "2019-04-22T15:51:01.001688Z",
     "start_time": "2019-04-22T15:51:00.997484Z"
    },
    "colab": {},
    "colab_type": "code",
    "id": "X1ttZmrI-KZX",
    "cell_id": "00049-1f7e48d2-9e5b-46c6-8060-7abae4514c42",
    "deepnote_to_be_reexecuted": false,
    "source_hash": "37307e01",
    "execution_start": 1624660751637,
    "execution_millis": 10,
    "deepnote_cell_type": "code"
   },
   "source": "lgbBO.res[0]",
   "outputs": [
    {
     "output_type": "execute_result",
     "execution_count": 24,
     "data": {
      "text/plain": "{'target': 0.7272434108554918,\n 'params': {'lambda_l1': 0.004957641205044799,\n  'lambda_l2': 0.029796690370395458,\n  'max_depth': 50.942331517529766,\n  'min_child_samples': 5694.278980318189,\n  'min_data_in_leaf': 786.751945634074,\n  'num_leaves': 1876.1671926352644}}"
     },
     "metadata": {}
    }
   ],
   "execution_count": null
  },
  {
   "cell_type": "code",
   "source": "",
   "metadata": {
    "tags": [],
    "cell_id": "00050-49fc1aad-70d9-405c-9bfd-7399640a7bf5",
    "deepnote_cell_type": "code"
   },
   "outputs": [],
   "execution_count": null
  },
  {
   "cell_type": "markdown",
   "source": "<a style='text-decoration:none;line-height:16px;display:flex;color:#5B5B62;padding:10px;justify-content:end;' href='https://deepnote.com?utm_source=created-in-deepnote-cell&projectId=1488f240-1042-46c8-a620-9c549a1692e9' target=\"_blank\">\n<img alt='Created in deepnote.com' style='display:inline;max-height:16px;margin:0px;margin-right:7.5px;' src='data:image/svg+xml;base64,PD94bWwgdmVyc2lvbj0iMS4wIiBlbmNvZGluZz0iVVRGLTgiPz4KPHN2ZyB3aWR0aD0iODBweCIgaGVpZ2h0PSI4MHB4IiB2aWV3Qm94PSIwIDAgODAgODAiIHZlcnNpb249IjEuMSIgeG1sbnM9Imh0dHA6Ly93d3cudzMub3JnLzIwMDAvc3ZnIiB4bWxuczp4bGluaz0iaHR0cDovL3d3dy53My5vcmcvMTk5OS94bGluayI+CiAgICA8IS0tIEdlbmVyYXRvcjogU2tldGNoIDU0LjEgKDc2NDkwKSAtIGh0dHBzOi8vc2tldGNoYXBwLmNvbSAtLT4KICAgIDx0aXRsZT5Hcm91cCAzPC90aXRsZT4KICAgIDxkZXNjPkNyZWF0ZWQgd2l0aCBTa2V0Y2guPC9kZXNjPgogICAgPGcgaWQ9IkxhbmRpbmciIHN0cm9rZT0ibm9uZSIgc3Ryb2tlLXdpZHRoPSIxIiBmaWxsPSJub25lIiBmaWxsLXJ1bGU9ImV2ZW5vZGQiPgogICAgICAgIDxnIGlkPSJBcnRib2FyZCIgdHJhbnNmb3JtPSJ0cmFuc2xhdGUoLTEyMzUuMDAwMDAwLCAtNzkuMDAwMDAwKSI+CiAgICAgICAgICAgIDxnIGlkPSJHcm91cC0zIiB0cmFuc2Zvcm09InRyYW5zbGF0ZSgxMjM1LjAwMDAwMCwgNzkuMDAwMDAwKSI+CiAgICAgICAgICAgICAgICA8cG9seWdvbiBpZD0iUGF0aC0yMCIgZmlsbD0iIzAyNjVCNCIgcG9pbnRzPSIyLjM3NjIzNzYyIDgwIDM4LjA0NzY2NjcgODAgNTcuODIxNzgyMiA3My44MDU3NTkyIDU3LjgyMTc4MjIgMzIuNzU5MjczOSAzOS4xNDAyMjc4IDMxLjY4MzE2ODMiPjwvcG9seWdvbj4KICAgICAgICAgICAgICAgIDxwYXRoIGQ9Ik0zNS4wMDc3MTgsODAgQzQyLjkwNjIwMDcsNzYuNDU0OTM1OCA0Ny41NjQ5MTY3LDcxLjU0MjI2NzEgNDguOTgzODY2LDY1LjI2MTk5MzkgQzUxLjExMjI4OTksNTUuODQxNTg0MiA0MS42NzcxNzk1LDQ5LjIxMjIyODQgMjUuNjIzOTg0Niw0OS4yMTIyMjg0IEMyNS40ODQ5Mjg5LDQ5LjEyNjg0NDggMjkuODI2MTI5Niw0My4yODM4MjQ4IDM4LjY0NzU4NjksMzEuNjgzMTY4MyBMNzIuODcxMjg3MSwzMi41NTQ0MjUgTDY1LjI4MDk3Myw2Ny42NzYzNDIxIEw1MS4xMTIyODk5LDc3LjM3NjE0NCBMMzUuMDA3NzE4LDgwIFoiIGlkPSJQYXRoLTIyIiBmaWxsPSIjMDAyODY4Ij48L3BhdGg+CiAgICAgICAgICAgICAgICA8cGF0aCBkPSJNMCwzNy43MzA0NDA1IEwyNy4xMTQ1MzcsMC4yNTcxMTE0MzYgQzYyLjM3MTUxMjMsLTEuOTkwNzE3MDEgODAsMTAuNTAwMzkyNyA4MCwzNy43MzA0NDA1IEM4MCw2NC45NjA0ODgyIDY0Ljc3NjUwMzgsNzkuMDUwMzQxNCAzNC4zMjk1MTEzLDgwIEM0Ny4wNTUzNDg5LDc3LjU2NzA4MDggNTMuNDE4MjY3Nyw3MC4zMTM2MTAzIDUzLjQxODI2NzcsNTguMjM5NTg4NSBDNTMuNDE4MjY3Nyw0MC4xMjg1NTU3IDM2LjMwMzk1NDQsMzcuNzMwNDQwNSAyNS4yMjc0MTcsMzcuNzMwNDQwNSBDMTcuODQzMDU4NiwzNy43MzA0NDA1IDkuNDMzOTE5NjYsMzcuNzMwNDQwNSAwLDM3LjczMDQ0MDUgWiIgaWQ9IlBhdGgtMTkiIGZpbGw9IiMzNzkzRUYiPjwvcGF0aD4KICAgICAgICAgICAgPC9nPgogICAgICAgIDwvZz4KICAgIDwvZz4KPC9zdmc+' > </img>\nCreated in <span style='font-weight:600;margin-left:4px;'>Deepnote</span></a>",
   "metadata": {
    "tags": [],
    "created_in_deepnote_cell": true,
    "deepnote_cell_type": "markdown"
   }
  }
 ],
 "nbformat": 4,
 "nbformat_minor": 1,
 "metadata": {
  "colab": {
   "name": "Bayesian_optimization_exercise.ipynb",
   "provenance": []
  },
  "deepnote_execution_queue": [],
  "kernelspec": {
   "display_name": "Python 3",
   "language": "python",
   "name": "python3"
  },
  "language_info": {
   "codemirror_mode": {
    "name": "ipython",
    "version": 3
   },
   "file_extension": ".py",
   "mimetype": "text/x-python",
   "name": "python",
   "nbconvert_exporter": "python",
   "pygments_lexer": "ipython3",
   "version": "3.7.3"
  },
  "varInspector": {
   "cols": {
    "lenName": 16,
    "lenType": 16,
    "lenVar": 40
   },
   "kernels_config": {
    "python": {
     "delete_cmd_postfix": "",
     "delete_cmd_prefix": "del ",
     "library": "var_list.py",
     "varRefreshCmd": "print(var_dic_list())"
    },
    "r": {
     "delete_cmd_postfix": ") ",
     "delete_cmd_prefix": "rm(",
     "library": "var_list.r",
     "varRefreshCmd": "cat(var_dic_list()) "
    }
   },
   "types_to_exclude": [
    "module",
    "function",
    "builtin_function_or_method",
    "instance",
    "_Feature"
   ],
   "window_display": false
  },
  "deepnote_notebook_id": "061015af-2d64-4273-8e28-fa2e1c1437fc",
  "deepnote": {}
 }
}